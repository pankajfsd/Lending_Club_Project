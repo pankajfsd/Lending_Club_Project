{
 "cells": [
  {
   "cell_type": "markdown",
   "id": "372be8f6",
   "metadata": {},
   "source": [
    "# Lending Club Project Customers Data Cleaning"
   ]
  },
  {
   "cell_type": "code",
   "execution_count": 85,
   "id": "2850fd89",
   "metadata": {},
   "outputs": [],
   "source": [
    "from pyspark.sql import SparkSession\n",
    "import getpass\n",
    "username=getpass.getuser()\n",
    "spark=SparkSession. \\\n",
    "builder. \\\n",
    "config('spark.ui.port','0'). \\\n",
    "config('spark.shuffle.useOldFetchProtocol','true'). \\\n",
    "config(\"spark.sql.warehouse.dir\",f\"/user/{username}/warehouse\"). \\\n",
    "enableHiveSupport(). \\\n",
    "master('yarn'). \\\n",
    "getOrCreate()"
   ]
  },
  {
   "cell_type": "code",
   "execution_count": 86,
   "id": "dfc6ae89",
   "metadata": {},
   "outputs": [
    {
     "data": {
      "text/html": [
       "\n",
       "            <div>\n",
       "                <p><b>SparkSession - hive</b></p>\n",
       "                \n",
       "        <div>\n",
       "            <p><b>SparkContext</b></p>\n",
       "\n",
       "            <p><a href=\"http://g01.itversity.com:33353\">Spark UI</a></p>\n",
       "\n",
       "            <dl>\n",
       "              <dt>Version</dt>\n",
       "                <dd><code>v3.1.2</code></dd>\n",
       "              <dt>Master</dt>\n",
       "                <dd><code>yarn</code></dd>\n",
       "              <dt>AppName</dt>\n",
       "                <dd><code>pyspark-shell</code></dd>\n",
       "            </dl>\n",
       "        </div>\n",
       "        \n",
       "            </div>\n",
       "        "
      ],
      "text/plain": [
       "<pyspark.sql.session.SparkSession at 0x7f75f7013ac8>"
      ]
     },
     "execution_count": 86,
     "metadata": {},
     "output_type": "execute_result"
    }
   ],
   "source": [
    "spark"
   ]
  },
  {
   "cell_type": "code",
   "execution_count": 87,
   "id": "e0d77873",
   "metadata": {},
   "outputs": [],
   "source": [
    "customers_raw_df=spark.read \\\n",
    ".format(\"csv\") \\\n",
    ".option(\"header\",True) \\\n",
    ".option(\"inferSchema\",True) \\\n",
    ".load(\"/user/itv007473/lendingclubproject/raw/customers_data_csv\")"
   ]
  },
  {
   "cell_type": "code",
   "execution_count": 32,
   "id": "74576a83",
   "metadata": {},
   "outputs": [
    {
     "data": {
      "text/html": [
       "<table border='1'>\n",
       "<tr><th>member_id</th><th>emp_title</th><th>emp_length</th><th>home_ownership</th><th>annual_inc</th><th>addr_state</th><th>zip_code</th><th>country</th><th>grade</th><th>sub_grade</th><th>verification_status</th><th>tot_hi_cred_lim</th><th>application_type</th><th>annual_inc_joint</th><th>verification_status_joint</th></tr>\n",
       "<tr><td>4480925324607267c...</td><td>IT</td><td>3 years</td><td>RENT</td><td>92000.0</td><td>NJ</td><td>088xx</td><td>USA</td><td>E</td><td>E3</td><td>Verified</td><td>132523.0</td><td>Individual</td><td>null</td><td>null</td></tr>\n",
       "<tr><td>b54711d4a553ea330...</td><td>District Manager</td><td>7 years</td><td>RENT</td><td>45000.0</td><td>TX</td><td>787xx</td><td>USA</td><td>C</td><td>C4</td><td>Verified</td><td>33247.0</td><td>Individual</td><td>null</td><td>null</td></tr>\n",
       "<tr><td>db06b45a938f1a3b5...</td><td>Case Management</td><td>6 years</td><td>RENT</td><td>33000.0</td><td>NJ</td><td>070xx</td><td>USA</td><td>D</td><td>D3</td><td>Not Verified</td><td>34825.0</td><td>Individual</td><td>null</td><td>null</td></tr>\n",
       "<tr><td>ad9d9524477e85c11...</td><td>senior financial ...</td><td>&lt; 1 year</td><td>RENT</td><td>80000.0</td><td>NJ</td><td>079xx</td><td>USA</td><td>A</td><td>A4</td><td>Source Verified</td><td>81859.0</td><td>Individual</td><td>null</td><td>null</td></tr>\n",
       "<tr><td>c67f6ac3fea6ef46d...</td><td>Senior Analyst H....</td><td>6 years</td><td>RENT</td><td>30000.0</td><td>FL</td><td>328xx</td><td>USA</td><td>B</td><td>B3</td><td>Source Verified</td><td>30825.0</td><td>Individual</td><td>null</td><td>null</td></tr>\n",
       "<tr><td>bb36e2cb69517fac3...</td><td>Owner Realtor</td><td>1 year</td><td>MORTGAGE</td><td>40000.0</td><td>WI</td><td>549xx</td><td>USA</td><td>E</td><td>E3</td><td>Not Verified</td><td>186722.0</td><td>Individual</td><td>null</td><td>null</td></tr>\n",
       "<tr><td>af69a7dff814fb213...</td><td>nurse</td><td>10+ years</td><td>MORTGAGE</td><td>45000.0</td><td>TX</td><td>791xx</td><td>USA</td><td>C</td><td>C5</td><td>Not Verified</td><td>261804.0</td><td>Individual</td><td>null</td><td>null</td></tr>\n",
       "<tr><td>c9c794b5025e14a7d...</td><td>Assistant IT Dire...</td><td>2 years</td><td>MORTGAGE</td><td>76500.0</td><td>UT</td><td>840xx</td><td>USA</td><td>D</td><td>D5</td><td>Source Verified</td><td>67822.0</td><td>Individual</td><td>null</td><td>null</td></tr>\n",
       "<tr><td>61b48d763bd82369a...</td><td>Network Provision...</td><td>3 years</td><td>RENT</td><td>98000.0</td><td>CA</td><td>950xx</td><td>USA</td><td>B</td><td>B2</td><td>Source Verified</td><td>100609.0</td><td>Individual</td><td>null</td><td>null</td></tr>\n",
       "<tr><td>adc390ceaa6428ba4...</td><td>null</td><td>null</td><td>MORTGAGE</td><td>38964.0</td><td>MO</td><td>650xx</td><td>USA</td><td>C</td><td>C2</td><td>Source Verified</td><td>18400.0</td><td>Individual</td><td>null</td><td>null</td></tr>\n",
       "<tr><td>b8591b1957416d0d0...</td><td>Plumber</td><td>2 years</td><td>MORTGAGE</td><td>75000.0</td><td>WA</td><td>980xx</td><td>USA</td><td>D</td><td>D1</td><td>Verified</td><td>298969.0</td><td>Individual</td><td>null</td><td>null</td></tr>\n",
       "<tr><td>edf6bc814b2514406...</td><td>Director</td><td>2 years</td><td>RENT</td><td>52000.0</td><td>MD</td><td>206xx</td><td>USA</td><td>C</td><td>C5</td><td>Not Verified</td><td>32196.0</td><td>Individual</td><td>null</td><td>null</td></tr>\n",
       "<tr><td>cbb2027fdad44e370...</td><td>IT Specialist</td><td>8 years</td><td>MORTGAGE</td><td>65000.0</td><td>WA</td><td>992xx</td><td>USA</td><td>C</td><td>C2</td><td>Not Verified</td><td>262235.0</td><td>Individual</td><td>null</td><td>null</td></tr>\n",
       "<tr><td>2833e66fc35f729ff...</td><td>Associate Informa...</td><td>6 years</td><td>RENT</td><td>68000.0</td><td>CA</td><td>945xx</td><td>USA</td><td>C</td><td>C4</td><td>Source Verified</td><td>38972.0</td><td>Individual</td><td>null</td><td>null</td></tr>\n",
       "<tr><td>30257f9f7bb1ee5f7...</td><td>Truck Driver</td><td>1 year</td><td>RENT</td><td>60000.0</td><td>FL</td><td>335xx</td><td>USA</td><td>A</td><td>A2</td><td>Source Verified</td><td>82047.0</td><td>Individual</td><td>null</td><td>null</td></tr>\n",
       "<tr><td>1f9bcde5a863520ef...</td><td>electrical designer</td><td>&lt; 1 year</td><td>MORTGAGE</td><td>85000.0</td><td>CA</td><td>911xx</td><td>USA</td><td>D</td><td>D1</td><td>Not Verified</td><td>289434.0</td><td>Individual</td><td>null</td><td>null</td></tr>\n",
       "<tr><td>1809df0b4a0abe9b0...</td><td>Driver</td><td>1 year</td><td>RENT</td><td>50000.0</td><td>AL</td><td>351xx</td><td>USA</td><td>D</td><td>D4</td><td>Source Verified</td><td>44017.0</td><td>Individual</td><td>null</td><td>null</td></tr>\n",
       "<tr><td>6da09f2e86c405a0c...</td><td>Shift Operations ...</td><td>2 years</td><td>MORTGAGE</td><td>60500.0</td><td>CO</td><td>801xx</td><td>USA</td><td>D</td><td>D4</td><td>Source Verified</td><td>268792.0</td><td>Individual</td><td>null</td><td>null</td></tr>\n",
       "<tr><td>0229fe984f04c4817...</td><td>Payroll Accountant</td><td>7 years</td><td>RENT</td><td>65000.0</td><td>WA</td><td>982xx</td><td>USA</td><td>D</td><td>D2</td><td>Verified</td><td>161351.0</td><td>Individual</td><td>null</td><td>null</td></tr>\n",
       "<tr><td>d8868b8f86fc7c7ea...</td><td>teacher</td><td>5 years</td><td>RENT</td><td>56100.0</td><td>VA</td><td>232xx</td><td>USA</td><td>C</td><td>C5</td><td>Not Verified</td><td>41528.0</td><td>Individual</td><td>null</td><td>null</td></tr>\n",
       "</table>\n",
       "only showing top 20 rows\n"
      ],
      "text/plain": [
       "+--------------------+--------------------+----------+--------------+----------+----------+--------+-------+-----+---------+-------------------+---------------+----------------+----------------+-------------------------+\n",
       "|           member_id|           emp_title|emp_length|home_ownership|annual_inc|addr_state|zip_code|country|grade|sub_grade|verification_status|tot_hi_cred_lim|application_type|annual_inc_joint|verification_status_joint|\n",
       "+--------------------+--------------------+----------+--------------+----------+----------+--------+-------+-----+---------+-------------------+---------------+----------------+----------------+-------------------------+\n",
       "|4480925324607267c...|                  IT|   3 years|          RENT|   92000.0|        NJ|   088xx|    USA|    E|       E3|           Verified|       132523.0|      Individual|            null|                     null|\n",
       "|b54711d4a553ea330...|    District Manager|   7 years|          RENT|   45000.0|        TX|   787xx|    USA|    C|       C4|           Verified|        33247.0|      Individual|            null|                     null|\n",
       "|db06b45a938f1a3b5...|     Case Management|   6 years|          RENT|   33000.0|        NJ|   070xx|    USA|    D|       D3|       Not Verified|        34825.0|      Individual|            null|                     null|\n",
       "|ad9d9524477e85c11...|senior financial ...|  < 1 year|          RENT|   80000.0|        NJ|   079xx|    USA|    A|       A4|    Source Verified|        81859.0|      Individual|            null|                     null|\n",
       "|c67f6ac3fea6ef46d...|Senior Analyst H....|   6 years|          RENT|   30000.0|        FL|   328xx|    USA|    B|       B3|    Source Verified|        30825.0|      Individual|            null|                     null|\n",
       "|bb36e2cb69517fac3...|       Owner Realtor|    1 year|      MORTGAGE|   40000.0|        WI|   549xx|    USA|    E|       E3|       Not Verified|       186722.0|      Individual|            null|                     null|\n",
       "|af69a7dff814fb213...|               nurse| 10+ years|      MORTGAGE|   45000.0|        TX|   791xx|    USA|    C|       C5|       Not Verified|       261804.0|      Individual|            null|                     null|\n",
       "|c9c794b5025e14a7d...|Assistant IT Dire...|   2 years|      MORTGAGE|   76500.0|        UT|   840xx|    USA|    D|       D5|    Source Verified|        67822.0|      Individual|            null|                     null|\n",
       "|61b48d763bd82369a...|Network Provision...|   3 years|          RENT|   98000.0|        CA|   950xx|    USA|    B|       B2|    Source Verified|       100609.0|      Individual|            null|                     null|\n",
       "|adc390ceaa6428ba4...|                null|      null|      MORTGAGE|   38964.0|        MO|   650xx|    USA|    C|       C2|    Source Verified|        18400.0|      Individual|            null|                     null|\n",
       "|b8591b1957416d0d0...|             Plumber|   2 years|      MORTGAGE|   75000.0|        WA|   980xx|    USA|    D|       D1|           Verified|       298969.0|      Individual|            null|                     null|\n",
       "|edf6bc814b2514406...|            Director|   2 years|          RENT|   52000.0|        MD|   206xx|    USA|    C|       C5|       Not Verified|        32196.0|      Individual|            null|                     null|\n",
       "|cbb2027fdad44e370...|       IT Specialist|   8 years|      MORTGAGE|   65000.0|        WA|   992xx|    USA|    C|       C2|       Not Verified|       262235.0|      Individual|            null|                     null|\n",
       "|2833e66fc35f729ff...|Associate Informa...|   6 years|          RENT|   68000.0|        CA|   945xx|    USA|    C|       C4|    Source Verified|        38972.0|      Individual|            null|                     null|\n",
       "|30257f9f7bb1ee5f7...|        Truck Driver|    1 year|          RENT|   60000.0|        FL|   335xx|    USA|    A|       A2|    Source Verified|        82047.0|      Individual|            null|                     null|\n",
       "|1f9bcde5a863520ef...| electrical designer|  < 1 year|      MORTGAGE|   85000.0|        CA|   911xx|    USA|    D|       D1|       Not Verified|       289434.0|      Individual|            null|                     null|\n",
       "|1809df0b4a0abe9b0...|              Driver|    1 year|          RENT|   50000.0|        AL|   351xx|    USA|    D|       D4|    Source Verified|        44017.0|      Individual|            null|                     null|\n",
       "|6da09f2e86c405a0c...|Shift Operations ...|   2 years|      MORTGAGE|   60500.0|        CO|   801xx|    USA|    D|       D4|    Source Verified|       268792.0|      Individual|            null|                     null|\n",
       "|0229fe984f04c4817...|  Payroll Accountant|   7 years|          RENT|   65000.0|        WA|   982xx|    USA|    D|       D2|           Verified|       161351.0|      Individual|            null|                     null|\n",
       "|d8868b8f86fc7c7ea...|             teacher|   5 years|          RENT|   56100.0|        VA|   232xx|    USA|    C|       C5|       Not Verified|        41528.0|      Individual|            null|                     null|\n",
       "+--------------------+--------------------+----------+--------------+----------+----------+--------+-------+-----+---------+-------------------+---------------+----------------+----------------+-------------------------+\n",
       "only showing top 20 rows"
      ]
     },
     "execution_count": 32,
     "metadata": {},
     "output_type": "execute_result"
    }
   ],
   "source": [
    "customers_raw_df"
   ]
  },
  {
   "cell_type": "code",
   "execution_count": 33,
   "id": "2a381f33",
   "metadata": {},
   "outputs": [
    {
     "name": "stdout",
     "output_type": "stream",
     "text": [
      "root\n",
      " |-- member_id: string (nullable = true)\n",
      " |-- emp_title: string (nullable = true)\n",
      " |-- emp_length: string (nullable = true)\n",
      " |-- home_ownership: string (nullable = true)\n",
      " |-- annual_inc: string (nullable = true)\n",
      " |-- addr_state: string (nullable = true)\n",
      " |-- zip_code: string (nullable = true)\n",
      " |-- country: string (nullable = true)\n",
      " |-- grade: string (nullable = true)\n",
      " |-- sub_grade: string (nullable = true)\n",
      " |-- verification_status: string (nullable = true)\n",
      " |-- tot_hi_cred_lim: double (nullable = true)\n",
      " |-- application_type: string (nullable = true)\n",
      " |-- annual_inc_joint: string (nullable = true)\n",
      " |-- verification_status_joint: string (nullable = true)\n",
      "\n"
     ]
    }
   ],
   "source": [
    "customers_raw_df.printSchema()"
   ]
  },
  {
   "cell_type": "markdown",
   "id": "2e4a68de",
   "metadata": {},
   "source": [
    "### Providing our own Schema"
   ]
  },
  {
   "cell_type": "code",
   "execution_count": 88,
   "id": "8ae74ca8",
   "metadata": {},
   "outputs": [],
   "source": [
    "customers_schema=\"member_id string, emp_title string, emp_length string, home_ownership string, annual_inc float, addr_state string,zip_code string, country string, grade string, sub_grade string,verification_status string,tot_hi_cred_lim float,application_type string,annual_inc_joint float,verification_status_joint string\""
   ]
  },
  {
   "cell_type": "code",
   "execution_count": 89,
   "id": "b7bd0979",
   "metadata": {},
   "outputs": [],
   "source": [
    "customers_raw_df=spark.read \\\n",
    ".format(\"csv\") \\\n",
    ".option(\"header\",True) \\\n",
    ".schema(customers_schema) \\\n",
    ".load(\"/user/itv007473/lendingclubproject/raw/customers_data_csv\")"
   ]
  },
  {
   "cell_type": "code",
   "execution_count": 36,
   "id": "908a0376",
   "metadata": {},
   "outputs": [
    {
     "name": "stdout",
     "output_type": "stream",
     "text": [
      "root\n",
      " |-- member_id: string (nullable = true)\n",
      " |-- emp_title: string (nullable = true)\n",
      " |-- emp_length: string (nullable = true)\n",
      " |-- home_ownership: string (nullable = true)\n",
      " |-- annual_inc: float (nullable = true)\n",
      " |-- addr_state: string (nullable = true)\n",
      " |-- zip_code: string (nullable = true)\n",
      " |-- country: string (nullable = true)\n",
      " |-- grade: string (nullable = true)\n",
      " |-- sub_grade: string (nullable = true)\n",
      " |-- verification_status: string (nullable = true)\n",
      " |-- tot_hi_cred_lim: float (nullable = true)\n",
      " |-- application_type: string (nullable = true)\n",
      " |-- annual_inc_joint: float (nullable = true)\n",
      " |-- verification_status_joint: string (nullable = true)\n",
      "\n"
     ]
    }
   ],
   "source": [
    "customers_raw_df.printSchema()"
   ]
  },
  {
   "cell_type": "code",
   "execution_count": 90,
   "id": "b9a28434",
   "metadata": {},
   "outputs": [],
   "source": [
    " customers_df_renamed=customers_raw_df.withColumnRenamed(\"annual_inc\",\"annual_income\") \\\n",
    ".withColumnRenamed(\"addr_state\",\"address_state\") \\\n",
    ".withColumnRenamed(\"zip_code\",\"address_zipcode\") \\\n",
    ".withColumnRenamed(\"country\",\"address_country\") \\\n",
    ".withColumnRenamed(\"tot_hi_cred_lim\",\"total_high_credit_limit\") \\\n",
    ".withColumnRenamed(\"annual_inc_joint\",\"join_annual_income\")"
   ]
  },
  {
   "cell_type": "code",
   "execution_count": 38,
   "id": "7c0e570e",
   "metadata": {},
   "outputs": [
    {
     "data": {
      "text/html": [
       "<table border='1'>\n",
       "<tr><th>member_id</th><th>emp_title</th><th>emp_length</th><th>home_ownership</th><th>annual_income</th><th>address_state</th><th>address_zipcode</th><th>address_country</th><th>grade</th><th>sub_grade</th><th>verification_status</th><th>total_high_credit_limit</th><th>application_type</th><th>join_annual_income</th><th>verification_status_joint</th></tr>\n",
       "<tr><td>4480925324607267c...</td><td>IT</td><td>3 years</td><td>RENT</td><td>92000.0</td><td>NJ</td><td>088xx</td><td>USA</td><td>E</td><td>E3</td><td>Verified</td><td>132523.0</td><td>Individual</td><td>null</td><td>null</td></tr>\n",
       "<tr><td>b54711d4a553ea330...</td><td>District Manager</td><td>7 years</td><td>RENT</td><td>45000.0</td><td>TX</td><td>787xx</td><td>USA</td><td>C</td><td>C4</td><td>Verified</td><td>33247.0</td><td>Individual</td><td>null</td><td>null</td></tr>\n",
       "<tr><td>db06b45a938f1a3b5...</td><td>Case Management</td><td>6 years</td><td>RENT</td><td>33000.0</td><td>NJ</td><td>070xx</td><td>USA</td><td>D</td><td>D3</td><td>Not Verified</td><td>34825.0</td><td>Individual</td><td>null</td><td>null</td></tr>\n",
       "<tr><td>ad9d9524477e85c11...</td><td>senior financial ...</td><td>&lt; 1 year</td><td>RENT</td><td>80000.0</td><td>NJ</td><td>079xx</td><td>USA</td><td>A</td><td>A4</td><td>Source Verified</td><td>81859.0</td><td>Individual</td><td>null</td><td>null</td></tr>\n",
       "<tr><td>c67f6ac3fea6ef46d...</td><td>Senior Analyst H....</td><td>6 years</td><td>RENT</td><td>30000.0</td><td>FL</td><td>328xx</td><td>USA</td><td>B</td><td>B3</td><td>Source Verified</td><td>30825.0</td><td>Individual</td><td>null</td><td>null</td></tr>\n",
       "<tr><td>bb36e2cb69517fac3...</td><td>Owner Realtor</td><td>1 year</td><td>MORTGAGE</td><td>40000.0</td><td>WI</td><td>549xx</td><td>USA</td><td>E</td><td>E3</td><td>Not Verified</td><td>186722.0</td><td>Individual</td><td>null</td><td>null</td></tr>\n",
       "<tr><td>af69a7dff814fb213...</td><td>nurse</td><td>10+ years</td><td>MORTGAGE</td><td>45000.0</td><td>TX</td><td>791xx</td><td>USA</td><td>C</td><td>C5</td><td>Not Verified</td><td>261804.0</td><td>Individual</td><td>null</td><td>null</td></tr>\n",
       "<tr><td>c9c794b5025e14a7d...</td><td>Assistant IT Dire...</td><td>2 years</td><td>MORTGAGE</td><td>76500.0</td><td>UT</td><td>840xx</td><td>USA</td><td>D</td><td>D5</td><td>Source Verified</td><td>67822.0</td><td>Individual</td><td>null</td><td>null</td></tr>\n",
       "<tr><td>61b48d763bd82369a...</td><td>Network Provision...</td><td>3 years</td><td>RENT</td><td>98000.0</td><td>CA</td><td>950xx</td><td>USA</td><td>B</td><td>B2</td><td>Source Verified</td><td>100609.0</td><td>Individual</td><td>null</td><td>null</td></tr>\n",
       "<tr><td>adc390ceaa6428ba4...</td><td>null</td><td>null</td><td>MORTGAGE</td><td>38964.0</td><td>MO</td><td>650xx</td><td>USA</td><td>C</td><td>C2</td><td>Source Verified</td><td>18400.0</td><td>Individual</td><td>null</td><td>null</td></tr>\n",
       "<tr><td>b8591b1957416d0d0...</td><td>Plumber</td><td>2 years</td><td>MORTGAGE</td><td>75000.0</td><td>WA</td><td>980xx</td><td>USA</td><td>D</td><td>D1</td><td>Verified</td><td>298969.0</td><td>Individual</td><td>null</td><td>null</td></tr>\n",
       "<tr><td>edf6bc814b2514406...</td><td>Director</td><td>2 years</td><td>RENT</td><td>52000.0</td><td>MD</td><td>206xx</td><td>USA</td><td>C</td><td>C5</td><td>Not Verified</td><td>32196.0</td><td>Individual</td><td>null</td><td>null</td></tr>\n",
       "<tr><td>cbb2027fdad44e370...</td><td>IT Specialist</td><td>8 years</td><td>MORTGAGE</td><td>65000.0</td><td>WA</td><td>992xx</td><td>USA</td><td>C</td><td>C2</td><td>Not Verified</td><td>262235.0</td><td>Individual</td><td>null</td><td>null</td></tr>\n",
       "<tr><td>2833e66fc35f729ff...</td><td>Associate Informa...</td><td>6 years</td><td>RENT</td><td>68000.0</td><td>CA</td><td>945xx</td><td>USA</td><td>C</td><td>C4</td><td>Source Verified</td><td>38972.0</td><td>Individual</td><td>null</td><td>null</td></tr>\n",
       "<tr><td>30257f9f7bb1ee5f7...</td><td>Truck Driver</td><td>1 year</td><td>RENT</td><td>60000.0</td><td>FL</td><td>335xx</td><td>USA</td><td>A</td><td>A2</td><td>Source Verified</td><td>82047.0</td><td>Individual</td><td>null</td><td>null</td></tr>\n",
       "<tr><td>1f9bcde5a863520ef...</td><td>electrical designer</td><td>&lt; 1 year</td><td>MORTGAGE</td><td>85000.0</td><td>CA</td><td>911xx</td><td>USA</td><td>D</td><td>D1</td><td>Not Verified</td><td>289434.0</td><td>Individual</td><td>null</td><td>null</td></tr>\n",
       "<tr><td>1809df0b4a0abe9b0...</td><td>Driver</td><td>1 year</td><td>RENT</td><td>50000.0</td><td>AL</td><td>351xx</td><td>USA</td><td>D</td><td>D4</td><td>Source Verified</td><td>44017.0</td><td>Individual</td><td>null</td><td>null</td></tr>\n",
       "<tr><td>6da09f2e86c405a0c...</td><td>Shift Operations ...</td><td>2 years</td><td>MORTGAGE</td><td>60500.0</td><td>CO</td><td>801xx</td><td>USA</td><td>D</td><td>D4</td><td>Source Verified</td><td>268792.0</td><td>Individual</td><td>null</td><td>null</td></tr>\n",
       "<tr><td>0229fe984f04c4817...</td><td>Payroll Accountant</td><td>7 years</td><td>RENT</td><td>65000.0</td><td>WA</td><td>982xx</td><td>USA</td><td>D</td><td>D2</td><td>Verified</td><td>161351.0</td><td>Individual</td><td>null</td><td>null</td></tr>\n",
       "<tr><td>d8868b8f86fc7c7ea...</td><td>teacher</td><td>5 years</td><td>RENT</td><td>56100.0</td><td>VA</td><td>232xx</td><td>USA</td><td>C</td><td>C5</td><td>Not Verified</td><td>41528.0</td><td>Individual</td><td>null</td><td>null</td></tr>\n",
       "</table>\n",
       "only showing top 20 rows\n"
      ],
      "text/plain": [
       "+--------------------+--------------------+----------+--------------+-------------+-------------+---------------+---------------+-----+---------+-------------------+-----------------------+----------------+------------------+-------------------------+\n",
       "|           member_id|           emp_title|emp_length|home_ownership|annual_income|address_state|address_zipcode|address_country|grade|sub_grade|verification_status|total_high_credit_limit|application_type|join_annual_income|verification_status_joint|\n",
       "+--------------------+--------------------+----------+--------------+-------------+-------------+---------------+---------------+-----+---------+-------------------+-----------------------+----------------+------------------+-------------------------+\n",
       "|4480925324607267c...|                  IT|   3 years|          RENT|      92000.0|           NJ|          088xx|            USA|    E|       E3|           Verified|               132523.0|      Individual|              null|                     null|\n",
       "|b54711d4a553ea330...|    District Manager|   7 years|          RENT|      45000.0|           TX|          787xx|            USA|    C|       C4|           Verified|                33247.0|      Individual|              null|                     null|\n",
       "|db06b45a938f1a3b5...|     Case Management|   6 years|          RENT|      33000.0|           NJ|          070xx|            USA|    D|       D3|       Not Verified|                34825.0|      Individual|              null|                     null|\n",
       "|ad9d9524477e85c11...|senior financial ...|  < 1 year|          RENT|      80000.0|           NJ|          079xx|            USA|    A|       A4|    Source Verified|                81859.0|      Individual|              null|                     null|\n",
       "|c67f6ac3fea6ef46d...|Senior Analyst H....|   6 years|          RENT|      30000.0|           FL|          328xx|            USA|    B|       B3|    Source Verified|                30825.0|      Individual|              null|                     null|\n",
       "|bb36e2cb69517fac3...|       Owner Realtor|    1 year|      MORTGAGE|      40000.0|           WI|          549xx|            USA|    E|       E3|       Not Verified|               186722.0|      Individual|              null|                     null|\n",
       "|af69a7dff814fb213...|               nurse| 10+ years|      MORTGAGE|      45000.0|           TX|          791xx|            USA|    C|       C5|       Not Verified|               261804.0|      Individual|              null|                     null|\n",
       "|c9c794b5025e14a7d...|Assistant IT Dire...|   2 years|      MORTGAGE|      76500.0|           UT|          840xx|            USA|    D|       D5|    Source Verified|                67822.0|      Individual|              null|                     null|\n",
       "|61b48d763bd82369a...|Network Provision...|   3 years|          RENT|      98000.0|           CA|          950xx|            USA|    B|       B2|    Source Verified|               100609.0|      Individual|              null|                     null|\n",
       "|adc390ceaa6428ba4...|                null|      null|      MORTGAGE|      38964.0|           MO|          650xx|            USA|    C|       C2|    Source Verified|                18400.0|      Individual|              null|                     null|\n",
       "|b8591b1957416d0d0...|             Plumber|   2 years|      MORTGAGE|      75000.0|           WA|          980xx|            USA|    D|       D1|           Verified|               298969.0|      Individual|              null|                     null|\n",
       "|edf6bc814b2514406...|            Director|   2 years|          RENT|      52000.0|           MD|          206xx|            USA|    C|       C5|       Not Verified|                32196.0|      Individual|              null|                     null|\n",
       "|cbb2027fdad44e370...|       IT Specialist|   8 years|      MORTGAGE|      65000.0|           WA|          992xx|            USA|    C|       C2|       Not Verified|               262235.0|      Individual|              null|                     null|\n",
       "|2833e66fc35f729ff...|Associate Informa...|   6 years|          RENT|      68000.0|           CA|          945xx|            USA|    C|       C4|    Source Verified|                38972.0|      Individual|              null|                     null|\n",
       "|30257f9f7bb1ee5f7...|        Truck Driver|    1 year|          RENT|      60000.0|           FL|          335xx|            USA|    A|       A2|    Source Verified|                82047.0|      Individual|              null|                     null|\n",
       "|1f9bcde5a863520ef...| electrical designer|  < 1 year|      MORTGAGE|      85000.0|           CA|          911xx|            USA|    D|       D1|       Not Verified|               289434.0|      Individual|              null|                     null|\n",
       "|1809df0b4a0abe9b0...|              Driver|    1 year|          RENT|      50000.0|           AL|          351xx|            USA|    D|       D4|    Source Verified|                44017.0|      Individual|              null|                     null|\n",
       "|6da09f2e86c405a0c...|Shift Operations ...|   2 years|      MORTGAGE|      60500.0|           CO|          801xx|            USA|    D|       D4|    Source Verified|               268792.0|      Individual|              null|                     null|\n",
       "|0229fe984f04c4817...|  Payroll Accountant|   7 years|          RENT|      65000.0|           WA|          982xx|            USA|    D|       D2|           Verified|               161351.0|      Individual|              null|                     null|\n",
       "|d8868b8f86fc7c7ea...|             teacher|   5 years|          RENT|      56100.0|           VA|          232xx|            USA|    C|       C5|       Not Verified|                41528.0|      Individual|              null|                     null|\n",
       "+--------------------+--------------------+----------+--------------+-------------+-------------+---------------+---------------+-----+---------+-------------------+-----------------------+----------------+------------------+-------------------------+\n",
       "only showing top 20 rows"
      ]
     },
     "execution_count": 38,
     "metadata": {},
     "output_type": "execute_result"
    }
   ],
   "source": [
    "customers_df_renamed"
   ]
  },
  {
   "cell_type": "markdown",
   "id": "7b7d425c",
   "metadata": {},
   "source": [
    "### Add a Column"
   ]
  },
  {
   "cell_type": "code",
   "execution_count": 91,
   "id": "817add02",
   "metadata": {},
   "outputs": [],
   "source": [
    "from pyspark.sql.functions import current_timestamp"
   ]
  },
  {
   "cell_type": "code",
   "execution_count": 92,
   "id": "74e1c82e",
   "metadata": {},
   "outputs": [],
   "source": [
    "customers_df_ingestd=customers_df_renamed.withColumn(\"ingest_date\",current_timestamp())"
   ]
  },
  {
   "cell_type": "code",
   "execution_count": 42,
   "id": "7a4f3244",
   "metadata": {},
   "outputs": [
    {
     "data": {
      "text/html": [
       "<table border='1'>\n",
       "<tr><th>member_id</th><th>emp_title</th><th>emp_length</th><th>home_ownership</th><th>annual_income</th><th>address_state</th><th>address_zipcode</th><th>address_country</th><th>grade</th><th>sub_grade</th><th>verification_status</th><th>total_high_credit_limit</th><th>application_type</th><th>join_annual_income</th><th>verification_status_joint</th><th>ingest_date</th></tr>\n",
       "<tr><td>4480925324607267c...</td><td>IT</td><td>3 years</td><td>RENT</td><td>92000.0</td><td>NJ</td><td>088xx</td><td>USA</td><td>E</td><td>E3</td><td>Verified</td><td>132523.0</td><td>Individual</td><td>null</td><td>null</td><td>2023-11-05 05:04:...</td></tr>\n",
       "<tr><td>b54711d4a553ea330...</td><td>District Manager</td><td>7 years</td><td>RENT</td><td>45000.0</td><td>TX</td><td>787xx</td><td>USA</td><td>C</td><td>C4</td><td>Verified</td><td>33247.0</td><td>Individual</td><td>null</td><td>null</td><td>2023-11-05 05:04:...</td></tr>\n",
       "<tr><td>db06b45a938f1a3b5...</td><td>Case Management</td><td>6 years</td><td>RENT</td><td>33000.0</td><td>NJ</td><td>070xx</td><td>USA</td><td>D</td><td>D3</td><td>Not Verified</td><td>34825.0</td><td>Individual</td><td>null</td><td>null</td><td>2023-11-05 05:04:...</td></tr>\n",
       "<tr><td>ad9d9524477e85c11...</td><td>senior financial ...</td><td>&lt; 1 year</td><td>RENT</td><td>80000.0</td><td>NJ</td><td>079xx</td><td>USA</td><td>A</td><td>A4</td><td>Source Verified</td><td>81859.0</td><td>Individual</td><td>null</td><td>null</td><td>2023-11-05 05:04:...</td></tr>\n",
       "<tr><td>c67f6ac3fea6ef46d...</td><td>Senior Analyst H....</td><td>6 years</td><td>RENT</td><td>30000.0</td><td>FL</td><td>328xx</td><td>USA</td><td>B</td><td>B3</td><td>Source Verified</td><td>30825.0</td><td>Individual</td><td>null</td><td>null</td><td>2023-11-05 05:04:...</td></tr>\n",
       "<tr><td>bb36e2cb69517fac3...</td><td>Owner Realtor</td><td>1 year</td><td>MORTGAGE</td><td>40000.0</td><td>WI</td><td>549xx</td><td>USA</td><td>E</td><td>E3</td><td>Not Verified</td><td>186722.0</td><td>Individual</td><td>null</td><td>null</td><td>2023-11-05 05:04:...</td></tr>\n",
       "<tr><td>af69a7dff814fb213...</td><td>nurse</td><td>10+ years</td><td>MORTGAGE</td><td>45000.0</td><td>TX</td><td>791xx</td><td>USA</td><td>C</td><td>C5</td><td>Not Verified</td><td>261804.0</td><td>Individual</td><td>null</td><td>null</td><td>2023-11-05 05:04:...</td></tr>\n",
       "<tr><td>c9c794b5025e14a7d...</td><td>Assistant IT Dire...</td><td>2 years</td><td>MORTGAGE</td><td>76500.0</td><td>UT</td><td>840xx</td><td>USA</td><td>D</td><td>D5</td><td>Source Verified</td><td>67822.0</td><td>Individual</td><td>null</td><td>null</td><td>2023-11-05 05:04:...</td></tr>\n",
       "<tr><td>61b48d763bd82369a...</td><td>Network Provision...</td><td>3 years</td><td>RENT</td><td>98000.0</td><td>CA</td><td>950xx</td><td>USA</td><td>B</td><td>B2</td><td>Source Verified</td><td>100609.0</td><td>Individual</td><td>null</td><td>null</td><td>2023-11-05 05:04:...</td></tr>\n",
       "<tr><td>adc390ceaa6428ba4...</td><td>null</td><td>null</td><td>MORTGAGE</td><td>38964.0</td><td>MO</td><td>650xx</td><td>USA</td><td>C</td><td>C2</td><td>Source Verified</td><td>18400.0</td><td>Individual</td><td>null</td><td>null</td><td>2023-11-05 05:04:...</td></tr>\n",
       "<tr><td>b8591b1957416d0d0...</td><td>Plumber</td><td>2 years</td><td>MORTGAGE</td><td>75000.0</td><td>WA</td><td>980xx</td><td>USA</td><td>D</td><td>D1</td><td>Verified</td><td>298969.0</td><td>Individual</td><td>null</td><td>null</td><td>2023-11-05 05:04:...</td></tr>\n",
       "<tr><td>edf6bc814b2514406...</td><td>Director</td><td>2 years</td><td>RENT</td><td>52000.0</td><td>MD</td><td>206xx</td><td>USA</td><td>C</td><td>C5</td><td>Not Verified</td><td>32196.0</td><td>Individual</td><td>null</td><td>null</td><td>2023-11-05 05:04:...</td></tr>\n",
       "<tr><td>cbb2027fdad44e370...</td><td>IT Specialist</td><td>8 years</td><td>MORTGAGE</td><td>65000.0</td><td>WA</td><td>992xx</td><td>USA</td><td>C</td><td>C2</td><td>Not Verified</td><td>262235.0</td><td>Individual</td><td>null</td><td>null</td><td>2023-11-05 05:04:...</td></tr>\n",
       "<tr><td>2833e66fc35f729ff...</td><td>Associate Informa...</td><td>6 years</td><td>RENT</td><td>68000.0</td><td>CA</td><td>945xx</td><td>USA</td><td>C</td><td>C4</td><td>Source Verified</td><td>38972.0</td><td>Individual</td><td>null</td><td>null</td><td>2023-11-05 05:04:...</td></tr>\n",
       "<tr><td>30257f9f7bb1ee5f7...</td><td>Truck Driver</td><td>1 year</td><td>RENT</td><td>60000.0</td><td>FL</td><td>335xx</td><td>USA</td><td>A</td><td>A2</td><td>Source Verified</td><td>82047.0</td><td>Individual</td><td>null</td><td>null</td><td>2023-11-05 05:04:...</td></tr>\n",
       "<tr><td>1f9bcde5a863520ef...</td><td>electrical designer</td><td>&lt; 1 year</td><td>MORTGAGE</td><td>85000.0</td><td>CA</td><td>911xx</td><td>USA</td><td>D</td><td>D1</td><td>Not Verified</td><td>289434.0</td><td>Individual</td><td>null</td><td>null</td><td>2023-11-05 05:04:...</td></tr>\n",
       "<tr><td>1809df0b4a0abe9b0...</td><td>Driver</td><td>1 year</td><td>RENT</td><td>50000.0</td><td>AL</td><td>351xx</td><td>USA</td><td>D</td><td>D4</td><td>Source Verified</td><td>44017.0</td><td>Individual</td><td>null</td><td>null</td><td>2023-11-05 05:04:...</td></tr>\n",
       "<tr><td>6da09f2e86c405a0c...</td><td>Shift Operations ...</td><td>2 years</td><td>MORTGAGE</td><td>60500.0</td><td>CO</td><td>801xx</td><td>USA</td><td>D</td><td>D4</td><td>Source Verified</td><td>268792.0</td><td>Individual</td><td>null</td><td>null</td><td>2023-11-05 05:04:...</td></tr>\n",
       "<tr><td>0229fe984f04c4817...</td><td>Payroll Accountant</td><td>7 years</td><td>RENT</td><td>65000.0</td><td>WA</td><td>982xx</td><td>USA</td><td>D</td><td>D2</td><td>Verified</td><td>161351.0</td><td>Individual</td><td>null</td><td>null</td><td>2023-11-05 05:04:...</td></tr>\n",
       "<tr><td>d8868b8f86fc7c7ea...</td><td>teacher</td><td>5 years</td><td>RENT</td><td>56100.0</td><td>VA</td><td>232xx</td><td>USA</td><td>C</td><td>C5</td><td>Not Verified</td><td>41528.0</td><td>Individual</td><td>null</td><td>null</td><td>2023-11-05 05:04:...</td></tr>\n",
       "</table>\n",
       "only showing top 20 rows\n"
      ],
      "text/plain": [
       "+--------------------+--------------------+----------+--------------+-------------+-------------+---------------+---------------+-----+---------+-------------------+-----------------------+----------------+------------------+-------------------------+--------------------+\n",
       "|           member_id|           emp_title|emp_length|home_ownership|annual_income|address_state|address_zipcode|address_country|grade|sub_grade|verification_status|total_high_credit_limit|application_type|join_annual_income|verification_status_joint|         ingest_date|\n",
       "+--------------------+--------------------+----------+--------------+-------------+-------------+---------------+---------------+-----+---------+-------------------+-----------------------+----------------+------------------+-------------------------+--------------------+\n",
       "|4480925324607267c...|                  IT|   3 years|          RENT|      92000.0|           NJ|          088xx|            USA|    E|       E3|           Verified|               132523.0|      Individual|              null|                     null|2023-11-05 05:04:...|\n",
       "|b54711d4a553ea330...|    District Manager|   7 years|          RENT|      45000.0|           TX|          787xx|            USA|    C|       C4|           Verified|                33247.0|      Individual|              null|                     null|2023-11-05 05:04:...|\n",
       "|db06b45a938f1a3b5...|     Case Management|   6 years|          RENT|      33000.0|           NJ|          070xx|            USA|    D|       D3|       Not Verified|                34825.0|      Individual|              null|                     null|2023-11-05 05:04:...|\n",
       "|ad9d9524477e85c11...|senior financial ...|  < 1 year|          RENT|      80000.0|           NJ|          079xx|            USA|    A|       A4|    Source Verified|                81859.0|      Individual|              null|                     null|2023-11-05 05:04:...|\n",
       "|c67f6ac3fea6ef46d...|Senior Analyst H....|   6 years|          RENT|      30000.0|           FL|          328xx|            USA|    B|       B3|    Source Verified|                30825.0|      Individual|              null|                     null|2023-11-05 05:04:...|\n",
       "|bb36e2cb69517fac3...|       Owner Realtor|    1 year|      MORTGAGE|      40000.0|           WI|          549xx|            USA|    E|       E3|       Not Verified|               186722.0|      Individual|              null|                     null|2023-11-05 05:04:...|\n",
       "|af69a7dff814fb213...|               nurse| 10+ years|      MORTGAGE|      45000.0|           TX|          791xx|            USA|    C|       C5|       Not Verified|               261804.0|      Individual|              null|                     null|2023-11-05 05:04:...|\n",
       "|c9c794b5025e14a7d...|Assistant IT Dire...|   2 years|      MORTGAGE|      76500.0|           UT|          840xx|            USA|    D|       D5|    Source Verified|                67822.0|      Individual|              null|                     null|2023-11-05 05:04:...|\n",
       "|61b48d763bd82369a...|Network Provision...|   3 years|          RENT|      98000.0|           CA|          950xx|            USA|    B|       B2|    Source Verified|               100609.0|      Individual|              null|                     null|2023-11-05 05:04:...|\n",
       "|adc390ceaa6428ba4...|                null|      null|      MORTGAGE|      38964.0|           MO|          650xx|            USA|    C|       C2|    Source Verified|                18400.0|      Individual|              null|                     null|2023-11-05 05:04:...|\n",
       "|b8591b1957416d0d0...|             Plumber|   2 years|      MORTGAGE|      75000.0|           WA|          980xx|            USA|    D|       D1|           Verified|               298969.0|      Individual|              null|                     null|2023-11-05 05:04:...|\n",
       "|edf6bc814b2514406...|            Director|   2 years|          RENT|      52000.0|           MD|          206xx|            USA|    C|       C5|       Not Verified|                32196.0|      Individual|              null|                     null|2023-11-05 05:04:...|\n",
       "|cbb2027fdad44e370...|       IT Specialist|   8 years|      MORTGAGE|      65000.0|           WA|          992xx|            USA|    C|       C2|       Not Verified|               262235.0|      Individual|              null|                     null|2023-11-05 05:04:...|\n",
       "|2833e66fc35f729ff...|Associate Informa...|   6 years|          RENT|      68000.0|           CA|          945xx|            USA|    C|       C4|    Source Verified|                38972.0|      Individual|              null|                     null|2023-11-05 05:04:...|\n",
       "|30257f9f7bb1ee5f7...|        Truck Driver|    1 year|          RENT|      60000.0|           FL|          335xx|            USA|    A|       A2|    Source Verified|                82047.0|      Individual|              null|                     null|2023-11-05 05:04:...|\n",
       "|1f9bcde5a863520ef...| electrical designer|  < 1 year|      MORTGAGE|      85000.0|           CA|          911xx|            USA|    D|       D1|       Not Verified|               289434.0|      Individual|              null|                     null|2023-11-05 05:04:...|\n",
       "|1809df0b4a0abe9b0...|              Driver|    1 year|          RENT|      50000.0|           AL|          351xx|            USA|    D|       D4|    Source Verified|                44017.0|      Individual|              null|                     null|2023-11-05 05:04:...|\n",
       "|6da09f2e86c405a0c...|Shift Operations ...|   2 years|      MORTGAGE|      60500.0|           CO|          801xx|            USA|    D|       D4|    Source Verified|               268792.0|      Individual|              null|                     null|2023-11-05 05:04:...|\n",
       "|0229fe984f04c4817...|  Payroll Accountant|   7 years|          RENT|      65000.0|           WA|          982xx|            USA|    D|       D2|           Verified|               161351.0|      Individual|              null|                     null|2023-11-05 05:04:...|\n",
       "|d8868b8f86fc7c7ea...|             teacher|   5 years|          RENT|      56100.0|           VA|          232xx|            USA|    C|       C5|       Not Verified|                41528.0|      Individual|              null|                     null|2023-11-05 05:04:...|\n",
       "+--------------------+--------------------+----------+--------------+-------------+-------------+---------------+---------------+-----+---------+-------------------+-----------------------+----------------+------------------+-------------------------+--------------------+\n",
       "only showing top 20 rows"
      ]
     },
     "execution_count": 42,
     "metadata": {},
     "output_type": "execute_result"
    }
   ],
   "source": [
    "customers_df_ingestd"
   ]
  },
  {
   "cell_type": "markdown",
   "id": "4fb449d1",
   "metadata": {},
   "source": [
    "### Removing Duplicates"
   ]
  },
  {
   "cell_type": "code",
   "execution_count": 93,
   "id": "e25867e1",
   "metadata": {},
   "outputs": [
    {
     "data": {
      "text/plain": [
       "2260701"
      ]
     },
     "execution_count": 93,
     "metadata": {},
     "output_type": "execute_result"
    }
   ],
   "source": [
    "customers_df_ingestd.count()"
   ]
  },
  {
   "cell_type": "code",
   "execution_count": 94,
   "id": "8b8e80cb",
   "metadata": {},
   "outputs": [],
   "source": [
    "customers_distinct=customers_df_ingestd.distinct()"
   ]
  },
  {
   "cell_type": "code",
   "execution_count": 95,
   "id": "5f92c929",
   "metadata": {},
   "outputs": [
    {
     "data": {
      "text/plain": [
       "2260638"
      ]
     },
     "execution_count": 95,
     "metadata": {},
     "output_type": "execute_result"
    }
   ],
   "source": [
    "customers_distinct.count()"
   ]
  },
  {
   "cell_type": "markdown",
   "id": "0f492636",
   "metadata": {},
   "source": [
    "### Create Spark Sql Table"
   ]
  },
  {
   "cell_type": "code",
   "execution_count": 96,
   "id": "fa344320",
   "metadata": {},
   "outputs": [],
   "source": [
    "customers_distinct.createOrReplaceTempView(\"customers\")"
   ]
  },
  {
   "cell_type": "code",
   "execution_count": 97,
   "id": "ff28b973",
   "metadata": {},
   "outputs": [
    {
     "data": {
      "text/html": [
       "<table border='1'>\n",
       "<tr><th>member_id</th><th>emp_title</th><th>emp_length</th><th>home_ownership</th><th>annual_income</th><th>address_state</th><th>address_zipcode</th><th>address_country</th><th>grade</th><th>sub_grade</th><th>verification_status</th><th>total_high_credit_limit</th><th>application_type</th><th>join_annual_income</th><th>verification_status_joint</th><th>ingest_date</th></tr>\n",
       "<tr><td>3fbac57a2ba1bfcae...</td><td>Advocacy Officer</td><td>4 years</td><td>RENT</td><td>70000.0</td><td>NY</td><td>113xx</td><td>USA</td><td>B</td><td>B3</td><td>Verified</td><td>157658.0</td><td>Individual</td><td>null</td><td>null</td><td>2023-11-05 05:47:...</td></tr>\n",
       "<tr><td>49c1064ca72f95720...</td><td>Receiving supervisor</td><td>10+ years</td><td>OWN</td><td>43000.0</td><td>OK</td><td>730xx</td><td>USA</td><td>C</td><td>C3</td><td>Source Verified</td><td>162587.0</td><td>Individual</td><td>null</td><td>null</td><td>2023-11-05 05:47:...</td></tr>\n",
       "<tr><td>817c9fe0c5c8e6119...</td><td>Fitness Professional</td><td>2 years</td><td>RENT</td><td>65000.0</td><td>NY</td><td>115xx</td><td>USA</td><td>C</td><td>C3</td><td>Source Verified</td><td>21700.0</td><td>Individual</td><td>null</td><td>null</td><td>2023-11-05 05:47:...</td></tr>\n",
       "<tr><td>28c92ace7cb3cd670...</td><td>Appointment Cente...</td><td>2 years</td><td>MORTGAGE</td><td>32000.0</td><td>MN</td><td>550xx</td><td>USA</td><td>B</td><td>B2</td><td>Source Verified</td><td>152255.0</td><td>Individual</td><td>null</td><td>null</td><td>2023-11-05 05:47:...</td></tr>\n",
       "<tr><td>674b5fd76cdecf666...</td><td>Linguist</td><td>10+ years</td><td>OWN</td><td>80000.0</td><td>TX</td><td>761xx</td><td>USA</td><td>A</td><td>A1</td><td>Not Verified</td><td>86534.0</td><td>Individual</td><td>null</td><td>null</td><td>2023-11-05 05:47:...</td></tr>\n",
       "<tr><td>22e8cb697453736ff...</td><td>maint.mech/indust...</td><td>6 years</td><td>MORTGAGE</td><td>50000.0</td><td>OH</td><td>446xx</td><td>USA</td><td>C</td><td>C3</td><td>Source Verified</td><td>37667.0</td><td>Individual</td><td>null</td><td>null</td><td>2023-11-05 05:47:...</td></tr>\n",
       "<tr><td>79377392eb6baa3fd...</td><td>Regional Sales Ma...</td><td>10+ years</td><td>MORTGAGE</td><td>130000.0</td><td>NC</td><td>282xx</td><td>USA</td><td>B</td><td>B5</td><td>Not Verified</td><td>436574.0</td><td>Individual</td><td>null</td><td>null</td><td>2023-11-05 05:47:...</td></tr>\n",
       "<tr><td>ebaea37d84d95f03e...</td><td>Server/Manager</td><td>6 years</td><td>RENT</td><td>35442.0</td><td>CA</td><td>910xx</td><td>USA</td><td>D</td><td>D2</td><td>Source Verified</td><td>26644.0</td><td>Individual</td><td>null</td><td>null</td><td>2023-11-05 05:47:...</td></tr>\n",
       "<tr><td>8c11fde5c57d0a921...</td><td>Machine Operator</td><td>&lt; 1 year</td><td>RENT</td><td>52000.0</td><td>MA</td><td>016xx</td><td>USA</td><td>C</td><td>C5</td><td>Source Verified</td><td>51452.0</td><td>Individual</td><td>null</td><td>null</td><td>2023-11-05 05:47:...</td></tr>\n",
       "<tr><td>0839ffefa9f5e7e9f...</td><td>null</td><td>null</td><td>MORTGAGE</td><td>24000.0</td><td>IL</td><td>629xx</td><td>USA</td><td>E</td><td>E1</td><td>Verified</td><td>8673.0</td><td>Individual</td><td>null</td><td>null</td><td>2023-11-05 05:47:...</td></tr>\n",
       "<tr><td>1e5201ff777a1bc76...</td><td>Sr Admin Coordinator</td><td>6 years</td><td>MORTGAGE</td><td>58000.0</td><td>MD</td><td>211xx</td><td>USA</td><td>C</td><td>C3</td><td>Source Verified</td><td>294979.0</td><td>Individual</td><td>null</td><td>null</td><td>2023-11-05 05:47:...</td></tr>\n",
       "<tr><td>b38b9286d35a8f717...</td><td>National Operatio...</td><td>10+ years</td><td>MORTGAGE</td><td>150000.0</td><td>AZ</td><td>857xx</td><td>USA</td><td>B</td><td>B4</td><td>Not Verified</td><td>301965.0</td><td>Individual</td><td>null</td><td>null</td><td>2023-11-05 05:47:...</td></tr>\n",
       "<tr><td>770249aded649ce7a...</td><td>null</td><td>null</td><td>MORTGAGE</td><td>45000.0</td><td>FL</td><td>347xx</td><td>USA</td><td>C</td><td>C5</td><td>Not Verified</td><td>141283.0</td><td>Individual</td><td>null</td><td>null</td><td>2023-11-05 05:47:...</td></tr>\n",
       "<tr><td>571f71e36b6e6ef29...</td><td>driver</td><td>10+ years</td><td>OWN</td><td>45000.0</td><td>NY</td><td>121xx</td><td>USA</td><td>D</td><td>D1</td><td>Verified</td><td>8400.0</td><td>Individual</td><td>null</td><td>null</td><td>2023-11-05 05:47:...</td></tr>\n",
       "<tr><td>67f3f72e52317fed0...</td><td>Compressor Mechanic</td><td>1 year</td><td>RENT</td><td>153000.0</td><td>TX</td><td>782xx</td><td>USA</td><td>B</td><td>B2</td><td>Source Verified</td><td>395001.0</td><td>Individual</td><td>null</td><td>null</td><td>2023-11-05 05:47:...</td></tr>\n",
       "<tr><td>4c7a8016f335bfe98...</td><td>Engineer</td><td>10+ years</td><td>RENT</td><td>72000.0</td><td>GA</td><td>305xx</td><td>USA</td><td>B</td><td>B3</td><td>Not Verified</td><td>65233.0</td><td>Individual</td><td>null</td><td>null</td><td>2023-11-05 05:47:...</td></tr>\n",
       "<tr><td>04f613273d9d3a36b...</td><td>Executive Asst/Ac...</td><td>10+ years</td><td>OWN</td><td>44500.0</td><td>AL</td><td>364xx</td><td>USA</td><td>C</td><td>C2</td><td>Not Verified</td><td>20700.0</td><td>Individual</td><td>null</td><td>null</td><td>2023-11-05 05:47:...</td></tr>\n",
       "<tr><td>2120f0198a794d8e7...</td><td>Shoe Men Repair</td><td>2 years</td><td>OWN</td><td>36000.0</td><td>TX</td><td>770xx</td><td>USA</td><td>D</td><td>D3</td><td>Source Verified</td><td>31190.0</td><td>Individual</td><td>null</td><td>null</td><td>2023-11-05 05:47:...</td></tr>\n",
       "<tr><td>f98e683b0ed3b38cb...</td><td>Distrubution proc...</td><td>2 years</td><td>RENT</td><td>42000.0</td><td>OK</td><td>731xx</td><td>USA</td><td>D</td><td>D3</td><td>Verified</td><td>23200.0</td><td>Individual</td><td>null</td><td>null</td><td>2023-11-05 05:47:...</td></tr>\n",
       "<tr><td>12dfdebb2bcf7f8d0...</td><td>RN</td><td>&lt; 1 year</td><td>OWN</td><td>45000.0</td><td>AL</td><td>356xx</td><td>USA</td><td>B</td><td>B5</td><td>Verified</td><td>102031.0</td><td>Individual</td><td>null</td><td>null</td><td>2023-11-05 05:47:...</td></tr>\n",
       "</table>\n",
       "only showing top 20 rows\n"
      ],
      "text/plain": [
       "+--------------------+--------------------+----------+--------------+-------------+-------------+---------------+---------------+-----+---------+-------------------+-----------------------+----------------+------------------+-------------------------+--------------------+\n",
       "|           member_id|           emp_title|emp_length|home_ownership|annual_income|address_state|address_zipcode|address_country|grade|sub_grade|verification_status|total_high_credit_limit|application_type|join_annual_income|verification_status_joint|         ingest_date|\n",
       "+--------------------+--------------------+----------+--------------+-------------+-------------+---------------+---------------+-----+---------+-------------------+-----------------------+----------------+------------------+-------------------------+--------------------+\n",
       "|417c81b9aa043f1d1...|Director of new b...| 10+ years|      MORTGAGE|      93000.0|           AZ|          852xx|            USA|    B|       B1|       Not Verified|                52843.0|      Individual|              null|                     null|2023-11-05 05:47:...|\n",
       "|1b7823a42b7cc392d...|     Full Time Combo| 10+ years|          RENT|      76000.0|           TX|          761xx|            USA|    B|       B2|       Not Verified|                25060.0|      Individual|              null|                     null|2023-11-05 05:47:...|\n",
       "|fa26aee1fa86f772e...|            Operator| 10+ years|      MORTGAGE|     110000.0|           OK|          745xx|            USA|    D|       D5|       Not Verified|               364919.0|       Joint App|          134000.0|             Not Verified|2023-11-05 05:47:...|\n",
       "|fca8e2dfa6928a56d...|Purchasing Specia...|   2 years|           OWN|      35000.0|           TX|          763xx|            USA|    A|       A3|           Verified|               188550.0|       Joint App|          147000.0|                 Verified|2023-11-05 05:47:...|\n",
       "|fe1d4a89018c3733c...|     Cocktail Server|   6 years|      MORTGAGE|      40000.0|           NV|          891xx|            USA|    B|       B1|    Source Verified|               220800.0|      Individual|              null|                     null|2023-11-05 05:47:...|\n",
       "|ed893795862ddd734...|                null|      null|      MORTGAGE|      92000.0|           SC|          296xx|            USA|    D|       D1|           Verified|               157537.0|      Individual|              null|                     null|2023-11-05 05:47:...|\n",
       "|ef48490589dfac7e8...|  TLE Service Writer|   7 years|          RENT|      23000.0|           WI|          541xx|            USA|    C|       C5|    Source Verified|                51976.0|      Individual|              null|                     null|2023-11-05 05:47:...|\n",
       "|034000b999f9afdf9...|     Service Manager| 10+ years|      MORTGAGE|      45000.0|           GA|          301xx|            USA|    C|       C3|    Source Verified|               170800.0|      Individual|              null|                     null|2023-11-05 05:47:...|\n",
       "|248c97ffa9f27a9bf...|    Shift supervisor|   9 years|          RENT|      36000.0|           NJ|          070xx|            USA|    B|       B3|       Not Verified|                11100.0|      Individual|              null|                     null|2023-11-05 05:47:...|\n",
       "|f2f3cbc6b1161f8f9...|                  RN|   3 years|      MORTGAGE|      60000.0|           WI|          544xx|            USA|    B|       B1|    Source Verified|               229281.0|      Individual|              null|                     null|2023-11-05 05:47:...|\n",
       "|73d24af7276f2528a...|            designer| 10+ years|          RENT|      32000.0|           FL|          327xx|            USA|    C|       C3|           Verified|                26400.0|      Individual|              null|                     null|2023-11-05 05:47:...|\n",
       "|5cecf80abbf3dc890...|Director of Programs|   2 years|          RENT|      63674.0|           IL|          606xx|            USA|    C|       C2|    Source Verified|                46000.0|      Individual|              null|                     null|2023-11-05 05:47:...|\n",
       "|00b2f2b26fee6840c...|              JCA/AM|  < 1 year|          RENT|      50000.0|           CO|          800xx|            USA|    B|       B5|    Source Verified|               119092.0|       Joint App|          100000.0|          Source Verified|2023-11-05 05:47:...|\n",
       "|dc71cbf9e1f6c0377...|Operations Team C...|    1 year|          RENT|      50000.0|           MD|          208xx|            USA|    C|       C1|    Source Verified|               104404.0|      Individual|              null|                     null|2023-11-05 05:47:...|\n",
       "|ac1eda098f3d3e178...|  A/R Representative|   3 years|      MORTGAGE|      35000.0|           NY|          131xx|            USA|    C|       C4|           Verified|               187315.0|      Individual|              null|                     null|2023-11-05 05:47:...|\n",
       "|002f214584c296be3...|          X-ray tech| 10+ years|      MORTGAGE|      84000.0|           CA|          917xx|            USA|    E|       E3|    Source Verified|                57900.0|      Individual|              null|                     null|2023-11-05 05:47:...|\n",
       "|b8f897f020f872475...|    Registered Nurse|   2 years|          RENT|      61000.0|           MD|          212xx|            USA|    D|       D4|    Source Verified|                77413.0|       Joint App|          106760.0|          Source Verified|2023-11-05 05:47:...|\n",
       "|92206e0d388ecc4ea...|         Team Leader| 10+ years|          RENT|      58000.0|           CO|          809xx|            USA|    E|       E4|           Verified|               340536.0|      Individual|              null|                     null|2023-11-05 05:47:...|\n",
       "|18d232648ea46fd27...|Administrative As...|    1 year|          RENT|      31200.0|           VA|          238xx|            USA|    C|       C1|    Source Verified|                21300.0|      Individual|              null|                     null|2023-11-05 05:47:...|\n",
       "|be9c7f8f2a6b3cd80...|Director Governme...|    1 year|          RENT|      91000.0|           MD|          212xx|            USA|    C|       C4|       Not Verified|                21700.0|      Individual|              null|                     null|2023-11-05 05:47:...|\n",
       "+--------------------+--------------------+----------+--------------+-------------+-------------+---------------+---------------+-----+---------+-------------------+-----------------------+----------------+------------------+-------------------------+--------------------+\n",
       "only showing top 20 rows"
      ]
     },
     "execution_count": 97,
     "metadata": {},
     "output_type": "execute_result"
    }
   ],
   "source": [
    "spark.sql(\"select * from customers\")"
   ]
  },
  {
   "cell_type": "markdown",
   "id": "c9dbe066",
   "metadata": {},
   "source": [
    "### Remove the rows where annual income is null"
   ]
  },
  {
   "cell_type": "code",
   "execution_count": 98,
   "id": "213b3ec8",
   "metadata": {},
   "outputs": [
    {
     "data": {
      "text/html": [
       "<table border='1'>\n",
       "<tr><th>count(1)</th></tr>\n",
       "<tr><td>5</td></tr>\n",
       "</table>\n"
      ],
      "text/plain": [
       "+--------+\n",
       "|count(1)|\n",
       "+--------+\n",
       "|       5|\n",
       "+--------+"
      ]
     },
     "execution_count": 98,
     "metadata": {},
     "output_type": "execute_result"
    }
   ],
   "source": [
    "spark.sql(\"select count(*) from customers where annual_income is null\")"
   ]
  },
  {
   "cell_type": "code",
   "execution_count": 99,
   "id": "079d59a2",
   "metadata": {},
   "outputs": [],
   "source": [
    "customers_income_filtered=spark.sql(\"select * from customers where annual_income is not null\")"
   ]
  },
  {
   "cell_type": "code",
   "execution_count": 51,
   "id": "dd0ccf43",
   "metadata": {},
   "outputs": [
    {
     "data": {
      "text/html": [
       "<table border='1'>\n",
       "<tr><th>member_id</th><th>emp_title</th><th>emp_length</th><th>home_ownership</th><th>annual_income</th><th>address_state</th><th>address_zipcode</th><th>address_country</th><th>grade</th><th>sub_grade</th><th>verification_status</th><th>total_high_credit_limit</th><th>application_type</th><th>join_annual_income</th><th>verification_status_joint</th><th>ingest_date</th></tr>\n",
       "<tr><td>9db1b6a319edcceba...</td><td>United Food and C...</td><td>10+ years</td><td>MORTGAGE</td><td>86044.0</td><td>FL</td><td>335xx</td><td>USA</td><td>A</td><td>A3</td><td>Not Verified</td><td>null</td><td>Individual</td><td>null</td><td>null</td><td>2023-11-05 05:11:...</td></tr>\n",
       "<tr><td>96998a6be3dfda426...</td><td>Creighton School ...</td><td>3 years</td><td>MORTGAGE</td><td>45000.0</td><td>AZ</td><td>853xx</td><td>USA</td><td>A</td><td>A4</td><td>Not Verified</td><td>null</td><td>Individual</td><td>null</td><td>null</td><td>2023-11-05 05:11:...</td></tr>\n",
       "<tr><td>aee5dcf9f22fb8668...</td><td>S. C. Johnson &amp; S...</td><td>9 years</td><td>RENT</td><td>69000.0</td><td>WI</td><td>534xx</td><td>USA</td><td>C</td><td>C4</td><td>Not Verified</td><td>null</td><td>Individual</td><td>null</td><td>null</td><td>2023-11-05 05:11:...</td></tr>\n",
       "<tr><td>a4594bad6a582a57e...</td><td>USDA</td><td>7 years</td><td>MORTGAGE</td><td>108000.0</td><td>NY</td><td>130xx</td><td>USA</td><td>C</td><td>C3</td><td>Verified</td><td>null</td><td>Individual</td><td>null</td><td>null</td><td>2023-11-05 05:11:...</td></tr>\n",
       "<tr><td>e2f77c99640cc917d...</td><td>Bargain Beachwear</td><td>2 years</td><td>MORTGAGE</td><td>27000.0</td><td>SC</td><td>295xx</td><td>USA</td><td>B</td><td>B4</td><td>Verified</td><td>null</td><td>Individual</td><td>null</td><td>null</td><td>2023-11-05 05:11:...</td></tr>\n",
       "<tr><td>e92488d4b1495a739...</td><td>CareerBuilder.com</td><td>2 years</td><td>RENT</td><td>75000.0</td><td>IL</td><td>606xx</td><td>USA</td><td>B</td><td>B3</td><td>Verified</td><td>null</td><td>Individual</td><td>null</td><td>null</td><td>2023-11-05 05:11:...</td></tr>\n",
       "<tr><td>40cecd807c162b0c5...</td><td>Nature Publishing...</td><td>4 years</td><td>RENT</td><td>54000.0</td><td>NY</td><td>112xx</td><td>USA</td><td>A</td><td>A4</td><td>Not Verified</td><td>null</td><td>Individual</td><td>null</td><td>null</td><td>2023-11-05 05:11:...</td></tr>\n",
       "<tr><td>cfe8a666052c69bc1...</td><td>US Govt</td><td>10+ years</td><td>MORTGAGE</td><td>130000.0</td><td>IL</td><td>601xx</td><td>USA</td><td>C</td><td>C3</td><td>Verified</td><td>null</td><td>Individual</td><td>null</td><td>null</td><td>2023-11-05 05:11:...</td></tr>\n",
       "<tr><td>b39886a37f766ac60...</td><td>411 Signs &amp; Graphics</td><td>4 years</td><td>RENT</td><td>20000.0</td><td>NJ</td><td>080xx</td><td>USA</td><td>C</td><td>C2</td><td>Not Verified</td><td>null</td><td>Individual</td><td>null</td><td>null</td><td>2023-11-05 05:11:...</td></tr>\n",
       "<tr><td>e33981d8eb35b5388...</td><td>Charter Township ...</td><td>5 years</td><td>MORTGAGE</td><td>68004.0</td><td>MI</td><td>481xx</td><td>USA</td><td>B</td><td>B2</td><td>Source Verified</td><td>null</td><td>Individual</td><td>null</td><td>null</td><td>2023-11-05 05:11:...</td></tr>\n",
       "<tr><td>46cd39a1c861d20a1...</td><td>Dauntless Corpora...</td><td>&lt; 1 year</td><td>MORTGAGE</td><td>103240.0</td><td>VA</td><td>220xx</td><td>USA</td><td>A</td><td>A2</td><td>Not Verified</td><td>null</td><td>Individual</td><td>null</td><td>null</td><td>2023-11-05 05:11:...</td></tr>\n",
       "<tr><td>b17ecc2455678586c...</td><td>Mesquite ISD</td><td>7 years</td><td>RENT</td><td>50000.0</td><td>TX</td><td>752xx</td><td>USA</td><td>B</td><td>B5</td><td>Not Verified</td><td>null</td><td>Individual</td><td>null</td><td>null</td><td>2023-11-05 05:11:...</td></tr>\n",
       "<tr><td>ce10fc132f627dcf2...</td><td>United States Pos...</td><td>10+ years</td><td>RENT</td><td>50000.0</td><td>LA</td><td>710xx</td><td>USA</td><td>C</td><td>C5</td><td>Verified</td><td>null</td><td>Individual</td><td>null</td><td>null</td><td>2023-11-05 05:11:...</td></tr>\n",
       "<tr><td>c5c1258418692a3bf...</td><td>Ojai Valley Inn a...</td><td>3 years</td><td>RENT</td><td>41000.0</td><td>CA</td><td>930xx</td><td>USA</td><td>D</td><td>D5</td><td>Source Verified</td><td>null</td><td>Individual</td><td>null</td><td>null</td><td>2023-11-05 05:11:...</td></tr>\n",
       "<tr><td>94be12a365327546b...</td><td>u of m</td><td>7 years</td><td>MORTGAGE</td><td>69000.0</td><td>MI</td><td>481xx</td><td>USA</td><td>B</td><td>B3</td><td>Not Verified</td><td>null</td><td>Individual</td><td>null</td><td>null</td><td>2023-11-05 05:11:...</td></tr>\n",
       "<tr><td>7fc3684272233fc77...</td><td>Blackboard</td><td>1 year</td><td>RENT</td><td>70000.0</td><td>DC</td><td>200xx</td><td>USA</td><td>A</td><td>A3</td><td>Source Verified</td><td>null</td><td>Individual</td><td>null</td><td>null</td><td>2023-11-05 05:11:...</td></tr>\n",
       "<tr><td>37e6fa3ca6fb27917...</td><td>Scott Marsal</td><td>2 years</td><td>RENT</td><td>33280.0</td><td>OR</td><td>970xx</td><td>USA</td><td>C</td><td>C1</td><td>Not Verified</td><td>null</td><td>Individual</td><td>null</td><td>null</td><td>2023-11-05 05:11:...</td></tr>\n",
       "<tr><td>ea00d3192fec26caf...</td><td>South Central Kan...</td><td>&lt; 1 year</td><td>RENT</td><td>31356.0</td><td>KS</td><td>671xx</td><td>USA</td><td>A</td><td>A2</td><td>Not Verified</td><td>null</td><td>Individual</td><td>null</td><td>null</td><td>2023-11-05 05:11:...</td></tr>\n",
       "<tr><td>06447c904c98f05e3...</td><td>UBS</td><td>10+ years</td><td>RENT</td><td>37152.0</td><td>NJ</td><td>088xx</td><td>USA</td><td>D</td><td>D2</td><td>Verified</td><td>null</td><td>Individual</td><td>null</td><td>null</td><td>2023-11-05 05:11:...</td></tr>\n",
       "<tr><td>9e13aa2afd08a440b...</td><td>AOL</td><td>1 year</td><td>RENT</td><td>93000.0</td><td>NY</td><td>100xx</td><td>USA</td><td>A</td><td>A3</td><td>Not Verified</td><td>null</td><td>Individual</td><td>null</td><td>null</td><td>2023-11-05 05:11:...</td></tr>\n",
       "</table>\n",
       "only showing top 20 rows\n"
      ],
      "text/plain": [
       "+--------------------+--------------------+----------+--------------+-------------+-------------+---------------+---------------+-----+---------+-------------------+-----------------------+----------------+------------------+-------------------------+--------------------+\n",
       "|           member_id|           emp_title|emp_length|home_ownership|annual_income|address_state|address_zipcode|address_country|grade|sub_grade|verification_status|total_high_credit_limit|application_type|join_annual_income|verification_status_joint|         ingest_date|\n",
       "+--------------------+--------------------+----------+--------------+-------------+-------------+---------------+---------------+-----+---------+-------------------+-----------------------+----------------+------------------+-------------------------+--------------------+\n",
       "|4e5bbc8db22c34a97...|      Bulk Packaging|    1 year|          RENT|      34560.0|           CA|          944xx|            USA|    B|       B5|       Not Verified|                39320.0|      Individual|              null|                     null|2023-11-05 05:11:...|\n",
       "|b95fa62b518eeb3ee...|             Manager|   9 years|          RENT|      80000.0|           TX|          752xx|            USA|    B|       B4|    Source Verified|                63577.0|      Individual|              null|                     null|2023-11-05 05:11:...|\n",
       "|c1e3d0085f2658538...|  physical therapist|   3 years|          RENT|      75000.0|           AZ|          852xx|            USA|    A|       A2|       Not Verified|               121932.0|      Individual|              null|                     null|2023-11-05 05:11:...|\n",
       "|0f7dc0a533b4a09d3...|   Assistant Manager| 10+ years|      MORTGAGE|      55000.0|           OK|          731xx|            USA|    D|       D2|       Not Verified|               300775.0|      Individual|              null|                     null|2023-11-05 05:11:...|\n",
       "|75112cf457ca0d592...|Aviation Communic...| 10+ years|      MORTGAGE|      52000.0|           AZ|          850xx|            USA|    C|       C2|    Source Verified|               234372.0|      Individual|              null|                     null|2023-11-05 05:11:...|\n",
       "|a5a5f2d58e43108b8...|            Sergeant| 10+ years|          RENT|      38400.0|           GA|          314xx|            USA|    D|       D2|    Source Verified|                65255.0|      Individual|              null|                     null|2023-11-05 05:11:...|\n",
       "|9a3cb6d0af00561ab...|       Sales manager|   2 years|           OWN|      85000.0|           NJ|          083xx|            USA|    A|       A5|           Verified|                35415.0|      Individual|              null|                     null|2023-11-05 05:11:...|\n",
       "|26cc7e6c185dfdb08...|                null|      null|          RENT|      16404.0|           GA|          306xx|            USA|    C|       C2|           Verified|                 9696.0|      Individual|              null|                     null|2023-11-05 05:11:...|\n",
       "|d92945ec5ca7b6039...|Scheduling Specia...| 10+ years|      MORTGAGE|      59000.0|           VT|          057xx|            USA|    D|       D3|       Not Verified|               235498.0|      Individual|              null|                     null|2023-11-05 05:11:...|\n",
       "|30840cb8465c9d60a...|      Vice President|   2 years|      MORTGAGE|     130000.0|           TX|          782xx|            USA|    B|       B4|           Verified|               524125.0|      Individual|              null|                     null|2023-11-05 05:11:...|\n",
       "|58f864df735e44f4f...|      Laborer formen| 10+ years|          RENT|      75000.0|           CA|          925xx|            USA|    D|       D1|    Source Verified|                75143.0|      Individual|              null|                     null|2023-11-05 05:11:...|\n",
       "|52d76f6f0135de44d...|            Sergeant|   4 years|          RENT|      50000.0|           CO|          809xx|            USA|    E|       E5|    Source Verified|                47319.0|      Individual|              null|                     null|2023-11-05 05:11:...|\n",
       "|d22fde3eff809f79f...|             Realtor| 10+ years|          RENT|      65000.0|           NV|          891xx|            USA|    A|       A5|    Source Verified|                89600.0|      Individual|              null|                     null|2023-11-05 05:11:...|\n",
       "|288ceaf54ef8012b4...|           Professor| 10+ years|      MORTGAGE|     134966.0|           CA|          930xx|            USA|    B|       B1|    Source Verified|               264507.0|      Individual|              null|                     null|2023-11-05 05:11:...|\n",
       "|dffcfa4d30ea1c5c8...|     avp Hospitality|   3 years|      MORTGAGE|     145000.0|           NJ|          083xx|            USA|    B|       B2|           Verified|               666669.0|      Individual|              null|                     null|2023-11-05 05:11:...|\n",
       "|7420b125761f2c0cd...|           Detective| 10+ years|      MORTGAGE|     145000.0|           VA|          221xx|            USA|    B|       B3|           Verified|                32700.0|      Individual|              null|                     null|2023-11-05 05:11:...|\n",
       "|8737e3b78010a4981...| SVP & CFO - Markets|  < 1 year|      MORTGAGE|     385000.0|           CT|          064xx|            USA|    D|       D5|           Verified|               806121.0|      Individual|              null|                     null|2023-11-05 05:11:...|\n",
       "|5252b73fa664508f4...|Senior Accounting...| 10+ years|      MORTGAGE|      48000.0|           NC|          278xx|            USA|    D|       D2|    Source Verified|               146191.0|      Individual|              null|                     null|2023-11-05 05:11:...|\n",
       "|001c36df639a49739...|            detailer|   6 years|      MORTGAGE|      35000.0|           TX|          751xx|            USA|    E|       E2|       Not Verified|                75519.0|      Individual|              null|                     null|2023-11-05 05:11:...|\n",
       "|b5e82ee0fe0c3276f...|                 cfo| 10+ years|      MORTGAGE|      70000.0|           GA|          317xx|            USA|    D|       D1|           Verified|               145629.0|      Individual|              null|                     null|2023-11-05 05:11:...|\n",
       "+--------------------+--------------------+----------+--------------+-------------+-------------+---------------+---------------+-----+---------+-------------------+-----------------------+----------------+------------------+-------------------------+--------------------+\n",
       "only showing top 20 rows"
      ]
     },
     "execution_count": 51,
     "metadata": {},
     "output_type": "execute_result"
    }
   ],
   "source": [
    "customers_income_filtered"
   ]
  },
  {
   "cell_type": "code",
   "execution_count": 100,
   "id": "33495350",
   "metadata": {},
   "outputs": [],
   "source": [
    "customers_income_filtered.createOrReplaceTempView(\"customers\")"
   ]
  },
  {
   "cell_type": "code",
   "execution_count": 53,
   "id": "195b0616",
   "metadata": {},
   "outputs": [
    {
     "data": {
      "text/html": [
       "<table border='1'>\n",
       "<tr><th>member_id</th><th>emp_title</th><th>emp_length</th><th>home_ownership</th><th>annual_income</th><th>address_state</th><th>address_zipcode</th><th>address_country</th><th>grade</th><th>sub_grade</th><th>verification_status</th><th>total_high_credit_limit</th><th>application_type</th><th>join_annual_income</th><th>verification_status_joint</th><th>ingest_date</th></tr>\n",
       "<tr><td>a7a482cf17ff6ce11...</td><td>Colorado Ballet</td><td>5 years</td><td>RENT</td><td>47004.0</td><td>debt_consolidation</td><td>hopefully without...</td><td>USA</td><td>B</td><td>B5</td><td>Not Verified</td><td>null</td><td>0.0</td><td>null</td><td>Individual</td><td>2023-11-05 05:12:...</td></tr>\n",
       "<tr><td>f6b275ff35a9084d9...</td><td>Progressive Insur...</td><td>3 years</td><td>MORTGAGE</td><td>51000.0</td><td>NJ</td><td>089xx</td><td>USA</td><td>D</td><td>D3</td><td>Not Verified</td><td>null</td><td>Individual</td><td>null</td><td>null</td><td>2023-11-05 05:12:...</td></tr>\n",
       "<tr><td>919fc600fad7f4fec...</td><td>Boscov&#x27;s Departme...</td><td>10+ years</td><td>MORTGAGE</td><td>60500.0</td><td>PA</td><td>196xx</td><td>USA</td><td>A</td><td>A5</td><td>Source Verified</td><td>null</td><td>Individual</td><td>null</td><td>null</td><td>2023-11-05 05:12:...</td></tr>\n",
       "<tr><td>8f917d2960999d61f...</td><td>HEALTH CARE SERVI...</td><td>&lt; 1 year</td><td>RENT</td><td>70000.0</td><td>IL</td><td>606xx</td><td>USA</td><td>B</td><td>B3</td><td>Not Verified</td><td>null</td><td>Individual</td><td>null</td><td>null</td><td>2023-11-05 05:12:...</td></tr>\n",
       "<tr><td>709a15d4c3ea54a82...</td><td>TM Floyd &amp; Company</td><td>1 year</td><td>MORTGAGE</td><td>108000.0</td><td>FL</td><td>327xx</td><td>USA</td><td>A</td><td>A3</td><td>Verified</td><td>null</td><td>Individual</td><td>null</td><td>null</td><td>2023-11-05 05:12:...</td></tr>\n",
       "<tr><td>93f70919c60cda11f...</td><td>Richfield Public ...</td><td>6 years</td><td>RENT</td><td>54924.0</td><td>MN</td><td>554xx</td><td>USA</td><td>B</td><td>B1</td><td>Not Verified</td><td>null</td><td>Individual</td><td>null</td><td>null</td><td>2023-11-05 05:12:...</td></tr>\n",
       "<tr><td>3e30ba8f0df169108...</td><td>null</td><td>&lt; 1 year</td><td>OTHER</td><td>35000.0</td><td>CA</td><td>917xx</td><td>USA</td><td>B</td><td>B3</td><td>Verified</td><td>null</td><td>Individual</td><td>null</td><td>null</td><td>2023-11-05 05:12:...</td></tr>\n",
       "<tr><td>2660d62ce57ee47fe...</td><td>Oak Patch Gifts</td><td>10+ years</td><td>MORTGAGE</td><td>40000.0</td><td>OK</td><td>731xx</td><td>USA</td><td>B</td><td>B5</td><td>Not Verified</td><td>null</td><td>Individual</td><td>null</td><td>null</td><td>2023-11-05 05:12:...</td></tr>\n",
       "<tr><td>eedad14031a4d9d77...</td><td>eScreen, Inc.</td><td>2 years</td><td>RENT</td><td>42000.0</td><td>MI</td><td>482xx</td><td>USA</td><td>C</td><td>C3</td><td>Not Verified</td><td>null</td><td>Individual</td><td>null</td><td>null</td><td>2023-11-05 05:12:...</td></tr>\n",
       "<tr><td>6d3b250959883cce5...</td><td>Service Managemen...</td><td>3 years</td><td>MORTGAGE</td><td>69000.0</td><td>MO</td><td>640xx</td><td>USA</td><td>D</td><td>D2</td><td>Not Verified</td><td>null</td><td>Individual</td><td>null</td><td>null</td><td>2023-11-05 05:12:...</td></tr>\n",
       "<tr><td>382c066a8cdbdf713...</td><td>Caminol Management</td><td>2 years</td><td>RENT</td><td>41000.0</td><td>CA</td><td>956xx</td><td>USA</td><td>C</td><td>C5</td><td>Not Verified</td><td>null</td><td>Individual</td><td>null</td><td>null</td><td>2023-11-05 05:12:...</td></tr>\n",
       "<tr><td>6fb822da46394f9d5...</td><td>HSBC</td><td>3 years</td><td>MORTGAGE</td><td>38213.0</td><td>MN</td><td>561xx</td><td>USA</td><td>C</td><td>C4</td><td>Not Verified</td><td>null</td><td>Individual</td><td>null</td><td>null</td><td>2023-11-05 05:12:...</td></tr>\n",
       "<tr><td>13bdd2147bf1d57b7...</td><td>AMBITECH</td><td>6 years</td><td>RENT</td><td>80000.0</td><td>IL</td><td>606xx</td><td>USA</td><td>C</td><td>C3</td><td>Source Verified</td><td>null</td><td>Individual</td><td>null</td><td>null</td><td>2023-11-05 05:12:...</td></tr>\n",
       "<tr><td>de15bf7b4ea443846...</td><td>Peoples Energy</td><td>8 years</td><td>MORTGAGE</td><td>39600.0</td><td>OH</td><td>431xx</td><td>USA</td><td>A</td><td>A4</td><td>Source Verified</td><td>null</td><td>Individual</td><td>null</td><td>null</td><td>2023-11-05 05:12:...</td></tr>\n",
       "<tr><td>dc65a14b969ca0183...</td><td>Bose Corporation</td><td>1 year</td><td>RENT</td><td>87805.0</td><td>MA</td><td>024xx</td><td>USA</td><td>E</td><td>E3</td><td>Verified</td><td>null</td><td>Individual</td><td>null</td><td>null</td><td>2023-11-05 05:12:...</td></tr>\n",
       "<tr><td>5c0ea7ade3d4df030...</td><td>Self Employed</td><td>7 years</td><td>RENT</td><td>75000.0</td><td>AZ</td><td>853xx</td><td>USA</td><td>C</td><td>C2</td><td>Verified</td><td>null</td><td>Individual</td><td>null</td><td>null</td><td>2023-11-05 05:12:...</td></tr>\n",
       "<tr><td>78b3842f73382c092...</td><td>Special School Di...</td><td>5 years</td><td>MORTGAGE</td><td>36000.0</td><td>MO</td><td>631xx</td><td>USA</td><td>E</td><td>E2</td><td>Verified</td><td>null</td><td>Individual</td><td>null</td><td>null</td><td>2023-11-05 05:12:...</td></tr>\n",
       "<tr><td>95b8e849b0a8d5b79...</td><td>Eyeblaster Inc</td><td>3 years</td><td>RENT</td><td>90000.0</td><td>NJ</td><td>073xx</td><td>USA</td><td>C</td><td>C3</td><td>Verified</td><td>null</td><td>Individual</td><td>null</td><td>null</td><td>2023-11-05 05:12:...</td></tr>\n",
       "<tr><td>9a302932e46d368c6...</td><td>Reboot Networks</td><td>4 years</td><td>OTHER</td><td>75000.0</td><td>MA</td><td>021xx</td><td>USA</td><td>D</td><td>D4</td><td>Source Verified</td><td>null</td><td>Individual</td><td>null</td><td>null</td><td>2023-11-05 05:12:...</td></tr>\n",
       "<tr><td>e56178d79f6304276...</td><td>Aquatic Sales Sol...</td><td>1 year</td><td>MORTGAGE</td><td>53000.0</td><td>MN</td><td>553xx</td><td>USA</td><td>C</td><td>C3</td><td>Not Verified</td><td>null</td><td>Individual</td><td>null</td><td>null</td><td>2023-11-05 05:12:...</td></tr>\n",
       "</table>\n",
       "only showing top 20 rows\n"
      ],
      "text/plain": [
       "+--------------------+--------------------+----------+--------------+-------------+-------------+---------------+---------------+-----+---------+-------------------+-----------------------+----------------+------------------+-------------------------+--------------------+\n",
       "|           member_id|           emp_title|emp_length|home_ownership|annual_income|address_state|address_zipcode|address_country|grade|sub_grade|verification_status|total_high_credit_limit|application_type|join_annual_income|verification_status_joint|         ingest_date|\n",
       "+--------------------+--------------------+----------+--------------+-------------+-------------+---------------+---------------+-----+---------+-------------------+-----------------------+----------------+------------------+-------------------------+--------------------+\n",
       "|5a5704c3312b93895...|                 TDM|    1 year|          RENT|      45000.0|           NY|          103xx|            USA|    E|       E3|    Source Verified|                55482.0|      Individual|              null|                     null|2023-11-05 05:12:...|\n",
       "|568699aa22f7ccbdb...|            Director|   5 years|          RENT|      60000.0|           LA|          701xx|            USA|    A|       A3|       Not Verified|                29900.0|      Individual|              null|                     null|2023-11-05 05:12:...|\n",
       "|c8d4735789484a90d...|Treatment Coordin...|    1 year|           OWN|      45000.0|           WV|          254xx|            USA|    C|       C2|       Not Verified|               131207.0|      Individual|              null|                     null|2023-11-05 05:12:...|\n",
       "|476dd6442d5007e66...|    Security Officer|   5 years|          RENT|      15000.0|           GA|          300xx|            USA|    E|       E3|           Verified|                21387.0|      Individual|              null|                     null|2023-11-05 05:12:...|\n",
       "|7fa61fec10c15b0a9...|              Server|   3 years|          RENT|      45000.0|           GA|          305xx|            USA|    B|       B4|    Source Verified|                42830.0|      Individual|              null|                     null|2023-11-05 05:12:...|\n",
       "|925b9f09487775c29...|        receptionist| 10+ years|          RENT|      30000.0|           NH|          030xx|            USA|    C|       C4|           Verified|                47738.0|      Individual|              null|                     null|2023-11-05 05:12:...|\n",
       "|e51540be99f700397...|          supervisor| 10+ years|          RENT|      70000.0|           FL|          333xx|            USA|    C|       C1|       Not Verified|                53908.0|      Individual|              null|                     null|2023-11-05 05:12:...|\n",
       "|e334337d86186b564...|Licensing Coordin...|   6 years|      MORTGAGE|      79000.0|           NC|          286xx|            USA|    B|       B3|    Source Verified|                92200.0|      Individual|              null|                     null|2023-11-05 05:12:...|\n",
       "|98966b30aaaeace1e...|Business Account ...|  < 1 year|      MORTGAGE|      80000.0|           MN|          553xx|            USA|    D|       D4|       Not Verified|               240838.0|      Individual|              null|                     null|2023-11-05 05:12:...|\n",
       "|066043ccf57945230...|       Field Manager|   2 years|          RENT|      42000.0|           PA|          152xx|            USA|    C|       C1|    Source Verified|                54656.0|      Individual|              null|                     null|2023-11-05 05:12:...|\n",
       "|5ab7bd7c63bdef742...|    Customer Service|  < 1 year|          RENT|      29000.0|           MO|          633xx|            USA|    B|       B4|       Not Verified|               104055.0|      Individual|              null|                     null|2023-11-05 05:12:...|\n",
       "|3c6263a5e9c4be463...|        Loan Officer| 10+ years|      MORTGAGE|     234635.0|           TX|          797xx|            USA|    B|       B2|           Verified|               594432.0|      Individual|              null|                     null|2023-11-05 05:12:...|\n",
       "|52f1e04b62c899a48...|                null|      null|      MORTGAGE|      48000.0|           FL|          327xx|            USA|    B|       B4|           Verified|                42300.0|      Individual|              null|                     null|2023-11-05 05:12:...|\n",
       "|af7d4b3fdb93151a5...|   Outreach Director|    1 year|          RENT|      65000.0|           MI|          481xx|            USA|    E|       E1|    Source Verified|                71994.0|      Individual|              null|                     null|2023-11-05 05:12:...|\n",
       "|c672f64e270614d8b...|                null|      null|      MORTGAGE|      66000.0|           IN|          461xx|            USA|    D|       D1|    Source Verified|               225592.0|      Individual|              null|                     null|2023-11-05 05:12:...|\n",
       "|76b3cf805e480b74b...|           deck-hand|   6 years|          RENT|      40000.0|           MS|          387xx|            USA|    D|       D3|    Source Verified|                47655.0|      Individual|              null|                     null|2023-11-05 05:12:...|\n",
       "|cbc9426b9ad42b95a...|               Nurse| 10+ years|      MORTGAGE|      62000.0|           NC|          271xx|            USA|    C|       C4|    Source Verified|               184940.0|      Individual|              null|                     null|2023-11-05 05:12:...|\n",
       "|3832d1683bdeef701...|          Technician|   8 years|      MORTGAGE|      85000.0|           TX|          773xx|            USA|    D|       D4|    Source Verified|               288447.0|      Individual|              null|                     null|2023-11-05 05:12:...|\n",
       "|719f9a154f320dab1...|             Manager| 10+ years|      MORTGAGE|      38200.0|           GA|          307xx|            USA|    B|       B5|       Not Verified|               101549.0|      Individual|              null|                     null|2023-11-05 05:12:...|\n",
       "|baf2f5482e9ef2404...|            Director| 10+ years|      MORTGAGE|     195000.0|           NJ|          077xx|            USA|    B|       B4|           Verified|               577919.0|      Individual|              null|                     null|2023-11-05 05:12:...|\n",
       "+--------------------+--------------------+----------+--------------+-------------+-------------+---------------+---------------+-----+---------+-------------------+-----------------------+----------------+------------------+-------------------------+--------------------+\n",
       "only showing top 20 rows"
      ]
     },
     "execution_count": 53,
     "metadata": {},
     "output_type": "execute_result"
    }
   ],
   "source": [
    "spark.sql(\"select * from customers\")"
   ]
  },
  {
   "cell_type": "markdown",
   "id": "a3e66e6a",
   "metadata": {},
   "source": [
    "### Checking emp_length column and removing the characters and keeping only digits"
   ]
  },
  {
   "cell_type": "code",
   "execution_count": 101,
   "id": "5e096531",
   "metadata": {},
   "outputs": [
    {
     "name": "stdout",
     "output_type": "stream",
     "text": [
      "+----------+\n",
      "|emp_length|\n",
      "+----------+\n",
      "|   9 years|\n",
      "|   5 years|\n",
      "|      null|\n",
      "|    1 year|\n",
      "|   2 years|\n",
      "|   7 years|\n",
      "|   8 years|\n",
      "|   4 years|\n",
      "|   6 years|\n",
      "|   3 years|\n",
      "| 10+ years|\n",
      "|  < 1 year|\n",
      "+----------+\n",
      "\n"
     ]
    }
   ],
   "source": [
    "spark.sql(\"select distinct(emp_length) from customers\").show()"
   ]
  },
  {
   "cell_type": "code",
   "execution_count": 102,
   "id": "2ed6ab74",
   "metadata": {},
   "outputs": [],
   "source": [
    "from pyspark.sql.functions import regexp_replace, col "
   ]
  },
  {
   "cell_type": "code",
   "execution_count": 103,
   "id": "a894a4f5",
   "metadata": {},
   "outputs": [],
   "source": [
    "customers_emplength_cleanded=customers_income_filtered.withColumn(\"emp_length\", regexp_replace(col(\"emp_length\"),\"(\\D)\",\"\"))"
   ]
  },
  {
   "cell_type": "code",
   "execution_count": 60,
   "id": "f4afcf83",
   "metadata": {},
   "outputs": [
    {
     "data": {
      "text/html": [
       "<table border='1'>\n",
       "<tr><th>member_id</th><th>emp_title</th><th>emp_length</th><th>home_ownership</th><th>annual_income</th><th>address_state</th><th>address_zipcode</th><th>address_country</th><th>grade</th><th>sub_grade</th><th>verification_status</th><th>total_high_credit_limit</th><th>application_type</th><th>join_annual_income</th><th>verification_status_joint</th><th>ingest_date</th></tr>\n",
       "<tr><td>bcead26174c709d34...</td><td>MARKETING</td><td>3</td><td>MORTGAGE</td><td>68000.0</td><td>CA</td><td>944xx</td><td>USA</td><td>A</td><td>A3</td><td>Not Verified</td><td>136601.0</td><td>Individual</td><td>null</td><td>null</td><td>2023-11-05 05:24:...</td></tr>\n",
       "<tr><td>abc1d7e82ebc6b4b7...</td><td>Analyst</td><td>10</td><td>MORTGAGE</td><td>63000.0</td><td>CA</td><td>934xx</td><td>USA</td><td>D</td><td>D2</td><td>Verified</td><td>84719.0</td><td>Individual</td><td>null</td><td>null</td><td>2023-11-05 05:24:...</td></tr>\n",
       "<tr><td>89eab9cb0a978638c...</td><td>Operations Manager</td><td>6</td><td>MORTGAGE</td><td>38000.0</td><td>FL</td><td>324xx</td><td>USA</td><td>B</td><td>B5</td><td>Not Verified</td><td>95152.0</td><td>Individual</td><td>null</td><td>null</td><td>2023-11-05 05:24:...</td></tr>\n",
       "<tr><td>be1bcb54c57893b5f...</td><td>Sales Manager</td><td>3</td><td>RENT</td><td>78000.0</td><td>NJ</td><td>074xx</td><td>USA</td><td>C</td><td>C1</td><td>Verified</td><td>62500.0</td><td>Individual</td><td>null</td><td>null</td><td>2023-11-05 05:24:...</td></tr>\n",
       "<tr><td>0c93eb5d799e16770...</td><td>supervisor</td><td>10</td><td>MORTGAGE</td><td>64000.0</td><td>MI</td><td>481xx</td><td>USA</td><td>C</td><td>C4</td><td>Verified</td><td>115952.0</td><td>Individual</td><td>null</td><td>null</td><td>2023-11-05 05:24:...</td></tr>\n",
       "<tr><td>5e884d808cb2a7e16...</td><td>Front Office Support</td><td>3</td><td>OWN</td><td>32000.0</td><td>OR</td><td>972xx</td><td>USA</td><td>D</td><td>D1</td><td>Source Verified</td><td>20170.0</td><td>Individual</td><td>null</td><td>null</td><td>2023-11-05 05:24:...</td></tr>\n",
       "<tr><td>4f36604b9c7b860a7...</td><td>Installation Depl...</td><td>2</td><td>RENT</td><td>45000.0</td><td>OK</td><td>735xx</td><td>USA</td><td>D</td><td>D3</td><td>Source Verified</td><td>82113.0</td><td>Individual</td><td>null</td><td>null</td><td>2023-11-05 05:24:...</td></tr>\n",
       "<tr><td>213ec4504d57f0e88...</td><td>Machine Operator</td><td>10</td><td>OWN</td><td>40000.0</td><td>SC</td><td>294xx</td><td>USA</td><td>A</td><td>A4</td><td>Not Verified</td><td>111407.0</td><td>Individual</td><td>null</td><td>null</td><td>2023-11-05 05:24:...</td></tr>\n",
       "<tr><td>939ab1fada1a36310...</td><td>Paramedic</td><td>10</td><td>MORTGAGE</td><td>58545.0</td><td>DE</td><td>199xx</td><td>USA</td><td>C</td><td>C3</td><td>Not Verified</td><td>419539.0</td><td>Individual</td><td>null</td><td>null</td><td>2023-11-05 05:24:...</td></tr>\n",
       "<tr><td>f315159247c71db70...</td><td>Executive Director</td><td>10</td><td>RENT</td><td>52000.0</td><td>CA</td><td>957xx</td><td>USA</td><td>B</td><td>B2</td><td>Verified</td><td>27211.0</td><td>Individual</td><td>null</td><td>null</td><td>2023-11-05 05:24:...</td></tr>\n",
       "<tr><td>6002f82f3aaeb03a0...</td><td>LPN</td><td>3</td><td>MORTGAGE</td><td>50000.0</td><td>GA</td><td>301xx</td><td>USA</td><td>E</td><td>E5</td><td>Source Verified</td><td>176654.0</td><td>Individual</td><td>null</td><td>null</td><td>2023-11-05 05:24:...</td></tr>\n",
       "<tr><td>da3963ec1e54f7c62...</td><td>project manager</td><td>3</td><td>OWN</td><td>65000.0</td><td>NY</td><td>117xx</td><td>USA</td><td>C</td><td>C1</td><td>Not Verified</td><td>56126.0</td><td>Individual</td><td>null</td><td>null</td><td>2023-11-05 05:24:...</td></tr>\n",
       "<tr><td>9d31155659047bd34...</td><td>Economic Assistant</td><td>2</td><td>RENT</td><td>24000.0</td><td>DC</td><td>200xx</td><td>USA</td><td>C</td><td>C1</td><td>Not Verified</td><td>172450.0</td><td>Individual</td><td>null</td><td>null</td><td>2023-11-05 05:24:...</td></tr>\n",
       "<tr><td>c5492ed25b4381292...</td><td>Teacher</td><td>10</td><td>MORTGAGE</td><td>58376.0</td><td>PA</td><td>183xx</td><td>USA</td><td>B</td><td>B1</td><td>Source Verified</td><td>164743.0</td><td>Individual</td><td>null</td><td>null</td><td>2023-11-05 05:24:...</td></tr>\n",
       "<tr><td>8cfc9da58bb5ba4f9...</td><td>Clinical Care Nav...</td><td>3</td><td>MORTGAGE</td><td>48000.0</td><td>PA</td><td>156xx</td><td>USA</td><td>C</td><td>C2</td><td>Source Verified</td><td>217143.0</td><td>Individual</td><td>null</td><td>null</td><td>2023-11-05 05:24:...</td></tr>\n",
       "<tr><td>ce463a9c9eafd8a06...</td><td>Technical Operati...</td><td>10</td><td>MORTGAGE</td><td>83000.0</td><td>NJ</td><td>076xx</td><td>USA</td><td>C</td><td>C5</td><td>Verified</td><td>356579.0</td><td>Individual</td><td>null</td><td>null</td><td>2023-11-05 05:24:...</td></tr>\n",
       "<tr><td>c81422c99ae1ceb04...</td><td>Management</td><td>5</td><td>MORTGAGE</td><td>65000.0</td><td>IL</td><td>600xx</td><td>USA</td><td>C</td><td>C4</td><td>Verified</td><td>266932.0</td><td>Individual</td><td>null</td><td>null</td><td>2023-11-05 05:24:...</td></tr>\n",
       "<tr><td>cdc9a642c790a02f9...</td><td>BRANCH MANAGER</td><td>4</td><td>RENT</td><td>62000.0</td><td>MI</td><td>495xx</td><td>USA</td><td>A</td><td>A5</td><td>Source Verified</td><td>75907.0</td><td>Individual</td><td>null</td><td>null</td><td>2023-11-05 05:24:...</td></tr>\n",
       "<tr><td>10ba3cc61d55f4a7e...</td><td>Client Service Re...</td><td>3</td><td>RENT</td><td>36878.0</td><td>FL</td><td>336xx</td><td>USA</td><td>C</td><td>C3</td><td>Source Verified</td><td>87244.0</td><td>Individual</td><td>null</td><td>null</td><td>2023-11-05 05:24:...</td></tr>\n",
       "<tr><td>d834ed554e9534304...</td><td>Sales &amp; Service</td><td>10</td><td>MORTGAGE</td><td>71000.0</td><td>FL</td><td>330xx</td><td>USA</td><td>C</td><td>C2</td><td>Source Verified</td><td>356014.0</td><td>Individual</td><td>null</td><td>null</td><td>2023-11-05 05:24:...</td></tr>\n",
       "</table>\n",
       "only showing top 20 rows\n"
      ],
      "text/plain": [
       "+--------------------+--------------------+----------+--------------+-------------+-------------+---------------+---------------+-----+---------+-------------------+-----------------------+----------------+------------------+-------------------------+--------------------+\n",
       "|           member_id|           emp_title|emp_length|home_ownership|annual_income|address_state|address_zipcode|address_country|grade|sub_grade|verification_status|total_high_credit_limit|application_type|join_annual_income|verification_status_joint|         ingest_date|\n",
       "+--------------------+--------------------+----------+--------------+-------------+-------------+---------------+---------------+-----+---------+-------------------+-----------------------+----------------+------------------+-------------------------+--------------------+\n",
       "|28d738c61a0da2758...|                null|      null|           OWN|     100000.0|           MN|          550xx|            USA|    A|       A4|    Source Verified|               361966.0|      Individual|              null|                     null|2023-11-05 05:24:...|\n",
       "|dfabcc0fa16c13621...|               Owner|         5|          RENT|      55000.0|           MI|          482xx|            USA|    A|       A4|    Source Verified|                27333.0|      Individual|              null|                     null|2023-11-05 05:24:...|\n",
       "|37010a0f853691a13...|               OWNER|         4|      MORTGAGE|     200000.0|           NV|          891xx|            USA|    B|       B3|    Source Verified|               282478.0|      Individual|              null|                     null|2023-11-05 05:24:...|\n",
       "|bb33b613e9fe7f4b6...|          Compliance|        10|      MORTGAGE|      58000.0|           TX|          773xx|            USA|    C|       C2|       Not Verified|               194132.0|      Individual|              null|                     null|2023-11-05 05:24:...|\n",
       "|df6c716578bb884d2...|Certified nurse a...|         3|          RENT|      40000.0|           VA|          239xx|            USA|    C|       C2|    Source Verified|                28300.0|      Individual|              null|                     null|2023-11-05 05:24:...|\n",
       "|9e41ab71c985ea9b4...|        freight team|         9|      MORTGAGE|      47000.0|           PA|          180xx|            USA|    C|       C3|       Not Verified|               150767.0|      Individual|              null|                     null|2023-11-05 05:24:...|\n",
       "|2f3e4d3ba40f1fe28...|      Police officer|         6|           OWN|      75000.0|           MD|          206xx|            USA|    C|       C4|       Not Verified|               327073.0|      Individual|              null|                     null|2023-11-05 05:24:...|\n",
       "|104d66626f4bca289...|                null|      null|      MORTGAGE|      55852.0|           IL|          601xx|            USA|    B|       B2|           Verified|                65126.0|      Individual|              null|                     null|2023-11-05 05:24:...|\n",
       "|6947bf5aef8db2471...|             Teacher|        10|           OWN|      85000.0|           CA|          925xx|            USA|    A|       A5|    Source Verified|                90277.0|      Individual|              null|                     null|2023-11-05 05:24:...|\n",
       "|31dc4be3ee4d0b615...|   Software Engineer|         3|      MORTGAGE|     155000.0|           MD|          217xx|            USA|    A|       A1|    Source Verified|               526393.0|      Individual|              null|                     null|2023-11-05 05:24:...|\n",
       "|a2ef6917797a92a03...|             Manager|        10|           OWN|      54000.0|           PA|          170xx|            USA|    C|       C3|    Source Verified|                27974.0|      Individual|              null|                     null|2023-11-05 05:24:...|\n",
       "|ef3ac503be2dff444...|     Sr. QMS Analyst|        10|      MORTGAGE|      60000.0|           MI|          480xx|            USA|    D|       D1|    Source Verified|               159713.0|      Individual|              null|                     null|2023-11-05 05:24:...|\n",
       "|edc8c0abebdd71d6d...|Senior Engineerin...|        10|      MORTGAGE|     112000.0|           OH|          431xx|            USA|    A|       A2|    Source Verified|               424050.0|      Individual|              null|                     null|2023-11-05 05:24:...|\n",
       "|31442a14d50007ffe...|             Foreman|        10|          RENT|      65000.0|           WI|          537xx|            USA|    D|       D4|           Verified|                21200.0|      Individual|              null|                     null|2023-11-05 05:24:...|\n",
       "|5a0565bbfa405c82b...|Transportation Se...|         3|          RENT|      40000.0|           AZ|          850xx|            USA|    D|       D4|       Not Verified|               101007.0|      Individual|              null|                     null|2023-11-05 05:24:...|\n",
       "|5d34c3293100fdb46...|    Registered Nurse|         4|          RENT|     110000.0|           CA|          956xx|            USA|    B|       B3|    Source Verified|               121732.0|      Individual|              null|                     null|2023-11-05 05:24:...|\n",
       "|1e88ee3ba23562e4a...|              driver|         8|      MORTGAGE|      58500.0|           OH|          440xx|            USA|    D|       D1|    Source Verified|               231066.0|      Individual|              null|                     null|2023-11-05 05:24:...|\n",
       "|5c8316afb28f30b02...|      Superintendent|         5|      MORTGAGE|      91000.0|           TX|          760xx|            USA|    C|       C1|       Not Verified|               236779.0|      Individual|              null|                     null|2023-11-05 05:24:...|\n",
       "|61e494879c67e9a15...|               Owner|         1|          RENT|      80000.0|           CA|          917xx|            USA|    E|       E3|    Source Verified|                31700.0|      Individual|              null|                     null|2023-11-05 05:24:...|\n",
       "|222417a0a73767cc9...| Sr. Project Manager|         1|          RENT|     135000.0|           CT|          060xx|            USA|    A|       A4|       Not Verified|               147204.0|      Individual|              null|                     null|2023-11-05 05:24:...|\n",
       "+--------------------+--------------------+----------+--------------+-------------+-------------+---------------+---------------+-----+---------+-------------------+-----------------------+----------------+------------------+-------------------------+--------------------+\n",
       "only showing top 20 rows"
      ]
     },
     "execution_count": 60,
     "metadata": {},
     "output_type": "execute_result"
    }
   ],
   "source": [
    "customers_emplength_cleanded"
   ]
  },
  {
   "cell_type": "code",
   "execution_count": 104,
   "id": "78d03d34",
   "metadata": {},
   "outputs": [],
   "source": [
    "customers_emplength_casted= customers_emplength_cleanded.withColumn(\"emp_length\",customers_emplength_cleanded.emp_length.cast('int'))"
   ]
  },
  {
   "cell_type": "code",
   "execution_count": 62,
   "id": "f0e72f1c",
   "metadata": {},
   "outputs": [
    {
     "name": "stdout",
     "output_type": "stream",
     "text": [
      "root\n",
      " |-- member_id: string (nullable = true)\n",
      " |-- emp_title: string (nullable = true)\n",
      " |-- emp_length: integer (nullable = true)\n",
      " |-- home_ownership: string (nullable = true)\n",
      " |-- annual_income: float (nullable = true)\n",
      " |-- address_state: string (nullable = true)\n",
      " |-- address_zipcode: string (nullable = true)\n",
      " |-- address_country: string (nullable = true)\n",
      " |-- grade: string (nullable = true)\n",
      " |-- sub_grade: string (nullable = true)\n",
      " |-- verification_status: string (nullable = true)\n",
      " |-- total_high_credit_limit: float (nullable = true)\n",
      " |-- application_type: string (nullable = true)\n",
      " |-- join_annual_income: float (nullable = true)\n",
      " |-- verification_status_joint: string (nullable = true)\n",
      " |-- ingest_date: timestamp (nullable = false)\n",
      "\n"
     ]
    }
   ],
   "source": [
    "customers_emplength_casted.printSchema()"
   ]
  },
  {
   "cell_type": "code",
   "execution_count": 105,
   "id": "179cb41c",
   "metadata": {},
   "outputs": [
    {
     "data": {
      "text/plain": [
       "146903"
      ]
     },
     "execution_count": 105,
     "metadata": {},
     "output_type": "execute_result"
    }
   ],
   "source": [
    "customers_emplength_casted.filter(\"emp_length is null\").count()"
   ]
  },
  {
   "cell_type": "markdown",
   "id": "eb7705ac",
   "metadata": {},
   "source": [
    "### Replace the nulls with avg of the emp_length column"
   ]
  },
  {
   "cell_type": "code",
   "execution_count": 106,
   "id": "ccbe77dd",
   "metadata": {},
   "outputs": [],
   "source": [
    "customers_emplength_casted.createOrReplaceTempView(\"customers\")"
   ]
  },
  {
   "cell_type": "code",
   "execution_count": 67,
   "id": "1d3f273c",
   "metadata": {},
   "outputs": [
    {
     "data": {
      "text/html": [
       "<table border='1'>\n",
       "<tr><th>member_id</th><th>emp_title</th><th>emp_length</th><th>home_ownership</th><th>annual_income</th><th>address_state</th><th>address_zipcode</th><th>address_country</th><th>grade</th><th>sub_grade</th><th>verification_status</th><th>total_high_credit_limit</th><th>application_type</th><th>join_annual_income</th><th>verification_status_joint</th><th>ingest_date</th></tr>\n",
       "<tr><td>809731e41fc6493e4...</td><td>Investment Bankin...</td><td>1</td><td>RENT</td><td>120000.0</td><td>NJ</td><td>073xx</td><td>USA</td><td>C</td><td>C1</td><td>Verified</td><td>82602.0</td><td>Individual</td><td>null</td><td>null</td><td>2023-11-05 05:32:...</td></tr>\n",
       "<tr><td>9c9fd069b759d39e0...</td><td>Medical resident</td><td>3</td><td>RENT</td><td>60000.0</td><td>OH</td><td>452xx</td><td>USA</td><td>F</td><td>F4</td><td>Source Verified</td><td>81634.0</td><td>Individual</td><td>null</td><td>null</td><td>2023-11-05 05:32:...</td></tr>\n",
       "<tr><td>6be1b2015ea4ea3b2...</td><td>LPN</td><td>2</td><td>RENT</td><td>40000.0</td><td>CT</td><td>067xx</td><td>USA</td><td>D</td><td>D4</td><td>Source Verified</td><td>40261.0</td><td>Individual</td><td>null</td><td>null</td><td>2023-11-05 05:32:...</td></tr>\n",
       "<tr><td>6a2c42af661cdfc85...</td><td>Supervisor</td><td>10</td><td>MORTGAGE</td><td>70000.0</td><td>OH</td><td>450xx</td><td>USA</td><td>B</td><td>B2</td><td>Not Verified</td><td>193674.0</td><td>Individual</td><td>null</td><td>null</td><td>2023-11-05 05:32:...</td></tr>\n",
       "<tr><td>f89c4d5afb7b3bf3c...</td><td>supervisor</td><td>10</td><td>RENT</td><td>90000.0</td><td>UT</td><td>841xx</td><td>USA</td><td>C</td><td>C1</td><td>Source Verified</td><td>54848.0</td><td>Individual</td><td>null</td><td>null</td><td>2023-11-05 05:32:...</td></tr>\n",
       "<tr><td>be4b34601923b54d0...</td><td>Teacher</td><td>10</td><td>RENT</td><td>75000.0</td><td>CA</td><td>902xx</td><td>USA</td><td>E</td><td>E4</td><td>Verified</td><td>114769.0</td><td>Individual</td><td>null</td><td>null</td><td>2023-11-05 05:32:...</td></tr>\n",
       "<tr><td>85779692f6fd492f4...</td><td>Sales</td><td>1</td><td>RENT</td><td>80000.0</td><td>NC</td><td>276xx</td><td>USA</td><td>E</td><td>E3</td><td>Source Verified</td><td>35600.0</td><td>Individual</td><td>null</td><td>null</td><td>2023-11-05 05:32:...</td></tr>\n",
       "<tr><td>dc1dde480fa48b517...</td><td>CSR</td><td>5</td><td>OWN</td><td>35000.0</td><td>MN</td><td>557xx</td><td>USA</td><td>E</td><td>E1</td><td>Not Verified</td><td>39743.0</td><td>Individual</td><td>null</td><td>null</td><td>2023-11-05 05:32:...</td></tr>\n",
       "<tr><td>ed407599c1517a4bf...</td><td>Senior Pastor</td><td>10</td><td>MORTGAGE</td><td>153000.0</td><td>AR</td><td>725xx</td><td>USA</td><td>D</td><td>D2</td><td>Source Verified</td><td>673302.0</td><td>Individual</td><td>null</td><td>null</td><td>2023-11-05 05:32:...</td></tr>\n",
       "<tr><td>0990f8e25ffe374a8...</td><td>preowned sales</td><td>1</td><td>MORTGAGE</td><td>65000.0</td><td>LA</td><td>701xx</td><td>USA</td><td>A</td><td>A2</td><td>Source Verified</td><td>319241.0</td><td>Individual</td><td>null</td><td>null</td><td>2023-11-05 05:32:...</td></tr>\n",
       "<tr><td>e2510b3588cc892a6...</td><td>IT Technical Analyst</td><td>2</td><td>MORTGAGE</td><td>65000.0</td><td>MN</td><td>554xx</td><td>USA</td><td>C</td><td>C5</td><td>Source Verified</td><td>84688.0</td><td>Individual</td><td>null</td><td>null</td><td>2023-11-05 05:32:...</td></tr>\n",
       "<tr><td>1cd468ec391f72698...</td><td>Business Analyst</td><td>3</td><td>OWN</td><td>85000.0</td><td>IL</td><td>600xx</td><td>USA</td><td>C</td><td>C3</td><td>Source Verified</td><td>85468.0</td><td>Individual</td><td>null</td><td>null</td><td>2023-11-05 05:32:...</td></tr>\n",
       "<tr><td>6d7c6ebc998962ca6...</td><td>Courtroom Deputy</td><td>10</td><td>OWN</td><td>89000.0</td><td>CA</td><td>949xx</td><td>USA</td><td>B</td><td>B3</td><td>Source Verified</td><td>29500.0</td><td>Individual</td><td>null</td><td>null</td><td>2023-11-05 05:32:...</td></tr>\n",
       "<tr><td>5cf5f486461f86714...</td><td>null</td><td>null</td><td>MORTGAGE</td><td>52440.0</td><td>NC</td><td>278xx</td><td>USA</td><td>D</td><td>D2</td><td>Verified</td><td>17900.0</td><td>Individual</td><td>null</td><td>null</td><td>2023-11-05 05:32:...</td></tr>\n",
       "<tr><td>4f64639f381a9f799...</td><td>Financial advisor</td><td>5</td><td>RENT</td><td>150000.0</td><td>FL</td><td>336xx</td><td>USA</td><td>C</td><td>C3</td><td>Source Verified</td><td>153339.0</td><td>Individual</td><td>null</td><td>null</td><td>2023-11-05 05:32:...</td></tr>\n",
       "<tr><td>bc2ef81d519d11aec...</td><td>Assistant to the ...</td><td>10</td><td>RENT</td><td>50000.0</td><td>NY</td><td>104xx</td><td>USA</td><td>C</td><td>C2</td><td>Not Verified</td><td>26500.0</td><td>Individual</td><td>null</td><td>null</td><td>2023-11-05 05:32:...</td></tr>\n",
       "<tr><td>07107fccd5ef22c1a...</td><td>Designer</td><td>3</td><td>RENT</td><td>150000.0</td><td>NY</td><td>112xx</td><td>USA</td><td>B</td><td>B4</td><td>Source Verified</td><td>62060.0</td><td>Individual</td><td>null</td><td>null</td><td>2023-11-05 05:32:...</td></tr>\n",
       "<tr><td>f46c69566b6bec040...</td><td>clerk</td><td>10</td><td>RENT</td><td>66000.0</td><td>CA</td><td>921xx</td><td>USA</td><td>A</td><td>A4</td><td>Source Verified</td><td>61000.0</td><td>Individual</td><td>null</td><td>null</td><td>2023-11-05 05:32:...</td></tr>\n",
       "<tr><td>7bcf5bf98a11024df...</td><td>null</td><td>null</td><td>RENT</td><td>9036.0</td><td>WA</td><td>991xx</td><td>USA</td><td>D</td><td>D5</td><td>Verified</td><td>5100.0</td><td>Individual</td><td>null</td><td>null</td><td>2023-11-05 05:32:...</td></tr>\n",
       "<tr><td>49d85e022d7553350...</td><td>senior beauty adv...</td><td>7</td><td>RENT</td><td>12000.0</td><td>IL</td><td>606xx</td><td>USA</td><td>D</td><td>D5</td><td>Not Verified</td><td>29300.0</td><td>Individual</td><td>null</td><td>null</td><td>2023-11-05 05:32:...</td></tr>\n",
       "</table>\n",
       "only showing top 20 rows\n"
      ],
      "text/plain": [
       "+--------------------+--------------------+----------+--------------+-------------+-------------+---------------+---------------+-----+---------+-------------------+-----------------------+----------------+------------------+-------------------------+--------------------+\n",
       "|           member_id|           emp_title|emp_length|home_ownership|annual_income|address_state|address_zipcode|address_country|grade|sub_grade|verification_status|total_high_credit_limit|application_type|join_annual_income|verification_status_joint|         ingest_date|\n",
       "+--------------------+--------------------+----------+--------------+-------------+-------------+---------------+---------------+-----+---------+-------------------+-----------------------+----------------+------------------+-------------------------+--------------------+\n",
       "|b31b57d44e7f8f44e...|          SUPERVISOR|        10|          RENT|      49000.0|           CA|          917xx|            USA|    D|       D3|    Source Verified|                55258.0|      Individual|              null|                     null|2023-11-05 05:32:...|\n",
       "|00fe22c12014328b8...|Occupational Ther...|         1|      MORTGAGE|      60000.0|           CT|          060xx|            USA|    A|       A2|       Not Verified|               230469.0|      Individual|              null|                     null|2023-11-05 05:32:...|\n",
       "|895852f1126353024...|             Payroll|         7|          RENT|      31720.0|           AZ|          850xx|            USA|    C|       C4|    Source Verified|                59192.0|      Individual|              null|                     null|2023-11-05 05:32:...|\n",
       "|4bef59af0c4bfe357...|Information Security|        10|      MORTGAGE|     101000.0|           TX|          750xx|            USA|    C|       C1|       Not Verified|               273759.0|      Individual|              null|                     null|2023-11-05 05:32:...|\n",
       "|c520e0da90be87faa...|      Vice President|         6|      MORTGAGE|     190000.0|           CA|          906xx|            USA|    B|       B3|           Verified|               724381.0|      Individual|              null|                     null|2023-11-05 05:32:...|\n",
       "|b98005f0e9d3bc6d9...|                null|      null|      MORTGAGE|      60000.0|           SC|          295xx|            USA|    D|       D3|    Source Verified|                42663.0|      Individual|              null|                     null|2023-11-05 05:32:...|\n",
       "|30840cb8465c9d60a...|      Vice President|         2|      MORTGAGE|     130000.0|           TX|          782xx|            USA|    B|       B4|           Verified|               524125.0|      Individual|              null|                     null|2023-11-05 05:32:...|\n",
       "|b70f75314fe12309f...|                null|      null|           OWN|       8000.0|           NM|          870xx|            USA|    F|       F2|           Verified|                 5300.0|      Individual|              null|                     null|2023-11-05 05:32:...|\n",
       "|d7b58a53c76e8955d...|Senior Constructi...|        10|      MORTGAGE|      95000.0|           OR|          974xx|            USA|    C|       C2|           Verified|               208292.0|      Individual|              null|                     null|2023-11-05 05:32:...|\n",
       "|ca7dd5bb51ff44ac7...|         electrician|        10|      MORTGAGE|      59000.0|           WI|          549xx|            USA|    D|       D3|    Source Verified|               201753.0|      Individual|              null|                     null|2023-11-05 05:32:...|\n",
       "|c0ab2ca67bf6f1b0d...| Security Supervisor|         1|      MORTGAGE|      55000.0|           TX|          775xx|            USA|    A|       A5|    Source Verified|                31975.0|      Individual|              null|                     null|2023-11-05 05:32:...|\n",
       "|5b677fd65fe7bc91f...|              Driver|        10|           OWN|      65000.0|           PA|          180xx|            USA|    C|       C4|       Not Verified|                32323.0|      Individual|              null|                     null|2023-11-05 05:32:...|\n",
       "|ef3cf1529c934853c...|     SERVICE MANAGER|        10|      MORTGAGE|      58000.0|           NJ|          088xx|            USA|    C|       C3|           Verified|               203808.0|      Individual|              null|                     null|2023-11-05 05:32:...|\n",
       "|e99e6efe33f2a2654...| pharmacy technician|         4|          RENT|      18000.0|           MI|          483xx|            USA|    C|       C2|           Verified|                30400.0|      Individual|              null|                     null|2023-11-05 05:32:...|\n",
       "|126dd2afbee377a3f...|         electrician|         9|      MORTGAGE|     100000.0|           NJ|          070xx|            USA|    E|       E1|    Source Verified|               257883.0|      Individual|              null|                     null|2023-11-05 05:32:...|\n",
       "|15a6c941ed41bda4b...|       Sales Manager|         1|      MORTGAGE|     125000.0|           GA|          301xx|            USA|    B|       B1|       Not Verified|               327173.0|      Individual|              null|                     null|2023-11-05 05:32:...|\n",
       "|af15e4455a6a05bd7...|   Supply Technician|         8|          RENT|      67000.0|           KY|          403xx|            USA|    B|       B3|       Not Verified|                42634.0|      Individual|              null|                     null|2023-11-05 05:32:...|\n",
       "|9b64a21c47b7c6e60...|Certified Behavio...|        10|          RENT|      32000.0|           FL|          330xx|            USA|    C|       C5|       Not Verified|                36250.0|      Individual|              null|                     null|2023-11-05 05:32:...|\n",
       "|b5e82ee0fe0c3276f...|                 cfo|        10|      MORTGAGE|      70000.0|           GA|          317xx|            USA|    D|       D1|           Verified|               145629.0|      Individual|              null|                     null|2023-11-05 05:32:...|\n",
       "|f3f345128210a7fb1...|            Body man|        10|      MORTGAGE|      65000.0|           IL|          600xx|            USA|    A|       A3|    Source Verified|               296500.0|      Individual|              null|                     null|2023-11-05 05:32:...|\n",
       "+--------------------+--------------------+----------+--------------+-------------+-------------+---------------+---------------+-----+---------+-------------------+-----------------------+----------------+------------------+-------------------------+--------------------+\n",
       "only showing top 20 rows"
      ]
     },
     "execution_count": 67,
     "metadata": {},
     "output_type": "execute_result"
    }
   ],
   "source": [
    "spark.sql(\"select * from customers\")"
   ]
  },
  {
   "cell_type": "code",
   "execution_count": 107,
   "id": "50f7cd3a",
   "metadata": {},
   "outputs": [],
   "source": [
    "avg_emp_length=spark.sql(\"select floor(avg(emp_length)) as avg_emp_length from customers\").collect()"
   ]
  },
  {
   "cell_type": "code",
   "execution_count": 74,
   "id": "80a5c7a2",
   "metadata": {},
   "outputs": [
    {
     "name": "stdout",
     "output_type": "stream",
     "text": [
      "[Row(avg_emp_length=6)]\n"
     ]
    }
   ],
   "source": [
    "print(avg_emp_length)"
   ]
  },
  {
   "cell_type": "code",
   "execution_count": 108,
   "id": "8201e5a0",
   "metadata": {},
   "outputs": [],
   "source": [
    "avg_emp_duration=avg_emp_length[0][0]"
   ]
  },
  {
   "cell_type": "code",
   "execution_count": 76,
   "id": "490c36a1",
   "metadata": {},
   "outputs": [
    {
     "data": {
      "text/plain": [
       "6"
      ]
     },
     "execution_count": 76,
     "metadata": {},
     "output_type": "execute_result"
    }
   ],
   "source": [
    "avg_emp_duration"
   ]
  },
  {
   "cell_type": "code",
   "execution_count": 109,
   "id": "34a8f6ff",
   "metadata": {},
   "outputs": [],
   "source": [
    "customers_emplength_replaced=customers_emplength_casted.na.fill(avg_emp_duration,subset=['emp_length'])"
   ]
  },
  {
   "cell_type": "code",
   "execution_count": 78,
   "id": "389163ab",
   "metadata": {},
   "outputs": [
    {
     "data": {
      "text/html": [
       "<table border='1'>\n",
       "<tr><th>member_id</th><th>emp_title</th><th>emp_length</th><th>home_ownership</th><th>annual_income</th><th>address_state</th><th>address_zipcode</th><th>address_country</th><th>grade</th><th>sub_grade</th><th>verification_status</th><th>total_high_credit_limit</th><th>application_type</th><th>join_annual_income</th><th>verification_status_joint</th><th>ingest_date</th></tr>\n",
       "<tr><td>3adcb5aa46ce8fb9e...</td><td>Asst to Director</td><td>10</td><td>MORTGAGE</td><td>88000.0</td><td>SC</td><td>292xx</td><td>USA</td><td>A</td><td>A4</td><td>Verified</td><td>331200.0</td><td>Individual</td><td>null</td><td>null</td><td>2023-11-05 05:41:...</td></tr>\n",
       "<tr><td>2433b70ca21663225...</td><td>Registered Nurse</td><td>10</td><td>MORTGAGE</td><td>70000.0</td><td>TX</td><td>774xx</td><td>USA</td><td>C</td><td>C1</td><td>Verified</td><td>323649.0</td><td>Joint App</td><td>210000.0</td><td>Source Verified</td><td>2023-11-05 05:41:...</td></tr>\n",
       "<tr><td>86b24bbcd76340cab...</td><td>vice president</td><td>10</td><td>RENT</td><td>210000.0</td><td>IL</td><td>606xx</td><td>USA</td><td>A</td><td>A2</td><td>Not Verified</td><td>216985.0</td><td>Individual</td><td>null</td><td>null</td><td>2023-11-05 05:41:...</td></tr>\n",
       "<tr><td>a8b02e2eea51b6f7f...</td><td>porter</td><td>6</td><td>RENT</td><td>58000.0</td><td>NY</td><td>104xx</td><td>USA</td><td>B</td><td>B2</td><td>Not Verified</td><td>48000.0</td><td>Individual</td><td>null</td><td>null</td><td>2023-11-05 05:41:...</td></tr>\n",
       "<tr><td>97a3e5a1b43b784db...</td><td>Health Informatio...</td><td>10</td><td>MORTGAGE</td><td>45000.0</td><td>CT</td><td>060xx</td><td>USA</td><td>C</td><td>C5</td><td>Verified</td><td>200034.0</td><td>Individual</td><td>null</td><td>null</td><td>2023-11-05 05:41:...</td></tr>\n",
       "<tr><td>f4ed0559d964c2584...</td><td>null</td><td>6</td><td>MORTGAGE</td><td>0.0</td><td>CA</td><td>945xx</td><td>USA</td><td>A</td><td>A3</td><td>Not Verified</td><td>555806.0</td><td>Joint App</td><td>170000.0</td><td>Not Verified</td><td>2023-11-05 05:41:...</td></tr>\n",
       "<tr><td>7594975a70260b374...</td><td>Mailroom Specialist</td><td>1</td><td>RENT</td><td>23000.0</td><td>KS</td><td>672xx</td><td>USA</td><td>A</td><td>A5</td><td>Source Verified</td><td>44128.0</td><td>Individual</td><td>null</td><td>null</td><td>2023-11-05 05:41:...</td></tr>\n",
       "<tr><td>fbb6b74469915f8ed...</td><td>Senior Administra...</td><td>10</td><td>MORTGAGE</td><td>73000.0</td><td>TX</td><td>770xx</td><td>USA</td><td>D</td><td>D2</td><td>Verified</td><td>11462.0</td><td>Individual</td><td>null</td><td>null</td><td>2023-11-05 05:41:...</td></tr>\n",
       "<tr><td>cbe7ea1d899bf6bab...</td><td>Mechanic</td><td>2</td><td>OWN</td><td>70000.0</td><td>VA</td><td>238xx</td><td>USA</td><td>A</td><td>A4</td><td>Not Verified</td><td>99843.0</td><td>Individual</td><td>null</td><td>null</td><td>2023-11-05 05:41:...</td></tr>\n",
       "<tr><td>518dc8a1c31234a8d...</td><td>Custodian</td><td>1</td><td>RENT</td><td>60000.0</td><td>MD</td><td>217xx</td><td>USA</td><td>A</td><td>A5</td><td>Not Verified</td><td>72900.0</td><td>Individual</td><td>null</td><td>null</td><td>2023-11-05 05:41:...</td></tr>\n",
       "<tr><td>2df6bd3185eae9f24...</td><td>Executive Chef</td><td>2</td><td>MORTGAGE</td><td>59000.0</td><td>IL</td><td>606xx</td><td>USA</td><td>C</td><td>C1</td><td>Verified</td><td>243036.0</td><td>Individual</td><td>null</td><td>null</td><td>2023-11-05 05:41:...</td></tr>\n",
       "<tr><td>4714ced1590e9f654...</td><td>commercial lender</td><td>2</td><td>OWN</td><td>113400.0</td><td>NY</td><td>136xx</td><td>USA</td><td>B</td><td>B4</td><td>Source Verified</td><td>332716.0</td><td>Individual</td><td>null</td><td>null</td><td>2023-11-05 05:41:...</td></tr>\n",
       "<tr><td>c3425fbba568ca407...</td><td>Cost Accountant</td><td>10</td><td>MORTGAGE</td><td>122000.0</td><td>AK</td><td>996xx</td><td>USA</td><td>B</td><td>B2</td><td>Source Verified</td><td>416606.0</td><td>Individual</td><td>null</td><td>null</td><td>2023-11-05 05:41:...</td></tr>\n",
       "<tr><td>a2b7a13b8b5a55a64...</td><td>Manager</td><td>4</td><td>RENT</td><td>73269.0</td><td>CA</td><td>928xx</td><td>USA</td><td>C</td><td>C5</td><td>Source Verified</td><td>130458.0</td><td>Individual</td><td>null</td><td>null</td><td>2023-11-05 05:41:...</td></tr>\n",
       "<tr><td>2ee5042e3b46d5aff...</td><td>Medical Technologist</td><td>9</td><td>MORTGAGE</td><td>60000.0</td><td>GA</td><td>315xx</td><td>USA</td><td>A</td><td>A3</td><td>Not Verified</td><td>371706.0</td><td>Joint App</td><td>120000.0</td><td>Not Verified</td><td>2023-11-05 05:41:...</td></tr>\n",
       "<tr><td>6e220ca45d7577894...</td><td>null</td><td>6</td><td>MORTGAGE</td><td>70000.0</td><td>NY</td><td>136xx</td><td>USA</td><td>B</td><td>B2</td><td>Not Verified</td><td>184100.0</td><td>Individual</td><td>null</td><td>null</td><td>2023-11-05 05:41:...</td></tr>\n",
       "<tr><td>73dbc4a640bd9462a...</td><td>Driver</td><td>3</td><td>RENT</td><td>35330.0</td><td>MA</td><td>010xx</td><td>USA</td><td>C</td><td>C4</td><td>Source Verified</td><td>7500.0</td><td>Individual</td><td>null</td><td>null</td><td>2023-11-05 05:41:...</td></tr>\n",
       "<tr><td>c20a2680e8c5d41df...</td><td>Owner</td><td>5</td><td>RENT</td><td>84500.0</td><td>TN</td><td>381xx</td><td>USA</td><td>C</td><td>C2</td><td>Not Verified</td><td>61477.0</td><td>Individual</td><td>null</td><td>null</td><td>2023-11-05 05:41:...</td></tr>\n",
       "<tr><td>58ae1ca97c9b0826c...</td><td>Sales Manager Lat...</td><td>1</td><td>MORTGAGE</td><td>119200.0</td><td>TX</td><td>774xx</td><td>USA</td><td>D</td><td>D5</td><td>Not Verified</td><td>362471.0</td><td>Individual</td><td>null</td><td>null</td><td>2023-11-05 05:41:...</td></tr>\n",
       "<tr><td>3a466b7c2b616256f...</td><td>null</td><td>6</td><td>MORTGAGE</td><td>0.0</td><td>TX</td><td>760xx</td><td>USA</td><td>C</td><td>C3</td><td>Not Verified</td><td>608531.0</td><td>Joint App</td><td>326000.0</td><td>Not Verified</td><td>2023-11-05 05:41:...</td></tr>\n",
       "</table>\n",
       "only showing top 20 rows\n"
      ],
      "text/plain": [
       "+--------------------+--------------------+----------+--------------+-------------+-------------+---------------+---------------+-----+---------+-------------------+-----------------------+----------------+------------------+-------------------------+--------------------+\n",
       "|           member_id|           emp_title|emp_length|home_ownership|annual_income|address_state|address_zipcode|address_country|grade|sub_grade|verification_status|total_high_credit_limit|application_type|join_annual_income|verification_status_joint|         ingest_date|\n",
       "+--------------------+--------------------+----------+--------------+-------------+-------------+---------------+---------------+-----+---------+-------------------+-----------------------+----------------+------------------+-------------------------+--------------------+\n",
       "|1dd921c5e4dc858b6...|                null|         6|      MORTGAGE|      23000.0|           AL|          350xx|            USA|    B|       B2|       Not Verified|                15300.0|       Joint App|          144455.0|             Not Verified|2023-11-05 05:41:...|\n",
       "|fc2d41876e17d18d0...|                null|         6|      MORTGAGE|      43000.0|           KS|          661xx|            USA|    B|       B2|       Not Verified|               157702.0|      Individual|              null|                     null|2023-11-05 05:41:...|\n",
       "|7ba43c636b932f641...|             Teacher|         7|           OWN|      75000.0|           GA|          310xx|            USA|    A|       A4|    Source Verified|                12500.0|      Individual|              null|                     null|2023-11-05 05:41:...|\n",
       "|c00487f07ba2caf05...|            Director|         1|      MORTGAGE|     210000.0|           TX|          787xx|            USA|    A|       A1|    Source Verified|               507139.0|      Individual|              null|                     null|2023-11-05 05:41:...|\n",
       "|36b2827acdf03043a...|       Buyer Manager|        10|          RENT|      80000.0|           MD|          209xx|            USA|    C|       C4|       Not Verified|                87089.0|      Individual|              null|                     null|2023-11-05 05:41:...|\n",
       "|7a699c0ebad8738a5...|               Nurse|         2|          RENT|      78000.0|           CA|          925xx|            USA|    E|       E5|    Source Verified|                90522.0|      Individual|              null|                     null|2023-11-05 05:41:...|\n",
       "|51f78718badd9aaed...|               Nurse|         1|      MORTGAGE|      97000.0|           FL|          320xx|            USA|    A|       A1|    Source Verified|                84976.0|      Individual|              null|                     null|2023-11-05 05:41:...|\n",
       "|7f2ad508f9f3f622f...|       Vicepresident|        10|          RENT|     135000.0|           MI|          483xx|            USA|    B|       B3|       Not Verified|                91800.0|      Individual|              null|                     null|2023-11-05 05:41:...|\n",
       "|858c6480ccbf6c045...|  Functional Manager|         1|      MORTGAGE|     165000.0|           DC|          200xx|            USA|    D|       D1|    Source Verified|               602925.0|      Individual|              null|                     null|2023-11-05 05:41:...|\n",
       "|69bf7f384a394872e...|     Project Manager|         1|      MORTGAGE|      54000.0|           WA|          983xx|            USA|    C|       C3|           Verified|               352003.0|      Individual|              null|                     null|2023-11-05 05:41:...|\n",
       "|cf7ceaf39137ed3be...|     Center Director|        10|          RENT|      54964.0|           NC|          278xx|            USA|    D|       D4|           Verified|                76701.0|      Individual|              null|                     null|2023-11-05 05:41:...|\n",
       "|b4733d2dc858cffd7...|                null|         6|          RENT|      24000.0|           CA|          928xx|            USA|    B|       B3|           Verified|                22000.0|       Joint App|          164000.0|                 Verified|2023-11-05 05:41:...|\n",
       "|8b026453d24197804...|Compliance Adviso...|        10|      MORTGAGE|     115000.0|           IL|          601xx|            USA|    A|       A4|       Not Verified|               334377.0|      Individual|              null|                     null|2023-11-05 05:41:...|\n",
       "|2457dca505606ab06...|                  RN|         9|      MORTGAGE|      65000.0|           MI|          480xx|            USA|    A|       A3|       Not Verified|               242339.0|      Individual|              null|                     null|2023-11-05 05:41:...|\n",
       "|d0d6886868df98903...|      Behavior Coach|        10|      MORTGAGE|      82000.0|           TX|          770xx|            USA|    D|       D4|           Verified|               490538.0|      Individual|              null|                     null|2023-11-05 05:41:...|\n",
       "|b7a4821590407e5e7...|                null|         6|      MORTGAGE|      30000.0|           SC|          298xx|            USA|    A|       A4|    Source Verified|               179930.0|       Joint App|           85000.0|          Source Verified|2023-11-05 05:41:...|\n",
       "|01017e53c5a5eef77...|            Optician|         1|          RENT|      45000.0|           AZ|          857xx|            USA|    B|       B2|    Source Verified|                 8800.0|      Individual|              null|                     null|2023-11-05 05:41:...|\n",
       "|a5eb00c20b8f7c6cd...|     Sales Associate|         1|          RENT|     134000.0|           CO|          801xx|            USA|    D|       D5|           Verified|                80130.0|      Individual|              null|                     null|2023-11-05 05:41:...|\n",
       "|26508a7fe4ff4182e...|          Dockworker|        10|           OWN|      30000.0|           OH|          442xx|            USA|    B|       B1|       Not Verified|                88487.0|      Individual|              null|                     null|2023-11-05 05:41:...|\n",
       "|45dc66e2893152408...|    costumer service|         8|          RENT|      16000.0|           NY|          112xx|            USA|    B|       B5|           Verified|                 9100.0|       Joint App|           64000.0|          Source Verified|2023-11-05 05:41:...|\n",
       "+--------------------+--------------------+----------+--------------+-------------+-------------+---------------+---------------+-----+---------+-------------------+-----------------------+----------------+------------------+-------------------------+--------------------+\n",
       "only showing top 20 rows"
      ]
     },
     "execution_count": 78,
     "metadata": {},
     "output_type": "execute_result"
    }
   ],
   "source": [
    "customers_emplength_replaced"
   ]
  },
  {
   "cell_type": "code",
   "execution_count": 110,
   "id": "27e38728",
   "metadata": {},
   "outputs": [
    {
     "data": {
      "text/plain": [
       "0"
      ]
     },
     "execution_count": 110,
     "metadata": {},
     "output_type": "execute_result"
    }
   ],
   "source": [
    "customers_emplength_replaced.filter(\"emp_length is null\").count()"
   ]
  },
  {
   "cell_type": "code",
   "execution_count": 111,
   "id": "aac30291",
   "metadata": {},
   "outputs": [],
   "source": [
    "customers_emplength_replaced.createOrReplaceTempView(\"customers\")"
   ]
  },
  {
   "cell_type": "code",
   "execution_count": 112,
   "id": "775301b1",
   "metadata": {},
   "outputs": [
    {
     "data": {
      "text/html": [
       "<table border='1'>\n",
       "<tr><th>address_state</th></tr>\n",
       "<tr><td>Helping Kenya&#x27;s D...</td></tr>\n",
       "<tr><td>223xx</td></tr>\n",
       "<tr><td>175 (total projec...</td></tr>\n",
       "<tr><td>SC</td></tr>\n",
       "<tr><td>AZ</td></tr>\n",
       "<tr><td>so Plan &quot;&quot;C&quot;&quot; is ...</td></tr>\n",
       "<tr><td>I am 56 yrs. old ...</td></tr>\n",
       "<tr><td>financially I mad...</td></tr>\n",
       "<tr><td>but no one will l...</td></tr>\n",
       "<tr><td>LA</td></tr>\n",
       "<tr><td>etc.  First</td></tr>\n",
       "<tr><td>MN</td></tr>\n",
       "<tr><td>yet Capital One n...</td></tr>\n",
       "<tr><td>850xx</td></tr>\n",
       "<tr><td>499xx</td></tr>\n",
       "<tr><td>and MBA&#x27;s are ove...</td></tr>\n",
       "<tr><td>Eliminating Credi...</td></tr>\n",
       "<tr><td>Advocate business...</td></tr>\n",
       "<tr><td>951xx</td></tr>\n",
       "<tr><td>662xx</td></tr>\n",
       "</table>\n",
       "only showing top 20 rows\n"
      ],
      "text/plain": [
       "+--------------------+\n",
       "|       address_state|\n",
       "+--------------------+\n",
       "|Helping Kenya's D...|\n",
       "|               223xx|\n",
       "|175 (total projec...|\n",
       "|                  AZ|\n",
       "|                  SC|\n",
       "|I am 56 yrs. old ...|\n",
       "|so Plan \"\"C\"\" is ...|\n",
       "|financially I mad...|\n",
       "|but no one will l...|\n",
       "|                  LA|\n",
       "|         etc.  First|\n",
       "|                  MN|\n",
       "|               499xx|\n",
       "|yet Capital One n...|\n",
       "|               850xx|\n",
       "|Advocate business...|\n",
       "|and MBA's are ove...|\n",
       "|Eliminating Credi...|\n",
       "|I the credit card...|\n",
       "|               951xx|\n",
       "+--------------------+\n",
       "only showing top 20 rows"
      ]
     },
     "execution_count": 112,
     "metadata": {},
     "output_type": "execute_result"
    }
   ],
   "source": [
    "spark.sql(\"select distinct(address_state) from customers\")"
   ]
  },
  {
   "cell_type": "code",
   "execution_count": 113,
   "id": "d40c29de",
   "metadata": {},
   "outputs": [
    {
     "data": {
      "text/html": [
       "<table border='1'>\n",
       "<tr><th>count(address_state)</th></tr>\n",
       "<tr><td>254</td></tr>\n",
       "</table>\n"
      ],
      "text/plain": [
       "+--------------------+\n",
       "|count(address_state)|\n",
       "+--------------------+\n",
       "|                 254|\n",
       "+--------------------+"
      ]
     },
     "execution_count": 113,
     "metadata": {},
     "output_type": "execute_result"
    }
   ],
   "source": [
    "spark.sql(\"select count(address_state) from customers where length(address_state)>2\")"
   ]
  },
  {
   "cell_type": "code",
   "execution_count": 114,
   "id": "e903b597",
   "metadata": {},
   "outputs": [],
   "source": [
    "from pyspark.sql.functions import when, col, length"
   ]
  },
  {
   "cell_type": "code",
   "execution_count": 116,
   "id": "49d3972b",
   "metadata": {},
   "outputs": [],
   "source": [
    "customers_state_cleaned=customers_emplength_replaced.withColumn(\n",
    "\"address_state\",\n",
    "    when(length(col(\"address_state\"))>2, \"NA\").otherwise(col(\"address_state\"))\n",
    ")"
   ]
  },
  {
   "cell_type": "code",
   "execution_count": 117,
   "id": "b9f31c8f",
   "metadata": {},
   "outputs": [
    {
     "data": {
      "text/html": [
       "<table border='1'>\n",
       "<tr><th>member_id</th><th>emp_title</th><th>emp_length</th><th>home_ownership</th><th>annual_income</th><th>address_state</th><th>address_zipcode</th><th>address_country</th><th>grade</th><th>sub_grade</th><th>verification_status</th><th>total_high_credit_limit</th><th>application_type</th><th>join_annual_income</th><th>verification_status_joint</th><th>ingest_date</th></tr>\n",
       "<tr><td>c72d77107216d1eb8...</td><td>foreman</td><td>10</td><td>MORTGAGE</td><td>37500.0</td><td>AR</td><td>726xx</td><td>USA</td><td>C</td><td>C5</td><td>Not Verified</td><td>71208.0</td><td>Joint App</td><td>52000.0</td><td>Not Verified</td><td>2023-11-05 05:56:...</td></tr>\n",
       "<tr><td>09deadc5e8eb0654e...</td><td>Transportation</td><td>6</td><td>MORTGAGE</td><td>65000.0</td><td>TX</td><td>760xx</td><td>USA</td><td>B</td><td>B2</td><td>Verified</td><td>188848.0</td><td>Individual</td><td>null</td><td>null</td><td>2023-11-05 05:56:...</td></tr>\n",
       "<tr><td>0c880e940eb9a9519...</td><td>Tutor</td><td>1</td><td>MORTGAGE</td><td>10000.0</td><td>FL</td><td>324xx</td><td>USA</td><td>C</td><td>C1</td><td>Not Verified</td><td>307761.0</td><td>Joint App</td><td>135000.0</td><td>Not Verified</td><td>2023-11-05 05:56:...</td></tr>\n",
       "<tr><td>85c5304ec95e3974e...</td><td>Brand Specialist</td><td>3</td><td>MORTGAGE</td><td>83000.0</td><td>MD</td><td>207xx</td><td>USA</td><td>C</td><td>C4</td><td>Source Verified</td><td>65069.0</td><td>Individual</td><td>null</td><td>null</td><td>2023-11-05 05:56:...</td></tr>\n",
       "<tr><td>3c3892cda6eaa00f2...</td><td>pharmacist</td><td>3</td><td>MORTGAGE</td><td>212000.0</td><td>CO</td><td>810xx</td><td>USA</td><td>B</td><td>B2</td><td>Source Verified</td><td>656131.0</td><td>Individual</td><td>null</td><td>null</td><td>2023-11-05 05:56:...</td></tr>\n",
       "<tr><td>e900e6093290ea6e1...</td><td>Financial services</td><td>6</td><td>MORTGAGE</td><td>154500.0</td><td>CO</td><td>804xx</td><td>USA</td><td>B</td><td>B4</td><td>Source Verified</td><td>512001.0</td><td>Individual</td><td>null</td><td>null</td><td>2023-11-05 05:56:...</td></tr>\n",
       "<tr><td>916d22beaa6e464de...</td><td>Instructor</td><td>8</td><td>MORTGAGE</td><td>85000.0</td><td>MI</td><td>499xx</td><td>USA</td><td>B</td><td>B2</td><td>Source Verified</td><td>300818.0</td><td>Individual</td><td>null</td><td>null</td><td>2023-11-05 05:56:...</td></tr>\n",
       "<tr><td>264708b38c4bd0eb5...</td><td>null</td><td>6</td><td>RENT</td><td>25000.0</td><td>WV</td><td>249xx</td><td>USA</td><td>C</td><td>C4</td><td>Not Verified</td><td>26998.0</td><td>Individual</td><td>null</td><td>null</td><td>2023-11-05 05:56:...</td></tr>\n",
       "<tr><td>7f27d410408e51405...</td><td>Finance Manager</td><td>10</td><td>RENT</td><td>485000.0</td><td>CA</td><td>941xx</td><td>USA</td><td>C</td><td>C1</td><td>Verified</td><td>319002.0</td><td>Individual</td><td>null</td><td>null</td><td>2023-11-05 05:56:...</td></tr>\n",
       "<tr><td>9de010e60b1eb05fd...</td><td>Receptioist</td><td>10</td><td>RENT</td><td>39000.0</td><td>LA</td><td>701xx</td><td>USA</td><td>C</td><td>C3</td><td>Source Verified</td><td>73454.0</td><td>Individual</td><td>null</td><td>null</td><td>2023-11-05 05:56:...</td></tr>\n",
       "<tr><td>201efb14aa6ebb181...</td><td>Lieutenant</td><td>10</td><td>MORTGAGE</td><td>130000.0</td><td>MA</td><td>023xx</td><td>USA</td><td>B</td><td>B1</td><td>Not Verified</td><td>408958.0</td><td>Individual</td><td>null</td><td>null</td><td>2023-11-05 05:56:...</td></tr>\n",
       "<tr><td>6df32034887e42618...</td><td>Surgical Technician</td><td>10</td><td>RENT</td><td>85000.0</td><td>CA</td><td>917xx</td><td>USA</td><td>C</td><td>C2</td><td>Source Verified</td><td>104459.0</td><td>Individual</td><td>null</td><td>null</td><td>2023-11-05 05:56:...</td></tr>\n",
       "<tr><td>f953d5bedca03bd3f...</td><td>Director</td><td>1</td><td>MORTGAGE</td><td>105000.0</td><td>MN</td><td>551xx</td><td>USA</td><td>C</td><td>C1</td><td>Verified</td><td>417526.0</td><td>Individual</td><td>null</td><td>null</td><td>2023-11-05 05:56:...</td></tr>\n",
       "<tr><td>d57f518d6355e9bdf...</td><td>Assistant Manager</td><td>10</td><td>RENT</td><td>63000.0</td><td>CA</td><td>920xx</td><td>USA</td><td>C</td><td>C3</td><td>Verified</td><td>39710.0</td><td>Individual</td><td>null</td><td>null</td><td>2023-11-05 05:56:...</td></tr>\n",
       "<tr><td>3cb9818b4284b1f58...</td><td>Writer</td><td>6</td><td>RENT</td><td>25000.0</td><td>CA</td><td>916xx</td><td>USA</td><td>A</td><td>A2</td><td>Source Verified</td><td>28800.0</td><td>Individual</td><td>null</td><td>null</td><td>2023-11-05 05:56:...</td></tr>\n",
       "<tr><td>21964700849b082c4...</td><td>Teacher</td><td>5</td><td>MORTGAGE</td><td>43500.0</td><td>FL</td><td>342xx</td><td>USA</td><td>C</td><td>C5</td><td>Not Verified</td><td>356824.0</td><td>Joint App</td><td>130500.0</td><td>Not Verified</td><td>2023-11-05 05:56:...</td></tr>\n",
       "<tr><td>d66f8db57b7ca2068...</td><td>Owner</td><td>1</td><td>MORTGAGE</td><td>55000.0</td><td>FL</td><td>321xx</td><td>USA</td><td>A</td><td>A4</td><td>Not Verified</td><td>287222.0</td><td>Individual</td><td>null</td><td>null</td><td>2023-11-05 05:56:...</td></tr>\n",
       "<tr><td>4aa9cb76add723414...</td><td>president</td><td>10</td><td>OWN</td><td>120000.0</td><td>RI</td><td>028xx</td><td>USA</td><td>B</td><td>B2</td><td>Not Verified</td><td>504410.0</td><td>Individual</td><td>null</td><td>null</td><td>2023-11-05 05:56:...</td></tr>\n",
       "<tr><td>cc13256e30073b9e8...</td><td>Teacher</td><td>10</td><td>MORTGAGE</td><td>50000.0</td><td>LA</td><td>707xx</td><td>USA</td><td>D</td><td>D1</td><td>Source Verified</td><td>290289.0</td><td>Joint App</td><td>110000.0</td><td>Source Verified</td><td>2023-11-05 05:56:...</td></tr>\n",
       "<tr><td>8d8d6e05e1e7a5a47...</td><td>IT support Specia...</td><td>10</td><td>MORTGAGE</td><td>53000.0</td><td>FL</td><td>328xx</td><td>USA</td><td>C</td><td>C4</td><td>Source Verified</td><td>205055.0</td><td>Individual</td><td>null</td><td>null</td><td>2023-11-05 05:56:...</td></tr>\n",
       "</table>\n",
       "only showing top 20 rows\n"
      ],
      "text/plain": [
       "+--------------------+--------------------+----------+--------------+-------------+-------------+---------------+---------------+-----+---------+-------------------+-----------------------+----------------+------------------+-------------------------+--------------------+\n",
       "|           member_id|           emp_title|emp_length|home_ownership|annual_income|address_state|address_zipcode|address_country|grade|sub_grade|verification_status|total_high_credit_limit|application_type|join_annual_income|verification_status_joint|         ingest_date|\n",
       "+--------------------+--------------------+----------+--------------+-------------+-------------+---------------+---------------+-----+---------+-------------------+-----------------------+----------------+------------------+-------------------------+--------------------+\n",
       "|ab8d3d46f9b1690d3...|     Project Manager|         4|          RENT|      64200.0|           VA|          225xx|            USA|    D|       D3|    Source Verified|                78165.0|      Individual|              null|                     null|2023-11-05 05:56:...|\n",
       "|475a1764b64c0a701...|    Field Technician|         5|          RENT|      65000.0|           MA|          015xx|            USA|    A|       A5|    Source Verified|               109991.0|      Individual|              null|                     null|2023-11-05 05:56:...|\n",
       "|50392b40c7499c548...|                  RN|         8|      MORTGAGE|      98000.0|           NC|          283xx|            USA|    C|       C1|    Source Verified|               287730.0|      Individual|              null|                     null|2023-11-05 05:56:...|\n",
       "|b460d54bde525b57c...|EVP & Chief Admin...|         4|          RENT|     270000.0|           CT|          069xx|            USA|    A|       A2|       Not Verified|                74506.0|      Individual|              null|                     null|2023-11-05 05:56:...|\n",
       "|e702ca287d3f64263...|             Manager|         2|          RENT|      48000.0|           MS|          386xx|            USA|    B|       B1|       Not Verified|                81253.0|      Individual|              null|                     null|2023-11-05 05:56:...|\n",
       "|906f707b39fb31118...|               0wner|        10|      MORTGAGE|      60000.0|           PA|          169xx|            USA|    C|       C2|    Source Verified|                16100.0|      Individual|              null|                     null|2023-11-05 05:56:...|\n",
       "|7d152bd95bcc1b1de...|              Driver|         5|      MORTGAGE|      48000.0|           CA|          948xx|            USA|    A|       A5|    Source Verified|                59601.0|      Individual|              null|                     null|2023-11-05 05:56:...|\n",
       "|8e6541641343b9dcc...|                null|         6|      MORTGAGE|      14200.0|           FL|          335xx|            USA|    D|       D3|           Verified|               494050.0|       Joint App|          107200.0|                 Verified|2023-11-05 05:56:...|\n",
       "|6b05ccbdc1ca8a934...|     Program Manager|        10|          RENT|      80000.0|           TX|          782xx|            USA|    A|       A1|       Not Verified|               131855.0|      Individual|              null|                     null|2023-11-05 05:56:...|\n",
       "|b41ce630b7d7f90eb...|Assistant product...|         6|      MORTGAGE|      56000.0|           GA|          301xx|            USA|    C|       C3|           Verified|               199276.0|      Individual|              null|                     null|2023-11-05 05:56:...|\n",
       "|5ccdf2e57411eb883...|                null|         6|           OWN|     125000.0|           CA|          923xx|            USA|    B|       B3|    Source Verified|               234024.0|       Joint App|          255000.0|          Source Verified|2023-11-05 05:56:...|\n",
       "|1d00cc05332639a89...|              porter|         1|          RENT|      38000.0|           NJ|          071xx|            USA|    C|       C2|    Source Verified|                21822.0|      Individual|              null|                     null|2023-11-05 05:56:...|\n",
       "|9db4a06dc48475d86...|                null|         6|      MORTGAGE|      50000.0|           MI|          490xx|            USA|    B|       B3|       Not Verified|               267182.0|      Individual|              null|                     null|2023-11-05 05:56:...|\n",
       "|bb1e45770c5eecd8f...|Replenishment Man...|         3|          RENT|      53000.0|           AR|          727xx|            USA|    A|       A5|    Source Verified|               100780.0|      Individual|              null|                     null|2023-11-05 05:56:...|\n",
       "|e1f1644c6d0f1589b...|      Human Resource|         8|          RENT|      70000.0|           NJ|          070xx|            USA|    C|       C3|           Verified|               198933.0|      Individual|              null|                     null|2023-11-05 05:56:...|\n",
       "|24f52894d7a49ce38...|         Electrician|         2|          RENT|      40000.0|           IN|          462xx|            USA|    C|       C1|       Not Verified|                58603.0|      Individual|              null|                     null|2023-11-05 05:56:...|\n",
       "|e982d14e560fcd354...|                null|         6|          RENT|      18492.0|           AZ|          852xx|            USA|    D|       D3|           Verified|                 4105.0|      Individual|              null|                     null|2023-11-05 05:56:...|\n",
       "|b8cd92b9a33ad20eb...|        CMA/Lab Tech|         2|      MORTGAGE|      72000.0|           VA|          233xx|            USA|    A|       A4|    Source Verified|               204516.0|      Individual|              null|                     null|2023-11-05 05:56:...|\n",
       "|957bec22e7507e67f...|    Flight Attendant|         4|          RENT|      50000.0|           IL|          611xx|            USA|    B|       B3|    Source Verified|                53900.0|      Individual|              null|                     null|2023-11-05 05:56:...|\n",
       "|b6bbc27269a4e4dc8...|                null|         1|      MORTGAGE|      80000.0|           TX|          782xx|            USA|    C|       C3|    Source Verified|                41600.0|      Individual|              null|                     null|2023-11-05 05:56:...|\n",
       "+--------------------+--------------------+----------+--------------+-------------+-------------+---------------+---------------+-----+---------+-------------------+-----------------------+----------------+------------------+-------------------------+--------------------+\n",
       "only showing top 20 rows"
      ]
     },
     "execution_count": 117,
     "metadata": {},
     "output_type": "execute_result"
    }
   ],
   "source": [
    "customers_state_cleaned"
   ]
  },
  {
   "cell_type": "code",
   "execution_count": 118,
   "id": "18894dc5",
   "metadata": {},
   "outputs": [
    {
     "data": {
      "text/html": [
       "<table border='1'>\n",
       "<tr><th>address_state</th></tr>\n",
       "<tr><td>AZ</td></tr>\n",
       "<tr><td>SC</td></tr>\n",
       "<tr><td>LA</td></tr>\n",
       "<tr><td>MN</td></tr>\n",
       "<tr><td>NJ</td></tr>\n",
       "<tr><td>DC</td></tr>\n",
       "<tr><td>OR</td></tr>\n",
       "<tr><td>NA</td></tr>\n",
       "<tr><td>VA</td></tr>\n",
       "<tr><td>null</td></tr>\n",
       "<tr><td>RI</td></tr>\n",
       "<tr><td>KY</td></tr>\n",
       "<tr><td>WY</td></tr>\n",
       "<tr><td>NH</td></tr>\n",
       "<tr><td>MI</td></tr>\n",
       "<tr><td>NV</td></tr>\n",
       "<tr><td>WI</td></tr>\n",
       "<tr><td>ID</td></tr>\n",
       "<tr><td>CA</td></tr>\n",
       "<tr><td>CT</td></tr>\n",
       "</table>\n",
       "only showing top 20 rows\n"
      ],
      "text/plain": [
       "+-------------+\n",
       "|address_state|\n",
       "+-------------+\n",
       "|           AZ|\n",
       "|           SC|\n",
       "|           LA|\n",
       "|           MN|\n",
       "|           NJ|\n",
       "|           DC|\n",
       "|           OR|\n",
       "|           NA|\n",
       "|           VA|\n",
       "|         null|\n",
       "|           RI|\n",
       "|           KY|\n",
       "|           WY|\n",
       "|           NH|\n",
       "|           MI|\n",
       "|           NV|\n",
       "|           WI|\n",
       "|           ID|\n",
       "|           CA|\n",
       "|           CT|\n",
       "+-------------+\n",
       "only showing top 20 rows"
      ]
     },
     "execution_count": 118,
     "metadata": {},
     "output_type": "execute_result"
    }
   ],
   "source": [
    "customers_state_cleaned.select(\"address_state\").distinct()"
   ]
  },
  {
   "cell_type": "code",
   "execution_count": 120,
   "id": "ce3c0cd5",
   "metadata": {},
   "outputs": [],
   "source": [
    "customers_state_cleaned.write \\\n",
    ".format(\"parquet\") \\\n",
    ".mode(\"overwrite\") \\\n",
    ".option(\"path\",\"/user/itv007473/lendingclubproject/cleaned/customers_parquet\").save()"
   ]
  },
  {
   "cell_type": "code",
   "execution_count": 121,
   "id": "6235e655",
   "metadata": {},
   "outputs": [],
   "source": [
    "customers_state_cleaned.write \\\n",
    ".option(\"header\",True) \\\n",
    ".format(\"csv\") \\\n",
    ".mode(\"overwrite\") \\\n",
    ".option(\"path\",\"/user/itv007473/lendingclubproject/cleaned/customers_csv\").save()"
   ]
  },
  {
   "cell_type": "code",
   "execution_count": null,
   "id": "01721706",
   "metadata": {},
   "outputs": [],
   "source": []
  }
 ],
 "metadata": {
  "kernelspec": {
   "display_name": "Pyspark 3",
   "language": "python",
   "name": "pyspark3"
  },
  "language_info": {
   "codemirror_mode": {
    "name": "ipython",
    "version": 3
   },
   "file_extension": ".py",
   "mimetype": "text/x-python",
   "name": "python",
   "nbconvert_exporter": "python",
   "pygments_lexer": "ipython3",
   "version": "3.6.12"
  }
 },
 "nbformat": 4,
 "nbformat_minor": 5
}
