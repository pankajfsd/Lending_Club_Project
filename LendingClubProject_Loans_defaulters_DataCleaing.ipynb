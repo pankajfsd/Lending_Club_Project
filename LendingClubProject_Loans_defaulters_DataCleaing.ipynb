{
 "cells": [
  {
   "cell_type": "markdown",
   "id": "04ccb6ef",
   "metadata": {},
   "source": [
    "### Lending Club Project Loan Defaulters Data Cleaning"
   ]
  },
  {
   "cell_type": "code",
   "execution_count": 1,
   "id": "558d066e",
   "metadata": {},
   "outputs": [],
   "source": [
    "from pyspark.sql import SparkSession\n",
    "import getpass\n",
    "username=getpass.getuser()\n",
    "spark=SparkSession. \\\n",
    "builder. \\\n",
    "config('spark.ui.port','0'). \\\n",
    "config('spark.shuffle.useOldFetchProtocol','true'). \\\n",
    "config(\"spark.sql.warehouse.dir\",f\"/user/{username}/warehouse\"). \\\n",
    "enableHiveSupport(). \\\n",
    "master('yarn'). \\\n",
    "getOrCreate()"
   ]
  },
  {
   "cell_type": "code",
   "execution_count": 3,
   "id": "fc1b653f",
   "metadata": {},
   "outputs": [],
   "source": [
    "loans_defaulters_raw_df=spark.read \\\n",
    ".format(\"csv\") \\\n",
    ".option(\"header\",True) \\\n",
    ".option(\"inferSchema\",True) \\\n",
    ".load(\"/user/itv007473/lendingclubproject/raw/loans_defaulters_data_csv\")"
   ]
  },
  {
   "cell_type": "code",
   "execution_count": 4,
   "id": "19eaa1c7",
   "metadata": {},
   "outputs": [
    {
     "data": {
      "text/html": [
       "<table border='1'>\n",
       "<tr><th>member_id</th><th>delinq_2yrs</th><th>delinq_amnt</th><th>pub_rec</th><th>pub_rec_bankruptcies</th><th>inq_last_6mths</th><th>total_rec_late_fee</th><th>mths_since_last_delinq</th><th>mths_since_last_record</th></tr>\n",
       "<tr><td>b59d80da191f5b573...</td><td>0.0</td><td>0.0</td><td>0.0</td><td>0.0</td><td>1.0</td><td>0.0</td><td>31.0</td><td>null</td></tr>\n",
       "<tr><td>202d9f56ecb7c3bc9...</td><td>1.0</td><td>0.0</td><td>0.0</td><td>0.0</td><td>0.0</td><td>0.0</td><td>6.0</td><td>null</td></tr>\n",
       "<tr><td>e5a140c0922b554b9...</td><td>0.0</td><td>0.0</td><td>0.0</td><td>0.0</td><td>0.0</td><td>0.0</td><td>47.0</td><td>null</td></tr>\n",
       "<tr><td>e12aefc548f750777...</td><td>0.0</td><td>0.0</td><td>0.0</td><td>0.0</td><td>0.0</td><td>0.0</td><td>33.0</td><td>null</td></tr>\n",
       "<tr><td>1b3a50d854fbbf97e...</td><td>1.0</td><td>0.0</td><td>0.0</td><td>0.0</td><td>0.0</td><td>0.0</td><td>21.0</td><td>null</td></tr>\n",
       "<tr><td>1c4329e5f17697127...</td><td>0.0</td><td>0.0</td><td>0.0</td><td>0.0</td><td>0.0</td><td>0.0</td><td>null</td><td>null</td></tr>\n",
       "<tr><td>5026c86ad983175eb...</td><td>0.0</td><td>0.0</td><td>1.0</td><td>0.0</td><td>2.0</td><td>0.0</td><td>null</td><td>71.0</td></tr>\n",
       "<tr><td>9847d8c1e9d0b2084...</td><td>1.0</td><td>0.0</td><td>2.0</td><td>0.0</td><td>0.0</td><td>0.0</td><td>6.0</td><td>63.0</td></tr>\n",
       "<tr><td>8340dbe1adea41fb4...</td><td>0.0</td><td>0.0</td><td>0.0</td><td>0.0</td><td>0.0</td><td>0.0</td><td>36.0</td><td>null</td></tr>\n",
       "<tr><td>d4de0de3ab7d79ad4...</td><td>0.0</td><td>0.0</td><td>0.0</td><td>0.0</td><td>0.0</td><td>0.0</td><td>35.0</td><td>null</td></tr>\n",
       "<tr><td>3df3cdeddb74a8712...</td><td>0.0</td><td>0.0</td><td>0.0</td><td>0.0</td><td>0.0</td><td>0.0</td><td>null</td><td>null</td></tr>\n",
       "<tr><td>9dd72636b1b4045b4...</td><td>0.0</td><td>0.0</td><td>0.0</td><td>0.0</td><td>3.0</td><td>0.0</td><td>null</td><td>null</td></tr>\n",
       "<tr><td>1d4e1ef4353b73c00...</td><td>0.0</td><td>0.0</td><td>0.0</td><td>0.0</td><td>2.0</td><td>0.0</td><td>30.0</td><td>null</td></tr>\n",
       "<tr><td>6f196952e71277fd4...</td><td>4.0</td><td>0.0</td><td>0.0</td><td>0.0</td><td>0.0</td><td>0.0</td><td>5.0</td><td>null</td></tr>\n",
       "<tr><td>9c617cbc6e3e3d6a1...</td><td>1.0</td><td>0.0</td><td>0.0</td><td>0.0</td><td>2.0</td><td>0.0</td><td>20.0</td><td>null</td></tr>\n",
       "<tr><td>45eb04dd75400a942...</td><td>0.0</td><td>0.0</td><td>0.0</td><td>0.0</td><td>2.0</td><td>0.0</td><td>28.0</td><td>null</td></tr>\n",
       "<tr><td>08d233c81f9e50726...</td><td>0.0</td><td>0.0</td><td>0.0</td><td>0.0</td><td>1.0</td><td>0.0</td><td>null</td><td>null</td></tr>\n",
       "<tr><td>8ff4d0ed17a1cab92...</td><td>1.0</td><td>0.0</td><td>2.0</td><td>0.0</td><td>2.0</td><td>0.0</td><td>15.0</td><td>32.0</td></tr>\n",
       "<tr><td>aec13cfd611b2cfea...</td><td>1.0</td><td>0.0</td><td>0.0</td><td>0.0</td><td>1.0</td><td>0.0</td><td>19.0</td><td>null</td></tr>\n",
       "<tr><td>9ba8c96ccba6cd1f0...</td><td>0.0</td><td>0.0</td><td>0.0</td><td>0.0</td><td>0.0</td><td>0.0</td><td>37.0</td><td>null</td></tr>\n",
       "</table>\n",
       "only showing top 20 rows\n"
      ],
      "text/plain": [
       "+--------------------+-----------+-----------+-------+--------------------+--------------+------------------+----------------------+----------------------+\n",
       "|           member_id|delinq_2yrs|delinq_amnt|pub_rec|pub_rec_bankruptcies|inq_last_6mths|total_rec_late_fee|mths_since_last_delinq|mths_since_last_record|\n",
       "+--------------------+-----------+-----------+-------+--------------------+--------------+------------------+----------------------+----------------------+\n",
       "|b59d80da191f5b573...|        0.0|        0.0|    0.0|                 0.0|           1.0|               0.0|                  31.0|                  null|\n",
       "|202d9f56ecb7c3bc9...|        1.0|        0.0|    0.0|                 0.0|           0.0|               0.0|                   6.0|                  null|\n",
       "|e5a140c0922b554b9...|        0.0|        0.0|    0.0|                 0.0|           0.0|               0.0|                  47.0|                  null|\n",
       "|e12aefc548f750777...|        0.0|        0.0|    0.0|                 0.0|           0.0|               0.0|                  33.0|                  null|\n",
       "|1b3a50d854fbbf97e...|        1.0|        0.0|    0.0|                 0.0|           0.0|               0.0|                  21.0|                  null|\n",
       "|1c4329e5f17697127...|        0.0|        0.0|    0.0|                 0.0|           0.0|               0.0|                  null|                  null|\n",
       "|5026c86ad983175eb...|        0.0|        0.0|    1.0|                 0.0|           2.0|               0.0|                  null|                  71.0|\n",
       "|9847d8c1e9d0b2084...|        1.0|        0.0|    2.0|                 0.0|           0.0|               0.0|                   6.0|                  63.0|\n",
       "|8340dbe1adea41fb4...|        0.0|        0.0|    0.0|                 0.0|           0.0|               0.0|                  36.0|                  null|\n",
       "|d4de0de3ab7d79ad4...|        0.0|        0.0|    0.0|                 0.0|           0.0|               0.0|                  35.0|                  null|\n",
       "|3df3cdeddb74a8712...|        0.0|        0.0|    0.0|                 0.0|           0.0|               0.0|                  null|                  null|\n",
       "|9dd72636b1b4045b4...|        0.0|        0.0|    0.0|                 0.0|           3.0|               0.0|                  null|                  null|\n",
       "|1d4e1ef4353b73c00...|        0.0|        0.0|    0.0|                 0.0|           2.0|               0.0|                  30.0|                  null|\n",
       "|6f196952e71277fd4...|        4.0|        0.0|    0.0|                 0.0|           0.0|               0.0|                   5.0|                  null|\n",
       "|9c617cbc6e3e3d6a1...|        1.0|        0.0|    0.0|                 0.0|           2.0|               0.0|                  20.0|                  null|\n",
       "|45eb04dd75400a942...|        0.0|        0.0|    0.0|                 0.0|           2.0|               0.0|                  28.0|                  null|\n",
       "|08d233c81f9e50726...|        0.0|        0.0|    0.0|                 0.0|           1.0|               0.0|                  null|                  null|\n",
       "|8ff4d0ed17a1cab92...|        1.0|        0.0|    2.0|                 0.0|           2.0|               0.0|                  15.0|                  32.0|\n",
       "|aec13cfd611b2cfea...|        1.0|        0.0|    0.0|                 0.0|           1.0|               0.0|                  19.0|                  null|\n",
       "|9ba8c96ccba6cd1f0...|        0.0|        0.0|    0.0|                 0.0|           0.0|               0.0|                  37.0|                  null|\n",
       "+--------------------+-----------+-----------+-------+--------------------+--------------+------------------+----------------------+----------------------+\n",
       "only showing top 20 rows"
      ]
     },
     "execution_count": 4,
     "metadata": {},
     "output_type": "execute_result"
    }
   ],
   "source": [
    "loans_defaulters_raw_df"
   ]
  },
  {
   "cell_type": "code",
   "execution_count": 7,
   "id": "f9f55bc2",
   "metadata": {},
   "outputs": [],
   "source": [
    "loans_defaulters_raw_df.createOrReplaceTempView(\"loan_defaulters\")"
   ]
  },
  {
   "cell_type": "code",
   "execution_count": 8,
   "id": "90d0f28d",
   "metadata": {},
   "outputs": [
    {
     "data": {
      "text/html": [
       "<table border='1'>\n",
       "<tr><th>delinq_2yrs</th></tr>\n",
       "<tr><td>1.0</td></tr>\n",
       "<tr><td>271 monthly payme...</td></tr>\n",
       "<tr><td>I bike to work on...</td></tr>\n",
       "<tr><td>183xx</td></tr>\n",
       "<tr><td>VISA and AMEX cre...</td></tr>\n",
       "<tr><td>etc. and I feel t...</td></tr>\n",
       "<tr><td>AZ</td></tr>\n",
       "<tr><td>017xx</td></tr>\n",
       "<tr><td>923xx</td></tr>\n",
       "<tr><td>446xx</td></tr>\n",
       "<tr><td>who is a financia...</td></tr>\n",
       "<tr><td>and all of that c...</td></tr>\n",
       "<tr><td>LA</td></tr>\n",
       "<tr><td>24.66</td></tr>\n",
       "<tr><td>and the removal o...</td></tr>\n",
       "<tr><td>I would like to c...</td></tr>\n",
       "<tr><td>12.24</td></tr>\n",
       "<tr><td>22.0</td></tr>\n",
       "<tr><td>so most of my inc...</td></tr>\n",
       "<tr><td>I would like to p...</td></tr>\n",
       "</table>\n",
       "only showing top 20 rows\n"
      ],
      "text/plain": [
       "+--------------------+\n",
       "|         delinq_2yrs|\n",
       "+--------------------+\n",
       "|                 1.0|\n",
       "|271 monthly payme...|\n",
       "|I bike to work on...|\n",
       "|               183xx|\n",
       "|VISA and AMEX cre...|\n",
       "|etc. and I feel t...|\n",
       "|                  AZ|\n",
       "|               017xx|\n",
       "|               923xx|\n",
       "|               446xx|\n",
       "|who is a financia...|\n",
       "|and all of that c...|\n",
       "|                  LA|\n",
       "|               24.66|\n",
       "|and the removal o...|\n",
       "|I would like to c...|\n",
       "|               12.24|\n",
       "|                22.0|\n",
       "|so most of my inc...|\n",
       "|I would like to p...|\n",
       "+--------------------+\n",
       "only showing top 20 rows"
      ]
     },
     "execution_count": 8,
     "metadata": {},
     "output_type": "execute_result"
    }
   ],
   "source": [
    "spark.sql(\"select distinct(delinq_2yrs) from loan_defaulters\")"
   ]
  },
  {
   "cell_type": "code",
   "execution_count": 10,
   "id": "4b23d612",
   "metadata": {},
   "outputs": [
    {
     "name": "stdout",
     "output_type": "stream",
     "text": [
      "+------------------+-------+\n",
      "|       delinq_2yrs|  total|\n",
      "+------------------+-------+\n",
      "|               0.0|1838878|\n",
      "|               1.0| 281335|\n",
      "|               2.0|  81285|\n",
      "|               3.0|  29539|\n",
      "|               4.0|  13179|\n",
      "|               5.0|   6599|\n",
      "|               6.0|   3717|\n",
      "|               7.0|   2062|\n",
      "|               8.0|   1223|\n",
      "|               9.0|    818|\n",
      "|              10.0|    556|\n",
      "|              11.0|    363|\n",
      "|              12.0|    264|\n",
      "|              13.0|    165|\n",
      "|              14.0|    120|\n",
      "|              15.0|     87|\n",
      "|              null|     63|\n",
      "|              16.0|     55|\n",
      "|              17.0|     30|\n",
      "|              18.0|     30|\n",
      "|              19.0|     23|\n",
      "|              20.0|     17|\n",
      "|              21.0|     12|\n",
      "|                CA|      8|\n",
      "|                TX|      6|\n",
      "|    small_business|      5|\n",
      "|              22.0|      5|\n",
      "|                IL|      5|\n",
      "|debt_consolidation|      5|\n",
      "|                FL|      4|\n",
      "|              24.0|      4|\n",
      "|                NJ|      3|\n",
      "|                NY|      3|\n",
      "|              26.0|      3|\n",
      "|             452xx|      3|\n",
      "|             945xx|      2|\n",
      "|             other|      2|\n",
      "|              30.0|      2|\n",
      "|                MD|      2|\n",
      "|       credit_card|      2|\n",
      "+------------------+-------+\n",
      "only showing top 40 rows\n",
      "\n"
     ]
    }
   ],
   "source": [
    "spark.sql(\"select delinq_2yrs, count(*) as total from loan_defaulters group by delinq_2yrs order by total desc\").show(40)"
   ]
  },
  {
   "cell_type": "code",
   "execution_count": 11,
   "id": "8e3ab549",
   "metadata": {},
   "outputs": [],
   "source": [
    "loan_defaulters_schema = \"member_id string, delinq_2yrs float, delinq_amnt float, pub_rec float, pub_rec_bankruptcies float,inq_last_6mths float, total_rec_late_fee float, mths_since_last_delinq float, mths_since_last_record float\""
   ]
  },
  {
   "cell_type": "code",
   "execution_count": 12,
   "id": "d710c987",
   "metadata": {},
   "outputs": [],
   "source": [
    "loans_def_raw_df = spark.read \\\n",
    ".format(\"csv\") \\\n",
    ".option(\"header\",True) \\\n",
    ".schema(loan_defaulters_schema) \\\n",
    ".load(\"/public/trendytech/lendingclubproject/raw/loans_defaulters_csv\")"
   ]
  },
  {
   "cell_type": "code",
   "execution_count": 13,
   "id": "32172f8a",
   "metadata": {},
   "outputs": [],
   "source": [
    "loans_def_raw_df.createOrReplaceTempView(\"loan_defaulters\")"
   ]
  },
  {
   "cell_type": "code",
   "execution_count": 14,
   "id": "0aa1867f",
   "metadata": {},
   "outputs": [
    {
     "name": "stdout",
     "output_type": "stream",
     "text": [
      "+-----------+-------+\n",
      "|delinq_2yrs|  total|\n",
      "+-----------+-------+\n",
      "|        0.0|1838878|\n",
      "|        1.0| 281335|\n",
      "|        2.0|  81285|\n",
      "|        3.0|  29539|\n",
      "|        4.0|  13179|\n",
      "|        5.0|   6599|\n",
      "|        6.0|   3717|\n",
      "|        7.0|   2062|\n",
      "|        8.0|   1223|\n",
      "|        9.0|    818|\n",
      "|       10.0|    556|\n",
      "|       11.0|    363|\n",
      "|       12.0|    264|\n",
      "|       null|    261|\n",
      "|       13.0|    165|\n",
      "|       14.0|    120|\n",
      "|       15.0|     87|\n",
      "|       16.0|     55|\n",
      "|       18.0|     30|\n",
      "|       17.0|     30|\n",
      "|       19.0|     23|\n",
      "|       20.0|     17|\n",
      "|       21.0|     12|\n",
      "|       22.0|      5|\n",
      "|       24.0|      4|\n",
      "|       26.0|      3|\n",
      "|       23.0|      2|\n",
      "|       25.0|      2|\n",
      "|       3.44|      2|\n",
      "|       29.0|      2|\n",
      "|       30.0|      2|\n",
      "|      17.17|      1|\n",
      "|      13.76|      1|\n",
      "|      18.53|      1|\n",
      "|      22.62|      1|\n",
      "|       9.44|      1|\n",
      "|       27.0|      1|\n",
      "|       58.0|      1|\n",
      "|       8.56|      1|\n",
      "|      16.42|      1|\n",
      "+-----------+-------+\n",
      "only showing top 40 rows\n",
      "\n"
     ]
    }
   ],
   "source": [
    "spark.sql(\"select delinq_2yrs, count(*) as total from loan_defaulters group by delinq_2yrs order by total desc\").show(40)"
   ]
  },
  {
   "cell_type": "code",
   "execution_count": 15,
   "id": "fb143f8f",
   "metadata": {},
   "outputs": [],
   "source": [
    "from pyspark.sql.functions import col"
   ]
  },
  {
   "cell_type": "code",
   "execution_count": 16,
   "id": "8b6beab8",
   "metadata": {},
   "outputs": [],
   "source": [
    "loans_def_processed_df = loans_def_raw_df.withColumn(\"delinq_2yrs\", col(\"delinq_2yrs\").cast(\"integer\")).fillna(0, subset = [\"delinq_2yrs\"])"
   ]
  },
  {
   "cell_type": "code",
   "execution_count": 17,
   "id": "dd5fb5a7",
   "metadata": {},
   "outputs": [],
   "source": [
    "loans_def_processed_df.createOrReplaceTempView(\"loan_defaulters\")"
   ]
  },
  {
   "cell_type": "code",
   "execution_count": 18,
   "id": "fe58bb3e",
   "metadata": {},
   "outputs": [
    {
     "data": {
      "text/html": [
       "<table border='1'>\n",
       "<tr><th>count(1)</th></tr>\n",
       "<tr><td>0</td></tr>\n",
       "</table>\n"
      ],
      "text/plain": [
       "+--------+\n",
       "|count(1)|\n",
       "+--------+\n",
       "|       0|\n",
       "+--------+"
      ]
     },
     "execution_count": 18,
     "metadata": {},
     "output_type": "execute_result"
    }
   ],
   "source": [
    "spark.sql(\"select count(*) from loan_defaulters where delinq_2yrs is null\")"
   ]
  },
  {
   "cell_type": "code",
   "execution_count": 19,
   "id": "6c6ef1f0",
   "metadata": {},
   "outputs": [
    {
     "name": "stdout",
     "output_type": "stream",
     "text": [
      "+-----------+-------+\n",
      "|delinq_2yrs|  total|\n",
      "+-----------+-------+\n",
      "|          0|1839141|\n",
      "|          1| 281337|\n",
      "|          2|  81285|\n",
      "|          3|  29545|\n",
      "|          4|  13180|\n",
      "|          5|   6601|\n",
      "|          6|   3719|\n",
      "|          7|   2063|\n",
      "|          8|   1226|\n",
      "|          9|    821|\n",
      "|         10|    558|\n",
      "|         11|    363|\n",
      "|         12|    266|\n",
      "|         13|    167|\n",
      "|         14|    123|\n",
      "|         15|     90|\n",
      "|         16|     56|\n",
      "|         17|     33|\n",
      "|         18|     32|\n",
      "|         19|     24|\n",
      "|         20|     19|\n",
      "|         21|     16|\n",
      "|         22|      7|\n",
      "|         24|      6|\n",
      "|         23|      5|\n",
      "|         26|      4|\n",
      "|         25|      2|\n",
      "|         30|      2|\n",
      "|         29|      2|\n",
      "|         27|      1|\n",
      "|         35|      1|\n",
      "|         28|      1|\n",
      "|         42|      1|\n",
      "|         39|      1|\n",
      "|         32|      1|\n",
      "|         36|      1|\n",
      "|         58|      1|\n",
      "+-----------+-------+\n",
      "\n"
     ]
    }
   ],
   "source": [
    "spark.sql(\"select delinq_2yrs, count(*) as total from loan_defaulters group by delinq_2yrs order by total desc\").show(40)"
   ]
  },
  {
   "cell_type": "markdown",
   "id": "91296af7",
   "metadata": {},
   "source": [
    "### Storing only Defaulters Data"
   ]
  },
  {
   "cell_type": "code",
   "execution_count": 20,
   "id": "05b91c56",
   "metadata": {},
   "outputs": [],
   "source": [
    "loans_def_delinq_df = spark.sql(\"select member_id,delinq_2yrs, delinq_amnt, int(mths_since_last_delinq) from loan_defaulters where delinq_2yrs > 0 or mths_since_last_delinq > 0\")"
   ]
  },
  {
   "cell_type": "code",
   "execution_count": 21,
   "id": "f5e2d2a5",
   "metadata": {},
   "outputs": [
    {
     "data": {
      "text/html": [
       "<table border='1'>\n",
       "<tr><th>member_id</th><th>delinq_2yrs</th><th>delinq_amnt</th><th>mths_since_last_delinq</th></tr>\n",
       "<tr><td>9cb79aa7323e81be1...</td><td>2</td><td>0.0</td><td>11</td></tr>\n",
       "<tr><td>aac68850fdac09fd0...</td><td>1</td><td>0.0</td><td>21</td></tr>\n",
       "<tr><td>c89986155a070db2e...</td><td>1</td><td>0.0</td><td>5</td></tr>\n",
       "<tr><td>6e8d94bf446e97025...</td><td>0</td><td>0.0</td><td>36</td></tr>\n",
       "<tr><td>42f73fd8a01f1c475...</td><td>0</td><td>0.0</td><td>46</td></tr>\n",
       "<tr><td>1eef79a0e79b72c7a...</td><td>1</td><td>0.0</td><td>21</td></tr>\n",
       "<tr><td>1dd1d1b51473d4993...</td><td>0</td><td>0.0</td><td>44</td></tr>\n",
       "<tr><td>ec1953dba2cfb89ad...</td><td>2</td><td>0.0</td><td>13</td></tr>\n",
       "<tr><td>8241a6bb3a9350fb8...</td><td>0</td><td>0.0</td><td>57</td></tr>\n",
       "<tr><td>cdc94fa1c29a6a70a...</td><td>0</td><td>0.0</td><td>44</td></tr>\n",
       "<tr><td>3712c9da85e54b7b1...</td><td>1</td><td>0.0</td><td>19</td></tr>\n",
       "<tr><td>6ebc82410b3dc9dcb...</td><td>0</td><td>0.0</td><td>43</td></tr>\n",
       "<tr><td>d25f6d6da5a92a401...</td><td>0</td><td>0.0</td><td>45</td></tr>\n",
       "<tr><td>657a760b1d52967fb...</td><td>0</td><td>0.0</td><td>36</td></tr>\n",
       "<tr><td>030e5c9c411c936c5...</td><td>2</td><td>0.0</td><td>6</td></tr>\n",
       "<tr><td>7fd6a504a6486e061...</td><td>0</td><td>0.0</td><td>45</td></tr>\n",
       "<tr><td>a67f439593858be7c...</td><td>0</td><td>0.0</td><td>28</td></tr>\n",
       "<tr><td>252736f8401b6b046...</td><td>2</td><td>0.0</td><td>5</td></tr>\n",
       "<tr><td>bf7c24ada32d968a6...</td><td>0</td><td>0.0</td><td>49</td></tr>\n",
       "<tr><td>a36b7198a8d922b0c...</td><td>0</td><td>0.0</td><td>75</td></tr>\n",
       "</table>\n",
       "only showing top 20 rows\n"
      ],
      "text/plain": [
       "+--------------------+-----------+-----------+----------------------+\n",
       "|           member_id|delinq_2yrs|delinq_amnt|mths_since_last_delinq|\n",
       "+--------------------+-----------+-----------+----------------------+\n",
       "|9cb79aa7323e81be1...|          2|        0.0|                    11|\n",
       "|aac68850fdac09fd0...|          1|        0.0|                    21|\n",
       "|c89986155a070db2e...|          1|        0.0|                     5|\n",
       "|6e8d94bf446e97025...|          0|        0.0|                    36|\n",
       "|42f73fd8a01f1c475...|          0|        0.0|                    46|\n",
       "|1eef79a0e79b72c7a...|          1|        0.0|                    21|\n",
       "|1dd1d1b51473d4993...|          0|        0.0|                    44|\n",
       "|ec1953dba2cfb89ad...|          2|        0.0|                    13|\n",
       "|8241a6bb3a9350fb8...|          0|        0.0|                    57|\n",
       "|cdc94fa1c29a6a70a...|          0|        0.0|                    44|\n",
       "|3712c9da85e54b7b1...|          1|        0.0|                    19|\n",
       "|6ebc82410b3dc9dcb...|          0|        0.0|                    43|\n",
       "|d25f6d6da5a92a401...|          0|        0.0|                    45|\n",
       "|657a760b1d52967fb...|          0|        0.0|                    36|\n",
       "|030e5c9c411c936c5...|          2|        0.0|                     6|\n",
       "|7fd6a504a6486e061...|          0|        0.0|                    45|\n",
       "|a67f439593858be7c...|          0|        0.0|                    28|\n",
       "|252736f8401b6b046...|          2|        0.0|                     5|\n",
       "|bf7c24ada32d968a6...|          0|        0.0|                    49|\n",
       "|a36b7198a8d922b0c...|          0|        0.0|                    75|\n",
       "+--------------------+-----------+-----------+----------------------+\n",
       "only showing top 20 rows"
      ]
     },
     "execution_count": 21,
     "metadata": {},
     "output_type": "execute_result"
    }
   ],
   "source": [
    "loans_def_delinq_df"
   ]
  },
  {
   "cell_type": "code",
   "execution_count": 22,
   "id": "3df6817c",
   "metadata": {},
   "outputs": [
    {
     "data": {
      "text/plain": [
       "1106163"
      ]
     },
     "execution_count": 22,
     "metadata": {},
     "output_type": "execute_result"
    }
   ],
   "source": [
    "loans_def_delinq_df.count()"
   ]
  },
  {
   "cell_type": "code",
   "execution_count": 23,
   "id": "bb84e609",
   "metadata": {},
   "outputs": [],
   "source": [
    "loans_def_records_enq_df = spark.sql(\"select member_id from loan_defaulters where pub_rec > 0.0 or pub_rec_bankruptcies > 0.0 or inq_last_6mths > 0.0\")"
   ]
  },
  {
   "cell_type": "code",
   "execution_count": 24,
   "id": "4304c129",
   "metadata": {},
   "outputs": [
    {
     "data": {
      "text/html": [
       "<table border='1'>\n",
       "<tr><th>member_id</th></tr>\n",
       "<tr><td>0dd2bbc517e3c8f9e...</td></tr>\n",
       "<tr><td>458458599d3df3bfc...</td></tr>\n",
       "<tr><td>f1efcf7dfbfef21be...</td></tr>\n",
       "<tr><td>c89986155a070db2e...</td></tr>\n",
       "<tr><td>e88945f86a96f8d71...</td></tr>\n",
       "<tr><td>4e1c30a5dfe9f1e20...</td></tr>\n",
       "<tr><td>76cbefe31f7834f47...</td></tr>\n",
       "<tr><td>47d002f59a274c6f2...</td></tr>\n",
       "<tr><td>09a1c6855801dad88...</td></tr>\n",
       "<tr><td>56d4375718ad6940d...</td></tr>\n",
       "<tr><td>6ebc82410b3dc9dcb...</td></tr>\n",
       "<tr><td>41a307b3c2c66aad8...</td></tr>\n",
       "<tr><td>d168c599b8aea3c0b...</td></tr>\n",
       "<tr><td>657a760b1d52967fb...</td></tr>\n",
       "<tr><td>b7d9da217c8256cfd...</td></tr>\n",
       "<tr><td>a67f439593858be7c...</td></tr>\n",
       "<tr><td>3a4aac093cddcdb0c...</td></tr>\n",
       "<tr><td>23bb4e7a5ed15c1fc...</td></tr>\n",
       "<tr><td>0b55b1efb75760dc3...</td></tr>\n",
       "<tr><td>04eedd3c6357df852...</td></tr>\n",
       "</table>\n",
       "only showing top 20 rows\n"
      ],
      "text/plain": [
       "+--------------------+\n",
       "|           member_id|\n",
       "+--------------------+\n",
       "|0dd2bbc517e3c8f9e...|\n",
       "|458458599d3df3bfc...|\n",
       "|f1efcf7dfbfef21be...|\n",
       "|c89986155a070db2e...|\n",
       "|e88945f86a96f8d71...|\n",
       "|4e1c30a5dfe9f1e20...|\n",
       "|76cbefe31f7834f47...|\n",
       "|47d002f59a274c6f2...|\n",
       "|09a1c6855801dad88...|\n",
       "|56d4375718ad6940d...|\n",
       "|6ebc82410b3dc9dcb...|\n",
       "|41a307b3c2c66aad8...|\n",
       "|d168c599b8aea3c0b...|\n",
       "|657a760b1d52967fb...|\n",
       "|b7d9da217c8256cfd...|\n",
       "|a67f439593858be7c...|\n",
       "|3a4aac093cddcdb0c...|\n",
       "|23bb4e7a5ed15c1fc...|\n",
       "|0b55b1efb75760dc3...|\n",
       "|04eedd3c6357df852...|\n",
       "+--------------------+\n",
       "only showing top 20 rows"
      ]
     },
     "execution_count": 24,
     "metadata": {},
     "output_type": "execute_result"
    }
   ],
   "source": [
    "loans_def_records_enq_df"
   ]
  },
  {
   "cell_type": "code",
   "execution_count": 25,
   "id": "913ac6a9",
   "metadata": {},
   "outputs": [
    {
     "data": {
      "text/plain": [
       "1070125"
      ]
     },
     "execution_count": 25,
     "metadata": {},
     "output_type": "execute_result"
    }
   ],
   "source": [
    "loans_def_records_enq_df.count()"
   ]
  },
  {
   "cell_type": "code",
   "execution_count": 26,
   "id": "e1e795da",
   "metadata": {},
   "outputs": [],
   "source": [
    "loans_def_delinq_df.write \\\n",
    ".option(\"header\", True) \\\n",
    ".format(\"csv\") \\\n",
    ".mode(\"overwrite\") \\\n",
    ".option(\"path\", \"/user/itv007473/lendingclubproject/cleaned/loans_defaulters_deling_csv\") \\\n",
    ".save()"
   ]
  },
  {
   "cell_type": "code",
   "execution_count": 27,
   "id": "2de3a461",
   "metadata": {},
   "outputs": [],
   "source": [
    "loans_def_delinq_df.write \\\n",
    ".format(\"parquet\") \\\n",
    ".mode(\"overwrite\") \\\n",
    ".option(\"path\", \"/user/itv007473/lendingclubproject/cleaned/loans_defaulters_deling_parquet\") \\\n",
    ".save()"
   ]
  },
  {
   "cell_type": "code",
   "execution_count": 28,
   "id": "b0856bad",
   "metadata": {},
   "outputs": [],
   "source": [
    "loans_def_records_enq_df.write \\\n",
    ".format(\"parquet\") \\\n",
    ".mode(\"overwrite\") \\\n",
    ".option(\"path\", \"/user/itv007473/lendingclubproject/cleaned/loans_defaulters_records_enq_parquet\") \\\n",
    ".save()"
   ]
  },
  {
   "cell_type": "code",
   "execution_count": 30,
   "id": "56e9c221",
   "metadata": {},
   "outputs": [],
   "source": [
    "loans_def_records_enq_df.write \\\n",
    ".option(\"header\", True) \\\n",
    ".format(\"csv\") \\\n",
    ".mode(\"overwrite\") \\\n",
    ".option(\"path\", \"/user/itv007473/lendingclubproject/cleaned/loans_defaulters_records_enq_csv\") \\\n",
    ".save()"
   ]
  },
  {
   "cell_type": "code",
   "execution_count": null,
   "id": "f04b258c",
   "metadata": {},
   "outputs": [],
   "source": []
  }
 ],
 "metadata": {
  "kernelspec": {
   "display_name": "Pyspark 3",
   "language": "python",
   "name": "pyspark3"
  },
  "language_info": {
   "codemirror_mode": {
    "name": "ipython",
    "version": 3
   },
   "file_extension": ".py",
   "mimetype": "text/x-python",
   "name": "python",
   "nbconvert_exporter": "python",
   "pygments_lexer": "ipython3",
   "version": "3.6.12"
  }
 },
 "nbformat": 4,
 "nbformat_minor": 5
}
