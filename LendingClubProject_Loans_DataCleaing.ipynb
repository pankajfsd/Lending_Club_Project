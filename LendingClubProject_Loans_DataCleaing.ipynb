{
 "cells": [
  {
   "cell_type": "markdown",
   "id": "9b188a07",
   "metadata": {},
   "source": [
    "# Lending Club Project Loans Data Cleaning"
   ]
  },
  {
   "cell_type": "code",
   "execution_count": 53,
   "id": "8828c7eb",
   "metadata": {},
   "outputs": [],
   "source": [
    "from pyspark.sql import SparkSession\n",
    "import getpass\n",
    "username=getpass.getuser()\n",
    "spark=SparkSession. \\\n",
    "builder. \\\n",
    "config('spark.ui.port','0'). \\\n",
    "config('spark.shuffle.useOldFetchProtocol','true'). \\\n",
    "config(\"spark.sql.warehouse.dir\",f\"/user/{username}/warehouse\"). \\\n",
    "enableHiveSupport(). \\\n",
    "master('yarn'). \\\n",
    "getOrCreate()"
   ]
  },
  {
   "cell_type": "code",
   "execution_count": 54,
   "id": "24b8f3aa",
   "metadata": {},
   "outputs": [],
   "source": [
    "loans_raw_df=spark.read \\\n",
    ".format(\"csv\") \\\n",
    ".option(\"header\",True) \\\n",
    ".option(\"inferSchema\",True) \\\n",
    ".load(\"/user/itv007473/lendingclubproject/raw/loans_data_csv\")"
   ]
  },
  {
   "cell_type": "code",
   "execution_count": 5,
   "id": "dc9e55e1",
   "metadata": {},
   "outputs": [
    {
     "data": {
      "text/html": [
       "<table border='1'>\n",
       "<tr><th>loan_id</th><th>member_id</th><th>loan_amnt</th><th>funded_amnt</th><th>term</th><th>int_rate</th><th>installment</th><th>issue_d</th><th>loan_status</th><th>purpose</th><th>title</th></tr>\n",
       "<tr><td>76003861</td><td>a4ec00ba67fadf2fe...</td><td>24000.0</td><td>24000.0</td><td>60 months</td><td>15.31</td><td>574.88</td><td>Apr-2016</td><td>Charged Off</td><td>debt_consolidation</td><td>Debt consolidation</td></tr>\n",
       "<tr><td>76263914</td><td>4f7a9e6ffaacd5da2...</td><td>2400.0</td><td>2400.0</td><td>36 months</td><td>11.47</td><td>79.11</td><td>Apr-2016</td><td>Fully Paid</td><td>debt_consolidation</td><td>Debt consolidation</td></tr>\n",
       "<tr><td>75537401</td><td>e935a4c27fc78ae61...</td><td>12600.0</td><td>12600.0</td><td>36 months</td><td>7.39</td><td>391.31</td><td>Apr-2016</td><td>Fully Paid</td><td>other</td><td>Other</td></tr>\n",
       "<tr><td>75038986</td><td>2d32004bd5e1dc3c3...</td><td>16800.0</td><td>16800.0</td><td>60 months</td><td>19.53</td><td>440.72</td><td>Apr-2016</td><td>Current</td><td>credit_card</td><td>Credit card refin...</td></tr>\n",
       "<tr><td>76301424</td><td>f7116b7f7546a7952...</td><td>4300.0</td><td>4300.0</td><td>36 months</td><td>17.27</td><td>153.89</td><td>Apr-2016</td><td>Charged Off</td><td>debt_consolidation</td><td>Debt consolidation</td></tr>\n",
       "<tr><td>75333198</td><td>d3aa3a3c95eca5631...</td><td>8950.0</td><td>8950.0</td><td>36 months</td><td>22.45</td><td>343.9</td><td>Apr-2016</td><td>Current</td><td>credit_card</td><td>Credit card refin...</td></tr>\n",
       "<tr><td>76391453</td><td>fc8a2e046eaaba02d...</td><td>35000.0</td><td>35000.0</td><td>60 months</td><td>12.99</td><td>796.18</td><td>Apr-2016</td><td>Fully Paid</td><td>debt_consolidation</td><td>Debt consolidation</td></tr>\n",
       "<tr><td>76363364</td><td>577ae670ac2ec7ed3...</td><td>15000.0</td><td>15000.0</td><td>36 months</td><td>9.16</td><td>478.12</td><td>Apr-2016</td><td>Fully Paid</td><td>house</td><td>Home buying</td></tr>\n",
       "<tr><td>76272510</td><td>d3792868819649ba9...</td><td>30000.0</td><td>30000.0</td><td>60 months</td><td>16.29</td><td>734.18</td><td>Apr-2016</td><td>Current</td><td>debt_consolidation</td><td>Debt consolidation</td></tr>\n",
       "<tr><td>76304116</td><td>6d3a5a422261348b3...</td><td>4800.0</td><td>4800.0</td><td>36 months</td><td>19.99</td><td>178.37</td><td>Apr-2016</td><td>Fully Paid</td><td>credit_card</td><td>Credit card refin...</td></tr>\n",
       "<tr><td>76422971</td><td>7435a5a4b2b825a20...</td><td>10000.0</td><td>10000.0</td><td>36 months</td><td>19.53</td><td>369.25</td><td>Apr-2016</td><td>Charged Off</td><td>moving</td><td>Moving and reloca...</td></tr>\n",
       "<tr><td>75369187</td><td>2a1dd1ae5b20c4dee...</td><td>35000.0</td><td>35000.0</td><td>60 months</td><td>11.99</td><td>778.38</td><td>Apr-2016</td><td>Current</td><td>credit_card</td><td>null</td></tr>\n",
       "<tr><td>76212079</td><td>8d203efd7c1af010c...</td><td>6400.0</td><td>6400.0</td><td>36 months</td><td>9.16</td><td>204.0</td><td>Apr-2016</td><td>Current</td><td>credit_card</td><td>Credit card refin...</td></tr>\n",
       "<tr><td>75104089</td><td>c266c3c131861bb8c...</td><td>8500.0</td><td>8500.0</td><td>36 months</td><td>9.75</td><td>273.28</td><td>Apr-2016</td><td>Fully Paid</td><td>debt_consolidation</td><td>Debt consolidation</td></tr>\n",
       "<tr><td>75669444</td><td>c7b46f35c566b6d56...</td><td>30800.0</td><td>30800.0</td><td>60 months</td><td>19.53</td><td>807.98</td><td>Apr-2016</td><td>Current</td><td>debt_consolidation</td><td>Debt consolidation</td></tr>\n",
       "<tr><td>76223382</td><td>9284503d1d6dcd23b...</td><td>2000.0</td><td>2000.0</td><td>36 months</td><td>9.16</td><td>63.75</td><td>Apr-2016</td><td>Current</td><td>debt_consolidation</td><td>Debt consolidation</td></tr>\n",
       "<tr><td>76223540</td><td>616e44da25c28bd55...</td><td>25000.0</td><td>25000.0</td><td>36 months</td><td>17.27</td><td>894.69</td><td>Apr-2016</td><td>Fully Paid</td><td>debt_consolidation</td><td>Debt consolidation</td></tr>\n",
       "<tr><td>76255093</td><td>8192d3261d35b28af...</td><td>7000.0</td><td>7000.0</td><td>36 months</td><td>16.29</td><td>247.11</td><td>Apr-2016</td><td>Fully Paid</td><td>credit_card</td><td>Credit card refin...</td></tr>\n",
       "<tr><td>76402196</td><td>c764f6b4666a3a439...</td><td>8000.0</td><td>8000.0</td><td>36 months</td><td>13.67</td><td>272.15</td><td>Apr-2016</td><td>Current</td><td>debt_consolidation</td><td>Debt consolidation</td></tr>\n",
       "<tr><td>76223437</td><td>199119e026b4bfb14...</td><td>24000.0</td><td>24000.0</td><td>36 months</td><td>9.16</td><td>764.99</td><td>Apr-2016</td><td>Fully Paid</td><td>other</td><td>Other</td></tr>\n",
       "</table>\n",
       "only showing top 20 rows\n"
      ],
      "text/plain": [
       "+--------+--------------------+---------+-----------+---------+--------+-----------+--------+-----------+------------------+--------------------+\n",
       "| loan_id|           member_id|loan_amnt|funded_amnt|     term|int_rate|installment| issue_d|loan_status|           purpose|               title|\n",
       "+--------+--------------------+---------+-----------+---------+--------+-----------+--------+-----------+------------------+--------------------+\n",
       "|76003861|a4ec00ba67fadf2fe...|  24000.0|    24000.0|60 months|   15.31|     574.88|Apr-2016|Charged Off|debt_consolidation|  Debt consolidation|\n",
       "|76263914|4f7a9e6ffaacd5da2...|   2400.0|     2400.0|36 months|   11.47|      79.11|Apr-2016| Fully Paid|debt_consolidation|  Debt consolidation|\n",
       "|75537401|e935a4c27fc78ae61...|  12600.0|    12600.0|36 months|    7.39|     391.31|Apr-2016| Fully Paid|             other|               Other|\n",
       "|75038986|2d32004bd5e1dc3c3...|  16800.0|    16800.0|60 months|   19.53|     440.72|Apr-2016|    Current|       credit_card|Credit card refin...|\n",
       "|76301424|f7116b7f7546a7952...|   4300.0|     4300.0|36 months|   17.27|     153.89|Apr-2016|Charged Off|debt_consolidation|  Debt consolidation|\n",
       "|75333198|d3aa3a3c95eca5631...|   8950.0|     8950.0|36 months|   22.45|      343.9|Apr-2016|    Current|       credit_card|Credit card refin...|\n",
       "|76391453|fc8a2e046eaaba02d...|  35000.0|    35000.0|60 months|   12.99|     796.18|Apr-2016| Fully Paid|debt_consolidation|  Debt consolidation|\n",
       "|76363364|577ae670ac2ec7ed3...|  15000.0|    15000.0|36 months|    9.16|     478.12|Apr-2016| Fully Paid|             house|         Home buying|\n",
       "|76272510|d3792868819649ba9...|  30000.0|    30000.0|60 months|   16.29|     734.18|Apr-2016|    Current|debt_consolidation|  Debt consolidation|\n",
       "|76304116|6d3a5a422261348b3...|   4800.0|     4800.0|36 months|   19.99|     178.37|Apr-2016| Fully Paid|       credit_card|Credit card refin...|\n",
       "|76422971|7435a5a4b2b825a20...|  10000.0|    10000.0|36 months|   19.53|     369.25|Apr-2016|Charged Off|            moving|Moving and reloca...|\n",
       "|75369187|2a1dd1ae5b20c4dee...|  35000.0|    35000.0|60 months|   11.99|     778.38|Apr-2016|    Current|       credit_card|                null|\n",
       "|76212079|8d203efd7c1af010c...|   6400.0|     6400.0|36 months|    9.16|      204.0|Apr-2016|    Current|       credit_card|Credit card refin...|\n",
       "|75104089|c266c3c131861bb8c...|   8500.0|     8500.0|36 months|    9.75|     273.28|Apr-2016| Fully Paid|debt_consolidation|  Debt consolidation|\n",
       "|75669444|c7b46f35c566b6d56...|  30800.0|    30800.0|60 months|   19.53|     807.98|Apr-2016|    Current|debt_consolidation|  Debt consolidation|\n",
       "|76223382|9284503d1d6dcd23b...|   2000.0|     2000.0|36 months|    9.16|      63.75|Apr-2016|    Current|debt_consolidation|  Debt consolidation|\n",
       "|76223540|616e44da25c28bd55...|  25000.0|    25000.0|36 months|   17.27|     894.69|Apr-2016| Fully Paid|debt_consolidation|  Debt consolidation|\n",
       "|76255093|8192d3261d35b28af...|   7000.0|     7000.0|36 months|   16.29|     247.11|Apr-2016| Fully Paid|       credit_card|Credit card refin...|\n",
       "|76402196|c764f6b4666a3a439...|   8000.0|     8000.0|36 months|   13.67|     272.15|Apr-2016|    Current|debt_consolidation|  Debt consolidation|\n",
       "|76223437|199119e026b4bfb14...|  24000.0|    24000.0|36 months|    9.16|     764.99|Apr-2016| Fully Paid|             other|               Other|\n",
       "+--------+--------------------+---------+-----------+---------+--------+-----------+--------+-----------+------------------+--------------------+\n",
       "only showing top 20 rows"
      ]
     },
     "execution_count": 5,
     "metadata": {},
     "output_type": "execute_result"
    }
   ],
   "source": [
    "loans_raw_df"
   ]
  },
  {
   "cell_type": "markdown",
   "id": "9dff8f36",
   "metadata": {},
   "source": [
    "## Defining Schema along with desired column names"
   ]
  },
  {
   "cell_type": "code",
   "execution_count": 55,
   "id": "c9f6c949",
   "metadata": {},
   "outputs": [],
   "source": [
    "loans_schema = '''loan_id string,member_id string,loan_amount\n",
    "float,funded_amount float,loan_term_months string,interest_rate\n",
    "float,monthly_installment float,issue_date string,loan_status\n",
    "string,loan_purpose string,loan_title string'''"
   ]
  },
  {
   "cell_type": "code",
   "execution_count": 56,
   "id": "d4da27eb",
   "metadata": {},
   "outputs": [],
   "source": [
    "loans_raw_df=spark.read \\\n",
    ".format(\"csv\") \\\n",
    ".option(\"header\",True) \\\n",
    ".schema(loans_schema) \\\n",
    ".load(\"/user/itv007473/lendingclubproject/raw/loans_data_csv\") "
   ]
  },
  {
   "cell_type": "code",
   "execution_count": 8,
   "id": "9a7071db",
   "metadata": {},
   "outputs": [
    {
     "data": {
      "text/html": [
       "<table border='1'>\n",
       "<tr><th>loan_id</th><th>member_id</th><th>loan_amount</th><th>funded_amount</th><th>loan_term_months</th><th>interest_rate</th><th>monthly_installment</th><th>issue_date</th><th>loan_status</th><th>loan_purpose</th><th>loan_title</th></tr>\n",
       "<tr><td>76003861</td><td>a4ec00ba67fadf2fe...</td><td>24000.0</td><td>24000.0</td><td>60 months</td><td>15.31</td><td>574.88</td><td>Apr-2016</td><td>Charged Off</td><td>debt_consolidation</td><td>Debt consolidation</td></tr>\n",
       "<tr><td>76263914</td><td>4f7a9e6ffaacd5da2...</td><td>2400.0</td><td>2400.0</td><td>36 months</td><td>11.47</td><td>79.11</td><td>Apr-2016</td><td>Fully Paid</td><td>debt_consolidation</td><td>Debt consolidation</td></tr>\n",
       "<tr><td>75537401</td><td>e935a4c27fc78ae61...</td><td>12600.0</td><td>12600.0</td><td>36 months</td><td>7.39</td><td>391.31</td><td>Apr-2016</td><td>Fully Paid</td><td>other</td><td>Other</td></tr>\n",
       "<tr><td>75038986</td><td>2d32004bd5e1dc3c3...</td><td>16800.0</td><td>16800.0</td><td>60 months</td><td>19.53</td><td>440.72</td><td>Apr-2016</td><td>Current</td><td>credit_card</td><td>Credit card refin...</td></tr>\n",
       "<tr><td>76301424</td><td>f7116b7f7546a7952...</td><td>4300.0</td><td>4300.0</td><td>36 months</td><td>17.27</td><td>153.89</td><td>Apr-2016</td><td>Charged Off</td><td>debt_consolidation</td><td>Debt consolidation</td></tr>\n",
       "<tr><td>75333198</td><td>d3aa3a3c95eca5631...</td><td>8950.0</td><td>8950.0</td><td>36 months</td><td>22.45</td><td>343.9</td><td>Apr-2016</td><td>Current</td><td>credit_card</td><td>Credit card refin...</td></tr>\n",
       "<tr><td>76391453</td><td>fc8a2e046eaaba02d...</td><td>35000.0</td><td>35000.0</td><td>60 months</td><td>12.99</td><td>796.18</td><td>Apr-2016</td><td>Fully Paid</td><td>debt_consolidation</td><td>Debt consolidation</td></tr>\n",
       "<tr><td>76363364</td><td>577ae670ac2ec7ed3...</td><td>15000.0</td><td>15000.0</td><td>36 months</td><td>9.16</td><td>478.12</td><td>Apr-2016</td><td>Fully Paid</td><td>house</td><td>Home buying</td></tr>\n",
       "<tr><td>76272510</td><td>d3792868819649ba9...</td><td>30000.0</td><td>30000.0</td><td>60 months</td><td>16.29</td><td>734.18</td><td>Apr-2016</td><td>Current</td><td>debt_consolidation</td><td>Debt consolidation</td></tr>\n",
       "<tr><td>76304116</td><td>6d3a5a422261348b3...</td><td>4800.0</td><td>4800.0</td><td>36 months</td><td>19.99</td><td>178.37</td><td>Apr-2016</td><td>Fully Paid</td><td>credit_card</td><td>Credit card refin...</td></tr>\n",
       "<tr><td>76422971</td><td>7435a5a4b2b825a20...</td><td>10000.0</td><td>10000.0</td><td>36 months</td><td>19.53</td><td>369.25</td><td>Apr-2016</td><td>Charged Off</td><td>moving</td><td>Moving and reloca...</td></tr>\n",
       "<tr><td>75369187</td><td>2a1dd1ae5b20c4dee...</td><td>35000.0</td><td>35000.0</td><td>60 months</td><td>11.99</td><td>778.38</td><td>Apr-2016</td><td>Current</td><td>credit_card</td><td>null</td></tr>\n",
       "<tr><td>76212079</td><td>8d203efd7c1af010c...</td><td>6400.0</td><td>6400.0</td><td>36 months</td><td>9.16</td><td>204.0</td><td>Apr-2016</td><td>Current</td><td>credit_card</td><td>Credit card refin...</td></tr>\n",
       "<tr><td>75104089</td><td>c266c3c131861bb8c...</td><td>8500.0</td><td>8500.0</td><td>36 months</td><td>9.75</td><td>273.28</td><td>Apr-2016</td><td>Fully Paid</td><td>debt_consolidation</td><td>Debt consolidation</td></tr>\n",
       "<tr><td>75669444</td><td>c7b46f35c566b6d56...</td><td>30800.0</td><td>30800.0</td><td>60 months</td><td>19.53</td><td>807.98</td><td>Apr-2016</td><td>Current</td><td>debt_consolidation</td><td>Debt consolidation</td></tr>\n",
       "<tr><td>76223382</td><td>9284503d1d6dcd23b...</td><td>2000.0</td><td>2000.0</td><td>36 months</td><td>9.16</td><td>63.75</td><td>Apr-2016</td><td>Current</td><td>debt_consolidation</td><td>Debt consolidation</td></tr>\n",
       "<tr><td>76223540</td><td>616e44da25c28bd55...</td><td>25000.0</td><td>25000.0</td><td>36 months</td><td>17.27</td><td>894.69</td><td>Apr-2016</td><td>Fully Paid</td><td>debt_consolidation</td><td>Debt consolidation</td></tr>\n",
       "<tr><td>76255093</td><td>8192d3261d35b28af...</td><td>7000.0</td><td>7000.0</td><td>36 months</td><td>16.29</td><td>247.11</td><td>Apr-2016</td><td>Fully Paid</td><td>credit_card</td><td>Credit card refin...</td></tr>\n",
       "<tr><td>76402196</td><td>c764f6b4666a3a439...</td><td>8000.0</td><td>8000.0</td><td>36 months</td><td>13.67</td><td>272.15</td><td>Apr-2016</td><td>Current</td><td>debt_consolidation</td><td>Debt consolidation</td></tr>\n",
       "<tr><td>76223437</td><td>199119e026b4bfb14...</td><td>24000.0</td><td>24000.0</td><td>36 months</td><td>9.16</td><td>764.99</td><td>Apr-2016</td><td>Fully Paid</td><td>other</td><td>Other</td></tr>\n",
       "</table>\n",
       "only showing top 20 rows\n"
      ],
      "text/plain": [
       "+--------+--------------------+-----------+-------------+----------------+-------------+-------------------+----------+-----------+------------------+--------------------+\n",
       "| loan_id|           member_id|loan_amount|funded_amount|loan_term_months|interest_rate|monthly_installment|issue_date|loan_status|      loan_purpose|          loan_title|\n",
       "+--------+--------------------+-----------+-------------+----------------+-------------+-------------------+----------+-----------+------------------+--------------------+\n",
       "|76003861|a4ec00ba67fadf2fe...|    24000.0|      24000.0|       60 months|        15.31|             574.88|  Apr-2016|Charged Off|debt_consolidation|  Debt consolidation|\n",
       "|76263914|4f7a9e6ffaacd5da2...|     2400.0|       2400.0|       36 months|        11.47|              79.11|  Apr-2016| Fully Paid|debt_consolidation|  Debt consolidation|\n",
       "|75537401|e935a4c27fc78ae61...|    12600.0|      12600.0|       36 months|         7.39|             391.31|  Apr-2016| Fully Paid|             other|               Other|\n",
       "|75038986|2d32004bd5e1dc3c3...|    16800.0|      16800.0|       60 months|        19.53|             440.72|  Apr-2016|    Current|       credit_card|Credit card refin...|\n",
       "|76301424|f7116b7f7546a7952...|     4300.0|       4300.0|       36 months|        17.27|             153.89|  Apr-2016|Charged Off|debt_consolidation|  Debt consolidation|\n",
       "|75333198|d3aa3a3c95eca5631...|     8950.0|       8950.0|       36 months|        22.45|              343.9|  Apr-2016|    Current|       credit_card|Credit card refin...|\n",
       "|76391453|fc8a2e046eaaba02d...|    35000.0|      35000.0|       60 months|        12.99|             796.18|  Apr-2016| Fully Paid|debt_consolidation|  Debt consolidation|\n",
       "|76363364|577ae670ac2ec7ed3...|    15000.0|      15000.0|       36 months|         9.16|             478.12|  Apr-2016| Fully Paid|             house|         Home buying|\n",
       "|76272510|d3792868819649ba9...|    30000.0|      30000.0|       60 months|        16.29|             734.18|  Apr-2016|    Current|debt_consolidation|  Debt consolidation|\n",
       "|76304116|6d3a5a422261348b3...|     4800.0|       4800.0|       36 months|        19.99|             178.37|  Apr-2016| Fully Paid|       credit_card|Credit card refin...|\n",
       "|76422971|7435a5a4b2b825a20...|    10000.0|      10000.0|       36 months|        19.53|             369.25|  Apr-2016|Charged Off|            moving|Moving and reloca...|\n",
       "|75369187|2a1dd1ae5b20c4dee...|    35000.0|      35000.0|       60 months|        11.99|             778.38|  Apr-2016|    Current|       credit_card|                null|\n",
       "|76212079|8d203efd7c1af010c...|     6400.0|       6400.0|       36 months|         9.16|              204.0|  Apr-2016|    Current|       credit_card|Credit card refin...|\n",
       "|75104089|c266c3c131861bb8c...|     8500.0|       8500.0|       36 months|         9.75|             273.28|  Apr-2016| Fully Paid|debt_consolidation|  Debt consolidation|\n",
       "|75669444|c7b46f35c566b6d56...|    30800.0|      30800.0|       60 months|        19.53|             807.98|  Apr-2016|    Current|debt_consolidation|  Debt consolidation|\n",
       "|76223382|9284503d1d6dcd23b...|     2000.0|       2000.0|       36 months|         9.16|              63.75|  Apr-2016|    Current|debt_consolidation|  Debt consolidation|\n",
       "|76223540|616e44da25c28bd55...|    25000.0|      25000.0|       36 months|        17.27|             894.69|  Apr-2016| Fully Paid|debt_consolidation|  Debt consolidation|\n",
       "|76255093|8192d3261d35b28af...|     7000.0|       7000.0|       36 months|        16.29|             247.11|  Apr-2016| Fully Paid|       credit_card|Credit card refin...|\n",
       "|76402196|c764f6b4666a3a439...|     8000.0|       8000.0|       36 months|        13.67|             272.15|  Apr-2016|    Current|debt_consolidation|  Debt consolidation|\n",
       "|76223437|199119e026b4bfb14...|    24000.0|      24000.0|       36 months|         9.16|             764.99|  Apr-2016| Fully Paid|             other|               Other|\n",
       "+--------+--------------------+-----------+-------------+----------------+-------------+-------------------+----------+-----------+------------------+--------------------+\n",
       "only showing top 20 rows"
      ]
     },
     "execution_count": 8,
     "metadata": {},
     "output_type": "execute_result"
    }
   ],
   "source": [
    "loans_raw_df"
   ]
  },
  {
   "cell_type": "code",
   "execution_count": 10,
   "id": "c7674c89",
   "metadata": {},
   "outputs": [
    {
     "name": "stdout",
     "output_type": "stream",
     "text": [
      "root\n",
      " |-- loan_id: string (nullable = true)\n",
      " |-- member_id: string (nullable = true)\n",
      " |-- loan_amount: float (nullable = true)\n",
      " |-- funded_amount: float (nullable = true)\n",
      " |-- loan_term_months: string (nullable = true)\n",
      " |-- interest_rate: float (nullable = true)\n",
      " |-- monthly_installment: float (nullable = true)\n",
      " |-- issue_date: string (nullable = true)\n",
      " |-- loan_status: string (nullable = true)\n",
      " |-- loan_purpose: string (nullable = true)\n",
      " |-- loan_title: string (nullable = true)\n",
      "\n"
     ]
    }
   ],
   "source": [
    "loans_raw_df.printSchema()"
   ]
  },
  {
   "cell_type": "code",
   "execution_count": 57,
   "id": "10264d47",
   "metadata": {},
   "outputs": [],
   "source": [
    "from pyspark.sql.functions import current_timestamp"
   ]
  },
  {
   "cell_type": "code",
   "execution_count": 58,
   "id": "bbdd01bf",
   "metadata": {},
   "outputs": [],
   "source": [
    "loans_df_ingestd=loans_raw_df.withColumn(\"ingest_date\",current_timestamp())"
   ]
  },
  {
   "cell_type": "code",
   "execution_count": 15,
   "id": "9264a440",
   "metadata": {},
   "outputs": [
    {
     "data": {
      "text/html": [
       "<table border='1'>\n",
       "<tr><th>loan_id</th><th>member_id</th><th>loan_amount</th><th>funded_amount</th><th>loan_term_months</th><th>interest_rate</th><th>monthly_installment</th><th>issue_date</th><th>loan_status</th><th>loan_purpose</th><th>loan_title</th><th>ingest_date</th></tr>\n",
       "<tr><td>76003861</td><td>a4ec00ba67fadf2fe...</td><td>24000.0</td><td>24000.0</td><td>60 months</td><td>15.31</td><td>574.88</td><td>Apr-2016</td><td>Charged Off</td><td>debt_consolidation</td><td>Debt consolidation</td><td>2023-11-05 09:23:...</td></tr>\n",
       "<tr><td>76263914</td><td>4f7a9e6ffaacd5da2...</td><td>2400.0</td><td>2400.0</td><td>36 months</td><td>11.47</td><td>79.11</td><td>Apr-2016</td><td>Fully Paid</td><td>debt_consolidation</td><td>Debt consolidation</td><td>2023-11-05 09:23:...</td></tr>\n",
       "<tr><td>75537401</td><td>e935a4c27fc78ae61...</td><td>12600.0</td><td>12600.0</td><td>36 months</td><td>7.39</td><td>391.31</td><td>Apr-2016</td><td>Fully Paid</td><td>other</td><td>Other</td><td>2023-11-05 09:23:...</td></tr>\n",
       "<tr><td>75038986</td><td>2d32004bd5e1dc3c3...</td><td>16800.0</td><td>16800.0</td><td>60 months</td><td>19.53</td><td>440.72</td><td>Apr-2016</td><td>Current</td><td>credit_card</td><td>Credit card refin...</td><td>2023-11-05 09:23:...</td></tr>\n",
       "<tr><td>76301424</td><td>f7116b7f7546a7952...</td><td>4300.0</td><td>4300.0</td><td>36 months</td><td>17.27</td><td>153.89</td><td>Apr-2016</td><td>Charged Off</td><td>debt_consolidation</td><td>Debt consolidation</td><td>2023-11-05 09:23:...</td></tr>\n",
       "<tr><td>75333198</td><td>d3aa3a3c95eca5631...</td><td>8950.0</td><td>8950.0</td><td>36 months</td><td>22.45</td><td>343.9</td><td>Apr-2016</td><td>Current</td><td>credit_card</td><td>Credit card refin...</td><td>2023-11-05 09:23:...</td></tr>\n",
       "<tr><td>76391453</td><td>fc8a2e046eaaba02d...</td><td>35000.0</td><td>35000.0</td><td>60 months</td><td>12.99</td><td>796.18</td><td>Apr-2016</td><td>Fully Paid</td><td>debt_consolidation</td><td>Debt consolidation</td><td>2023-11-05 09:23:...</td></tr>\n",
       "<tr><td>76363364</td><td>577ae670ac2ec7ed3...</td><td>15000.0</td><td>15000.0</td><td>36 months</td><td>9.16</td><td>478.12</td><td>Apr-2016</td><td>Fully Paid</td><td>house</td><td>Home buying</td><td>2023-11-05 09:23:...</td></tr>\n",
       "<tr><td>76272510</td><td>d3792868819649ba9...</td><td>30000.0</td><td>30000.0</td><td>60 months</td><td>16.29</td><td>734.18</td><td>Apr-2016</td><td>Current</td><td>debt_consolidation</td><td>Debt consolidation</td><td>2023-11-05 09:23:...</td></tr>\n",
       "<tr><td>76304116</td><td>6d3a5a422261348b3...</td><td>4800.0</td><td>4800.0</td><td>36 months</td><td>19.99</td><td>178.37</td><td>Apr-2016</td><td>Fully Paid</td><td>credit_card</td><td>Credit card refin...</td><td>2023-11-05 09:23:...</td></tr>\n",
       "<tr><td>76422971</td><td>7435a5a4b2b825a20...</td><td>10000.0</td><td>10000.0</td><td>36 months</td><td>19.53</td><td>369.25</td><td>Apr-2016</td><td>Charged Off</td><td>moving</td><td>Moving and reloca...</td><td>2023-11-05 09:23:...</td></tr>\n",
       "<tr><td>75369187</td><td>2a1dd1ae5b20c4dee...</td><td>35000.0</td><td>35000.0</td><td>60 months</td><td>11.99</td><td>778.38</td><td>Apr-2016</td><td>Current</td><td>credit_card</td><td>null</td><td>2023-11-05 09:23:...</td></tr>\n",
       "<tr><td>76212079</td><td>8d203efd7c1af010c...</td><td>6400.0</td><td>6400.0</td><td>36 months</td><td>9.16</td><td>204.0</td><td>Apr-2016</td><td>Current</td><td>credit_card</td><td>Credit card refin...</td><td>2023-11-05 09:23:...</td></tr>\n",
       "<tr><td>75104089</td><td>c266c3c131861bb8c...</td><td>8500.0</td><td>8500.0</td><td>36 months</td><td>9.75</td><td>273.28</td><td>Apr-2016</td><td>Fully Paid</td><td>debt_consolidation</td><td>Debt consolidation</td><td>2023-11-05 09:23:...</td></tr>\n",
       "<tr><td>75669444</td><td>c7b46f35c566b6d56...</td><td>30800.0</td><td>30800.0</td><td>60 months</td><td>19.53</td><td>807.98</td><td>Apr-2016</td><td>Current</td><td>debt_consolidation</td><td>Debt consolidation</td><td>2023-11-05 09:23:...</td></tr>\n",
       "<tr><td>76223382</td><td>9284503d1d6dcd23b...</td><td>2000.0</td><td>2000.0</td><td>36 months</td><td>9.16</td><td>63.75</td><td>Apr-2016</td><td>Current</td><td>debt_consolidation</td><td>Debt consolidation</td><td>2023-11-05 09:23:...</td></tr>\n",
       "<tr><td>76223540</td><td>616e44da25c28bd55...</td><td>25000.0</td><td>25000.0</td><td>36 months</td><td>17.27</td><td>894.69</td><td>Apr-2016</td><td>Fully Paid</td><td>debt_consolidation</td><td>Debt consolidation</td><td>2023-11-05 09:23:...</td></tr>\n",
       "<tr><td>76255093</td><td>8192d3261d35b28af...</td><td>7000.0</td><td>7000.0</td><td>36 months</td><td>16.29</td><td>247.11</td><td>Apr-2016</td><td>Fully Paid</td><td>credit_card</td><td>Credit card refin...</td><td>2023-11-05 09:23:...</td></tr>\n",
       "<tr><td>76402196</td><td>c764f6b4666a3a439...</td><td>8000.0</td><td>8000.0</td><td>36 months</td><td>13.67</td><td>272.15</td><td>Apr-2016</td><td>Current</td><td>debt_consolidation</td><td>Debt consolidation</td><td>2023-11-05 09:23:...</td></tr>\n",
       "<tr><td>76223437</td><td>199119e026b4bfb14...</td><td>24000.0</td><td>24000.0</td><td>36 months</td><td>9.16</td><td>764.99</td><td>Apr-2016</td><td>Fully Paid</td><td>other</td><td>Other</td><td>2023-11-05 09:23:...</td></tr>\n",
       "</table>\n",
       "only showing top 20 rows\n"
      ],
      "text/plain": [
       "+--------+--------------------+-----------+-------------+----------------+-------------+-------------------+----------+-----------+------------------+--------------------+--------------------+\n",
       "| loan_id|           member_id|loan_amount|funded_amount|loan_term_months|interest_rate|monthly_installment|issue_date|loan_status|      loan_purpose|          loan_title|         ingest_date|\n",
       "+--------+--------------------+-----------+-------------+----------------+-------------+-------------------+----------+-----------+------------------+--------------------+--------------------+\n",
       "|76003861|a4ec00ba67fadf2fe...|    24000.0|      24000.0|       60 months|        15.31|             574.88|  Apr-2016|Charged Off|debt_consolidation|  Debt consolidation|2023-11-05 09:23:...|\n",
       "|76263914|4f7a9e6ffaacd5da2...|     2400.0|       2400.0|       36 months|        11.47|              79.11|  Apr-2016| Fully Paid|debt_consolidation|  Debt consolidation|2023-11-05 09:23:...|\n",
       "|75537401|e935a4c27fc78ae61...|    12600.0|      12600.0|       36 months|         7.39|             391.31|  Apr-2016| Fully Paid|             other|               Other|2023-11-05 09:23:...|\n",
       "|75038986|2d32004bd5e1dc3c3...|    16800.0|      16800.0|       60 months|        19.53|             440.72|  Apr-2016|    Current|       credit_card|Credit card refin...|2023-11-05 09:23:...|\n",
       "|76301424|f7116b7f7546a7952...|     4300.0|       4300.0|       36 months|        17.27|             153.89|  Apr-2016|Charged Off|debt_consolidation|  Debt consolidation|2023-11-05 09:23:...|\n",
       "|75333198|d3aa3a3c95eca5631...|     8950.0|       8950.0|       36 months|        22.45|              343.9|  Apr-2016|    Current|       credit_card|Credit card refin...|2023-11-05 09:23:...|\n",
       "|76391453|fc8a2e046eaaba02d...|    35000.0|      35000.0|       60 months|        12.99|             796.18|  Apr-2016| Fully Paid|debt_consolidation|  Debt consolidation|2023-11-05 09:23:...|\n",
       "|76363364|577ae670ac2ec7ed3...|    15000.0|      15000.0|       36 months|         9.16|             478.12|  Apr-2016| Fully Paid|             house|         Home buying|2023-11-05 09:23:...|\n",
       "|76272510|d3792868819649ba9...|    30000.0|      30000.0|       60 months|        16.29|             734.18|  Apr-2016|    Current|debt_consolidation|  Debt consolidation|2023-11-05 09:23:...|\n",
       "|76304116|6d3a5a422261348b3...|     4800.0|       4800.0|       36 months|        19.99|             178.37|  Apr-2016| Fully Paid|       credit_card|Credit card refin...|2023-11-05 09:23:...|\n",
       "|76422971|7435a5a4b2b825a20...|    10000.0|      10000.0|       36 months|        19.53|             369.25|  Apr-2016|Charged Off|            moving|Moving and reloca...|2023-11-05 09:23:...|\n",
       "|75369187|2a1dd1ae5b20c4dee...|    35000.0|      35000.0|       60 months|        11.99|             778.38|  Apr-2016|    Current|       credit_card|                null|2023-11-05 09:23:...|\n",
       "|76212079|8d203efd7c1af010c...|     6400.0|       6400.0|       36 months|         9.16|              204.0|  Apr-2016|    Current|       credit_card|Credit card refin...|2023-11-05 09:23:...|\n",
       "|75104089|c266c3c131861bb8c...|     8500.0|       8500.0|       36 months|         9.75|             273.28|  Apr-2016| Fully Paid|debt_consolidation|  Debt consolidation|2023-11-05 09:23:...|\n",
       "|75669444|c7b46f35c566b6d56...|    30800.0|      30800.0|       60 months|        19.53|             807.98|  Apr-2016|    Current|debt_consolidation|  Debt consolidation|2023-11-05 09:23:...|\n",
       "|76223382|9284503d1d6dcd23b...|     2000.0|       2000.0|       36 months|         9.16|              63.75|  Apr-2016|    Current|debt_consolidation|  Debt consolidation|2023-11-05 09:23:...|\n",
       "|76223540|616e44da25c28bd55...|    25000.0|      25000.0|       36 months|        17.27|             894.69|  Apr-2016| Fully Paid|debt_consolidation|  Debt consolidation|2023-11-05 09:23:...|\n",
       "|76255093|8192d3261d35b28af...|     7000.0|       7000.0|       36 months|        16.29|             247.11|  Apr-2016| Fully Paid|       credit_card|Credit card refin...|2023-11-05 09:23:...|\n",
       "|76402196|c764f6b4666a3a439...|     8000.0|       8000.0|       36 months|        13.67|             272.15|  Apr-2016|    Current|debt_consolidation|  Debt consolidation|2023-11-05 09:23:...|\n",
       "|76223437|199119e026b4bfb14...|    24000.0|      24000.0|       36 months|         9.16|             764.99|  Apr-2016| Fully Paid|             other|               Other|2023-11-05 09:23:...|\n",
       "+--------+--------------------+-----------+-------------+----------------+-------------+-------------------+----------+-----------+------------------+--------------------+--------------------+\n",
       "only showing top 20 rows"
      ]
     },
     "execution_count": 15,
     "metadata": {},
     "output_type": "execute_result"
    }
   ],
   "source": [
    "loans_df_ingestd"
   ]
  },
  {
   "cell_type": "code",
   "execution_count": 59,
   "id": "8bca777b",
   "metadata": {},
   "outputs": [],
   "source": [
    "loans_df_ingestd.createOrReplaceTempView(\"loans\")"
   ]
  },
  {
   "cell_type": "code",
   "execution_count": 46,
   "id": "002e63d5",
   "metadata": {},
   "outputs": [
    {
     "data": {
      "text/html": [
       "<table border='1'>\n",
       "<tr><th>count(1)</th></tr>\n",
       "<tr><td>2260701</td></tr>\n",
       "</table>\n"
      ],
      "text/plain": [
       "+--------+\n",
       "|count(1)|\n",
       "+--------+\n",
       "| 2260701|\n",
       "+--------+"
      ]
     },
     "execution_count": 46,
     "metadata": {},
     "output_type": "execute_result"
    }
   ],
   "source": [
    "spark.sql(\"select count(*) from loans\")"
   ]
  },
  {
   "cell_type": "markdown",
   "id": "877b0cad",
   "metadata": {},
   "source": [
    "### If any of the columns is null then drop the row, use columns_to_check = [\"loan_amount\", \"funded_amount\", \"loan_term_months\",\"interest_rate\",\"monthly_installment\",\"issue_date\",\"loan_status\",\"loan_purpose\"]"
   ]
  },
  {
   "cell_type": "code",
   "execution_count": 60,
   "id": "dc2b7327",
   "metadata": {},
   "outputs": [
    {
     "data": {
      "text/html": [
       "<table border='1'>\n",
       "<tr><th>loan_id</th><th>member_id</th><th>loan_amount</th><th>funded_amount</th><th>loan_term_months</th><th>interest_rate</th><th>monthly_installment</th><th>issue_date</th><th>loan_status</th><th>loan_purpose</th><th>loan_title</th><th>ingest_date</th></tr>\n",
       "<tr><td>Total amount fund...</td><td>e3b0c44298fc1c149...</td><td>null</td><td>null</td><td>null</td><td>null</td><td>null</td><td>null</td><td>null</td><td>null</td><td>null</td><td>2023-11-05 10:01:...</td></tr>\n",
       "<tr><td>Total amount fund...</td><td>e3b0c44298fc1c149...</td><td>null</td><td>null</td><td>null</td><td>null</td><td>null</td><td>null</td><td>null</td><td>null</td><td>null</td><td>2023-11-05 10:01:...</td></tr>\n",
       "<tr><td>Total amount fund...</td><td>e3b0c44298fc1c149...</td><td>null</td><td>null</td><td>null</td><td>null</td><td>null</td><td>null</td><td>null</td><td>null</td><td>null</td><td>2023-11-05 10:01:...</td></tr>\n",
       "<tr><td>Total amount fund...</td><td>e3b0c44298fc1c149...</td><td>null</td><td>null</td><td>null</td><td>null</td><td>null</td><td>null</td><td>null</td><td>null</td><td>null</td><td>2023-11-05 10:01:...</td></tr>\n",
       "<tr><td>Total amount fund...</td><td>e3b0c44298fc1c149...</td><td>null</td><td>null</td><td>null</td><td>null</td><td>null</td><td>null</td><td>null</td><td>null</td><td>null</td><td>2023-11-05 10:01:...</td></tr>\n",
       "<tr><td>Total amount fund...</td><td>e3b0c44298fc1c149...</td><td>null</td><td>null</td><td>null</td><td>null</td><td>null</td><td>null</td><td>null</td><td>null</td><td>null</td><td>2023-11-05 10:01:...</td></tr>\n",
       "<tr><td>Total amount fund...</td><td>e3b0c44298fc1c149...</td><td>null</td><td>null</td><td>null</td><td>null</td><td>null</td><td>null</td><td>null</td><td>null</td><td>null</td><td>2023-11-05 10:01:...</td></tr>\n",
       "<tr><td>Total amount fund...</td><td>e3b0c44298fc1c149...</td><td>null</td><td>null</td><td>null</td><td>null</td><td>null</td><td>null</td><td>null</td><td>null</td><td>null</td><td>2023-11-05 10:01:...</td></tr>\n",
       "<tr><td>Total amount fund...</td><td>e3b0c44298fc1c149...</td><td>null</td><td>null</td><td>null</td><td>null</td><td>null</td><td>null</td><td>null</td><td>null</td><td>null</td><td>2023-11-05 10:01:...</td></tr>\n",
       "<tr><td>Total amount fund...</td><td>e3b0c44298fc1c149...</td><td>null</td><td>null</td><td>null</td><td>null</td><td>null</td><td>null</td><td>null</td><td>null</td><td>null</td><td>2023-11-05 10:01:...</td></tr>\n",
       "<tr><td>Total amount fund...</td><td>e3b0c44298fc1c149...</td><td>null</td><td>null</td><td>null</td><td>null</td><td>null</td><td>null</td><td>null</td><td>null</td><td>null</td><td>2023-11-05 10:01:...</td></tr>\n",
       "<tr><td>Total amount fund...</td><td>e3b0c44298fc1c149...</td><td>null</td><td>null</td><td>null</td><td>null</td><td>null</td><td>null</td><td>null</td><td>null</td><td>null</td><td>2023-11-05 10:01:...</td></tr>\n",
       "<tr><td>Total amount fund...</td><td>e3b0c44298fc1c149...</td><td>null</td><td>null</td><td>null</td><td>null</td><td>null</td><td>null</td><td>null</td><td>null</td><td>null</td><td>2023-11-05 10:01:...</td></tr>\n",
       "<tr><td>Total amount fund...</td><td>e3b0c44298fc1c149...</td><td>null</td><td>null</td><td>null</td><td>null</td><td>null</td><td>null</td><td>null</td><td>null</td><td>null</td><td>2023-11-05 10:01:...</td></tr>\n",
       "<tr><td>Total amount fund...</td><td>e3b0c44298fc1c149...</td><td>null</td><td>null</td><td>null</td><td>null</td><td>null</td><td>null</td><td>null</td><td>null</td><td>null</td><td>2023-11-05 10:01:...</td></tr>\n",
       "<tr><td>Total amount fund...</td><td>e3b0c44298fc1c149...</td><td>null</td><td>null</td><td>null</td><td>null</td><td>null</td><td>null</td><td>null</td><td>null</td><td>null</td><td>2023-11-05 10:01:...</td></tr>\n",
       "<tr><td>Total amount fund...</td><td>e3b0c44298fc1c149...</td><td>null</td><td>null</td><td>null</td><td>null</td><td>null</td><td>null</td><td>null</td><td>null</td><td>null</td><td>2023-11-05 10:01:...</td></tr>\n",
       "<tr><td>Total amount fund...</td><td>e3b0c44298fc1c149...</td><td>null</td><td>null</td><td>null</td><td>null</td><td>null</td><td>null</td><td>null</td><td>null</td><td>null</td><td>2023-11-05 10:01:...</td></tr>\n",
       "<tr><td>Total amount fund...</td><td>e3b0c44298fc1c149...</td><td>null</td><td>null</td><td>null</td><td>null</td><td>null</td><td>null</td><td>null</td><td>null</td><td>null</td><td>2023-11-05 10:01:...</td></tr>\n",
       "<tr><td>Total amount fund...</td><td>e3b0c44298fc1c149...</td><td>null</td><td>null</td><td>null</td><td>null</td><td>null</td><td>null</td><td>null</td><td>null</td><td>null</td><td>2023-11-05 10:01:...</td></tr>\n",
       "</table>\n",
       "only showing top 20 rows\n"
      ],
      "text/plain": [
       "+--------------------+--------------------+-----------+-------------+----------------+-------------+-------------------+----------+-----------+------------+----------+--------------------+\n",
       "|             loan_id|           member_id|loan_amount|funded_amount|loan_term_months|interest_rate|monthly_installment|issue_date|loan_status|loan_purpose|loan_title|         ingest_date|\n",
       "+--------------------+--------------------+-----------+-------------+----------------+-------------+-------------------+----------+-----------+------------+----------+--------------------+\n",
       "|Total amount fund...|e3b0c44298fc1c149...|       null|         null|            null|         null|               null|      null|       null|        null|      null|2023-11-05 10:01:...|\n",
       "|Total amount fund...|e3b0c44298fc1c149...|       null|         null|            null|         null|               null|      null|       null|        null|      null|2023-11-05 10:01:...|\n",
       "|Total amount fund...|e3b0c44298fc1c149...|       null|         null|            null|         null|               null|      null|       null|        null|      null|2023-11-05 10:01:...|\n",
       "|Total amount fund...|e3b0c44298fc1c149...|       null|         null|            null|         null|               null|      null|       null|        null|      null|2023-11-05 10:01:...|\n",
       "|Total amount fund...|e3b0c44298fc1c149...|       null|         null|            null|         null|               null|      null|       null|        null|      null|2023-11-05 10:01:...|\n",
       "|Total amount fund...|e3b0c44298fc1c149...|       null|         null|            null|         null|               null|      null|       null|        null|      null|2023-11-05 10:01:...|\n",
       "|Total amount fund...|e3b0c44298fc1c149...|       null|         null|            null|         null|               null|      null|       null|        null|      null|2023-11-05 10:01:...|\n",
       "|Total amount fund...|e3b0c44298fc1c149...|       null|         null|            null|         null|               null|      null|       null|        null|      null|2023-11-05 10:01:...|\n",
       "|Total amount fund...|e3b0c44298fc1c149...|       null|         null|            null|         null|               null|      null|       null|        null|      null|2023-11-05 10:01:...|\n",
       "|Total amount fund...|e3b0c44298fc1c149...|       null|         null|            null|         null|               null|      null|       null|        null|      null|2023-11-05 10:01:...|\n",
       "|Total amount fund...|e3b0c44298fc1c149...|       null|         null|            null|         null|               null|      null|       null|        null|      null|2023-11-05 10:01:...|\n",
       "|Total amount fund...|e3b0c44298fc1c149...|       null|         null|            null|         null|               null|      null|       null|        null|      null|2023-11-05 10:01:...|\n",
       "|Total amount fund...|e3b0c44298fc1c149...|       null|         null|            null|         null|               null|      null|       null|        null|      null|2023-11-05 10:01:...|\n",
       "|Total amount fund...|e3b0c44298fc1c149...|       null|         null|            null|         null|               null|      null|       null|        null|      null|2023-11-05 10:01:...|\n",
       "|Total amount fund...|e3b0c44298fc1c149...|       null|         null|            null|         null|               null|      null|       null|        null|      null|2023-11-05 10:01:...|\n",
       "|Total amount fund...|e3b0c44298fc1c149...|       null|         null|            null|         null|               null|      null|       null|        null|      null|2023-11-05 10:01:...|\n",
       "|Total amount fund...|e3b0c44298fc1c149...|       null|         null|            null|         null|               null|      null|       null|        null|      null|2023-11-05 10:01:...|\n",
       "|Total amount fund...|e3b0c44298fc1c149...|       null|         null|            null|         null|               null|      null|       null|        null|      null|2023-11-05 10:01:...|\n",
       "|Total amount fund...|e3b0c44298fc1c149...|       null|         null|            null|         null|               null|      null|       null|        null|      null|2023-11-05 10:01:...|\n",
       "|Total amount fund...|e3b0c44298fc1c149...|       null|         null|            null|         null|               null|      null|       null|        null|      null|2023-11-05 10:01:...|\n",
       "+--------------------+--------------------+-----------+-------------+----------------+-------------+-------------------+----------+-----------+------------+----------+--------------------+\n",
       "only showing top 20 rows"
      ]
     },
     "execution_count": 60,
     "metadata": {},
     "output_type": "execute_result"
    }
   ],
   "source": [
    "spark.sql(\"select * from loans where loan_amount is null\")"
   ]
  },
  {
   "cell_type": "code",
   "execution_count": 63,
   "id": "a619480f",
   "metadata": {},
   "outputs": [],
   "source": [
    "columns_to_check = [\"loan_amount\", \"funded_amount\", \"loan_term_months\",\"interest_rate\",\"monthly_installment\",\"issue_date\",\"loan_status\",\"loan_purpose\"]"
   ]
  },
  {
   "cell_type": "code",
   "execution_count": 64,
   "id": "a119efc5",
   "metadata": {},
   "outputs": [],
   "source": [
    "loans_filtered_df=loans_df_ingestd.na.drop(subset=columns_to_check)"
   ]
  },
  {
   "cell_type": "code",
   "execution_count": 28,
   "id": "51448797",
   "metadata": {},
   "outputs": [
    {
     "data": {
      "text/html": [
       "<table border='1'>\n",
       "<tr><th>loan_id</th><th>member_id</th><th>loan_amount</th><th>funded_amount</th><th>loan_term_months</th><th>interest_rate</th><th>monthly_installment</th><th>issue_date</th><th>loan_status</th><th>loan_purpose</th><th>loan_title</th><th>ingest_date</th></tr>\n",
       "<tr><td>76003861</td><td>a4ec00ba67fadf2fe...</td><td>24000.0</td><td>24000.0</td><td>60 months</td><td>15.31</td><td>574.88</td><td>Apr-2016</td><td>Charged Off</td><td>debt_consolidation</td><td>Debt consolidation</td><td>2023-11-05 09:40:...</td></tr>\n",
       "<tr><td>76263914</td><td>4f7a9e6ffaacd5da2...</td><td>2400.0</td><td>2400.0</td><td>36 months</td><td>11.47</td><td>79.11</td><td>Apr-2016</td><td>Fully Paid</td><td>debt_consolidation</td><td>Debt consolidation</td><td>2023-11-05 09:40:...</td></tr>\n",
       "<tr><td>75537401</td><td>e935a4c27fc78ae61...</td><td>12600.0</td><td>12600.0</td><td>36 months</td><td>7.39</td><td>391.31</td><td>Apr-2016</td><td>Fully Paid</td><td>other</td><td>Other</td><td>2023-11-05 09:40:...</td></tr>\n",
       "<tr><td>75038986</td><td>2d32004bd5e1dc3c3...</td><td>16800.0</td><td>16800.0</td><td>60 months</td><td>19.53</td><td>440.72</td><td>Apr-2016</td><td>Current</td><td>credit_card</td><td>Credit card refin...</td><td>2023-11-05 09:40:...</td></tr>\n",
       "<tr><td>76301424</td><td>f7116b7f7546a7952...</td><td>4300.0</td><td>4300.0</td><td>36 months</td><td>17.27</td><td>153.89</td><td>Apr-2016</td><td>Charged Off</td><td>debt_consolidation</td><td>Debt consolidation</td><td>2023-11-05 09:40:...</td></tr>\n",
       "<tr><td>75333198</td><td>d3aa3a3c95eca5631...</td><td>8950.0</td><td>8950.0</td><td>36 months</td><td>22.45</td><td>343.9</td><td>Apr-2016</td><td>Current</td><td>credit_card</td><td>Credit card refin...</td><td>2023-11-05 09:40:...</td></tr>\n",
       "<tr><td>76391453</td><td>fc8a2e046eaaba02d...</td><td>35000.0</td><td>35000.0</td><td>60 months</td><td>12.99</td><td>796.18</td><td>Apr-2016</td><td>Fully Paid</td><td>debt_consolidation</td><td>Debt consolidation</td><td>2023-11-05 09:40:...</td></tr>\n",
       "<tr><td>76363364</td><td>577ae670ac2ec7ed3...</td><td>15000.0</td><td>15000.0</td><td>36 months</td><td>9.16</td><td>478.12</td><td>Apr-2016</td><td>Fully Paid</td><td>house</td><td>Home buying</td><td>2023-11-05 09:40:...</td></tr>\n",
       "<tr><td>76272510</td><td>d3792868819649ba9...</td><td>30000.0</td><td>30000.0</td><td>60 months</td><td>16.29</td><td>734.18</td><td>Apr-2016</td><td>Current</td><td>debt_consolidation</td><td>Debt consolidation</td><td>2023-11-05 09:40:...</td></tr>\n",
       "<tr><td>76304116</td><td>6d3a5a422261348b3...</td><td>4800.0</td><td>4800.0</td><td>36 months</td><td>19.99</td><td>178.37</td><td>Apr-2016</td><td>Fully Paid</td><td>credit_card</td><td>Credit card refin...</td><td>2023-11-05 09:40:...</td></tr>\n",
       "<tr><td>76422971</td><td>7435a5a4b2b825a20...</td><td>10000.0</td><td>10000.0</td><td>36 months</td><td>19.53</td><td>369.25</td><td>Apr-2016</td><td>Charged Off</td><td>moving</td><td>Moving and reloca...</td><td>2023-11-05 09:40:...</td></tr>\n",
       "<tr><td>75369187</td><td>2a1dd1ae5b20c4dee...</td><td>35000.0</td><td>35000.0</td><td>60 months</td><td>11.99</td><td>778.38</td><td>Apr-2016</td><td>Current</td><td>credit_card</td><td>null</td><td>2023-11-05 09:40:...</td></tr>\n",
       "<tr><td>76212079</td><td>8d203efd7c1af010c...</td><td>6400.0</td><td>6400.0</td><td>36 months</td><td>9.16</td><td>204.0</td><td>Apr-2016</td><td>Current</td><td>credit_card</td><td>Credit card refin...</td><td>2023-11-05 09:40:...</td></tr>\n",
       "<tr><td>75104089</td><td>c266c3c131861bb8c...</td><td>8500.0</td><td>8500.0</td><td>36 months</td><td>9.75</td><td>273.28</td><td>Apr-2016</td><td>Fully Paid</td><td>debt_consolidation</td><td>Debt consolidation</td><td>2023-11-05 09:40:...</td></tr>\n",
       "<tr><td>75669444</td><td>c7b46f35c566b6d56...</td><td>30800.0</td><td>30800.0</td><td>60 months</td><td>19.53</td><td>807.98</td><td>Apr-2016</td><td>Current</td><td>debt_consolidation</td><td>Debt consolidation</td><td>2023-11-05 09:40:...</td></tr>\n",
       "<tr><td>76223382</td><td>9284503d1d6dcd23b...</td><td>2000.0</td><td>2000.0</td><td>36 months</td><td>9.16</td><td>63.75</td><td>Apr-2016</td><td>Current</td><td>debt_consolidation</td><td>Debt consolidation</td><td>2023-11-05 09:40:...</td></tr>\n",
       "<tr><td>76223540</td><td>616e44da25c28bd55...</td><td>25000.0</td><td>25000.0</td><td>36 months</td><td>17.27</td><td>894.69</td><td>Apr-2016</td><td>Fully Paid</td><td>debt_consolidation</td><td>Debt consolidation</td><td>2023-11-05 09:40:...</td></tr>\n",
       "<tr><td>76255093</td><td>8192d3261d35b28af...</td><td>7000.0</td><td>7000.0</td><td>36 months</td><td>16.29</td><td>247.11</td><td>Apr-2016</td><td>Fully Paid</td><td>credit_card</td><td>Credit card refin...</td><td>2023-11-05 09:40:...</td></tr>\n",
       "<tr><td>76402196</td><td>c764f6b4666a3a439...</td><td>8000.0</td><td>8000.0</td><td>36 months</td><td>13.67</td><td>272.15</td><td>Apr-2016</td><td>Current</td><td>debt_consolidation</td><td>Debt consolidation</td><td>2023-11-05 09:40:...</td></tr>\n",
       "<tr><td>76223437</td><td>199119e026b4bfb14...</td><td>24000.0</td><td>24000.0</td><td>36 months</td><td>9.16</td><td>764.99</td><td>Apr-2016</td><td>Fully Paid</td><td>other</td><td>Other</td><td>2023-11-05 09:40:...</td></tr>\n",
       "</table>\n",
       "only showing top 20 rows\n"
      ],
      "text/plain": [
       "+--------+--------------------+-----------+-------------+----------------+-------------+-------------------+----------+-----------+------------------+--------------------+--------------------+\n",
       "| loan_id|           member_id|loan_amount|funded_amount|loan_term_months|interest_rate|monthly_installment|issue_date|loan_status|      loan_purpose|          loan_title|         ingest_date|\n",
       "+--------+--------------------+-----------+-------------+----------------+-------------+-------------------+----------+-----------+------------------+--------------------+--------------------+\n",
       "|76003861|a4ec00ba67fadf2fe...|    24000.0|      24000.0|       60 months|        15.31|             574.88|  Apr-2016|Charged Off|debt_consolidation|  Debt consolidation|2023-11-05 09:40:...|\n",
       "|76263914|4f7a9e6ffaacd5da2...|     2400.0|       2400.0|       36 months|        11.47|              79.11|  Apr-2016| Fully Paid|debt_consolidation|  Debt consolidation|2023-11-05 09:40:...|\n",
       "|75537401|e935a4c27fc78ae61...|    12600.0|      12600.0|       36 months|         7.39|             391.31|  Apr-2016| Fully Paid|             other|               Other|2023-11-05 09:40:...|\n",
       "|75038986|2d32004bd5e1dc3c3...|    16800.0|      16800.0|       60 months|        19.53|             440.72|  Apr-2016|    Current|       credit_card|Credit card refin...|2023-11-05 09:40:...|\n",
       "|76301424|f7116b7f7546a7952...|     4300.0|       4300.0|       36 months|        17.27|             153.89|  Apr-2016|Charged Off|debt_consolidation|  Debt consolidation|2023-11-05 09:40:...|\n",
       "|75333198|d3aa3a3c95eca5631...|     8950.0|       8950.0|       36 months|        22.45|              343.9|  Apr-2016|    Current|       credit_card|Credit card refin...|2023-11-05 09:40:...|\n",
       "|76391453|fc8a2e046eaaba02d...|    35000.0|      35000.0|       60 months|        12.99|             796.18|  Apr-2016| Fully Paid|debt_consolidation|  Debt consolidation|2023-11-05 09:40:...|\n",
       "|76363364|577ae670ac2ec7ed3...|    15000.0|      15000.0|       36 months|         9.16|             478.12|  Apr-2016| Fully Paid|             house|         Home buying|2023-11-05 09:40:...|\n",
       "|76272510|d3792868819649ba9...|    30000.0|      30000.0|       60 months|        16.29|             734.18|  Apr-2016|    Current|debt_consolidation|  Debt consolidation|2023-11-05 09:40:...|\n",
       "|76304116|6d3a5a422261348b3...|     4800.0|       4800.0|       36 months|        19.99|             178.37|  Apr-2016| Fully Paid|       credit_card|Credit card refin...|2023-11-05 09:40:...|\n",
       "|76422971|7435a5a4b2b825a20...|    10000.0|      10000.0|       36 months|        19.53|             369.25|  Apr-2016|Charged Off|            moving|Moving and reloca...|2023-11-05 09:40:...|\n",
       "|75369187|2a1dd1ae5b20c4dee...|    35000.0|      35000.0|       60 months|        11.99|             778.38|  Apr-2016|    Current|       credit_card|                null|2023-11-05 09:40:...|\n",
       "|76212079|8d203efd7c1af010c...|     6400.0|       6400.0|       36 months|         9.16|              204.0|  Apr-2016|    Current|       credit_card|Credit card refin...|2023-11-05 09:40:...|\n",
       "|75104089|c266c3c131861bb8c...|     8500.0|       8500.0|       36 months|         9.75|             273.28|  Apr-2016| Fully Paid|debt_consolidation|  Debt consolidation|2023-11-05 09:40:...|\n",
       "|75669444|c7b46f35c566b6d56...|    30800.0|      30800.0|       60 months|        19.53|             807.98|  Apr-2016|    Current|debt_consolidation|  Debt consolidation|2023-11-05 09:40:...|\n",
       "|76223382|9284503d1d6dcd23b...|     2000.0|       2000.0|       36 months|         9.16|              63.75|  Apr-2016|    Current|debt_consolidation|  Debt consolidation|2023-11-05 09:40:...|\n",
       "|76223540|616e44da25c28bd55...|    25000.0|      25000.0|       36 months|        17.27|             894.69|  Apr-2016| Fully Paid|debt_consolidation|  Debt consolidation|2023-11-05 09:40:...|\n",
       "|76255093|8192d3261d35b28af...|     7000.0|       7000.0|       36 months|        16.29|             247.11|  Apr-2016| Fully Paid|       credit_card|Credit card refin...|2023-11-05 09:40:...|\n",
       "|76402196|c764f6b4666a3a439...|     8000.0|       8000.0|       36 months|        13.67|             272.15|  Apr-2016|    Current|debt_consolidation|  Debt consolidation|2023-11-05 09:40:...|\n",
       "|76223437|199119e026b4bfb14...|    24000.0|      24000.0|       36 months|         9.16|             764.99|  Apr-2016| Fully Paid|             other|               Other|2023-11-05 09:40:...|\n",
       "+--------+--------------------+-----------+-------------+----------------+-------------+-------------------+----------+-----------+------------------+--------------------+--------------------+\n",
       "only showing top 20 rows"
      ]
     },
     "execution_count": 28,
     "metadata": {},
     "output_type": "execute_result"
    }
   ],
   "source": [
    "loans_filtered_df"
   ]
  },
  {
   "cell_type": "code",
   "execution_count": 29,
   "id": "a9b54423",
   "metadata": {},
   "outputs": [
    {
     "data": {
      "text/plain": [
       "2260667"
      ]
     },
     "execution_count": 29,
     "metadata": {},
     "output_type": "execute_result"
    }
   ],
   "source": [
    "loans_filtered_df.count()"
   ]
  },
  {
   "cell_type": "code",
   "execution_count": 65,
   "id": "31d283bc",
   "metadata": {},
   "outputs": [],
   "source": [
    "loans_filtered_df.createOrReplaceTempView('loans')"
   ]
  },
  {
   "cell_type": "code",
   "execution_count": 31,
   "id": "c7b1347f",
   "metadata": {},
   "outputs": [
    {
     "data": {
      "text/html": [
       "<table border='1'>\n",
       "<tr><th>loan_id</th><th>member_id</th><th>loan_amount</th><th>funded_amount</th><th>loan_term_months</th><th>interest_rate</th><th>monthly_installment</th><th>issue_date</th><th>loan_status</th><th>loan_purpose</th><th>loan_title</th><th>ingest_date</th></tr>\n",
       "<tr><td>76003861</td><td>a4ec00ba67fadf2fe...</td><td>24000.0</td><td>24000.0</td><td>60 months</td><td>15.31</td><td>574.88</td><td>Apr-2016</td><td>Charged Off</td><td>debt_consolidation</td><td>Debt consolidation</td><td>2023-11-05 09:45:...</td></tr>\n",
       "<tr><td>76263914</td><td>4f7a9e6ffaacd5da2...</td><td>2400.0</td><td>2400.0</td><td>36 months</td><td>11.47</td><td>79.11</td><td>Apr-2016</td><td>Fully Paid</td><td>debt_consolidation</td><td>Debt consolidation</td><td>2023-11-05 09:45:...</td></tr>\n",
       "<tr><td>75537401</td><td>e935a4c27fc78ae61...</td><td>12600.0</td><td>12600.0</td><td>36 months</td><td>7.39</td><td>391.31</td><td>Apr-2016</td><td>Fully Paid</td><td>other</td><td>Other</td><td>2023-11-05 09:45:...</td></tr>\n",
       "<tr><td>75038986</td><td>2d32004bd5e1dc3c3...</td><td>16800.0</td><td>16800.0</td><td>60 months</td><td>19.53</td><td>440.72</td><td>Apr-2016</td><td>Current</td><td>credit_card</td><td>Credit card refin...</td><td>2023-11-05 09:45:...</td></tr>\n",
       "<tr><td>76301424</td><td>f7116b7f7546a7952...</td><td>4300.0</td><td>4300.0</td><td>36 months</td><td>17.27</td><td>153.89</td><td>Apr-2016</td><td>Charged Off</td><td>debt_consolidation</td><td>Debt consolidation</td><td>2023-11-05 09:45:...</td></tr>\n",
       "<tr><td>75333198</td><td>d3aa3a3c95eca5631...</td><td>8950.0</td><td>8950.0</td><td>36 months</td><td>22.45</td><td>343.9</td><td>Apr-2016</td><td>Current</td><td>credit_card</td><td>Credit card refin...</td><td>2023-11-05 09:45:...</td></tr>\n",
       "<tr><td>76391453</td><td>fc8a2e046eaaba02d...</td><td>35000.0</td><td>35000.0</td><td>60 months</td><td>12.99</td><td>796.18</td><td>Apr-2016</td><td>Fully Paid</td><td>debt_consolidation</td><td>Debt consolidation</td><td>2023-11-05 09:45:...</td></tr>\n",
       "<tr><td>76363364</td><td>577ae670ac2ec7ed3...</td><td>15000.0</td><td>15000.0</td><td>36 months</td><td>9.16</td><td>478.12</td><td>Apr-2016</td><td>Fully Paid</td><td>house</td><td>Home buying</td><td>2023-11-05 09:45:...</td></tr>\n",
       "<tr><td>76272510</td><td>d3792868819649ba9...</td><td>30000.0</td><td>30000.0</td><td>60 months</td><td>16.29</td><td>734.18</td><td>Apr-2016</td><td>Current</td><td>debt_consolidation</td><td>Debt consolidation</td><td>2023-11-05 09:45:...</td></tr>\n",
       "<tr><td>76304116</td><td>6d3a5a422261348b3...</td><td>4800.0</td><td>4800.0</td><td>36 months</td><td>19.99</td><td>178.37</td><td>Apr-2016</td><td>Fully Paid</td><td>credit_card</td><td>Credit card refin...</td><td>2023-11-05 09:45:...</td></tr>\n",
       "<tr><td>76422971</td><td>7435a5a4b2b825a20...</td><td>10000.0</td><td>10000.0</td><td>36 months</td><td>19.53</td><td>369.25</td><td>Apr-2016</td><td>Charged Off</td><td>moving</td><td>Moving and reloca...</td><td>2023-11-05 09:45:...</td></tr>\n",
       "<tr><td>75369187</td><td>2a1dd1ae5b20c4dee...</td><td>35000.0</td><td>35000.0</td><td>60 months</td><td>11.99</td><td>778.38</td><td>Apr-2016</td><td>Current</td><td>credit_card</td><td>null</td><td>2023-11-05 09:45:...</td></tr>\n",
       "<tr><td>76212079</td><td>8d203efd7c1af010c...</td><td>6400.0</td><td>6400.0</td><td>36 months</td><td>9.16</td><td>204.0</td><td>Apr-2016</td><td>Current</td><td>credit_card</td><td>Credit card refin...</td><td>2023-11-05 09:45:...</td></tr>\n",
       "<tr><td>75104089</td><td>c266c3c131861bb8c...</td><td>8500.0</td><td>8500.0</td><td>36 months</td><td>9.75</td><td>273.28</td><td>Apr-2016</td><td>Fully Paid</td><td>debt_consolidation</td><td>Debt consolidation</td><td>2023-11-05 09:45:...</td></tr>\n",
       "<tr><td>75669444</td><td>c7b46f35c566b6d56...</td><td>30800.0</td><td>30800.0</td><td>60 months</td><td>19.53</td><td>807.98</td><td>Apr-2016</td><td>Current</td><td>debt_consolidation</td><td>Debt consolidation</td><td>2023-11-05 09:45:...</td></tr>\n",
       "<tr><td>76223382</td><td>9284503d1d6dcd23b...</td><td>2000.0</td><td>2000.0</td><td>36 months</td><td>9.16</td><td>63.75</td><td>Apr-2016</td><td>Current</td><td>debt_consolidation</td><td>Debt consolidation</td><td>2023-11-05 09:45:...</td></tr>\n",
       "<tr><td>76223540</td><td>616e44da25c28bd55...</td><td>25000.0</td><td>25000.0</td><td>36 months</td><td>17.27</td><td>894.69</td><td>Apr-2016</td><td>Fully Paid</td><td>debt_consolidation</td><td>Debt consolidation</td><td>2023-11-05 09:45:...</td></tr>\n",
       "<tr><td>76255093</td><td>8192d3261d35b28af...</td><td>7000.0</td><td>7000.0</td><td>36 months</td><td>16.29</td><td>247.11</td><td>Apr-2016</td><td>Fully Paid</td><td>credit_card</td><td>Credit card refin...</td><td>2023-11-05 09:45:...</td></tr>\n",
       "<tr><td>76402196</td><td>c764f6b4666a3a439...</td><td>8000.0</td><td>8000.0</td><td>36 months</td><td>13.67</td><td>272.15</td><td>Apr-2016</td><td>Current</td><td>debt_consolidation</td><td>Debt consolidation</td><td>2023-11-05 09:45:...</td></tr>\n",
       "<tr><td>76223437</td><td>199119e026b4bfb14...</td><td>24000.0</td><td>24000.0</td><td>36 months</td><td>9.16</td><td>764.99</td><td>Apr-2016</td><td>Fully Paid</td><td>other</td><td>Other</td><td>2023-11-05 09:45:...</td></tr>\n",
       "</table>\n",
       "only showing top 20 rows\n"
      ],
      "text/plain": [
       "+--------+--------------------+-----------+-------------+----------------+-------------+-------------------+----------+-----------+------------------+--------------------+--------------------+\n",
       "| loan_id|           member_id|loan_amount|funded_amount|loan_term_months|interest_rate|monthly_installment|issue_date|loan_status|      loan_purpose|          loan_title|         ingest_date|\n",
       "+--------+--------------------+-----------+-------------+----------------+-------------+-------------------+----------+-----------+------------------+--------------------+--------------------+\n",
       "|76003861|a4ec00ba67fadf2fe...|    24000.0|      24000.0|       60 months|        15.31|             574.88|  Apr-2016|Charged Off|debt_consolidation|  Debt consolidation|2023-11-05 09:45:...|\n",
       "|76263914|4f7a9e6ffaacd5da2...|     2400.0|       2400.0|       36 months|        11.47|              79.11|  Apr-2016| Fully Paid|debt_consolidation|  Debt consolidation|2023-11-05 09:45:...|\n",
       "|75537401|e935a4c27fc78ae61...|    12600.0|      12600.0|       36 months|         7.39|             391.31|  Apr-2016| Fully Paid|             other|               Other|2023-11-05 09:45:...|\n",
       "|75038986|2d32004bd5e1dc3c3...|    16800.0|      16800.0|       60 months|        19.53|             440.72|  Apr-2016|    Current|       credit_card|Credit card refin...|2023-11-05 09:45:...|\n",
       "|76301424|f7116b7f7546a7952...|     4300.0|       4300.0|       36 months|        17.27|             153.89|  Apr-2016|Charged Off|debt_consolidation|  Debt consolidation|2023-11-05 09:45:...|\n",
       "|75333198|d3aa3a3c95eca5631...|     8950.0|       8950.0|       36 months|        22.45|              343.9|  Apr-2016|    Current|       credit_card|Credit card refin...|2023-11-05 09:45:...|\n",
       "|76391453|fc8a2e046eaaba02d...|    35000.0|      35000.0|       60 months|        12.99|             796.18|  Apr-2016| Fully Paid|debt_consolidation|  Debt consolidation|2023-11-05 09:45:...|\n",
       "|76363364|577ae670ac2ec7ed3...|    15000.0|      15000.0|       36 months|         9.16|             478.12|  Apr-2016| Fully Paid|             house|         Home buying|2023-11-05 09:45:...|\n",
       "|76272510|d3792868819649ba9...|    30000.0|      30000.0|       60 months|        16.29|             734.18|  Apr-2016|    Current|debt_consolidation|  Debt consolidation|2023-11-05 09:45:...|\n",
       "|76304116|6d3a5a422261348b3...|     4800.0|       4800.0|       36 months|        19.99|             178.37|  Apr-2016| Fully Paid|       credit_card|Credit card refin...|2023-11-05 09:45:...|\n",
       "|76422971|7435a5a4b2b825a20...|    10000.0|      10000.0|       36 months|        19.53|             369.25|  Apr-2016|Charged Off|            moving|Moving and reloca...|2023-11-05 09:45:...|\n",
       "|75369187|2a1dd1ae5b20c4dee...|    35000.0|      35000.0|       60 months|        11.99|             778.38|  Apr-2016|    Current|       credit_card|                null|2023-11-05 09:45:...|\n",
       "|76212079|8d203efd7c1af010c...|     6400.0|       6400.0|       36 months|         9.16|              204.0|  Apr-2016|    Current|       credit_card|Credit card refin...|2023-11-05 09:45:...|\n",
       "|75104089|c266c3c131861bb8c...|     8500.0|       8500.0|       36 months|         9.75|             273.28|  Apr-2016| Fully Paid|debt_consolidation|  Debt consolidation|2023-11-05 09:45:...|\n",
       "|75669444|c7b46f35c566b6d56...|    30800.0|      30800.0|       60 months|        19.53|             807.98|  Apr-2016|    Current|debt_consolidation|  Debt consolidation|2023-11-05 09:45:...|\n",
       "|76223382|9284503d1d6dcd23b...|     2000.0|       2000.0|       36 months|         9.16|              63.75|  Apr-2016|    Current|debt_consolidation|  Debt consolidation|2023-11-05 09:45:...|\n",
       "|76223540|616e44da25c28bd55...|    25000.0|      25000.0|       36 months|        17.27|             894.69|  Apr-2016| Fully Paid|debt_consolidation|  Debt consolidation|2023-11-05 09:45:...|\n",
       "|76255093|8192d3261d35b28af...|     7000.0|       7000.0|       36 months|        16.29|             247.11|  Apr-2016| Fully Paid|       credit_card|Credit card refin...|2023-11-05 09:45:...|\n",
       "|76402196|c764f6b4666a3a439...|     8000.0|       8000.0|       36 months|        13.67|             272.15|  Apr-2016|    Current|debt_consolidation|  Debt consolidation|2023-11-05 09:45:...|\n",
       "|76223437|199119e026b4bfb14...|    24000.0|      24000.0|       36 months|         9.16|             764.99|  Apr-2016| Fully Paid|             other|               Other|2023-11-05 09:45:...|\n",
       "+--------+--------------------+-----------+-------------+----------------+-------------+-------------------+----------+-----------+------------------+--------------------+--------------------+\n",
       "only showing top 20 rows"
      ]
     },
     "execution_count": 31,
     "metadata": {},
     "output_type": "execute_result"
    }
   ],
   "source": [
    "spark.sql(\"select * from loans\")"
   ]
  },
  {
   "cell_type": "code",
   "execution_count": 66,
   "id": "3b10c636",
   "metadata": {},
   "outputs": [],
   "source": [
    "from pyspark.sql.functions import regexp_replace, col"
   ]
  },
  {
   "cell_type": "code",
   "execution_count": 67,
   "id": "e6e3a782",
   "metadata": {},
   "outputs": [],
   "source": [
    "loans_term_modified_df=loans_filtered_df \\\n",
    ".withColumn(\"loan_term_months\",(regexp_replace(col(\"loan_term_months\"),\" months\",\"\") \\\n",
    ".cast(\"int\")/12) \\\n",
    ".cast(\"int\")) \\\n",
    ".withColumnRenamed(\"loan_term_months\",\"loan_term_years\")"
   ]
  },
  {
   "cell_type": "code",
   "execution_count": 68,
   "id": "537e965c",
   "metadata": {},
   "outputs": [
    {
     "data": {
      "text/html": [
       "<table border='1'>\n",
       "<tr><th>loan_id</th><th>member_id</th><th>loan_amount</th><th>funded_amount</th><th>loan_term_years</th><th>interest_rate</th><th>monthly_installment</th><th>issue_date</th><th>loan_status</th><th>loan_purpose</th><th>loan_title</th><th>ingest_date</th></tr>\n",
       "<tr><td>76003861</td><td>a4ec00ba67fadf2fe...</td><td>24000.0</td><td>24000.0</td><td>5</td><td>15.31</td><td>574.88</td><td>Apr-2016</td><td>Charged Off</td><td>debt_consolidation</td><td>Debt consolidation</td><td>2023-11-05 10:01:...</td></tr>\n",
       "<tr><td>76263914</td><td>4f7a9e6ffaacd5da2...</td><td>2400.0</td><td>2400.0</td><td>3</td><td>11.47</td><td>79.11</td><td>Apr-2016</td><td>Fully Paid</td><td>debt_consolidation</td><td>Debt consolidation</td><td>2023-11-05 10:01:...</td></tr>\n",
       "<tr><td>75537401</td><td>e935a4c27fc78ae61...</td><td>12600.0</td><td>12600.0</td><td>3</td><td>7.39</td><td>391.31</td><td>Apr-2016</td><td>Fully Paid</td><td>other</td><td>Other</td><td>2023-11-05 10:01:...</td></tr>\n",
       "<tr><td>75038986</td><td>2d32004bd5e1dc3c3...</td><td>16800.0</td><td>16800.0</td><td>5</td><td>19.53</td><td>440.72</td><td>Apr-2016</td><td>Current</td><td>credit_card</td><td>Credit card refin...</td><td>2023-11-05 10:01:...</td></tr>\n",
       "<tr><td>76301424</td><td>f7116b7f7546a7952...</td><td>4300.0</td><td>4300.0</td><td>3</td><td>17.27</td><td>153.89</td><td>Apr-2016</td><td>Charged Off</td><td>debt_consolidation</td><td>Debt consolidation</td><td>2023-11-05 10:01:...</td></tr>\n",
       "<tr><td>75333198</td><td>d3aa3a3c95eca5631...</td><td>8950.0</td><td>8950.0</td><td>3</td><td>22.45</td><td>343.9</td><td>Apr-2016</td><td>Current</td><td>credit_card</td><td>Credit card refin...</td><td>2023-11-05 10:01:...</td></tr>\n",
       "<tr><td>76391453</td><td>fc8a2e046eaaba02d...</td><td>35000.0</td><td>35000.0</td><td>5</td><td>12.99</td><td>796.18</td><td>Apr-2016</td><td>Fully Paid</td><td>debt_consolidation</td><td>Debt consolidation</td><td>2023-11-05 10:01:...</td></tr>\n",
       "<tr><td>76363364</td><td>577ae670ac2ec7ed3...</td><td>15000.0</td><td>15000.0</td><td>3</td><td>9.16</td><td>478.12</td><td>Apr-2016</td><td>Fully Paid</td><td>house</td><td>Home buying</td><td>2023-11-05 10:01:...</td></tr>\n",
       "<tr><td>76272510</td><td>d3792868819649ba9...</td><td>30000.0</td><td>30000.0</td><td>5</td><td>16.29</td><td>734.18</td><td>Apr-2016</td><td>Current</td><td>debt_consolidation</td><td>Debt consolidation</td><td>2023-11-05 10:01:...</td></tr>\n",
       "<tr><td>76304116</td><td>6d3a5a422261348b3...</td><td>4800.0</td><td>4800.0</td><td>3</td><td>19.99</td><td>178.37</td><td>Apr-2016</td><td>Fully Paid</td><td>credit_card</td><td>Credit card refin...</td><td>2023-11-05 10:01:...</td></tr>\n",
       "<tr><td>76422971</td><td>7435a5a4b2b825a20...</td><td>10000.0</td><td>10000.0</td><td>3</td><td>19.53</td><td>369.25</td><td>Apr-2016</td><td>Charged Off</td><td>moving</td><td>Moving and reloca...</td><td>2023-11-05 10:01:...</td></tr>\n",
       "<tr><td>75369187</td><td>2a1dd1ae5b20c4dee...</td><td>35000.0</td><td>35000.0</td><td>5</td><td>11.99</td><td>778.38</td><td>Apr-2016</td><td>Current</td><td>credit_card</td><td>null</td><td>2023-11-05 10:01:...</td></tr>\n",
       "<tr><td>76212079</td><td>8d203efd7c1af010c...</td><td>6400.0</td><td>6400.0</td><td>3</td><td>9.16</td><td>204.0</td><td>Apr-2016</td><td>Current</td><td>credit_card</td><td>Credit card refin...</td><td>2023-11-05 10:01:...</td></tr>\n",
       "<tr><td>75104089</td><td>c266c3c131861bb8c...</td><td>8500.0</td><td>8500.0</td><td>3</td><td>9.75</td><td>273.28</td><td>Apr-2016</td><td>Fully Paid</td><td>debt_consolidation</td><td>Debt consolidation</td><td>2023-11-05 10:01:...</td></tr>\n",
       "<tr><td>75669444</td><td>c7b46f35c566b6d56...</td><td>30800.0</td><td>30800.0</td><td>5</td><td>19.53</td><td>807.98</td><td>Apr-2016</td><td>Current</td><td>debt_consolidation</td><td>Debt consolidation</td><td>2023-11-05 10:01:...</td></tr>\n",
       "<tr><td>76223382</td><td>9284503d1d6dcd23b...</td><td>2000.0</td><td>2000.0</td><td>3</td><td>9.16</td><td>63.75</td><td>Apr-2016</td><td>Current</td><td>debt_consolidation</td><td>Debt consolidation</td><td>2023-11-05 10:01:...</td></tr>\n",
       "<tr><td>76223540</td><td>616e44da25c28bd55...</td><td>25000.0</td><td>25000.0</td><td>3</td><td>17.27</td><td>894.69</td><td>Apr-2016</td><td>Fully Paid</td><td>debt_consolidation</td><td>Debt consolidation</td><td>2023-11-05 10:01:...</td></tr>\n",
       "<tr><td>76255093</td><td>8192d3261d35b28af...</td><td>7000.0</td><td>7000.0</td><td>3</td><td>16.29</td><td>247.11</td><td>Apr-2016</td><td>Fully Paid</td><td>credit_card</td><td>Credit card refin...</td><td>2023-11-05 10:01:...</td></tr>\n",
       "<tr><td>76402196</td><td>c764f6b4666a3a439...</td><td>8000.0</td><td>8000.0</td><td>3</td><td>13.67</td><td>272.15</td><td>Apr-2016</td><td>Current</td><td>debt_consolidation</td><td>Debt consolidation</td><td>2023-11-05 10:01:...</td></tr>\n",
       "<tr><td>76223437</td><td>199119e026b4bfb14...</td><td>24000.0</td><td>24000.0</td><td>3</td><td>9.16</td><td>764.99</td><td>Apr-2016</td><td>Fully Paid</td><td>other</td><td>Other</td><td>2023-11-05 10:01:...</td></tr>\n",
       "</table>\n",
       "only showing top 20 rows\n"
      ],
      "text/plain": [
       "+--------+--------------------+-----------+-------------+---------------+-------------+-------------------+----------+-----------+------------------+--------------------+--------------------+\n",
       "| loan_id|           member_id|loan_amount|funded_amount|loan_term_years|interest_rate|monthly_installment|issue_date|loan_status|      loan_purpose|          loan_title|         ingest_date|\n",
       "+--------+--------------------+-----------+-------------+---------------+-------------+-------------------+----------+-----------+------------------+--------------------+--------------------+\n",
       "|76003861|a4ec00ba67fadf2fe...|    24000.0|      24000.0|              5|        15.31|             574.88|  Apr-2016|Charged Off|debt_consolidation|  Debt consolidation|2023-11-05 10:01:...|\n",
       "|76263914|4f7a9e6ffaacd5da2...|     2400.0|       2400.0|              3|        11.47|              79.11|  Apr-2016| Fully Paid|debt_consolidation|  Debt consolidation|2023-11-05 10:01:...|\n",
       "|75537401|e935a4c27fc78ae61...|    12600.0|      12600.0|              3|         7.39|             391.31|  Apr-2016| Fully Paid|             other|               Other|2023-11-05 10:01:...|\n",
       "|75038986|2d32004bd5e1dc3c3...|    16800.0|      16800.0|              5|        19.53|             440.72|  Apr-2016|    Current|       credit_card|Credit card refin...|2023-11-05 10:01:...|\n",
       "|76301424|f7116b7f7546a7952...|     4300.0|       4300.0|              3|        17.27|             153.89|  Apr-2016|Charged Off|debt_consolidation|  Debt consolidation|2023-11-05 10:01:...|\n",
       "|75333198|d3aa3a3c95eca5631...|     8950.0|       8950.0|              3|        22.45|              343.9|  Apr-2016|    Current|       credit_card|Credit card refin...|2023-11-05 10:01:...|\n",
       "|76391453|fc8a2e046eaaba02d...|    35000.0|      35000.0|              5|        12.99|             796.18|  Apr-2016| Fully Paid|debt_consolidation|  Debt consolidation|2023-11-05 10:01:...|\n",
       "|76363364|577ae670ac2ec7ed3...|    15000.0|      15000.0|              3|         9.16|             478.12|  Apr-2016| Fully Paid|             house|         Home buying|2023-11-05 10:01:...|\n",
       "|76272510|d3792868819649ba9...|    30000.0|      30000.0|              5|        16.29|             734.18|  Apr-2016|    Current|debt_consolidation|  Debt consolidation|2023-11-05 10:01:...|\n",
       "|76304116|6d3a5a422261348b3...|     4800.0|       4800.0|              3|        19.99|             178.37|  Apr-2016| Fully Paid|       credit_card|Credit card refin...|2023-11-05 10:01:...|\n",
       "|76422971|7435a5a4b2b825a20...|    10000.0|      10000.0|              3|        19.53|             369.25|  Apr-2016|Charged Off|            moving|Moving and reloca...|2023-11-05 10:01:...|\n",
       "|75369187|2a1dd1ae5b20c4dee...|    35000.0|      35000.0|              5|        11.99|             778.38|  Apr-2016|    Current|       credit_card|                null|2023-11-05 10:01:...|\n",
       "|76212079|8d203efd7c1af010c...|     6400.0|       6400.0|              3|         9.16|              204.0|  Apr-2016|    Current|       credit_card|Credit card refin...|2023-11-05 10:01:...|\n",
       "|75104089|c266c3c131861bb8c...|     8500.0|       8500.0|              3|         9.75|             273.28|  Apr-2016| Fully Paid|debt_consolidation|  Debt consolidation|2023-11-05 10:01:...|\n",
       "|75669444|c7b46f35c566b6d56...|    30800.0|      30800.0|              5|        19.53|             807.98|  Apr-2016|    Current|debt_consolidation|  Debt consolidation|2023-11-05 10:01:...|\n",
       "|76223382|9284503d1d6dcd23b...|     2000.0|       2000.0|              3|         9.16|              63.75|  Apr-2016|    Current|debt_consolidation|  Debt consolidation|2023-11-05 10:01:...|\n",
       "|76223540|616e44da25c28bd55...|    25000.0|      25000.0|              3|        17.27|             894.69|  Apr-2016| Fully Paid|debt_consolidation|  Debt consolidation|2023-11-05 10:01:...|\n",
       "|76255093|8192d3261d35b28af...|     7000.0|       7000.0|              3|        16.29|             247.11|  Apr-2016| Fully Paid|       credit_card|Credit card refin...|2023-11-05 10:01:...|\n",
       "|76402196|c764f6b4666a3a439...|     8000.0|       8000.0|              3|        13.67|             272.15|  Apr-2016|    Current|debt_consolidation|  Debt consolidation|2023-11-05 10:01:...|\n",
       "|76223437|199119e026b4bfb14...|    24000.0|      24000.0|              3|         9.16|             764.99|  Apr-2016| Fully Paid|             other|               Other|2023-11-05 10:01:...|\n",
       "+--------+--------------------+-----------+-------------+---------------+-------------+-------------------+----------+-----------+------------------+--------------------+--------------------+\n",
       "only showing top 20 rows"
      ]
     },
     "execution_count": 68,
     "metadata": {},
     "output_type": "execute_result"
    }
   ],
   "source": [
    "loans_term_modified_df"
   ]
  },
  {
   "cell_type": "code",
   "execution_count": 69,
   "id": "60db24b4",
   "metadata": {},
   "outputs": [],
   "source": [
    "loans_term_modified_df.createOrReplaceTempView(\"loans\")"
   ]
  },
  {
   "cell_type": "code",
   "execution_count": 70,
   "id": "99744f50",
   "metadata": {},
   "outputs": [
    {
     "data": {
      "text/html": [
       "<table border='1'>\n",
       "<tr><th>loan_id</th><th>member_id</th><th>loan_amount</th><th>funded_amount</th><th>loan_term_years</th><th>interest_rate</th><th>monthly_installment</th><th>issue_date</th><th>loan_status</th><th>loan_purpose</th><th>loan_title</th><th>ingest_date</th></tr>\n",
       "<tr><td>76003861</td><td>a4ec00ba67fadf2fe...</td><td>24000.0</td><td>24000.0</td><td>5</td><td>15.31</td><td>574.88</td><td>Apr-2016</td><td>Charged Off</td><td>debt_consolidation</td><td>Debt consolidation</td><td>2023-11-05 10:03:...</td></tr>\n",
       "<tr><td>76263914</td><td>4f7a9e6ffaacd5da2...</td><td>2400.0</td><td>2400.0</td><td>3</td><td>11.47</td><td>79.11</td><td>Apr-2016</td><td>Fully Paid</td><td>debt_consolidation</td><td>Debt consolidation</td><td>2023-11-05 10:03:...</td></tr>\n",
       "<tr><td>75537401</td><td>e935a4c27fc78ae61...</td><td>12600.0</td><td>12600.0</td><td>3</td><td>7.39</td><td>391.31</td><td>Apr-2016</td><td>Fully Paid</td><td>other</td><td>Other</td><td>2023-11-05 10:03:...</td></tr>\n",
       "<tr><td>75038986</td><td>2d32004bd5e1dc3c3...</td><td>16800.0</td><td>16800.0</td><td>5</td><td>19.53</td><td>440.72</td><td>Apr-2016</td><td>Current</td><td>credit_card</td><td>Credit card refin...</td><td>2023-11-05 10:03:...</td></tr>\n",
       "<tr><td>76301424</td><td>f7116b7f7546a7952...</td><td>4300.0</td><td>4300.0</td><td>3</td><td>17.27</td><td>153.89</td><td>Apr-2016</td><td>Charged Off</td><td>debt_consolidation</td><td>Debt consolidation</td><td>2023-11-05 10:03:...</td></tr>\n",
       "<tr><td>75333198</td><td>d3aa3a3c95eca5631...</td><td>8950.0</td><td>8950.0</td><td>3</td><td>22.45</td><td>343.9</td><td>Apr-2016</td><td>Current</td><td>credit_card</td><td>Credit card refin...</td><td>2023-11-05 10:03:...</td></tr>\n",
       "<tr><td>76391453</td><td>fc8a2e046eaaba02d...</td><td>35000.0</td><td>35000.0</td><td>5</td><td>12.99</td><td>796.18</td><td>Apr-2016</td><td>Fully Paid</td><td>debt_consolidation</td><td>Debt consolidation</td><td>2023-11-05 10:03:...</td></tr>\n",
       "<tr><td>76363364</td><td>577ae670ac2ec7ed3...</td><td>15000.0</td><td>15000.0</td><td>3</td><td>9.16</td><td>478.12</td><td>Apr-2016</td><td>Fully Paid</td><td>house</td><td>Home buying</td><td>2023-11-05 10:03:...</td></tr>\n",
       "<tr><td>76272510</td><td>d3792868819649ba9...</td><td>30000.0</td><td>30000.0</td><td>5</td><td>16.29</td><td>734.18</td><td>Apr-2016</td><td>Current</td><td>debt_consolidation</td><td>Debt consolidation</td><td>2023-11-05 10:03:...</td></tr>\n",
       "<tr><td>76304116</td><td>6d3a5a422261348b3...</td><td>4800.0</td><td>4800.0</td><td>3</td><td>19.99</td><td>178.37</td><td>Apr-2016</td><td>Fully Paid</td><td>credit_card</td><td>Credit card refin...</td><td>2023-11-05 10:03:...</td></tr>\n",
       "<tr><td>76422971</td><td>7435a5a4b2b825a20...</td><td>10000.0</td><td>10000.0</td><td>3</td><td>19.53</td><td>369.25</td><td>Apr-2016</td><td>Charged Off</td><td>moving</td><td>Moving and reloca...</td><td>2023-11-05 10:03:...</td></tr>\n",
       "<tr><td>75369187</td><td>2a1dd1ae5b20c4dee...</td><td>35000.0</td><td>35000.0</td><td>5</td><td>11.99</td><td>778.38</td><td>Apr-2016</td><td>Current</td><td>credit_card</td><td>null</td><td>2023-11-05 10:03:...</td></tr>\n",
       "<tr><td>76212079</td><td>8d203efd7c1af010c...</td><td>6400.0</td><td>6400.0</td><td>3</td><td>9.16</td><td>204.0</td><td>Apr-2016</td><td>Current</td><td>credit_card</td><td>Credit card refin...</td><td>2023-11-05 10:03:...</td></tr>\n",
       "<tr><td>75104089</td><td>c266c3c131861bb8c...</td><td>8500.0</td><td>8500.0</td><td>3</td><td>9.75</td><td>273.28</td><td>Apr-2016</td><td>Fully Paid</td><td>debt_consolidation</td><td>Debt consolidation</td><td>2023-11-05 10:03:...</td></tr>\n",
       "<tr><td>75669444</td><td>c7b46f35c566b6d56...</td><td>30800.0</td><td>30800.0</td><td>5</td><td>19.53</td><td>807.98</td><td>Apr-2016</td><td>Current</td><td>debt_consolidation</td><td>Debt consolidation</td><td>2023-11-05 10:03:...</td></tr>\n",
       "<tr><td>76223382</td><td>9284503d1d6dcd23b...</td><td>2000.0</td><td>2000.0</td><td>3</td><td>9.16</td><td>63.75</td><td>Apr-2016</td><td>Current</td><td>debt_consolidation</td><td>Debt consolidation</td><td>2023-11-05 10:03:...</td></tr>\n",
       "<tr><td>76223540</td><td>616e44da25c28bd55...</td><td>25000.0</td><td>25000.0</td><td>3</td><td>17.27</td><td>894.69</td><td>Apr-2016</td><td>Fully Paid</td><td>debt_consolidation</td><td>Debt consolidation</td><td>2023-11-05 10:03:...</td></tr>\n",
       "<tr><td>76255093</td><td>8192d3261d35b28af...</td><td>7000.0</td><td>7000.0</td><td>3</td><td>16.29</td><td>247.11</td><td>Apr-2016</td><td>Fully Paid</td><td>credit_card</td><td>Credit card refin...</td><td>2023-11-05 10:03:...</td></tr>\n",
       "<tr><td>76402196</td><td>c764f6b4666a3a439...</td><td>8000.0</td><td>8000.0</td><td>3</td><td>13.67</td><td>272.15</td><td>Apr-2016</td><td>Current</td><td>debt_consolidation</td><td>Debt consolidation</td><td>2023-11-05 10:03:...</td></tr>\n",
       "<tr><td>76223437</td><td>199119e026b4bfb14...</td><td>24000.0</td><td>24000.0</td><td>3</td><td>9.16</td><td>764.99</td><td>Apr-2016</td><td>Fully Paid</td><td>other</td><td>Other</td><td>2023-11-05 10:03:...</td></tr>\n",
       "</table>\n",
       "only showing top 20 rows\n"
      ],
      "text/plain": [
       "+--------+--------------------+-----------+-------------+---------------+-------------+-------------------+----------+-----------+------------------+--------------------+--------------------+\n",
       "| loan_id|           member_id|loan_amount|funded_amount|loan_term_years|interest_rate|monthly_installment|issue_date|loan_status|      loan_purpose|          loan_title|         ingest_date|\n",
       "+--------+--------------------+-----------+-------------+---------------+-------------+-------------------+----------+-----------+------------------+--------------------+--------------------+\n",
       "|76003861|a4ec00ba67fadf2fe...|    24000.0|      24000.0|              5|        15.31|             574.88|  Apr-2016|Charged Off|debt_consolidation|  Debt consolidation|2023-11-05 10:03:...|\n",
       "|76263914|4f7a9e6ffaacd5da2...|     2400.0|       2400.0|              3|        11.47|              79.11|  Apr-2016| Fully Paid|debt_consolidation|  Debt consolidation|2023-11-05 10:03:...|\n",
       "|75537401|e935a4c27fc78ae61...|    12600.0|      12600.0|              3|         7.39|             391.31|  Apr-2016| Fully Paid|             other|               Other|2023-11-05 10:03:...|\n",
       "|75038986|2d32004bd5e1dc3c3...|    16800.0|      16800.0|              5|        19.53|             440.72|  Apr-2016|    Current|       credit_card|Credit card refin...|2023-11-05 10:03:...|\n",
       "|76301424|f7116b7f7546a7952...|     4300.0|       4300.0|              3|        17.27|             153.89|  Apr-2016|Charged Off|debt_consolidation|  Debt consolidation|2023-11-05 10:03:...|\n",
       "|75333198|d3aa3a3c95eca5631...|     8950.0|       8950.0|              3|        22.45|              343.9|  Apr-2016|    Current|       credit_card|Credit card refin...|2023-11-05 10:03:...|\n",
       "|76391453|fc8a2e046eaaba02d...|    35000.0|      35000.0|              5|        12.99|             796.18|  Apr-2016| Fully Paid|debt_consolidation|  Debt consolidation|2023-11-05 10:03:...|\n",
       "|76363364|577ae670ac2ec7ed3...|    15000.0|      15000.0|              3|         9.16|             478.12|  Apr-2016| Fully Paid|             house|         Home buying|2023-11-05 10:03:...|\n",
       "|76272510|d3792868819649ba9...|    30000.0|      30000.0|              5|        16.29|             734.18|  Apr-2016|    Current|debt_consolidation|  Debt consolidation|2023-11-05 10:03:...|\n",
       "|76304116|6d3a5a422261348b3...|     4800.0|       4800.0|              3|        19.99|             178.37|  Apr-2016| Fully Paid|       credit_card|Credit card refin...|2023-11-05 10:03:...|\n",
       "|76422971|7435a5a4b2b825a20...|    10000.0|      10000.0|              3|        19.53|             369.25|  Apr-2016|Charged Off|            moving|Moving and reloca...|2023-11-05 10:03:...|\n",
       "|75369187|2a1dd1ae5b20c4dee...|    35000.0|      35000.0|              5|        11.99|             778.38|  Apr-2016|    Current|       credit_card|                null|2023-11-05 10:03:...|\n",
       "|76212079|8d203efd7c1af010c...|     6400.0|       6400.0|              3|         9.16|              204.0|  Apr-2016|    Current|       credit_card|Credit card refin...|2023-11-05 10:03:...|\n",
       "|75104089|c266c3c131861bb8c...|     8500.0|       8500.0|              3|         9.75|             273.28|  Apr-2016| Fully Paid|debt_consolidation|  Debt consolidation|2023-11-05 10:03:...|\n",
       "|75669444|c7b46f35c566b6d56...|    30800.0|      30800.0|              5|        19.53|             807.98|  Apr-2016|    Current|debt_consolidation|  Debt consolidation|2023-11-05 10:03:...|\n",
       "|76223382|9284503d1d6dcd23b...|     2000.0|       2000.0|              3|         9.16|              63.75|  Apr-2016|    Current|debt_consolidation|  Debt consolidation|2023-11-05 10:03:...|\n",
       "|76223540|616e44da25c28bd55...|    25000.0|      25000.0|              3|        17.27|             894.69|  Apr-2016| Fully Paid|debt_consolidation|  Debt consolidation|2023-11-05 10:03:...|\n",
       "|76255093|8192d3261d35b28af...|     7000.0|       7000.0|              3|        16.29|             247.11|  Apr-2016| Fully Paid|       credit_card|Credit card refin...|2023-11-05 10:03:...|\n",
       "|76402196|c764f6b4666a3a439...|     8000.0|       8000.0|              3|        13.67|             272.15|  Apr-2016|    Current|debt_consolidation|  Debt consolidation|2023-11-05 10:03:...|\n",
       "|76223437|199119e026b4bfb14...|    24000.0|      24000.0|              3|         9.16|             764.99|  Apr-2016| Fully Paid|             other|               Other|2023-11-05 10:03:...|\n",
       "+--------+--------------------+-----------+-------------+---------------+-------------+-------------------+----------+-----------+------------------+--------------------+--------------------+\n",
       "only showing top 20 rows"
      ]
     },
     "execution_count": 70,
     "metadata": {},
     "output_type": "execute_result"
    }
   ],
   "source": [
    "spark.sql(\"select * from loans\")"
   ]
  },
  {
   "cell_type": "code",
   "execution_count": 71,
   "id": "0b5a24d6",
   "metadata": {},
   "outputs": [
    {
     "data": {
      "text/html": [
       "<table border='1'>\n",
       "<tr><th>loan_purpose</th></tr>\n",
       "<tr><td>guaranteed!&quot;</td></tr>\n",
       "<tr><td>and if they are a...</td></tr>\n",
       "<tr><td>never had any tro...</td></tr>\n",
       "<tr><td>Bank of America c...</td></tr>\n",
       "<tr><td>&lt;br/&gt;&lt;br/&gt;Lending...</td></tr>\n",
       "<tr><td>stocks</td></tr>\n",
       "<tr><td>please feel free ...</td></tr>\n",
       "<tr><td>I became his prim...</td></tr>\n",
       "<tr><td>brakes</td></tr>\n",
       "<tr><td>on one of the bus...</td></tr>\n",
       "<tr><td>because of the na...</td></tr>\n",
       "<tr><td>progressive multi...</td></tr>\n",
       "<tr><td>but not much info...</td></tr>\n",
       "<tr><td>I have eliminated...</td></tr>\n",
       "<tr><td>TutoringOne is a ...</td></tr>\n",
       "<tr><td>you may feel conf...</td></tr>\n",
       "<tr><td>so I have to pay ...</td></tr>\n",
       "<tr><td>Hilal Khalil Homa...</td></tr>\n",
       "<tr><td>000 in debt on cr...</td></tr>\n",
       "<tr><td>and the monthly p...</td></tr>\n",
       "</table>\n",
       "only showing top 20 rows\n"
      ],
      "text/plain": [
       "+--------------------+\n",
       "|        loan_purpose|\n",
       "+--------------------+\n",
       "|        guaranteed!\"|\n",
       "|and if they are a...|\n",
       "|never had any tro...|\n",
       "|Bank of America c...|\n",
       "|<br/><br/>Lending...|\n",
       "|              stocks|\n",
       "|please feel free ...|\n",
       "|I became his prim...|\n",
       "|              brakes|\n",
       "|on one of the bus...|\n",
       "|because of the na...|\n",
       "|progressive multi...|\n",
       "|but not much info...|\n",
       "|I have eliminated...|\n",
       "|TutoringOne is a ...|\n",
       "|you may feel conf...|\n",
       "|so I have to pay ...|\n",
       "|Hilal Khalil Homa...|\n",
       "|000 in debt on cr...|\n",
       "|and the monthly p...|\n",
       "+--------------------+\n",
       "only showing top 20 rows"
      ]
     },
     "execution_count": 71,
     "metadata": {},
     "output_type": "execute_result"
    }
   ],
   "source": [
    "spark.sql(\"select distinct(loan_purpose) from loans\")"
   ]
  },
  {
   "cell_type": "code",
   "execution_count": 74,
   "id": "955e2d89",
   "metadata": {},
   "outputs": [
    {
     "data": {
      "text/html": [
       "<table border='1'>\n",
       "<tr><th>loan_purpose</th><th>total</th></tr>\n",
       "<tr><td>debt_consolidation</td><td>1277790</td></tr>\n",
       "<tr><td>credit_card</td><td>516926</td></tr>\n",
       "<tr><td>home_improvement</td><td>150440</td></tr>\n",
       "<tr><td>other</td><td>139413</td></tr>\n",
       "<tr><td>major_purchase</td><td>50429</td></tr>\n",
       "<tr><td>medical</td><td>27481</td></tr>\n",
       "<tr><td>small_business</td><td>24659</td></tr>\n",
       "<tr><td>car</td><td>24009</td></tr>\n",
       "<tr><td>vacation</td><td>15525</td></tr>\n",
       "<tr><td>moving</td><td>15402</td></tr>\n",
       "<tr><td>house</td><td>14131</td></tr>\n",
       "<tr><td>wedding</td><td>2351</td></tr>\n",
       "<tr><td>renewable_energy</td><td>1445</td></tr>\n",
       "<tr><td>educational</td><td>412</td></tr>\n",
       "<tr><td>but we cant all b...</td><td>1</td></tr>\n",
       "<tr><td>stocks</td><td>1</td></tr>\n",
       "<tr><td>&lt;br/&gt;&lt;br/&gt;Lending...</td><td>1</td></tr>\n",
       "<tr><td>because of the na...</td><td>1</td></tr>\n",
       "<tr><td>please feel free ...</td><td>1</td></tr>\n",
       "<tr><td>I became his prim...</td><td>1</td></tr>\n",
       "</table>\n",
       "only showing top 20 rows\n"
      ],
      "text/plain": [
       "+--------------------+-------+\n",
       "|        loan_purpose|  total|\n",
       "+--------------------+-------+\n",
       "|  debt_consolidation|1277790|\n",
       "|         credit_card| 516926|\n",
       "|    home_improvement| 150440|\n",
       "|               other| 139413|\n",
       "|      major_purchase|  50429|\n",
       "|             medical|  27481|\n",
       "|      small_business|  24659|\n",
       "|                 car|  24009|\n",
       "|            vacation|  15525|\n",
       "|              moving|  15402|\n",
       "|               house|  14131|\n",
       "|             wedding|   2351|\n",
       "|    renewable_energy|   1445|\n",
       "|         educational|    412|\n",
       "|<br/><br/>Lending...|      1|\n",
       "|I became his prim...|      1|\n",
       "|progressive multi...|      1|\n",
       "|              brakes|      1|\n",
       "|you may feel conf...|      1|\n",
       "|so I have to pay ...|      1|\n",
       "+--------------------+-------+\n",
       "only showing top 20 rows"
      ]
     },
     "execution_count": 74,
     "metadata": {},
     "output_type": "execute_result"
    }
   ],
   "source": [
    "spark.sql(\"select loan_purpose, count(*) as total from loans group by loan_purpose order by total desc\")"
   ]
  },
  {
   "cell_type": "markdown",
   "id": "214fa4c3",
   "metadata": {},
   "source": [
    "### Loan purpose lookup"
   ]
  },
  {
   "cell_type": "code",
   "execution_count": 75,
   "id": "fbd246cc",
   "metadata": {},
   "outputs": [],
   "source": [
    "loan_purpose_lookup = [\"debt_consolidation\", \"credit_card\",\n",
    "\"home_improvement\", \"other\", \"major_purchase\", \"medical\", \"small_business\",\n",
    "\"car\", \"vacation\", \"moving\", \"house\", \"wedding\", \"renewable_energy\",\n",
    "\"educational\"]"
   ]
  },
  {
   "cell_type": "code",
   "execution_count": 76,
   "id": "3e9cb8f2",
   "metadata": {},
   "outputs": [],
   "source": [
    "from pyspark.sql.functions import when"
   ]
  },
  {
   "cell_type": "code",
   "execution_count": 78,
   "id": "5409cddf",
   "metadata": {},
   "outputs": [],
   "source": [
    "loans_purpose_modified=loans_term_modified_df.withColumn(\"loan_purpose\", when(col(\"loan_purpose\").isin(loan_purpose_lookup),col(\"loan_purpose\")).otherwise(\"other\"))"
   ]
  },
  {
   "cell_type": "code",
   "execution_count": 79,
   "id": "8f4363c6",
   "metadata": {},
   "outputs": [
    {
     "data": {
      "text/html": [
       "<table border='1'>\n",
       "<tr><th>loan_id</th><th>member_id</th><th>loan_amount</th><th>funded_amount</th><th>loan_term_years</th><th>interest_rate</th><th>monthly_installment</th><th>issue_date</th><th>loan_status</th><th>loan_purpose</th><th>loan_title</th><th>ingest_date</th></tr>\n",
       "<tr><td>76003861</td><td>a4ec00ba67fadf2fe...</td><td>24000.0</td><td>24000.0</td><td>5</td><td>15.31</td><td>574.88</td><td>Apr-2016</td><td>Charged Off</td><td>debt_consolidation</td><td>Debt consolidation</td><td>2023-11-05 10:14:...</td></tr>\n",
       "<tr><td>76263914</td><td>4f7a9e6ffaacd5da2...</td><td>2400.0</td><td>2400.0</td><td>3</td><td>11.47</td><td>79.11</td><td>Apr-2016</td><td>Fully Paid</td><td>debt_consolidation</td><td>Debt consolidation</td><td>2023-11-05 10:14:...</td></tr>\n",
       "<tr><td>75537401</td><td>e935a4c27fc78ae61...</td><td>12600.0</td><td>12600.0</td><td>3</td><td>7.39</td><td>391.31</td><td>Apr-2016</td><td>Fully Paid</td><td>other</td><td>Other</td><td>2023-11-05 10:14:...</td></tr>\n",
       "<tr><td>75038986</td><td>2d32004bd5e1dc3c3...</td><td>16800.0</td><td>16800.0</td><td>5</td><td>19.53</td><td>440.72</td><td>Apr-2016</td><td>Current</td><td>credit_card</td><td>Credit card refin...</td><td>2023-11-05 10:14:...</td></tr>\n",
       "<tr><td>76301424</td><td>f7116b7f7546a7952...</td><td>4300.0</td><td>4300.0</td><td>3</td><td>17.27</td><td>153.89</td><td>Apr-2016</td><td>Charged Off</td><td>debt_consolidation</td><td>Debt consolidation</td><td>2023-11-05 10:14:...</td></tr>\n",
       "<tr><td>75333198</td><td>d3aa3a3c95eca5631...</td><td>8950.0</td><td>8950.0</td><td>3</td><td>22.45</td><td>343.9</td><td>Apr-2016</td><td>Current</td><td>credit_card</td><td>Credit card refin...</td><td>2023-11-05 10:14:...</td></tr>\n",
       "<tr><td>76391453</td><td>fc8a2e046eaaba02d...</td><td>35000.0</td><td>35000.0</td><td>5</td><td>12.99</td><td>796.18</td><td>Apr-2016</td><td>Fully Paid</td><td>debt_consolidation</td><td>Debt consolidation</td><td>2023-11-05 10:14:...</td></tr>\n",
       "<tr><td>76363364</td><td>577ae670ac2ec7ed3...</td><td>15000.0</td><td>15000.0</td><td>3</td><td>9.16</td><td>478.12</td><td>Apr-2016</td><td>Fully Paid</td><td>house</td><td>Home buying</td><td>2023-11-05 10:14:...</td></tr>\n",
       "<tr><td>76272510</td><td>d3792868819649ba9...</td><td>30000.0</td><td>30000.0</td><td>5</td><td>16.29</td><td>734.18</td><td>Apr-2016</td><td>Current</td><td>debt_consolidation</td><td>Debt consolidation</td><td>2023-11-05 10:14:...</td></tr>\n",
       "<tr><td>76304116</td><td>6d3a5a422261348b3...</td><td>4800.0</td><td>4800.0</td><td>3</td><td>19.99</td><td>178.37</td><td>Apr-2016</td><td>Fully Paid</td><td>credit_card</td><td>Credit card refin...</td><td>2023-11-05 10:14:...</td></tr>\n",
       "<tr><td>76422971</td><td>7435a5a4b2b825a20...</td><td>10000.0</td><td>10000.0</td><td>3</td><td>19.53</td><td>369.25</td><td>Apr-2016</td><td>Charged Off</td><td>moving</td><td>Moving and reloca...</td><td>2023-11-05 10:14:...</td></tr>\n",
       "<tr><td>75369187</td><td>2a1dd1ae5b20c4dee...</td><td>35000.0</td><td>35000.0</td><td>5</td><td>11.99</td><td>778.38</td><td>Apr-2016</td><td>Current</td><td>credit_card</td><td>null</td><td>2023-11-05 10:14:...</td></tr>\n",
       "<tr><td>76212079</td><td>8d203efd7c1af010c...</td><td>6400.0</td><td>6400.0</td><td>3</td><td>9.16</td><td>204.0</td><td>Apr-2016</td><td>Current</td><td>credit_card</td><td>Credit card refin...</td><td>2023-11-05 10:14:...</td></tr>\n",
       "<tr><td>75104089</td><td>c266c3c131861bb8c...</td><td>8500.0</td><td>8500.0</td><td>3</td><td>9.75</td><td>273.28</td><td>Apr-2016</td><td>Fully Paid</td><td>debt_consolidation</td><td>Debt consolidation</td><td>2023-11-05 10:14:...</td></tr>\n",
       "<tr><td>75669444</td><td>c7b46f35c566b6d56...</td><td>30800.0</td><td>30800.0</td><td>5</td><td>19.53</td><td>807.98</td><td>Apr-2016</td><td>Current</td><td>debt_consolidation</td><td>Debt consolidation</td><td>2023-11-05 10:14:...</td></tr>\n",
       "<tr><td>76223382</td><td>9284503d1d6dcd23b...</td><td>2000.0</td><td>2000.0</td><td>3</td><td>9.16</td><td>63.75</td><td>Apr-2016</td><td>Current</td><td>debt_consolidation</td><td>Debt consolidation</td><td>2023-11-05 10:14:...</td></tr>\n",
       "<tr><td>76223540</td><td>616e44da25c28bd55...</td><td>25000.0</td><td>25000.0</td><td>3</td><td>17.27</td><td>894.69</td><td>Apr-2016</td><td>Fully Paid</td><td>debt_consolidation</td><td>Debt consolidation</td><td>2023-11-05 10:14:...</td></tr>\n",
       "<tr><td>76255093</td><td>8192d3261d35b28af...</td><td>7000.0</td><td>7000.0</td><td>3</td><td>16.29</td><td>247.11</td><td>Apr-2016</td><td>Fully Paid</td><td>credit_card</td><td>Credit card refin...</td><td>2023-11-05 10:14:...</td></tr>\n",
       "<tr><td>76402196</td><td>c764f6b4666a3a439...</td><td>8000.0</td><td>8000.0</td><td>3</td><td>13.67</td><td>272.15</td><td>Apr-2016</td><td>Current</td><td>debt_consolidation</td><td>Debt consolidation</td><td>2023-11-05 10:14:...</td></tr>\n",
       "<tr><td>76223437</td><td>199119e026b4bfb14...</td><td>24000.0</td><td>24000.0</td><td>3</td><td>9.16</td><td>764.99</td><td>Apr-2016</td><td>Fully Paid</td><td>other</td><td>Other</td><td>2023-11-05 10:14:...</td></tr>\n",
       "</table>\n",
       "only showing top 20 rows\n"
      ],
      "text/plain": [
       "+--------+--------------------+-----------+-------------+---------------+-------------+-------------------+----------+-----------+------------------+--------------------+--------------------+\n",
       "| loan_id|           member_id|loan_amount|funded_amount|loan_term_years|interest_rate|monthly_installment|issue_date|loan_status|      loan_purpose|          loan_title|         ingest_date|\n",
       "+--------+--------------------+-----------+-------------+---------------+-------------+-------------------+----------+-----------+------------------+--------------------+--------------------+\n",
       "|76003861|a4ec00ba67fadf2fe...|    24000.0|      24000.0|              5|        15.31|             574.88|  Apr-2016|Charged Off|debt_consolidation|  Debt consolidation|2023-11-05 10:14:...|\n",
       "|76263914|4f7a9e6ffaacd5da2...|     2400.0|       2400.0|              3|        11.47|              79.11|  Apr-2016| Fully Paid|debt_consolidation|  Debt consolidation|2023-11-05 10:14:...|\n",
       "|75537401|e935a4c27fc78ae61...|    12600.0|      12600.0|              3|         7.39|             391.31|  Apr-2016| Fully Paid|             other|               Other|2023-11-05 10:14:...|\n",
       "|75038986|2d32004bd5e1dc3c3...|    16800.0|      16800.0|              5|        19.53|             440.72|  Apr-2016|    Current|       credit_card|Credit card refin...|2023-11-05 10:14:...|\n",
       "|76301424|f7116b7f7546a7952...|     4300.0|       4300.0|              3|        17.27|             153.89|  Apr-2016|Charged Off|debt_consolidation|  Debt consolidation|2023-11-05 10:14:...|\n",
       "|75333198|d3aa3a3c95eca5631...|     8950.0|       8950.0|              3|        22.45|              343.9|  Apr-2016|    Current|       credit_card|Credit card refin...|2023-11-05 10:14:...|\n",
       "|76391453|fc8a2e046eaaba02d...|    35000.0|      35000.0|              5|        12.99|             796.18|  Apr-2016| Fully Paid|debt_consolidation|  Debt consolidation|2023-11-05 10:14:...|\n",
       "|76363364|577ae670ac2ec7ed3...|    15000.0|      15000.0|              3|         9.16|             478.12|  Apr-2016| Fully Paid|             house|         Home buying|2023-11-05 10:14:...|\n",
       "|76272510|d3792868819649ba9...|    30000.0|      30000.0|              5|        16.29|             734.18|  Apr-2016|    Current|debt_consolidation|  Debt consolidation|2023-11-05 10:14:...|\n",
       "|76304116|6d3a5a422261348b3...|     4800.0|       4800.0|              3|        19.99|             178.37|  Apr-2016| Fully Paid|       credit_card|Credit card refin...|2023-11-05 10:14:...|\n",
       "|76422971|7435a5a4b2b825a20...|    10000.0|      10000.0|              3|        19.53|             369.25|  Apr-2016|Charged Off|            moving|Moving and reloca...|2023-11-05 10:14:...|\n",
       "|75369187|2a1dd1ae5b20c4dee...|    35000.0|      35000.0|              5|        11.99|             778.38|  Apr-2016|    Current|       credit_card|                null|2023-11-05 10:14:...|\n",
       "|76212079|8d203efd7c1af010c...|     6400.0|       6400.0|              3|         9.16|              204.0|  Apr-2016|    Current|       credit_card|Credit card refin...|2023-11-05 10:14:...|\n",
       "|75104089|c266c3c131861bb8c...|     8500.0|       8500.0|              3|         9.75|             273.28|  Apr-2016| Fully Paid|debt_consolidation|  Debt consolidation|2023-11-05 10:14:...|\n",
       "|75669444|c7b46f35c566b6d56...|    30800.0|      30800.0|              5|        19.53|             807.98|  Apr-2016|    Current|debt_consolidation|  Debt consolidation|2023-11-05 10:14:...|\n",
       "|76223382|9284503d1d6dcd23b...|     2000.0|       2000.0|              3|         9.16|              63.75|  Apr-2016|    Current|debt_consolidation|  Debt consolidation|2023-11-05 10:14:...|\n",
       "|76223540|616e44da25c28bd55...|    25000.0|      25000.0|              3|        17.27|             894.69|  Apr-2016| Fully Paid|debt_consolidation|  Debt consolidation|2023-11-05 10:14:...|\n",
       "|76255093|8192d3261d35b28af...|     7000.0|       7000.0|              3|        16.29|             247.11|  Apr-2016| Fully Paid|       credit_card|Credit card refin...|2023-11-05 10:14:...|\n",
       "|76402196|c764f6b4666a3a439...|     8000.0|       8000.0|              3|        13.67|             272.15|  Apr-2016|    Current|debt_consolidation|  Debt consolidation|2023-11-05 10:14:...|\n",
       "|76223437|199119e026b4bfb14...|    24000.0|      24000.0|              3|         9.16|             764.99|  Apr-2016| Fully Paid|             other|               Other|2023-11-05 10:14:...|\n",
       "+--------+--------------------+-----------+-------------+---------------+-------------+-------------------+----------+-----------+------------------+--------------------+--------------------+\n",
       "only showing top 20 rows"
      ]
     },
     "execution_count": 79,
     "metadata": {},
     "output_type": "execute_result"
    }
   ],
   "source": [
    "loans_purpose_modified"
   ]
  },
  {
   "cell_type": "code",
   "execution_count": 80,
   "id": "1a5600dd",
   "metadata": {},
   "outputs": [
    {
     "data": {
      "text/html": [
       "<table border='1'>\n",
       "<tr><th>loan_purpose</th><th>total</th></tr>\n",
       "<tr><td>debt_consolidation</td><td>1277790</td></tr>\n",
       "<tr><td>credit_card</td><td>516926</td></tr>\n",
       "<tr><td>home_improvement</td><td>150440</td></tr>\n",
       "<tr><td>other</td><td>139413</td></tr>\n",
       "<tr><td>major_purchase</td><td>50429</td></tr>\n",
       "<tr><td>medical</td><td>27481</td></tr>\n",
       "<tr><td>small_business</td><td>24659</td></tr>\n",
       "<tr><td>car</td><td>24009</td></tr>\n",
       "<tr><td>vacation</td><td>15525</td></tr>\n",
       "<tr><td>moving</td><td>15402</td></tr>\n",
       "<tr><td>house</td><td>14131</td></tr>\n",
       "<tr><td>wedding</td><td>2351</td></tr>\n",
       "<tr><td>renewable_energy</td><td>1445</td></tr>\n",
       "<tr><td>educational</td><td>412</td></tr>\n",
       "<tr><td>never had any tro...</td><td>1</td></tr>\n",
       "<tr><td>stocks</td><td>1</td></tr>\n",
       "<tr><td>progressive multi...</td><td>1</td></tr>\n",
       "<tr><td>please feel free ...</td><td>1</td></tr>\n",
       "<tr><td>I have eliminated...</td><td>1</td></tr>\n",
       "<tr><td>but not much info...</td><td>1</td></tr>\n",
       "</table>\n",
       "only showing top 20 rows\n"
      ],
      "text/plain": [
       "+--------------------+-------+\n",
       "|        loan_purpose|  total|\n",
       "+--------------------+-------+\n",
       "|  debt_consolidation|1277790|\n",
       "|         credit_card| 516926|\n",
       "|    home_improvement| 150440|\n",
       "|               other| 139413|\n",
       "|      major_purchase|  50429|\n",
       "|             medical|  27481|\n",
       "|      small_business|  24659|\n",
       "|                 car|  24009|\n",
       "|            vacation|  15525|\n",
       "|              moving|  15402|\n",
       "|               house|  14131|\n",
       "|             wedding|   2351|\n",
       "|    renewable_energy|   1445|\n",
       "|         educational|    412|\n",
       "|        guaranteed!\"|      1|\n",
       "|please feel free ...|      1|\n",
       "|I became his prim...|      1|\n",
       "|              stocks|      1|\n",
       "|but not much info...|      1|\n",
       "|I have eliminated...|      1|\n",
       "+--------------------+-------+\n",
       "only showing top 20 rows"
      ]
     },
     "execution_count": 80,
     "metadata": {},
     "output_type": "execute_result"
    }
   ],
   "source": [
    "spark.sql(\"select loan_purpose, count(*) as total from loans group by loan_purpose order by total desc\")"
   ]
  },
  {
   "cell_type": "code",
   "execution_count": 81,
   "id": "ad0652f3",
   "metadata": {},
   "outputs": [],
   "source": [
    "loans_purpose_modified.createOrReplaceTempView(\"loans\")"
   ]
  },
  {
   "cell_type": "code",
   "execution_count": 82,
   "id": "6bf4770c",
   "metadata": {},
   "outputs": [
    {
     "data": {
      "text/html": [
       "<table border='1'>\n",
       "<tr><th>loan_purpose</th><th>total</th></tr>\n",
       "<tr><td>debt_consolidation</td><td>1277790</td></tr>\n",
       "<tr><td>credit_card</td><td>516926</td></tr>\n",
       "<tr><td>home_improvement</td><td>150440</td></tr>\n",
       "<tr><td>other</td><td>139667</td></tr>\n",
       "<tr><td>major_purchase</td><td>50429</td></tr>\n",
       "<tr><td>medical</td><td>27481</td></tr>\n",
       "<tr><td>small_business</td><td>24659</td></tr>\n",
       "<tr><td>car</td><td>24009</td></tr>\n",
       "<tr><td>vacation</td><td>15525</td></tr>\n",
       "<tr><td>moving</td><td>15402</td></tr>\n",
       "<tr><td>house</td><td>14131</td></tr>\n",
       "<tr><td>wedding</td><td>2351</td></tr>\n",
       "<tr><td>renewable_energy</td><td>1445</td></tr>\n",
       "<tr><td>educational</td><td>412</td></tr>\n",
       "</table>\n"
      ],
      "text/plain": [
       "+------------------+-------+\n",
       "|      loan_purpose|  total|\n",
       "+------------------+-------+\n",
       "|debt_consolidation|1277790|\n",
       "|       credit_card| 516926|\n",
       "|  home_improvement| 150440|\n",
       "|             other| 139667|\n",
       "|    major_purchase|  50429|\n",
       "|           medical|  27481|\n",
       "|    small_business|  24659|\n",
       "|               car|  24009|\n",
       "|          vacation|  15525|\n",
       "|            moving|  15402|\n",
       "|             house|  14131|\n",
       "|           wedding|   2351|\n",
       "|  renewable_energy|   1445|\n",
       "|       educational|    412|\n",
       "+------------------+-------+"
      ]
     },
     "execution_count": 82,
     "metadata": {},
     "output_type": "execute_result"
    }
   ],
   "source": [
    "spark.sql(\"select loan_purpose, count(*) as total from loans group by loan_purpose order by total desc\")"
   ]
  },
  {
   "cell_type": "code",
   "execution_count": 83,
   "id": "e9496d9a",
   "metadata": {},
   "outputs": [],
   "source": [
    "from pyspark.sql.functions import count"
   ]
  },
  {
   "cell_type": "code",
   "execution_count": 86,
   "id": "10a21031",
   "metadata": {},
   "outputs": [
    {
     "data": {
      "text/html": [
       "<table border='1'>\n",
       "<tr><th>loan_purpose</th><th>total</th></tr>\n",
       "<tr><td>debt_consolidation</td><td>1277790</td></tr>\n",
       "<tr><td>credit_card</td><td>516926</td></tr>\n",
       "<tr><td>home_improvement</td><td>150440</td></tr>\n",
       "<tr><td>other</td><td>139667</td></tr>\n",
       "<tr><td>major_purchase</td><td>50429</td></tr>\n",
       "<tr><td>medical</td><td>27481</td></tr>\n",
       "<tr><td>small_business</td><td>24659</td></tr>\n",
       "<tr><td>car</td><td>24009</td></tr>\n",
       "<tr><td>vacation</td><td>15525</td></tr>\n",
       "<tr><td>moving</td><td>15402</td></tr>\n",
       "<tr><td>house</td><td>14131</td></tr>\n",
       "<tr><td>wedding</td><td>2351</td></tr>\n",
       "<tr><td>renewable_energy</td><td>1445</td></tr>\n",
       "<tr><td>educational</td><td>412</td></tr>\n",
       "</table>\n"
      ],
      "text/plain": [
       "+------------------+-------+\n",
       "|      loan_purpose|  total|\n",
       "+------------------+-------+\n",
       "|debt_consolidation|1277790|\n",
       "|       credit_card| 516926|\n",
       "|  home_improvement| 150440|\n",
       "|             other| 139667|\n",
       "|    major_purchase|  50429|\n",
       "|           medical|  27481|\n",
       "|    small_business|  24659|\n",
       "|               car|  24009|\n",
       "|          vacation|  15525|\n",
       "|            moving|  15402|\n",
       "|             house|  14131|\n",
       "|           wedding|   2351|\n",
       "|  renewable_energy|   1445|\n",
       "|       educational|    412|\n",
       "+------------------+-------+"
      ]
     },
     "execution_count": 86,
     "metadata": {},
     "output_type": "execute_result"
    }
   ],
   "source": [
    "loans_purpose_modified.groupBy(\"loan_purpose\").agg(count(\"*\").alias(\"total\")). \\\n",
    "orderBy(col(\"total\").desc())"
   ]
  },
  {
   "cell_type": "code",
   "execution_count": 87,
   "id": "21f3f1cb",
   "metadata": {},
   "outputs": [],
   "source": [
    "loans_purpose_modified.write \\\n",
    ".option(\"header\",True) \\\n",
    ".format(\"csv\") \\\n",
    ".mode(\"overwrite\") \\\n",
    ".option(\"path\",\"lendingclubproject/cleaned/loans_csv\") \\\n",
    ".save()"
   ]
  },
  {
   "cell_type": "code",
   "execution_count": null,
   "id": "f66ae8ed",
   "metadata": {},
   "outputs": [],
   "source": [
    "loans_purpose_modified.write \\\n",
    ".format(\"parquet\") \\\n",
    ".mode(\"overwrite\") \\\n",
    ".option(\"path\",\"lendingclubproject/cleaned/loans_parquet\") \\\n",
    ".save()"
   ]
  },
  {
   "cell_type": "code",
   "execution_count": null,
   "id": "09614b1e",
   "metadata": {},
   "outputs": [],
   "source": []
  }
 ],
 "metadata": {
  "kernelspec": {
   "display_name": "Pyspark 3",
   "language": "python",
   "name": "pyspark3"
  },
  "language_info": {
   "codemirror_mode": {
    "name": "ipython",
    "version": 3
   },
   "file_extension": ".py",
   "mimetype": "text/x-python",
   "name": "python",
   "nbconvert_exporter": "python",
   "pygments_lexer": "ipython3",
   "version": "3.6.12"
  }
 },
 "nbformat": 4,
 "nbformat_minor": 5
}
