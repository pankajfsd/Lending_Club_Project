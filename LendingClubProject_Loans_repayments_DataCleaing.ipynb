{
 "cells": [
  {
   "cell_type": "markdown",
   "id": "00629866",
   "metadata": {},
   "source": [
    "# Lending Club Project Loans_repayments Data Cleaning"
   ]
  },
  {
   "cell_type": "code",
   "execution_count": 1,
   "id": "023c7481",
   "metadata": {},
   "outputs": [],
   "source": [
    "from pyspark.sql import SparkSession\n",
    "import getpass\n",
    "username=getpass.getuser()\n",
    "spark=SparkSession. \\\n",
    "builder. \\\n",
    "config('spark.ui.port','0'). \\\n",
    "config('spark.shuffle.useOldFetchProtocol','true'). \\\n",
    "config(\"spark.sql.warehouse.dir\",f\"/user/{username}/warehouse\"). \\\n",
    "enableHiveSupport(). \\\n",
    "master('yarn'). \\\n",
    "getOrCreate()"
   ]
  },
  {
   "cell_type": "code",
   "execution_count": 2,
   "id": "da42f85a",
   "metadata": {},
   "outputs": [
    {
     "data": {
      "text/html": [
       "\n",
       "            <div>\n",
       "                <p><b>SparkSession - hive</b></p>\n",
       "                \n",
       "        <div>\n",
       "            <p><b>SparkContext</b></p>\n",
       "\n",
       "            <p><a href=\"http://g01.itversity.com:35497\">Spark UI</a></p>\n",
       "\n",
       "            <dl>\n",
       "              <dt>Version</dt>\n",
       "                <dd><code>v3.1.2</code></dd>\n",
       "              <dt>Master</dt>\n",
       "                <dd><code>yarn</code></dd>\n",
       "              <dt>AppName</dt>\n",
       "                <dd><code>pyspark-shell</code></dd>\n",
       "            </dl>\n",
       "        </div>\n",
       "        \n",
       "            </div>\n",
       "        "
      ],
      "text/plain": [
       "<pyspark.sql.session.SparkSession at 0x7ff74f4da7b8>"
      ]
     },
     "execution_count": 2,
     "metadata": {},
     "output_type": "execute_result"
    }
   ],
   "source": [
    "spark"
   ]
  },
  {
   "cell_type": "code",
   "execution_count": 5,
   "id": "7415d99f",
   "metadata": {},
   "outputs": [],
   "source": [
    "loans_repayments_raw_df=spark.read \\\n",
    ".format(\"csv\") \\\n",
    ".option(\"header\",True) \\\n",
    ".option(\"inferSchema\",True) \\\n",
    ".load(\"/user/itv007473/lendingclubproject/raw/loans_repayments_data_csv\")"
   ]
  },
  {
   "cell_type": "code",
   "execution_count": 6,
   "id": "4b378b4f",
   "metadata": {},
   "outputs": [
    {
     "data": {
      "text/html": [
       "<table border='1'>\n",
       "<tr><th>loan_id</th><th>total_rec_prncp</th><th>total_rec_int</th><th>total_rec_late_fee</th><th>total_pymnt</th><th>last_pymnt_amnt</th><th>last_pymnt_d</th><th>next_pymnt_d</th></tr>\n",
       "<tr><td>56633077</td><td>3000.0</td><td>376.21</td><td>0.0</td><td>3376.205975527</td><td>93.74</td><td>Aug-2018</td><td>null</td></tr>\n",
       "<tr><td>55927518</td><td>15600.0</td><td>1956.32</td><td>0.0</td><td>17556.320693408998</td><td>487.9</td><td>Aug-2018</td><td>null</td></tr>\n",
       "<tr><td>56473345</td><td>20000.0</td><td>2408.94</td><td>0.0</td><td>22408.9398096902</td><td>9677.72</td><td>May-2017</td><td>null</td></tr>\n",
       "<tr><td>56463188</td><td>11200.0</td><td>5231.01</td><td>0.0</td><td>16431.0146429476</td><td>7475.86</td><td>Feb-2018</td><td>null</td></tr>\n",
       "<tr><td>56473316</td><td>5215.47</td><td>6513.51</td><td>0.0</td><td>13237.07</td><td>432.77</td><td>Nov-2017</td><td>null</td></tr>\n",
       "<tr><td>56663266</td><td>6477.26</td><td>4221.77</td><td>0.0</td><td>12544.05</td><td>458.45</td><td>Jun-2017</td><td>null</td></tr>\n",
       "<tr><td>56483027</td><td>10000.0</td><td>2062.03</td><td>0.0</td><td>12062.026276051001</td><td>335.38</td><td>Aug-2018</td><td>null</td></tr>\n",
       "<tr><td>56613385</td><td>13932.74</td><td>11678.23</td><td>0.0</td><td>25610.97</td><td>609.46</td><td>Feb-2019</td><td>Apr-2019</td></tr>\n",
       "<tr><td>56643620</td><td>16000.0</td><td>1031.67</td><td>0.0</td><td>17031.673055266598</td><td>8363.28</td><td>Mar-2017</td><td>null</td></tr>\n",
       "<tr><td>56533114</td><td>3478.66</td><td>3815.07</td><td>0.0</td><td>12460.86</td><td>1111.52</td><td>Mar-2016</td><td>null</td></tr>\n",
       "<tr><td>56984127</td><td>24000.0</td><td>2939.61</td><td>0.0</td><td>26939.610789134702</td><td>5175.19</td><td>Feb-2018</td><td>null</td></tr>\n",
       "<tr><td>56131038</td><td>7612.86</td><td>4827.33</td><td>0.0</td><td>12440.19</td><td>289.34</td><td>Mar-2019</td><td>Apr-2019</td></tr>\n",
       "<tr><td>56452581</td><td>25000.0</td><td>5435.67</td><td>0.0</td><td>30435.670232535602</td><td>2525.29</td><td>Jun-2018</td><td>null</td></tr>\n",
       "<tr><td>56685321</td><td>3839.84</td><td>5116.89</td><td>0.0</td><td>11211.31</td><td>899.28</td><td>Jun-2016</td><td>null</td></tr>\n",
       "<tr><td>56563360</td><td>14994.95</td><td>14659.13</td><td>0.0</td><td>29654.08</td><td>690.34</td><td>Mar-2019</td><td>Apr-2019</td></tr>\n",
       "<tr><td>56533113</td><td>20000.0</td><td>1319.02</td><td>0.0</td><td>21319.02</td><td>17901.73</td><td>Feb-2016</td><td>null</td></tr>\n",
       "<tr><td>56904118</td><td>5676.65</td><td>1655.48</td><td>0.0</td><td>7859.88</td><td>317.69</td><td>Jul-2017</td><td>null</td></tr>\n",
       "<tr><td>56473361</td><td>4200.0</td><td>1082.96</td><td>0.0</td><td>5282.961548069</td><td>146.5</td><td>Aug-2018</td><td>null</td></tr>\n",
       "<tr><td>56021410</td><td>8625.0</td><td>1813.75</td><td>0.0</td><td>10438.752955389</td><td>4946.24</td><td>Mar-2017</td><td>null</td></tr>\n",
       "<tr><td>56473332</td><td>12225.62</td><td>8790.03</td><td>0.0</td><td>21015.65</td><td>478.05</td><td>Mar-2019</td><td>Apr-2019</td></tr>\n",
       "</table>\n",
       "only showing top 20 rows\n"
      ],
      "text/plain": [
       "+--------+---------------+-------------+------------------+------------------+---------------+------------+------------+\n",
       "| loan_id|total_rec_prncp|total_rec_int|total_rec_late_fee|       total_pymnt|last_pymnt_amnt|last_pymnt_d|next_pymnt_d|\n",
       "+--------+---------------+-------------+------------------+------------------+---------------+------------+------------+\n",
       "|56633077|         3000.0|       376.21|               0.0|    3376.205975527|          93.74|    Aug-2018|        null|\n",
       "|55927518|        15600.0|      1956.32|               0.0|17556.320693408998|          487.9|    Aug-2018|        null|\n",
       "|56473345|        20000.0|      2408.94|               0.0|  22408.9398096902|        9677.72|    May-2017|        null|\n",
       "|56463188|        11200.0|      5231.01|               0.0|  16431.0146429476|        7475.86|    Feb-2018|        null|\n",
       "|56473316|        5215.47|      6513.51|               0.0|          13237.07|         432.77|    Nov-2017|        null|\n",
       "|56663266|        6477.26|      4221.77|               0.0|          12544.05|         458.45|    Jun-2017|        null|\n",
       "|56483027|        10000.0|      2062.03|               0.0|12062.026276051001|         335.38|    Aug-2018|        null|\n",
       "|56613385|       13932.74|     11678.23|               0.0|          25610.97|         609.46|    Feb-2019|    Apr-2019|\n",
       "|56643620|        16000.0|      1031.67|               0.0|17031.673055266598|        8363.28|    Mar-2017|        null|\n",
       "|56533114|        3478.66|      3815.07|               0.0|          12460.86|        1111.52|    Mar-2016|        null|\n",
       "|56984127|        24000.0|      2939.61|               0.0|26939.610789134702|        5175.19|    Feb-2018|        null|\n",
       "|56131038|        7612.86|      4827.33|               0.0|          12440.19|         289.34|    Mar-2019|    Apr-2019|\n",
       "|56452581|        25000.0|      5435.67|               0.0|30435.670232535602|        2525.29|    Jun-2018|        null|\n",
       "|56685321|        3839.84|      5116.89|               0.0|          11211.31|         899.28|    Jun-2016|        null|\n",
       "|56563360|       14994.95|     14659.13|               0.0|          29654.08|         690.34|    Mar-2019|    Apr-2019|\n",
       "|56533113|        20000.0|      1319.02|               0.0|          21319.02|       17901.73|    Feb-2016|        null|\n",
       "|56904118|        5676.65|      1655.48|               0.0|           7859.88|         317.69|    Jul-2017|        null|\n",
       "|56473361|         4200.0|      1082.96|               0.0|    5282.961548069|          146.5|    Aug-2018|        null|\n",
       "|56021410|         8625.0|      1813.75|               0.0|   10438.752955389|        4946.24|    Mar-2017|        null|\n",
       "|56473332|       12225.62|      8790.03|               0.0|          21015.65|         478.05|    Mar-2019|    Apr-2019|\n",
       "+--------+---------------+-------------+------------------+------------------+---------------+------------+------------+\n",
       "only showing top 20 rows"
      ]
     },
     "execution_count": 6,
     "metadata": {},
     "output_type": "execute_result"
    }
   ],
   "source": [
    "loans_repayments_raw_df"
   ]
  },
  {
   "cell_type": "code",
   "execution_count": 7,
   "id": "ba64e829",
   "metadata": {},
   "outputs": [
    {
     "name": "stdout",
     "output_type": "stream",
     "text": [
      "root\n",
      " |-- loan_id: string (nullable = true)\n",
      " |-- total_rec_prncp: string (nullable = true)\n",
      " |-- total_rec_int: string (nullable = true)\n",
      " |-- total_rec_late_fee: string (nullable = true)\n",
      " |-- total_pymnt: string (nullable = true)\n",
      " |-- last_pymnt_amnt: string (nullable = true)\n",
      " |-- last_pymnt_d: string (nullable = true)\n",
      " |-- next_pymnt_d: string (nullable = true)\n",
      "\n"
     ]
    }
   ],
   "source": [
    "loans_repayments_raw_df.printSchema()"
   ]
  },
  {
   "cell_type": "code",
   "execution_count": 8,
   "id": "21a54995",
   "metadata": {},
   "outputs": [],
   "source": [
    "loans_repay_schema='''loan_id string,total_principal_received float,total_interest_received\n",
    "float,total_late_fee_received float,total_payment_received\n",
    "float,last_payment_amount float,last_payment_date string,next_payment_date\n",
    "string'''"
   ]
  },
  {
   "cell_type": "code",
   "execution_count": 9,
   "id": "84d181c8",
   "metadata": {},
   "outputs": [],
   "source": [
    "loans_repayments_raw_df=spark.read \\\n",
    ".format(\"csv\") \\\n",
    ".option(\"header\",True) \\\n",
    ".schema(loans_repay_schema) \\\n",
    ".load(\"/user/itv007473/lendingclubproject/raw/loans_repayments_data_csv\")"
   ]
  },
  {
   "cell_type": "code",
   "execution_count": 10,
   "id": "2bf61a8a",
   "metadata": {},
   "outputs": [
    {
     "data": {
      "text/html": [
       "<table border='1'>\n",
       "<tr><th>loan_id</th><th>total_principal_received</th><th>total_interest_received</th><th>total_late_fee_received</th><th>total_payment_received</th><th>last_payment_amount</th><th>last_payment_date</th><th>next_payment_date</th></tr>\n",
       "<tr><td>56633077</td><td>3000.0</td><td>376.21</td><td>0.0</td><td>3376.206</td><td>93.74</td><td>Aug-2018</td><td>null</td></tr>\n",
       "<tr><td>55927518</td><td>15600.0</td><td>1956.32</td><td>0.0</td><td>17556.32</td><td>487.9</td><td>Aug-2018</td><td>null</td></tr>\n",
       "<tr><td>56473345</td><td>20000.0</td><td>2408.94</td><td>0.0</td><td>22408.94</td><td>9677.72</td><td>May-2017</td><td>null</td></tr>\n",
       "<tr><td>56463188</td><td>11200.0</td><td>5231.01</td><td>0.0</td><td>16431.014</td><td>7475.86</td><td>Feb-2018</td><td>null</td></tr>\n",
       "<tr><td>56473316</td><td>5215.47</td><td>6513.51</td><td>0.0</td><td>13237.07</td><td>432.77</td><td>Nov-2017</td><td>null</td></tr>\n",
       "<tr><td>56663266</td><td>6477.26</td><td>4221.77</td><td>0.0</td><td>12544.05</td><td>458.45</td><td>Jun-2017</td><td>null</td></tr>\n",
       "<tr><td>56483027</td><td>10000.0</td><td>2062.03</td><td>0.0</td><td>12062.026</td><td>335.38</td><td>Aug-2018</td><td>null</td></tr>\n",
       "<tr><td>56613385</td><td>13932.74</td><td>11678.23</td><td>0.0</td><td>25610.97</td><td>609.46</td><td>Feb-2019</td><td>Apr-2019</td></tr>\n",
       "<tr><td>56643620</td><td>16000.0</td><td>1031.67</td><td>0.0</td><td>17031.674</td><td>8363.28</td><td>Mar-2017</td><td>null</td></tr>\n",
       "<tr><td>56533114</td><td>3478.66</td><td>3815.07</td><td>0.0</td><td>12460.86</td><td>1111.52</td><td>Mar-2016</td><td>null</td></tr>\n",
       "<tr><td>56984127</td><td>24000.0</td><td>2939.61</td><td>0.0</td><td>26939.611</td><td>5175.19</td><td>Feb-2018</td><td>null</td></tr>\n",
       "<tr><td>56131038</td><td>7612.86</td><td>4827.33</td><td>0.0</td><td>12440.19</td><td>289.34</td><td>Mar-2019</td><td>Apr-2019</td></tr>\n",
       "<tr><td>56452581</td><td>25000.0</td><td>5435.67</td><td>0.0</td><td>30435.67</td><td>2525.29</td><td>Jun-2018</td><td>null</td></tr>\n",
       "<tr><td>56685321</td><td>3839.84</td><td>5116.89</td><td>0.0</td><td>11211.31</td><td>899.28</td><td>Jun-2016</td><td>null</td></tr>\n",
       "<tr><td>56563360</td><td>14994.95</td><td>14659.13</td><td>0.0</td><td>29654.08</td><td>690.34</td><td>Mar-2019</td><td>Apr-2019</td></tr>\n",
       "<tr><td>56533113</td><td>20000.0</td><td>1319.02</td><td>0.0</td><td>21319.02</td><td>17901.73</td><td>Feb-2016</td><td>null</td></tr>\n",
       "<tr><td>56904118</td><td>5676.65</td><td>1655.48</td><td>0.0</td><td>7859.88</td><td>317.69</td><td>Jul-2017</td><td>null</td></tr>\n",
       "<tr><td>56473361</td><td>4200.0</td><td>1082.96</td><td>0.0</td><td>5282.9614</td><td>146.5</td><td>Aug-2018</td><td>null</td></tr>\n",
       "<tr><td>56021410</td><td>8625.0</td><td>1813.75</td><td>0.0</td><td>10438.753</td><td>4946.24</td><td>Mar-2017</td><td>null</td></tr>\n",
       "<tr><td>56473332</td><td>12225.62</td><td>8790.03</td><td>0.0</td><td>21015.65</td><td>478.05</td><td>Mar-2019</td><td>Apr-2019</td></tr>\n",
       "</table>\n",
       "only showing top 20 rows\n"
      ],
      "text/plain": [
       "+--------+------------------------+-----------------------+-----------------------+----------------------+-------------------+-----------------+-----------------+\n",
       "| loan_id|total_principal_received|total_interest_received|total_late_fee_received|total_payment_received|last_payment_amount|last_payment_date|next_payment_date|\n",
       "+--------+------------------------+-----------------------+-----------------------+----------------------+-------------------+-----------------+-----------------+\n",
       "|56633077|                  3000.0|                 376.21|                    0.0|              3376.206|              93.74|         Aug-2018|             null|\n",
       "|55927518|                 15600.0|                1956.32|                    0.0|              17556.32|              487.9|         Aug-2018|             null|\n",
       "|56473345|                 20000.0|                2408.94|                    0.0|              22408.94|            9677.72|         May-2017|             null|\n",
       "|56463188|                 11200.0|                5231.01|                    0.0|             16431.014|            7475.86|         Feb-2018|             null|\n",
       "|56473316|                 5215.47|                6513.51|                    0.0|              13237.07|             432.77|         Nov-2017|             null|\n",
       "|56663266|                 6477.26|                4221.77|                    0.0|              12544.05|             458.45|         Jun-2017|             null|\n",
       "|56483027|                 10000.0|                2062.03|                    0.0|             12062.026|             335.38|         Aug-2018|             null|\n",
       "|56613385|                13932.74|               11678.23|                    0.0|              25610.97|             609.46|         Feb-2019|         Apr-2019|\n",
       "|56643620|                 16000.0|                1031.67|                    0.0|             17031.674|            8363.28|         Mar-2017|             null|\n",
       "|56533114|                 3478.66|                3815.07|                    0.0|              12460.86|            1111.52|         Mar-2016|             null|\n",
       "|56984127|                 24000.0|                2939.61|                    0.0|             26939.611|            5175.19|         Feb-2018|             null|\n",
       "|56131038|                 7612.86|                4827.33|                    0.0|              12440.19|             289.34|         Mar-2019|         Apr-2019|\n",
       "|56452581|                 25000.0|                5435.67|                    0.0|              30435.67|            2525.29|         Jun-2018|             null|\n",
       "|56685321|                 3839.84|                5116.89|                    0.0|              11211.31|             899.28|         Jun-2016|             null|\n",
       "|56563360|                14994.95|               14659.13|                    0.0|              29654.08|             690.34|         Mar-2019|         Apr-2019|\n",
       "|56533113|                 20000.0|                1319.02|                    0.0|              21319.02|           17901.73|         Feb-2016|             null|\n",
       "|56904118|                 5676.65|                1655.48|                    0.0|               7859.88|             317.69|         Jul-2017|             null|\n",
       "|56473361|                  4200.0|                1082.96|                    0.0|             5282.9614|              146.5|         Aug-2018|             null|\n",
       "|56021410|                  8625.0|                1813.75|                    0.0|             10438.753|            4946.24|         Mar-2017|             null|\n",
       "|56473332|                12225.62|                8790.03|                    0.0|              21015.65|             478.05|         Mar-2019|         Apr-2019|\n",
       "+--------+------------------------+-----------------------+-----------------------+----------------------+-------------------+-----------------+-----------------+\n",
       "only showing top 20 rows"
      ]
     },
     "execution_count": 10,
     "metadata": {},
     "output_type": "execute_result"
    }
   ],
   "source": [
    "loans_repayments_raw_df"
   ]
  },
  {
   "cell_type": "code",
   "execution_count": 11,
   "id": "569d36a2",
   "metadata": {},
   "outputs": [
    {
     "name": "stdout",
     "output_type": "stream",
     "text": [
      "root\n",
      " |-- loan_id: string (nullable = true)\n",
      " |-- total_principal_received: float (nullable = true)\n",
      " |-- total_interest_received: float (nullable = true)\n",
      " |-- total_late_fee_received: float (nullable = true)\n",
      " |-- total_payment_received: float (nullable = true)\n",
      " |-- last_payment_amount: float (nullable = true)\n",
      " |-- last_payment_date: string (nullable = true)\n",
      " |-- next_payment_date: string (nullable = true)\n",
      "\n"
     ]
    }
   ],
   "source": [
    "loans_repayments_raw_df.printSchema()"
   ]
  },
  {
   "cell_type": "code",
   "execution_count": 12,
   "id": "ed9c7c0a",
   "metadata": {},
   "outputs": [],
   "source": [
    "from pyspark.sql.functions import current_timestamp"
   ]
  },
  {
   "cell_type": "code",
   "execution_count": 13,
   "id": "eb3096f1",
   "metadata": {},
   "outputs": [],
   "source": [
    "loans_repay_df_ingetd=loans_repayments_raw_df.withColumn(\"ingest_date\",current_timestamp())"
   ]
  },
  {
   "cell_type": "code",
   "execution_count": 14,
   "id": "b840afbb",
   "metadata": {},
   "outputs": [
    {
     "data": {
      "text/html": [
       "<table border='1'>\n",
       "<tr><th>loan_id</th><th>total_principal_received</th><th>total_interest_received</th><th>total_late_fee_received</th><th>total_payment_received</th><th>last_payment_amount</th><th>last_payment_date</th><th>next_payment_date</th><th>ingest_date</th></tr>\n",
       "<tr><td>56633077</td><td>3000.0</td><td>376.21</td><td>0.0</td><td>3376.206</td><td>93.74</td><td>Aug-2018</td><td>null</td><td>2023-11-05 11:56:...</td></tr>\n",
       "<tr><td>55927518</td><td>15600.0</td><td>1956.32</td><td>0.0</td><td>17556.32</td><td>487.9</td><td>Aug-2018</td><td>null</td><td>2023-11-05 11:56:...</td></tr>\n",
       "<tr><td>56473345</td><td>20000.0</td><td>2408.94</td><td>0.0</td><td>22408.94</td><td>9677.72</td><td>May-2017</td><td>null</td><td>2023-11-05 11:56:...</td></tr>\n",
       "<tr><td>56463188</td><td>11200.0</td><td>5231.01</td><td>0.0</td><td>16431.014</td><td>7475.86</td><td>Feb-2018</td><td>null</td><td>2023-11-05 11:56:...</td></tr>\n",
       "<tr><td>56473316</td><td>5215.47</td><td>6513.51</td><td>0.0</td><td>13237.07</td><td>432.77</td><td>Nov-2017</td><td>null</td><td>2023-11-05 11:56:...</td></tr>\n",
       "<tr><td>56663266</td><td>6477.26</td><td>4221.77</td><td>0.0</td><td>12544.05</td><td>458.45</td><td>Jun-2017</td><td>null</td><td>2023-11-05 11:56:...</td></tr>\n",
       "<tr><td>56483027</td><td>10000.0</td><td>2062.03</td><td>0.0</td><td>12062.026</td><td>335.38</td><td>Aug-2018</td><td>null</td><td>2023-11-05 11:56:...</td></tr>\n",
       "<tr><td>56613385</td><td>13932.74</td><td>11678.23</td><td>0.0</td><td>25610.97</td><td>609.46</td><td>Feb-2019</td><td>Apr-2019</td><td>2023-11-05 11:56:...</td></tr>\n",
       "<tr><td>56643620</td><td>16000.0</td><td>1031.67</td><td>0.0</td><td>17031.674</td><td>8363.28</td><td>Mar-2017</td><td>null</td><td>2023-11-05 11:56:...</td></tr>\n",
       "<tr><td>56533114</td><td>3478.66</td><td>3815.07</td><td>0.0</td><td>12460.86</td><td>1111.52</td><td>Mar-2016</td><td>null</td><td>2023-11-05 11:56:...</td></tr>\n",
       "<tr><td>56984127</td><td>24000.0</td><td>2939.61</td><td>0.0</td><td>26939.611</td><td>5175.19</td><td>Feb-2018</td><td>null</td><td>2023-11-05 11:56:...</td></tr>\n",
       "<tr><td>56131038</td><td>7612.86</td><td>4827.33</td><td>0.0</td><td>12440.19</td><td>289.34</td><td>Mar-2019</td><td>Apr-2019</td><td>2023-11-05 11:56:...</td></tr>\n",
       "<tr><td>56452581</td><td>25000.0</td><td>5435.67</td><td>0.0</td><td>30435.67</td><td>2525.29</td><td>Jun-2018</td><td>null</td><td>2023-11-05 11:56:...</td></tr>\n",
       "<tr><td>56685321</td><td>3839.84</td><td>5116.89</td><td>0.0</td><td>11211.31</td><td>899.28</td><td>Jun-2016</td><td>null</td><td>2023-11-05 11:56:...</td></tr>\n",
       "<tr><td>56563360</td><td>14994.95</td><td>14659.13</td><td>0.0</td><td>29654.08</td><td>690.34</td><td>Mar-2019</td><td>Apr-2019</td><td>2023-11-05 11:56:...</td></tr>\n",
       "<tr><td>56533113</td><td>20000.0</td><td>1319.02</td><td>0.0</td><td>21319.02</td><td>17901.73</td><td>Feb-2016</td><td>null</td><td>2023-11-05 11:56:...</td></tr>\n",
       "<tr><td>56904118</td><td>5676.65</td><td>1655.48</td><td>0.0</td><td>7859.88</td><td>317.69</td><td>Jul-2017</td><td>null</td><td>2023-11-05 11:56:...</td></tr>\n",
       "<tr><td>56473361</td><td>4200.0</td><td>1082.96</td><td>0.0</td><td>5282.9614</td><td>146.5</td><td>Aug-2018</td><td>null</td><td>2023-11-05 11:56:...</td></tr>\n",
       "<tr><td>56021410</td><td>8625.0</td><td>1813.75</td><td>0.0</td><td>10438.753</td><td>4946.24</td><td>Mar-2017</td><td>null</td><td>2023-11-05 11:56:...</td></tr>\n",
       "<tr><td>56473332</td><td>12225.62</td><td>8790.03</td><td>0.0</td><td>21015.65</td><td>478.05</td><td>Mar-2019</td><td>Apr-2019</td><td>2023-11-05 11:56:...</td></tr>\n",
       "</table>\n",
       "only showing top 20 rows\n"
      ],
      "text/plain": [
       "+--------+------------------------+-----------------------+-----------------------+----------------------+-------------------+-----------------+-----------------+--------------------+\n",
       "| loan_id|total_principal_received|total_interest_received|total_late_fee_received|total_payment_received|last_payment_amount|last_payment_date|next_payment_date|         ingest_date|\n",
       "+--------+------------------------+-----------------------+-----------------------+----------------------+-------------------+-----------------+-----------------+--------------------+\n",
       "|56633077|                  3000.0|                 376.21|                    0.0|              3376.206|              93.74|         Aug-2018|             null|2023-11-05 11:56:...|\n",
       "|55927518|                 15600.0|                1956.32|                    0.0|              17556.32|              487.9|         Aug-2018|             null|2023-11-05 11:56:...|\n",
       "|56473345|                 20000.0|                2408.94|                    0.0|              22408.94|            9677.72|         May-2017|             null|2023-11-05 11:56:...|\n",
       "|56463188|                 11200.0|                5231.01|                    0.0|             16431.014|            7475.86|         Feb-2018|             null|2023-11-05 11:56:...|\n",
       "|56473316|                 5215.47|                6513.51|                    0.0|              13237.07|             432.77|         Nov-2017|             null|2023-11-05 11:56:...|\n",
       "|56663266|                 6477.26|                4221.77|                    0.0|              12544.05|             458.45|         Jun-2017|             null|2023-11-05 11:56:...|\n",
       "|56483027|                 10000.0|                2062.03|                    0.0|             12062.026|             335.38|         Aug-2018|             null|2023-11-05 11:56:...|\n",
       "|56613385|                13932.74|               11678.23|                    0.0|              25610.97|             609.46|         Feb-2019|         Apr-2019|2023-11-05 11:56:...|\n",
       "|56643620|                 16000.0|                1031.67|                    0.0|             17031.674|            8363.28|         Mar-2017|             null|2023-11-05 11:56:...|\n",
       "|56533114|                 3478.66|                3815.07|                    0.0|              12460.86|            1111.52|         Mar-2016|             null|2023-11-05 11:56:...|\n",
       "|56984127|                 24000.0|                2939.61|                    0.0|             26939.611|            5175.19|         Feb-2018|             null|2023-11-05 11:56:...|\n",
       "|56131038|                 7612.86|                4827.33|                    0.0|              12440.19|             289.34|         Mar-2019|         Apr-2019|2023-11-05 11:56:...|\n",
       "|56452581|                 25000.0|                5435.67|                    0.0|              30435.67|            2525.29|         Jun-2018|             null|2023-11-05 11:56:...|\n",
       "|56685321|                 3839.84|                5116.89|                    0.0|              11211.31|             899.28|         Jun-2016|             null|2023-11-05 11:56:...|\n",
       "|56563360|                14994.95|               14659.13|                    0.0|              29654.08|             690.34|         Mar-2019|         Apr-2019|2023-11-05 11:56:...|\n",
       "|56533113|                 20000.0|                1319.02|                    0.0|              21319.02|           17901.73|         Feb-2016|             null|2023-11-05 11:56:...|\n",
       "|56904118|                 5676.65|                1655.48|                    0.0|               7859.88|             317.69|         Jul-2017|             null|2023-11-05 11:56:...|\n",
       "|56473361|                  4200.0|                1082.96|                    0.0|             5282.9614|              146.5|         Aug-2018|             null|2023-11-05 11:56:...|\n",
       "|56021410|                  8625.0|                1813.75|                    0.0|             10438.753|            4946.24|         Mar-2017|             null|2023-11-05 11:56:...|\n",
       "|56473332|                12225.62|                8790.03|                    0.0|              21015.65|             478.05|         Mar-2019|         Apr-2019|2023-11-05 11:56:...|\n",
       "+--------+------------------------+-----------------------+-----------------------+----------------------+-------------------+-----------------+-----------------+--------------------+\n",
       "only showing top 20 rows"
      ]
     },
     "execution_count": 14,
     "metadata": {},
     "output_type": "execute_result"
    }
   ],
   "source": [
    "loans_repay_df_ingetd"
   ]
  },
  {
   "cell_type": "code",
   "execution_count": 15,
   "id": "e13b2540",
   "metadata": {},
   "outputs": [],
   "source": [
    "loans_repayments_raw_df.createOrReplaceTempView(\"loan_repyaments\")"
   ]
  },
  {
   "cell_type": "code",
   "execution_count": 16,
   "id": "fa7f9f6e",
   "metadata": {},
   "outputs": [
    {
     "data": {
      "text/html": [
       "<table border='1'>\n",
       "<tr><th>loan_id</th><th>total_principal_received</th><th>total_interest_received</th><th>total_late_fee_received</th><th>total_payment_received</th><th>last_payment_amount</th><th>last_payment_date</th><th>next_payment_date</th></tr>\n",
       "<tr><td>56633077</td><td>3000.0</td><td>376.21</td><td>0.0</td><td>3376.206</td><td>93.74</td><td>Aug-2018</td><td>null</td></tr>\n",
       "<tr><td>55927518</td><td>15600.0</td><td>1956.32</td><td>0.0</td><td>17556.32</td><td>487.9</td><td>Aug-2018</td><td>null</td></tr>\n",
       "<tr><td>56473345</td><td>20000.0</td><td>2408.94</td><td>0.0</td><td>22408.94</td><td>9677.72</td><td>May-2017</td><td>null</td></tr>\n",
       "<tr><td>56463188</td><td>11200.0</td><td>5231.01</td><td>0.0</td><td>16431.014</td><td>7475.86</td><td>Feb-2018</td><td>null</td></tr>\n",
       "<tr><td>56473316</td><td>5215.47</td><td>6513.51</td><td>0.0</td><td>13237.07</td><td>432.77</td><td>Nov-2017</td><td>null</td></tr>\n",
       "<tr><td>56663266</td><td>6477.26</td><td>4221.77</td><td>0.0</td><td>12544.05</td><td>458.45</td><td>Jun-2017</td><td>null</td></tr>\n",
       "<tr><td>56483027</td><td>10000.0</td><td>2062.03</td><td>0.0</td><td>12062.026</td><td>335.38</td><td>Aug-2018</td><td>null</td></tr>\n",
       "<tr><td>56613385</td><td>13932.74</td><td>11678.23</td><td>0.0</td><td>25610.97</td><td>609.46</td><td>Feb-2019</td><td>Apr-2019</td></tr>\n",
       "<tr><td>56643620</td><td>16000.0</td><td>1031.67</td><td>0.0</td><td>17031.674</td><td>8363.28</td><td>Mar-2017</td><td>null</td></tr>\n",
       "<tr><td>56533114</td><td>3478.66</td><td>3815.07</td><td>0.0</td><td>12460.86</td><td>1111.52</td><td>Mar-2016</td><td>null</td></tr>\n",
       "<tr><td>56984127</td><td>24000.0</td><td>2939.61</td><td>0.0</td><td>26939.611</td><td>5175.19</td><td>Feb-2018</td><td>null</td></tr>\n",
       "<tr><td>56131038</td><td>7612.86</td><td>4827.33</td><td>0.0</td><td>12440.19</td><td>289.34</td><td>Mar-2019</td><td>Apr-2019</td></tr>\n",
       "<tr><td>56452581</td><td>25000.0</td><td>5435.67</td><td>0.0</td><td>30435.67</td><td>2525.29</td><td>Jun-2018</td><td>null</td></tr>\n",
       "<tr><td>56685321</td><td>3839.84</td><td>5116.89</td><td>0.0</td><td>11211.31</td><td>899.28</td><td>Jun-2016</td><td>null</td></tr>\n",
       "<tr><td>56563360</td><td>14994.95</td><td>14659.13</td><td>0.0</td><td>29654.08</td><td>690.34</td><td>Mar-2019</td><td>Apr-2019</td></tr>\n",
       "<tr><td>56533113</td><td>20000.0</td><td>1319.02</td><td>0.0</td><td>21319.02</td><td>17901.73</td><td>Feb-2016</td><td>null</td></tr>\n",
       "<tr><td>56904118</td><td>5676.65</td><td>1655.48</td><td>0.0</td><td>7859.88</td><td>317.69</td><td>Jul-2017</td><td>null</td></tr>\n",
       "<tr><td>56473361</td><td>4200.0</td><td>1082.96</td><td>0.0</td><td>5282.9614</td><td>146.5</td><td>Aug-2018</td><td>null</td></tr>\n",
       "<tr><td>56021410</td><td>8625.0</td><td>1813.75</td><td>0.0</td><td>10438.753</td><td>4946.24</td><td>Mar-2017</td><td>null</td></tr>\n",
       "<tr><td>56473332</td><td>12225.62</td><td>8790.03</td><td>0.0</td><td>21015.65</td><td>478.05</td><td>Mar-2019</td><td>Apr-2019</td></tr>\n",
       "</table>\n",
       "only showing top 20 rows\n"
      ],
      "text/plain": [
       "+--------+------------------------+-----------------------+-----------------------+----------------------+-------------------+-----------------+-----------------+\n",
       "| loan_id|total_principal_received|total_interest_received|total_late_fee_received|total_payment_received|last_payment_amount|last_payment_date|next_payment_date|\n",
       "+--------+------------------------+-----------------------+-----------------------+----------------------+-------------------+-----------------+-----------------+\n",
       "|56633077|                  3000.0|                 376.21|                    0.0|              3376.206|              93.74|         Aug-2018|             null|\n",
       "|55927518|                 15600.0|                1956.32|                    0.0|              17556.32|              487.9|         Aug-2018|             null|\n",
       "|56473345|                 20000.0|                2408.94|                    0.0|              22408.94|            9677.72|         May-2017|             null|\n",
       "|56463188|                 11200.0|                5231.01|                    0.0|             16431.014|            7475.86|         Feb-2018|             null|\n",
       "|56473316|                 5215.47|                6513.51|                    0.0|              13237.07|             432.77|         Nov-2017|             null|\n",
       "|56663266|                 6477.26|                4221.77|                    0.0|              12544.05|             458.45|         Jun-2017|             null|\n",
       "|56483027|                 10000.0|                2062.03|                    0.0|             12062.026|             335.38|         Aug-2018|             null|\n",
       "|56613385|                13932.74|               11678.23|                    0.0|              25610.97|             609.46|         Feb-2019|         Apr-2019|\n",
       "|56643620|                 16000.0|                1031.67|                    0.0|             17031.674|            8363.28|         Mar-2017|             null|\n",
       "|56533114|                 3478.66|                3815.07|                    0.0|              12460.86|            1111.52|         Mar-2016|             null|\n",
       "|56984127|                 24000.0|                2939.61|                    0.0|             26939.611|            5175.19|         Feb-2018|             null|\n",
       "|56131038|                 7612.86|                4827.33|                    0.0|              12440.19|             289.34|         Mar-2019|         Apr-2019|\n",
       "|56452581|                 25000.0|                5435.67|                    0.0|              30435.67|            2525.29|         Jun-2018|             null|\n",
       "|56685321|                 3839.84|                5116.89|                    0.0|              11211.31|             899.28|         Jun-2016|             null|\n",
       "|56563360|                14994.95|               14659.13|                    0.0|              29654.08|             690.34|         Mar-2019|         Apr-2019|\n",
       "|56533113|                 20000.0|                1319.02|                    0.0|              21319.02|           17901.73|         Feb-2016|             null|\n",
       "|56904118|                 5676.65|                1655.48|                    0.0|               7859.88|             317.69|         Jul-2017|             null|\n",
       "|56473361|                  4200.0|                1082.96|                    0.0|             5282.9614|              146.5|         Aug-2018|             null|\n",
       "|56021410|                  8625.0|                1813.75|                    0.0|             10438.753|            4946.24|         Mar-2017|             null|\n",
       "|56473332|                12225.62|                8790.03|                    0.0|              21015.65|             478.05|         Mar-2019|         Apr-2019|\n",
       "+--------+------------------------+-----------------------+-----------------------+----------------------+-------------------+-----------------+-----------------+\n",
       "only showing top 20 rows"
      ]
     },
     "execution_count": 16,
     "metadata": {},
     "output_type": "execute_result"
    }
   ],
   "source": [
    "spark.sql(\"select * from loan_repyaments\")"
   ]
  },
  {
   "cell_type": "code",
   "execution_count": 19,
   "id": "1ff6522a",
   "metadata": {},
   "outputs": [],
   "source": [
    "columns_to_check =[\"total_principal_received\",\"total_interest_received\",\"total_late_fee_received\", \"total_payment_received\",\"last_payment_amount\"]"
   ]
  },
  {
   "cell_type": "code",
   "execution_count": 22,
   "id": "d3b6c2f4",
   "metadata": {},
   "outputs": [
    {
     "data": {
      "text/plain": [
       "2260701"
      ]
     },
     "execution_count": 22,
     "metadata": {},
     "output_type": "execute_result"
    }
   ],
   "source": [
    "loans_repayments_raw_df.count()"
   ]
  },
  {
   "cell_type": "code",
   "execution_count": 23,
   "id": "284e4904",
   "metadata": {},
   "outputs": [],
   "source": [
    "loan_repay_filtered_df=loans_repayments_raw_df.na.drop(subset=columns_to_check)"
   ]
  },
  {
   "cell_type": "code",
   "execution_count": 24,
   "id": "eb1d5609",
   "metadata": {},
   "outputs": [
    {
     "data": {
      "text/plain": [
       "2260498"
      ]
     },
     "execution_count": 24,
     "metadata": {},
     "output_type": "execute_result"
    }
   ],
   "source": [
    "loan_repay_filtered_df.count()"
   ]
  },
  {
   "cell_type": "code",
   "execution_count": 25,
   "id": "8cbed259",
   "metadata": {},
   "outputs": [],
   "source": [
    "loan_repay_filtered_df.createOrReplaceTempView(\"loan_repayments\")"
   ]
  },
  {
   "cell_type": "code",
   "execution_count": 27,
   "id": "957b7cd4",
   "metadata": {},
   "outputs": [
    {
     "data": {
      "text/html": [
       "<table border='1'>\n",
       "<tr><th>loan_id</th><th>total_principal_received</th><th>total_interest_received</th><th>total_late_fee_received</th><th>total_payment_received</th><th>last_payment_amount</th><th>last_payment_date</th><th>next_payment_date</th></tr>\n",
       "<tr><td>56532281</td><td>0.0</td><td>0.0</td><td>0.0</td><td>0.0</td><td>0.0</td><td>null</td><td>null</td></tr>\n",
       "<tr><td>56350750</td><td>0.0</td><td>0.0</td><td>0.0</td><td>0.0</td><td>0.0</td><td>null</td><td>null</td></tr>\n",
       "<tr><td>56280418</td><td>0.0</td><td>0.0</td><td>0.0</td><td>0.0</td><td>0.0</td><td>null</td><td>null</td></tr>\n",
       "<tr><td>55991277</td><td>0.0</td><td>0.0</td><td>0.0</td><td>0.0</td><td>0.0</td><td>null</td><td>null</td></tr>\n",
       "<tr><td>55330278</td><td>0.0</td><td>0.0</td><td>0.0</td><td>0.0</td><td>0.0</td><td>null</td><td>null</td></tr>\n",
       "<tr><td>55422987</td><td>0.0</td><td>0.0</td><td>0.0</td><td>0.0</td><td>0.0</td><td>null</td><td>null</td></tr>\n",
       "<tr><td>55220751</td><td>0.0</td><td>0.0</td><td>0.0</td><td>0.0</td><td>0.0</td><td>null</td><td>null</td></tr>\n",
       "<tr><td>55209541</td><td>0.0</td><td>0.0</td><td>0.0</td><td>0.0</td><td>0.0</td><td>null</td><td>null</td></tr>\n",
       "<tr><td>55238282</td><td>0.0</td><td>0.0</td><td>0.0</td><td>0.0</td><td>0.0</td><td>null</td><td>null</td></tr>\n",
       "<tr><td>54648144</td><td>0.0</td><td>0.0</td><td>0.0</td><td>0.0</td><td>0.0</td><td>null</td><td>null</td></tr>\n",
       "<tr><td>54423854</td><td>0.0</td><td>0.0</td><td>0.0</td><td>0.0</td><td>0.0</td><td>null</td><td>null</td></tr>\n",
       "<tr><td>54493399</td><td>0.0</td><td>0.0</td><td>0.0</td><td>0.0</td><td>0.0</td><td>null</td><td>null</td></tr>\n",
       "<tr><td>54068287</td><td>0.0</td><td>0.0</td><td>0.0</td><td>0.0</td><td>0.0</td><td>null</td><td>null</td></tr>\n",
       "<tr><td>53654320</td><td>0.0</td><td>0.0</td><td>0.0</td><td>0.0</td><td>0.0</td><td>null</td><td>null</td></tr>\n",
       "<tr><td>53654178</td><td>0.0</td><td>0.0</td><td>0.0</td><td>0.0</td><td>0.0</td><td>null</td><td>null</td></tr>\n",
       "<tr><td>51186400</td><td>0.0</td><td>0.0</td><td>0.0</td><td>0.0</td><td>0.0</td><td>null</td><td>null</td></tr>\n",
       "<tr><td>51881055</td><td>0.0</td><td>0.0</td><td>0.0</td><td>0.0</td><td>0.0</td><td>null</td><td>null</td></tr>\n",
       "<tr><td>50425916</td><td>0.0</td><td>0.0</td><td>0.0</td><td>0.0</td><td>0.0</td><td>null</td><td>null</td></tr>\n",
       "<tr><td>51346595</td><td>0.0</td><td>0.0</td><td>0.0</td><td>0.0</td><td>0.0</td><td>null</td><td>null</td></tr>\n",
       "<tr><td>50054038</td><td>0.0</td><td>0.0</td><td>0.0</td><td>0.0</td><td>0.0</td><td>null</td><td>null</td></tr>\n",
       "</table>\n",
       "only showing top 20 rows\n"
      ],
      "text/plain": [
       "+--------+------------------------+-----------------------+-----------------------+----------------------+-------------------+-----------------+-----------------+\n",
       "| loan_id|total_principal_received|total_interest_received|total_late_fee_received|total_payment_received|last_payment_amount|last_payment_date|next_payment_date|\n",
       "+--------+------------------------+-----------------------+-----------------------+----------------------+-------------------+-----------------+-----------------+\n",
       "|56532281|                     0.0|                    0.0|                    0.0|                   0.0|                0.0|             null|             null|\n",
       "|56350750|                     0.0|                    0.0|                    0.0|                   0.0|                0.0|             null|             null|\n",
       "|56280418|                     0.0|                    0.0|                    0.0|                   0.0|                0.0|             null|             null|\n",
       "|55991277|                     0.0|                    0.0|                    0.0|                   0.0|                0.0|             null|             null|\n",
       "|55330278|                     0.0|                    0.0|                    0.0|                   0.0|                0.0|             null|             null|\n",
       "|55422987|                     0.0|                    0.0|                    0.0|                   0.0|                0.0|             null|             null|\n",
       "|55220751|                     0.0|                    0.0|                    0.0|                   0.0|                0.0|             null|             null|\n",
       "|55209541|                     0.0|                    0.0|                    0.0|                   0.0|                0.0|             null|             null|\n",
       "|55238282|                     0.0|                    0.0|                    0.0|                   0.0|                0.0|             null|             null|\n",
       "|54648144|                     0.0|                    0.0|                    0.0|                   0.0|                0.0|             null|             null|\n",
       "|54423854|                     0.0|                    0.0|                    0.0|                   0.0|                0.0|             null|             null|\n",
       "|54493399|                     0.0|                    0.0|                    0.0|                   0.0|                0.0|             null|             null|\n",
       "|54068287|                     0.0|                    0.0|                    0.0|                   0.0|                0.0|             null|             null|\n",
       "|53654320|                     0.0|                    0.0|                    0.0|                   0.0|                0.0|             null|             null|\n",
       "|53654178|                     0.0|                    0.0|                    0.0|                   0.0|                0.0|             null|             null|\n",
       "|51186400|                     0.0|                    0.0|                    0.0|                   0.0|                0.0|             null|             null|\n",
       "|51881055|                     0.0|                    0.0|                    0.0|                   0.0|                0.0|             null|             null|\n",
       "|50425916|                     0.0|                    0.0|                    0.0|                   0.0|                0.0|             null|             null|\n",
       "|51346595|                     0.0|                    0.0|                    0.0|                   0.0|                0.0|             null|             null|\n",
       "|50054038|                     0.0|                    0.0|                    0.0|                   0.0|                0.0|             null|             null|\n",
       "+--------+------------------------+-----------------------+-----------------------+----------------------+-------------------+-----------------+-----------------+\n",
       "only showing top 20 rows"
      ]
     },
     "execution_count": 27,
     "metadata": {},
     "output_type": "execute_result"
    }
   ],
   "source": [
    "spark.sql(\"select * from loan_repayments where total_payment_received = 0.0\")"
   ]
  },
  {
   "cell_type": "code",
   "execution_count": 28,
   "id": "cfb9917f",
   "metadata": {},
   "outputs": [
    {
     "data": {
      "text/html": [
       "<table border='1'>\n",
       "<tr><th>loan_id</th><th>total_principal_received</th><th>total_interest_received</th><th>total_late_fee_received</th><th>total_payment_received</th><th>last_payment_amount</th><th>last_payment_date</th><th>next_payment_date</th></tr>\n",
       "<tr><td>485818</td><td>14640.096</td><td>13388.84</td><td>13000.0</td><td>0.0</td><td>0.0</td><td>0.0</td><td>Mar-2013</td></tr>\n",
       "<tr><td>485471</td><td>29620.818</td><td>29134.64</td><td>25000.0</td><td>0.0</td><td>0.0</td><td>0.0</td><td>Mar-2013</td></tr>\n",
       "<tr><td>482256</td><td>8735.611</td><td>7479.87</td><td>8000.0</td><td>0.0</td><td>0.0</td><td>0.0</td><td>Feb-2011</td></tr>\n",
       "<tr><td>478160</td><td>410.0</td><td>407.36</td><td>0.0</td><td>0.0</td><td>143.1</td><td>410.0</td><td>null</td></tr>\n",
       "<tr><td>476557</td><td>28865.18</td><td>24164.67</td><td>5692.31</td><td>0.0</td><td>6972.59</td><td>19916.78</td><td>Dec-2010</td></tr>\n",
       "<tr><td>472516</td><td>25951.482</td><td>24731.76</td><td>25000.0</td><td>0.0</td><td>0.0</td><td>0.0</td><td>May-2010</td></tr>\n",
       "<tr><td>472197</td><td>12048.13</td><td>12018.01</td><td>10000.0</td><td>0.0</td><td>0.0</td><td>0.0</td><td>Jan-2013</td></tr>\n",
       "<tr><td>467364</td><td>29216.791</td><td>29066.19</td><td>24250.0</td><td>0.0</td><td>0.0</td><td>0.0</td><td>Dec-2012</td></tr>\n",
       "<tr><td>399499</td><td>26557.729</td><td>26336.41</td><td>24000.0</td><td>0.0</td><td>0.0</td><td>0.0</td><td>Dec-2010</td></tr>\n",
       "<tr><td>451482</td><td>7587.5513</td><td>7587.55</td><td>7000.0</td><td>0.0</td><td>0.0</td><td>0.0</td><td>Jan-2011</td></tr>\n",
       "<tr><td>453361</td><td>11072.387</td><td>11057.05</td><td>9000.0</td><td>0.0</td><td>0.0</td><td>0.0</td><td>Oct-2012</td></tr>\n",
       "<tr><td>451775</td><td>3196.65</td><td>3191.35</td><td>1704.25</td><td>0.0</td><td>6.0</td><td>600.15</td><td>Apr-2010</td></tr>\n",
       "<tr><td>440817</td><td>9004.034</td><td>9004.03</td><td>8000.0</td><td>0.0</td><td>0.0</td><td>0.0</td><td>Jan-2012</td></tr>\n",
       "<tr><td>440285</td><td>9103.791</td><td>9103.79</td><td>8000.0</td><td>0.0</td><td>0.0</td><td>0.0</td><td>Sep-2012</td></tr>\n",
       "<tr><td>436279</td><td>10766.17</td><td>10507.37</td><td>10400.0</td><td>0.0</td><td>0.0</td><td>0.0</td><td>Feb-2010</td></tr>\n",
       "<tr><td>436215</td><td>17839.12</td><td>13881.97</td><td>13543.88</td><td>0.0</td><td>0.0</td><td>1.23</td><td>Dec-2011</td></tr>\n",
       "<tr><td>435953</td><td>12350.051</td><td>12116.9</td><td>10000.0</td><td>0.0</td><td>0.0</td><td>0.0</td><td>Sep-2012</td></tr>\n",
       "<tr><td>430237</td><td>1597.64</td><td>1597.64</td><td>1069.79</td><td>0.0</td><td>1.41</td><td>134.2</td><td>Jul-2010</td></tr>\n",
       "<tr><td>429906</td><td>20204.574</td><td>20085.72</td><td>17000.0</td><td>0.0</td><td>0.0</td><td>0.0</td><td>Aug-2012</td></tr>\n",
       "<tr><td>425187</td><td>4919.18</td><td>4913.37</td><td>3862.04</td><td>0.0</td><td>18.0176</td><td>84.3</td><td>Dec-2011</td></tr>\n",
       "</table>\n",
       "only showing top 20 rows\n"
      ],
      "text/plain": [
       "+-------+------------------------+-----------------------+-----------------------+----------------------+-------------------+-----------------+-----------------+\n",
       "|loan_id|total_principal_received|total_interest_received|total_late_fee_received|total_payment_received|last_payment_amount|last_payment_date|next_payment_date|\n",
       "+-------+------------------------+-----------------------+-----------------------+----------------------+-------------------+-----------------+-----------------+\n",
       "| 485818|               14640.096|               13388.84|                13000.0|                   0.0|                0.0|              0.0|         Mar-2013|\n",
       "| 485471|               29620.818|               29134.64|                25000.0|                   0.0|                0.0|              0.0|         Mar-2013|\n",
       "| 482256|                8735.611|                7479.87|                 8000.0|                   0.0|                0.0|              0.0|         Feb-2011|\n",
       "| 478160|                   410.0|                 407.36|                    0.0|                   0.0|              143.1|            410.0|             null|\n",
       "| 476557|                28865.18|               24164.67|                5692.31|                   0.0|            6972.59|         19916.78|         Dec-2010|\n",
       "| 472516|               25951.482|               24731.76|                25000.0|                   0.0|                0.0|              0.0|         May-2010|\n",
       "| 472197|                12048.13|               12018.01|                10000.0|                   0.0|                0.0|              0.0|         Jan-2013|\n",
       "| 467364|               29216.791|               29066.19|                24250.0|                   0.0|                0.0|              0.0|         Dec-2012|\n",
       "| 399499|               26557.729|               26336.41|                24000.0|                   0.0|                0.0|              0.0|         Dec-2010|\n",
       "| 451482|               7587.5513|                7587.55|                 7000.0|                   0.0|                0.0|              0.0|         Jan-2011|\n",
       "| 453361|               11072.387|               11057.05|                 9000.0|                   0.0|                0.0|              0.0|         Oct-2012|\n",
       "| 451775|                 3196.65|                3191.35|                1704.25|                   0.0|                6.0|           600.15|         Apr-2010|\n",
       "| 440817|                9004.034|                9004.03|                 8000.0|                   0.0|                0.0|              0.0|         Jan-2012|\n",
       "| 440285|                9103.791|                9103.79|                 8000.0|                   0.0|                0.0|              0.0|         Sep-2012|\n",
       "| 436279|                10766.17|               10507.37|                10400.0|                   0.0|                0.0|              0.0|         Feb-2010|\n",
       "| 436215|                17839.12|               13881.97|               13543.88|                   0.0|                0.0|             1.23|         Dec-2011|\n",
       "| 435953|               12350.051|                12116.9|                10000.0|                   0.0|                0.0|              0.0|         Sep-2012|\n",
       "| 430237|                 1597.64|                1597.64|                1069.79|                   0.0|               1.41|            134.2|         Jul-2010|\n",
       "| 429906|               20204.574|               20085.72|                17000.0|                   0.0|                0.0|              0.0|         Aug-2012|\n",
       "| 425187|                 4919.18|                4913.37|                3862.04|                   0.0|            18.0176|             84.3|         Dec-2011|\n",
       "+-------+------------------------+-----------------------+-----------------------+----------------------+-------------------+-----------------+-----------------+\n",
       "only showing top 20 rows"
      ]
     },
     "execution_count": 28,
     "metadata": {},
     "output_type": "execute_result"
    }
   ],
   "source": [
    "spark.sql(\"select * from loan_repayments where total_payment_received = 0.0 and total_principal_received !=0.0\")"
   ]
  },
  {
   "cell_type": "code",
   "execution_count": 29,
   "id": "52b403cd",
   "metadata": {},
   "outputs": [],
   "source": [
    "from pyspark.sql.functions import when, col"
   ]
  },
  {
   "cell_type": "code",
   "execution_count": 30,
   "id": "bae48e66",
   "metadata": {},
   "outputs": [],
   "source": [
    "loan_payments_fixed_df=loan_repay_filtered_df.withColumn(\n",
    "\"total_payment_received\",\n",
    "    when(\n",
    "    (col(\"total_principal_received\") !=0.0) & (col(\"total_payment_received\")==0.0),\n",
    "        (col(\"total_principal_received\")+col(\"total_interest_received\")+col(\"total_late_fee_received\"))\n",
    "    ).otherwise(col(\"total_payment_received\"))\n",
    ")"
   ]
  },
  {
   "cell_type": "code",
   "execution_count": 31,
   "id": "afd13ad2",
   "metadata": {},
   "outputs": [
    {
     "data": {
      "text/html": [
       "<table border='1'>\n",
       "<tr><th>loan_id</th><th>total_principal_received</th><th>total_interest_received</th><th>total_late_fee_received</th><th>total_payment_received</th><th>last_payment_amount</th><th>last_payment_date</th><th>next_payment_date</th></tr>\n",
       "<tr><td>56633077</td><td>3000.0</td><td>376.21</td><td>0.0</td><td>3376.206</td><td>93.74</td><td>Aug-2018</td><td>null</td></tr>\n",
       "<tr><td>55927518</td><td>15600.0</td><td>1956.32</td><td>0.0</td><td>17556.32</td><td>487.9</td><td>Aug-2018</td><td>null</td></tr>\n",
       "<tr><td>56473345</td><td>20000.0</td><td>2408.94</td><td>0.0</td><td>22408.94</td><td>9677.72</td><td>May-2017</td><td>null</td></tr>\n",
       "<tr><td>56463188</td><td>11200.0</td><td>5231.01</td><td>0.0</td><td>16431.014</td><td>7475.86</td><td>Feb-2018</td><td>null</td></tr>\n",
       "<tr><td>56473316</td><td>5215.47</td><td>6513.51</td><td>0.0</td><td>13237.07</td><td>432.77</td><td>Nov-2017</td><td>null</td></tr>\n",
       "<tr><td>56663266</td><td>6477.26</td><td>4221.77</td><td>0.0</td><td>12544.05</td><td>458.45</td><td>Jun-2017</td><td>null</td></tr>\n",
       "<tr><td>56483027</td><td>10000.0</td><td>2062.03</td><td>0.0</td><td>12062.026</td><td>335.38</td><td>Aug-2018</td><td>null</td></tr>\n",
       "<tr><td>56613385</td><td>13932.74</td><td>11678.23</td><td>0.0</td><td>25610.97</td><td>609.46</td><td>Feb-2019</td><td>Apr-2019</td></tr>\n",
       "<tr><td>56643620</td><td>16000.0</td><td>1031.67</td><td>0.0</td><td>17031.674</td><td>8363.28</td><td>Mar-2017</td><td>null</td></tr>\n",
       "<tr><td>56533114</td><td>3478.66</td><td>3815.07</td><td>0.0</td><td>12460.86</td><td>1111.52</td><td>Mar-2016</td><td>null</td></tr>\n",
       "<tr><td>56984127</td><td>24000.0</td><td>2939.61</td><td>0.0</td><td>26939.611</td><td>5175.19</td><td>Feb-2018</td><td>null</td></tr>\n",
       "<tr><td>56131038</td><td>7612.86</td><td>4827.33</td><td>0.0</td><td>12440.19</td><td>289.34</td><td>Mar-2019</td><td>Apr-2019</td></tr>\n",
       "<tr><td>56452581</td><td>25000.0</td><td>5435.67</td><td>0.0</td><td>30435.67</td><td>2525.29</td><td>Jun-2018</td><td>null</td></tr>\n",
       "<tr><td>56685321</td><td>3839.84</td><td>5116.89</td><td>0.0</td><td>11211.31</td><td>899.28</td><td>Jun-2016</td><td>null</td></tr>\n",
       "<tr><td>56563360</td><td>14994.95</td><td>14659.13</td><td>0.0</td><td>29654.08</td><td>690.34</td><td>Mar-2019</td><td>Apr-2019</td></tr>\n",
       "<tr><td>56533113</td><td>20000.0</td><td>1319.02</td><td>0.0</td><td>21319.02</td><td>17901.73</td><td>Feb-2016</td><td>null</td></tr>\n",
       "<tr><td>56904118</td><td>5676.65</td><td>1655.48</td><td>0.0</td><td>7859.88</td><td>317.69</td><td>Jul-2017</td><td>null</td></tr>\n",
       "<tr><td>56473361</td><td>4200.0</td><td>1082.96</td><td>0.0</td><td>5282.9614</td><td>146.5</td><td>Aug-2018</td><td>null</td></tr>\n",
       "<tr><td>56021410</td><td>8625.0</td><td>1813.75</td><td>0.0</td><td>10438.753</td><td>4946.24</td><td>Mar-2017</td><td>null</td></tr>\n",
       "<tr><td>56473332</td><td>12225.62</td><td>8790.03</td><td>0.0</td><td>21015.65</td><td>478.05</td><td>Mar-2019</td><td>Apr-2019</td></tr>\n",
       "</table>\n",
       "only showing top 20 rows\n"
      ],
      "text/plain": [
       "+--------+------------------------+-----------------------+-----------------------+----------------------+-------------------+-----------------+-----------------+\n",
       "| loan_id|total_principal_received|total_interest_received|total_late_fee_received|total_payment_received|last_payment_amount|last_payment_date|next_payment_date|\n",
       "+--------+------------------------+-----------------------+-----------------------+----------------------+-------------------+-----------------+-----------------+\n",
       "|56633077|                  3000.0|                 376.21|                    0.0|              3376.206|              93.74|         Aug-2018|             null|\n",
       "|55927518|                 15600.0|                1956.32|                    0.0|              17556.32|              487.9|         Aug-2018|             null|\n",
       "|56473345|                 20000.0|                2408.94|                    0.0|              22408.94|            9677.72|         May-2017|             null|\n",
       "|56463188|                 11200.0|                5231.01|                    0.0|             16431.014|            7475.86|         Feb-2018|             null|\n",
       "|56473316|                 5215.47|                6513.51|                    0.0|              13237.07|             432.77|         Nov-2017|             null|\n",
       "|56663266|                 6477.26|                4221.77|                    0.0|              12544.05|             458.45|         Jun-2017|             null|\n",
       "|56483027|                 10000.0|                2062.03|                    0.0|             12062.026|             335.38|         Aug-2018|             null|\n",
       "|56613385|                13932.74|               11678.23|                    0.0|              25610.97|             609.46|         Feb-2019|         Apr-2019|\n",
       "|56643620|                 16000.0|                1031.67|                    0.0|             17031.674|            8363.28|         Mar-2017|             null|\n",
       "|56533114|                 3478.66|                3815.07|                    0.0|              12460.86|            1111.52|         Mar-2016|             null|\n",
       "|56984127|                 24000.0|                2939.61|                    0.0|             26939.611|            5175.19|         Feb-2018|             null|\n",
       "|56131038|                 7612.86|                4827.33|                    0.0|              12440.19|             289.34|         Mar-2019|         Apr-2019|\n",
       "|56452581|                 25000.0|                5435.67|                    0.0|              30435.67|            2525.29|         Jun-2018|             null|\n",
       "|56685321|                 3839.84|                5116.89|                    0.0|              11211.31|             899.28|         Jun-2016|             null|\n",
       "|56563360|                14994.95|               14659.13|                    0.0|              29654.08|             690.34|         Mar-2019|         Apr-2019|\n",
       "|56533113|                 20000.0|                1319.02|                    0.0|              21319.02|           17901.73|         Feb-2016|             null|\n",
       "|56904118|                 5676.65|                1655.48|                    0.0|               7859.88|             317.69|         Jul-2017|             null|\n",
       "|56473361|                  4200.0|                1082.96|                    0.0|             5282.9614|              146.5|         Aug-2018|             null|\n",
       "|56021410|                  8625.0|                1813.75|                    0.0|             10438.753|            4946.24|         Mar-2017|             null|\n",
       "|56473332|                12225.62|                8790.03|                    0.0|              21015.65|             478.05|         Mar-2019|         Apr-2019|\n",
       "+--------+------------------------+-----------------------+-----------------------+----------------------+-------------------+-----------------+-----------------+\n",
       "only showing top 20 rows"
      ]
     },
     "execution_count": 31,
     "metadata": {},
     "output_type": "execute_result"
    }
   ],
   "source": [
    "loan_payments_fixed_df"
   ]
  },
  {
   "cell_type": "code",
   "execution_count": 32,
   "id": "e13a9269",
   "metadata": {},
   "outputs": [
    {
     "data": {
      "text/plain": [
       "949"
      ]
     },
     "execution_count": 32,
     "metadata": {},
     "output_type": "execute_result"
    }
   ],
   "source": [
    "loan_payments_fixed_df.filter(\"total_payment_received=0.0\").count()"
   ]
  },
  {
   "cell_type": "code",
   "execution_count": 33,
   "id": "e6222580",
   "metadata": {},
   "outputs": [
    {
     "data": {
      "text/html": [
       "<table border='1'>\n",
       "<tr><th>loan_id</th><th>total_principal_received</th><th>total_interest_received</th><th>total_late_fee_received</th><th>total_payment_received</th><th>last_payment_amount</th><th>last_payment_date</th><th>next_payment_date</th></tr>\n",
       "<tr><td>56532281</td><td>0.0</td><td>0.0</td><td>0.0</td><td>0.0</td><td>0.0</td><td>null</td><td>null</td></tr>\n",
       "<tr><td>56350750</td><td>0.0</td><td>0.0</td><td>0.0</td><td>0.0</td><td>0.0</td><td>null</td><td>null</td></tr>\n",
       "<tr><td>56280418</td><td>0.0</td><td>0.0</td><td>0.0</td><td>0.0</td><td>0.0</td><td>null</td><td>null</td></tr>\n",
       "<tr><td>55991277</td><td>0.0</td><td>0.0</td><td>0.0</td><td>0.0</td><td>0.0</td><td>null</td><td>null</td></tr>\n",
       "<tr><td>55330278</td><td>0.0</td><td>0.0</td><td>0.0</td><td>0.0</td><td>0.0</td><td>null</td><td>null</td></tr>\n",
       "<tr><td>55422987</td><td>0.0</td><td>0.0</td><td>0.0</td><td>0.0</td><td>0.0</td><td>null</td><td>null</td></tr>\n",
       "<tr><td>55220751</td><td>0.0</td><td>0.0</td><td>0.0</td><td>0.0</td><td>0.0</td><td>null</td><td>null</td></tr>\n",
       "<tr><td>55209541</td><td>0.0</td><td>0.0</td><td>0.0</td><td>0.0</td><td>0.0</td><td>null</td><td>null</td></tr>\n",
       "<tr><td>55238282</td><td>0.0</td><td>0.0</td><td>0.0</td><td>0.0</td><td>0.0</td><td>null</td><td>null</td></tr>\n",
       "<tr><td>54648144</td><td>0.0</td><td>0.0</td><td>0.0</td><td>0.0</td><td>0.0</td><td>null</td><td>null</td></tr>\n",
       "<tr><td>54423854</td><td>0.0</td><td>0.0</td><td>0.0</td><td>0.0</td><td>0.0</td><td>null</td><td>null</td></tr>\n",
       "<tr><td>54493399</td><td>0.0</td><td>0.0</td><td>0.0</td><td>0.0</td><td>0.0</td><td>null</td><td>null</td></tr>\n",
       "<tr><td>54068287</td><td>0.0</td><td>0.0</td><td>0.0</td><td>0.0</td><td>0.0</td><td>null</td><td>null</td></tr>\n",
       "<tr><td>53654320</td><td>0.0</td><td>0.0</td><td>0.0</td><td>0.0</td><td>0.0</td><td>null</td><td>null</td></tr>\n",
       "<tr><td>53654178</td><td>0.0</td><td>0.0</td><td>0.0</td><td>0.0</td><td>0.0</td><td>null</td><td>null</td></tr>\n",
       "<tr><td>51186400</td><td>0.0</td><td>0.0</td><td>0.0</td><td>0.0</td><td>0.0</td><td>null</td><td>null</td></tr>\n",
       "<tr><td>51881055</td><td>0.0</td><td>0.0</td><td>0.0</td><td>0.0</td><td>0.0</td><td>null</td><td>null</td></tr>\n",
       "<tr><td>50425916</td><td>0.0</td><td>0.0</td><td>0.0</td><td>0.0</td><td>0.0</td><td>null</td><td>null</td></tr>\n",
       "<tr><td>51346595</td><td>0.0</td><td>0.0</td><td>0.0</td><td>0.0</td><td>0.0</td><td>null</td><td>null</td></tr>\n",
       "<tr><td>50054038</td><td>0.0</td><td>0.0</td><td>0.0</td><td>0.0</td><td>0.0</td><td>null</td><td>null</td></tr>\n",
       "</table>\n",
       "only showing top 20 rows\n"
      ],
      "text/plain": [
       "+--------+------------------------+-----------------------+-----------------------+----------------------+-------------------+-----------------+-----------------+\n",
       "| loan_id|total_principal_received|total_interest_received|total_late_fee_received|total_payment_received|last_payment_amount|last_payment_date|next_payment_date|\n",
       "+--------+------------------------+-----------------------+-----------------------+----------------------+-------------------+-----------------+-----------------+\n",
       "|56532281|                     0.0|                    0.0|                    0.0|                   0.0|                0.0|             null|             null|\n",
       "|56350750|                     0.0|                    0.0|                    0.0|                   0.0|                0.0|             null|             null|\n",
       "|56280418|                     0.0|                    0.0|                    0.0|                   0.0|                0.0|             null|             null|\n",
       "|55991277|                     0.0|                    0.0|                    0.0|                   0.0|                0.0|             null|             null|\n",
       "|55330278|                     0.0|                    0.0|                    0.0|                   0.0|                0.0|             null|             null|\n",
       "|55422987|                     0.0|                    0.0|                    0.0|                   0.0|                0.0|             null|             null|\n",
       "|55220751|                     0.0|                    0.0|                    0.0|                   0.0|                0.0|             null|             null|\n",
       "|55209541|                     0.0|                    0.0|                    0.0|                   0.0|                0.0|             null|             null|\n",
       "|55238282|                     0.0|                    0.0|                    0.0|                   0.0|                0.0|             null|             null|\n",
       "|54648144|                     0.0|                    0.0|                    0.0|                   0.0|                0.0|             null|             null|\n",
       "|54423854|                     0.0|                    0.0|                    0.0|                   0.0|                0.0|             null|             null|\n",
       "|54493399|                     0.0|                    0.0|                    0.0|                   0.0|                0.0|             null|             null|\n",
       "|54068287|                     0.0|                    0.0|                    0.0|                   0.0|                0.0|             null|             null|\n",
       "|53654320|                     0.0|                    0.0|                    0.0|                   0.0|                0.0|             null|             null|\n",
       "|53654178|                     0.0|                    0.0|                    0.0|                   0.0|                0.0|             null|             null|\n",
       "|51186400|                     0.0|                    0.0|                    0.0|                   0.0|                0.0|             null|             null|\n",
       "|51881055|                     0.0|                    0.0|                    0.0|                   0.0|                0.0|             null|             null|\n",
       "|50425916|                     0.0|                    0.0|                    0.0|                   0.0|                0.0|             null|             null|\n",
       "|51346595|                     0.0|                    0.0|                    0.0|                   0.0|                0.0|             null|             null|\n",
       "|50054038|                     0.0|                    0.0|                    0.0|                   0.0|                0.0|             null|             null|\n",
       "+--------+------------------------+-----------------------+-----------------------+----------------------+-------------------+-----------------+-----------------+\n",
       "only showing top 20 rows"
      ]
     },
     "execution_count": 33,
     "metadata": {},
     "output_type": "execute_result"
    }
   ],
   "source": [
    "loan_payments_fixed_df.filter(\"total_payment_received=0.0\")"
   ]
  },
  {
   "cell_type": "code",
   "execution_count": 34,
   "id": "edb0fc6d",
   "metadata": {},
   "outputs": [],
   "source": [
    "loan_payments_fixed2_df=loan_payments_fixed_df.filter(\"total_payment_received!=0.0\")"
   ]
  },
  {
   "cell_type": "code",
   "execution_count": 35,
   "id": "f50c6b32",
   "metadata": {},
   "outputs": [
    {
     "data": {
      "text/html": [
       "<table border='1'>\n",
       "<tr><th>loan_id</th><th>total_principal_received</th><th>total_interest_received</th><th>total_late_fee_received</th><th>total_payment_received</th><th>last_payment_amount</th><th>last_payment_date</th><th>next_payment_date</th></tr>\n",
       "<tr><td>56633077</td><td>3000.0</td><td>376.21</td><td>0.0</td><td>3376.206</td><td>93.74</td><td>Aug-2018</td><td>null</td></tr>\n",
       "<tr><td>55927518</td><td>15600.0</td><td>1956.32</td><td>0.0</td><td>17556.32</td><td>487.9</td><td>Aug-2018</td><td>null</td></tr>\n",
       "<tr><td>56473345</td><td>20000.0</td><td>2408.94</td><td>0.0</td><td>22408.94</td><td>9677.72</td><td>May-2017</td><td>null</td></tr>\n",
       "<tr><td>56463188</td><td>11200.0</td><td>5231.01</td><td>0.0</td><td>16431.014</td><td>7475.86</td><td>Feb-2018</td><td>null</td></tr>\n",
       "<tr><td>56473316</td><td>5215.47</td><td>6513.51</td><td>0.0</td><td>13237.07</td><td>432.77</td><td>Nov-2017</td><td>null</td></tr>\n",
       "<tr><td>56663266</td><td>6477.26</td><td>4221.77</td><td>0.0</td><td>12544.05</td><td>458.45</td><td>Jun-2017</td><td>null</td></tr>\n",
       "<tr><td>56483027</td><td>10000.0</td><td>2062.03</td><td>0.0</td><td>12062.026</td><td>335.38</td><td>Aug-2018</td><td>null</td></tr>\n",
       "<tr><td>56613385</td><td>13932.74</td><td>11678.23</td><td>0.0</td><td>25610.97</td><td>609.46</td><td>Feb-2019</td><td>Apr-2019</td></tr>\n",
       "<tr><td>56643620</td><td>16000.0</td><td>1031.67</td><td>0.0</td><td>17031.674</td><td>8363.28</td><td>Mar-2017</td><td>null</td></tr>\n",
       "<tr><td>56533114</td><td>3478.66</td><td>3815.07</td><td>0.0</td><td>12460.86</td><td>1111.52</td><td>Mar-2016</td><td>null</td></tr>\n",
       "<tr><td>56984127</td><td>24000.0</td><td>2939.61</td><td>0.0</td><td>26939.611</td><td>5175.19</td><td>Feb-2018</td><td>null</td></tr>\n",
       "<tr><td>56131038</td><td>7612.86</td><td>4827.33</td><td>0.0</td><td>12440.19</td><td>289.34</td><td>Mar-2019</td><td>Apr-2019</td></tr>\n",
       "<tr><td>56452581</td><td>25000.0</td><td>5435.67</td><td>0.0</td><td>30435.67</td><td>2525.29</td><td>Jun-2018</td><td>null</td></tr>\n",
       "<tr><td>56685321</td><td>3839.84</td><td>5116.89</td><td>0.0</td><td>11211.31</td><td>899.28</td><td>Jun-2016</td><td>null</td></tr>\n",
       "<tr><td>56563360</td><td>14994.95</td><td>14659.13</td><td>0.0</td><td>29654.08</td><td>690.34</td><td>Mar-2019</td><td>Apr-2019</td></tr>\n",
       "<tr><td>56533113</td><td>20000.0</td><td>1319.02</td><td>0.0</td><td>21319.02</td><td>17901.73</td><td>Feb-2016</td><td>null</td></tr>\n",
       "<tr><td>56904118</td><td>5676.65</td><td>1655.48</td><td>0.0</td><td>7859.88</td><td>317.69</td><td>Jul-2017</td><td>null</td></tr>\n",
       "<tr><td>56473361</td><td>4200.0</td><td>1082.96</td><td>0.0</td><td>5282.9614</td><td>146.5</td><td>Aug-2018</td><td>null</td></tr>\n",
       "<tr><td>56021410</td><td>8625.0</td><td>1813.75</td><td>0.0</td><td>10438.753</td><td>4946.24</td><td>Mar-2017</td><td>null</td></tr>\n",
       "<tr><td>56473332</td><td>12225.62</td><td>8790.03</td><td>0.0</td><td>21015.65</td><td>478.05</td><td>Mar-2019</td><td>Apr-2019</td></tr>\n",
       "</table>\n",
       "only showing top 20 rows\n"
      ],
      "text/plain": [
       "+--------+------------------------+-----------------------+-----------------------+----------------------+-------------------+-----------------+-----------------+\n",
       "| loan_id|total_principal_received|total_interest_received|total_late_fee_received|total_payment_received|last_payment_amount|last_payment_date|next_payment_date|\n",
       "+--------+------------------------+-----------------------+-----------------------+----------------------+-------------------+-----------------+-----------------+\n",
       "|56633077|                  3000.0|                 376.21|                    0.0|              3376.206|              93.74|         Aug-2018|             null|\n",
       "|55927518|                 15600.0|                1956.32|                    0.0|              17556.32|              487.9|         Aug-2018|             null|\n",
       "|56473345|                 20000.0|                2408.94|                    0.0|              22408.94|            9677.72|         May-2017|             null|\n",
       "|56463188|                 11200.0|                5231.01|                    0.0|             16431.014|            7475.86|         Feb-2018|             null|\n",
       "|56473316|                 5215.47|                6513.51|                    0.0|              13237.07|             432.77|         Nov-2017|             null|\n",
       "|56663266|                 6477.26|                4221.77|                    0.0|              12544.05|             458.45|         Jun-2017|             null|\n",
       "|56483027|                 10000.0|                2062.03|                    0.0|             12062.026|             335.38|         Aug-2018|             null|\n",
       "|56613385|                13932.74|               11678.23|                    0.0|              25610.97|             609.46|         Feb-2019|         Apr-2019|\n",
       "|56643620|                 16000.0|                1031.67|                    0.0|             17031.674|            8363.28|         Mar-2017|             null|\n",
       "|56533114|                 3478.66|                3815.07|                    0.0|              12460.86|            1111.52|         Mar-2016|             null|\n",
       "|56984127|                 24000.0|                2939.61|                    0.0|             26939.611|            5175.19|         Feb-2018|             null|\n",
       "|56131038|                 7612.86|                4827.33|                    0.0|              12440.19|             289.34|         Mar-2019|         Apr-2019|\n",
       "|56452581|                 25000.0|                5435.67|                    0.0|              30435.67|            2525.29|         Jun-2018|             null|\n",
       "|56685321|                 3839.84|                5116.89|                    0.0|              11211.31|             899.28|         Jun-2016|             null|\n",
       "|56563360|                14994.95|               14659.13|                    0.0|              29654.08|             690.34|         Mar-2019|         Apr-2019|\n",
       "|56533113|                 20000.0|                1319.02|                    0.0|              21319.02|           17901.73|         Feb-2016|             null|\n",
       "|56904118|                 5676.65|                1655.48|                    0.0|               7859.88|             317.69|         Jul-2017|             null|\n",
       "|56473361|                  4200.0|                1082.96|                    0.0|             5282.9614|              146.5|         Aug-2018|             null|\n",
       "|56021410|                  8625.0|                1813.75|                    0.0|             10438.753|            4946.24|         Mar-2017|             null|\n",
       "|56473332|                12225.62|                8790.03|                    0.0|              21015.65|             478.05|         Mar-2019|         Apr-2019|\n",
       "+--------+------------------------+-----------------------+-----------------------+----------------------+-------------------+-----------------+-----------------+\n",
       "only showing top 20 rows"
      ]
     },
     "execution_count": 35,
     "metadata": {},
     "output_type": "execute_result"
    }
   ],
   "source": [
    "loan_payments_fixed2_df"
   ]
  },
  {
   "cell_type": "code",
   "execution_count": 36,
   "id": "8724f0ec",
   "metadata": {},
   "outputs": [
    {
     "data": {
      "text/html": [
       "<table border='1'>\n",
       "<tr><th>loan_id</th><th>total_principal_received</th><th>total_interest_received</th><th>total_late_fee_received</th><th>total_payment_received</th><th>last_payment_amount</th><th>last_payment_date</th><th>next_payment_date</th></tr>\n",
       "<tr><td>485818</td><td>14640.096</td><td>13388.84</td><td>13000.0</td><td>41028.938</td><td>0.0</td><td>0.0</td><td>Mar-2013</td></tr>\n",
       "<tr><td>485471</td><td>29620.818</td><td>29134.64</td><td>25000.0</td><td>83755.46</td><td>0.0</td><td>0.0</td><td>Mar-2013</td></tr>\n",
       "<tr><td>482256</td><td>8735.611</td><td>7479.87</td><td>8000.0</td><td>24215.48</td><td>0.0</td><td>0.0</td><td>Feb-2011</td></tr>\n",
       "<tr><td>480240</td><td>17457.0</td><td>71.3</td><td>33.0</td><td>16.0</td><td>14153.22</td><td>0.0</td><td>14153.22</td></tr>\n",
       "<tr><td>472516</td><td>25951.482</td><td>24731.76</td><td>25000.0</td><td>75683.24</td><td>0.0</td><td>0.0</td><td>May-2010</td></tr>\n",
       "<tr><td>472197</td><td>12048.13</td><td>12018.01</td><td>10000.0</td><td>34066.14</td><td>0.0</td><td>0.0</td><td>Jan-2013</td></tr>\n",
       "<tr><td>467364</td><td>29216.791</td><td>29066.19</td><td>24250.0</td><td>82532.984</td><td>0.0</td><td>0.0</td><td>Dec-2012</td></tr>\n",
       "<tr><td>399499</td><td>26557.729</td><td>26336.41</td><td>24000.0</td><td>76894.14</td><td>0.0</td><td>0.0</td><td>Dec-2010</td></tr>\n",
       "<tr><td>455662</td><td>19137.0</td><td>42.5</td><td>28.0</td><td>9.0</td><td>13522.135</td><td>0.0</td><td>13353.11</td></tr>\n",
       "<tr><td>451482</td><td>7587.5513</td><td>7587.55</td><td>7000.0</td><td>22175.102</td><td>0.0</td><td>0.0</td><td>Jan-2011</td></tr>\n",
       "<tr><td>453361</td><td>11072.387</td><td>11057.05</td><td>9000.0</td><td>31129.438</td><td>0.0</td><td>0.0</td><td>Oct-2012</td></tr>\n",
       "<tr><td>440817</td><td>9004.034</td><td>9004.03</td><td>8000.0</td><td>26008.064</td><td>0.0</td><td>0.0</td><td>Jan-2012</td></tr>\n",
       "<tr><td>440285</td><td>9103.791</td><td>9103.79</td><td>8000.0</td><td>26207.582</td><td>0.0</td><td>0.0</td><td>Sep-2012</td></tr>\n",
       "<tr><td>436279</td><td>10766.17</td><td>10507.37</td><td>10400.0</td><td>31673.54</td><td>0.0</td><td>0.0</td><td>Feb-2010</td></tr>\n",
       "<tr><td>435953</td><td>12350.051</td><td>12116.9</td><td>10000.0</td><td>34466.953</td><td>0.0</td><td>0.0</td><td>Sep-2012</td></tr>\n",
       "<tr><td>429906</td><td>20204.574</td><td>20085.72</td><td>17000.0</td><td>57290.297</td><td>0.0</td><td>0.0</td><td>Aug-2012</td></tr>\n",
       "<tr><td>413655</td><td>7219.8364</td><td>7219.84</td><td>6400.0</td><td>20839.676</td><td>0.0</td><td>0.0</td><td>Jun-2012</td></tr>\n",
       "<tr><td>402638</td><td>6315.42</td><td>656.96</td><td>6250.0</td><td>13222.38</td><td>0.0</td><td>0.0</td><td>Jul-2009</td></tr>\n",
       "<tr><td>402807</td><td>14499.0</td><td>33.4</td><td>11.0</td><td>6.0</td><td>12545.458</td><td>0.0</td><td>3556.41</td></tr>\n",
       "<tr><td>395185</td><td>1870.0</td><td>5.5</td><td>5.0</td><td>4.0</td><td>3450.1882</td><td>0.0</td><td>3450.19</td></tr>\n",
       "</table>\n",
       "only showing top 20 rows\n"
      ],
      "text/plain": [
       "+-------+------------------------+-----------------------+-----------------------+----------------------+-------------------+-----------------+-----------------+\n",
       "|loan_id|total_principal_received|total_interest_received|total_late_fee_received|total_payment_received|last_payment_amount|last_payment_date|next_payment_date|\n",
       "+-------+------------------------+-----------------------+-----------------------+----------------------+-------------------+-----------------+-----------------+\n",
       "| 485818|               14640.096|               13388.84|                13000.0|             41028.938|                0.0|              0.0|         Mar-2013|\n",
       "| 485471|               29620.818|               29134.64|                25000.0|              83755.46|                0.0|              0.0|         Mar-2013|\n",
       "| 482256|                8735.611|                7479.87|                 8000.0|              24215.48|                0.0|              0.0|         Feb-2011|\n",
       "| 480240|                 17457.0|                   71.3|                   33.0|                  16.0|           14153.22|              0.0|         14153.22|\n",
       "| 472516|               25951.482|               24731.76|                25000.0|              75683.24|                0.0|              0.0|         May-2010|\n",
       "| 472197|                12048.13|               12018.01|                10000.0|              34066.14|                0.0|              0.0|         Jan-2013|\n",
       "| 467364|               29216.791|               29066.19|                24250.0|             82532.984|                0.0|              0.0|         Dec-2012|\n",
       "| 399499|               26557.729|               26336.41|                24000.0|              76894.14|                0.0|              0.0|         Dec-2010|\n",
       "| 455662|                 19137.0|                   42.5|                   28.0|                   9.0|          13522.135|              0.0|         13353.11|\n",
       "| 451482|               7587.5513|                7587.55|                 7000.0|             22175.102|                0.0|              0.0|         Jan-2011|\n",
       "| 453361|               11072.387|               11057.05|                 9000.0|             31129.438|                0.0|              0.0|         Oct-2012|\n",
       "| 440817|                9004.034|                9004.03|                 8000.0|             26008.064|                0.0|              0.0|         Jan-2012|\n",
       "| 440285|                9103.791|                9103.79|                 8000.0|             26207.582|                0.0|              0.0|         Sep-2012|\n",
       "| 436279|                10766.17|               10507.37|                10400.0|              31673.54|                0.0|              0.0|         Feb-2010|\n",
       "| 435953|               12350.051|                12116.9|                10000.0|             34466.953|                0.0|              0.0|         Sep-2012|\n",
       "| 429906|               20204.574|               20085.72|                17000.0|             57290.297|                0.0|              0.0|         Aug-2012|\n",
       "| 413655|               7219.8364|                7219.84|                 6400.0|             20839.676|                0.0|              0.0|         Jun-2012|\n",
       "| 402638|                 6315.42|                 656.96|                 6250.0|              13222.38|                0.0|              0.0|         Jul-2009|\n",
       "| 402807|                 14499.0|                   33.4|                   11.0|                   6.0|          12545.458|              0.0|          3556.41|\n",
       "| 395185|                  1870.0|                    5.5|                    5.0|                   4.0|          3450.1882|              0.0|          3450.19|\n",
       "+-------+------------------------+-----------------------+-----------------------+----------------------+-------------------+-----------------+-----------------+\n",
       "only showing top 20 rows"
      ]
     },
     "execution_count": 36,
     "metadata": {},
     "output_type": "execute_result"
    }
   ],
   "source": [
    "loan_payments_fixed2_df.filter(\"last_payment_date=0.0\")"
   ]
  },
  {
   "cell_type": "code",
   "execution_count": 38,
   "id": "416eecf3",
   "metadata": {},
   "outputs": [],
   "source": [
    "loans_payments_ldate_fixed_df = loan_payments_fixed2_df.withColumn(\n",
    "\"last_payment_date\",\n",
    "when(\n",
    "(col(\"last_payment_date\") == 0.0),\n",
    "None\n",
    ").otherwise(col(\"last_payment_date\"))\n",
    ")"
   ]
  },
  {
   "cell_type": "code",
   "execution_count": 39,
   "id": "344d071f",
   "metadata": {},
   "outputs": [],
   "source": [
    "loans_payments_ndate_fixed_df = loans_payments_ldate_fixed_df.withColumn(\n",
    "\"next_payment_date\",\n",
    "when(\n",
    "(col(\"last_payment_date\") == 0.0),\n",
    "None\n",
    ").otherwise(col(\"next_payment_date\"))\n",
    ")"
   ]
  },
  {
   "cell_type": "code",
   "execution_count": 40,
   "id": "4742b65f",
   "metadata": {},
   "outputs": [
    {
     "data": {
      "text/html": [
       "<table border='1'>\n",
       "<tr><th>loan_id</th><th>total_principal_received</th><th>total_interest_received</th><th>total_late_fee_received</th><th>total_payment_received</th><th>last_payment_amount</th><th>last_payment_date</th><th>next_payment_date</th></tr>\n",
       "<tr><td>56633077</td><td>3000.0</td><td>376.21</td><td>0.0</td><td>3376.206</td><td>93.74</td><td>Aug-2018</td><td>null</td></tr>\n",
       "<tr><td>55927518</td><td>15600.0</td><td>1956.32</td><td>0.0</td><td>17556.32</td><td>487.9</td><td>Aug-2018</td><td>null</td></tr>\n",
       "<tr><td>56473345</td><td>20000.0</td><td>2408.94</td><td>0.0</td><td>22408.94</td><td>9677.72</td><td>May-2017</td><td>null</td></tr>\n",
       "<tr><td>56463188</td><td>11200.0</td><td>5231.01</td><td>0.0</td><td>16431.014</td><td>7475.86</td><td>Feb-2018</td><td>null</td></tr>\n",
       "<tr><td>56473316</td><td>5215.47</td><td>6513.51</td><td>0.0</td><td>13237.07</td><td>432.77</td><td>Nov-2017</td><td>null</td></tr>\n",
       "<tr><td>56663266</td><td>6477.26</td><td>4221.77</td><td>0.0</td><td>12544.05</td><td>458.45</td><td>Jun-2017</td><td>null</td></tr>\n",
       "<tr><td>56483027</td><td>10000.0</td><td>2062.03</td><td>0.0</td><td>12062.026</td><td>335.38</td><td>Aug-2018</td><td>null</td></tr>\n",
       "<tr><td>56613385</td><td>13932.74</td><td>11678.23</td><td>0.0</td><td>25610.97</td><td>609.46</td><td>Feb-2019</td><td>Apr-2019</td></tr>\n",
       "<tr><td>56643620</td><td>16000.0</td><td>1031.67</td><td>0.0</td><td>17031.674</td><td>8363.28</td><td>Mar-2017</td><td>null</td></tr>\n",
       "<tr><td>56533114</td><td>3478.66</td><td>3815.07</td><td>0.0</td><td>12460.86</td><td>1111.52</td><td>Mar-2016</td><td>null</td></tr>\n",
       "<tr><td>56984127</td><td>24000.0</td><td>2939.61</td><td>0.0</td><td>26939.611</td><td>5175.19</td><td>Feb-2018</td><td>null</td></tr>\n",
       "<tr><td>56131038</td><td>7612.86</td><td>4827.33</td><td>0.0</td><td>12440.19</td><td>289.34</td><td>Mar-2019</td><td>Apr-2019</td></tr>\n",
       "<tr><td>56452581</td><td>25000.0</td><td>5435.67</td><td>0.0</td><td>30435.67</td><td>2525.29</td><td>Jun-2018</td><td>null</td></tr>\n",
       "<tr><td>56685321</td><td>3839.84</td><td>5116.89</td><td>0.0</td><td>11211.31</td><td>899.28</td><td>Jun-2016</td><td>null</td></tr>\n",
       "<tr><td>56563360</td><td>14994.95</td><td>14659.13</td><td>0.0</td><td>29654.08</td><td>690.34</td><td>Mar-2019</td><td>Apr-2019</td></tr>\n",
       "<tr><td>56533113</td><td>20000.0</td><td>1319.02</td><td>0.0</td><td>21319.02</td><td>17901.73</td><td>Feb-2016</td><td>null</td></tr>\n",
       "<tr><td>56904118</td><td>5676.65</td><td>1655.48</td><td>0.0</td><td>7859.88</td><td>317.69</td><td>Jul-2017</td><td>null</td></tr>\n",
       "<tr><td>56473361</td><td>4200.0</td><td>1082.96</td><td>0.0</td><td>5282.9614</td><td>146.5</td><td>Aug-2018</td><td>null</td></tr>\n",
       "<tr><td>56021410</td><td>8625.0</td><td>1813.75</td><td>0.0</td><td>10438.753</td><td>4946.24</td><td>Mar-2017</td><td>null</td></tr>\n",
       "<tr><td>56473332</td><td>12225.62</td><td>8790.03</td><td>0.0</td><td>21015.65</td><td>478.05</td><td>Mar-2019</td><td>Apr-2019</td></tr>\n",
       "</table>\n",
       "only showing top 20 rows\n"
      ],
      "text/plain": [
       "+--------+------------------------+-----------------------+-----------------------+----------------------+-------------------+-----------------+-----------------+\n",
       "| loan_id|total_principal_received|total_interest_received|total_late_fee_received|total_payment_received|last_payment_amount|last_payment_date|next_payment_date|\n",
       "+--------+------------------------+-----------------------+-----------------------+----------------------+-------------------+-----------------+-----------------+\n",
       "|56633077|                  3000.0|                 376.21|                    0.0|              3376.206|              93.74|         Aug-2018|             null|\n",
       "|55927518|                 15600.0|                1956.32|                    0.0|              17556.32|              487.9|         Aug-2018|             null|\n",
       "|56473345|                 20000.0|                2408.94|                    0.0|              22408.94|            9677.72|         May-2017|             null|\n",
       "|56463188|                 11200.0|                5231.01|                    0.0|             16431.014|            7475.86|         Feb-2018|             null|\n",
       "|56473316|                 5215.47|                6513.51|                    0.0|              13237.07|             432.77|         Nov-2017|             null|\n",
       "|56663266|                 6477.26|                4221.77|                    0.0|              12544.05|             458.45|         Jun-2017|             null|\n",
       "|56483027|                 10000.0|                2062.03|                    0.0|             12062.026|             335.38|         Aug-2018|             null|\n",
       "|56613385|                13932.74|               11678.23|                    0.0|              25610.97|             609.46|         Feb-2019|         Apr-2019|\n",
       "|56643620|                 16000.0|                1031.67|                    0.0|             17031.674|            8363.28|         Mar-2017|             null|\n",
       "|56533114|                 3478.66|                3815.07|                    0.0|              12460.86|            1111.52|         Mar-2016|             null|\n",
       "|56984127|                 24000.0|                2939.61|                    0.0|             26939.611|            5175.19|         Feb-2018|             null|\n",
       "|56131038|                 7612.86|                4827.33|                    0.0|              12440.19|             289.34|         Mar-2019|         Apr-2019|\n",
       "|56452581|                 25000.0|                5435.67|                    0.0|              30435.67|            2525.29|         Jun-2018|             null|\n",
       "|56685321|                 3839.84|                5116.89|                    0.0|              11211.31|             899.28|         Jun-2016|             null|\n",
       "|56563360|                14994.95|               14659.13|                    0.0|              29654.08|             690.34|         Mar-2019|         Apr-2019|\n",
       "|56533113|                 20000.0|                1319.02|                    0.0|              21319.02|           17901.73|         Feb-2016|             null|\n",
       "|56904118|                 5676.65|                1655.48|                    0.0|               7859.88|             317.69|         Jul-2017|             null|\n",
       "|56473361|                  4200.0|                1082.96|                    0.0|             5282.9614|              146.5|         Aug-2018|             null|\n",
       "|56021410|                  8625.0|                1813.75|                    0.0|             10438.753|            4946.24|         Mar-2017|             null|\n",
       "|56473332|                12225.62|                8790.03|                    0.0|              21015.65|             478.05|         Mar-2019|         Apr-2019|\n",
       "+--------+------------------------+-----------------------+-----------------------+----------------------+-------------------+-----------------+-----------------+\n",
       "only showing top 20 rows"
      ]
     },
     "execution_count": 40,
     "metadata": {},
     "output_type": "execute_result"
    }
   ],
   "source": [
    "loans_payments_ndate_fixed_df"
   ]
  },
  {
   "cell_type": "code",
   "execution_count": 41,
   "id": "8dc1d329",
   "metadata": {},
   "outputs": [],
   "source": [
    "loans_payments_ndate_fixed_df.write \\\n",
    ".option(\"header\",True) \\\n",
    ".format(\"csv\") \\\n",
    ".mode(\"overwrite\") \\\n",
    ".option(\"path\",\"lendingclubproject/cleaned/loans_repayment_csv\") \\\n",
    ".save()"
   ]
  },
  {
   "cell_type": "code",
   "execution_count": null,
   "id": "89f21483",
   "metadata": {},
   "outputs": [],
   "source": [
    "loans_payments_ndate_fixed_df.write \\\n",
    ".option(\"header\",True) \\\n",
    ".format(\"pa\") \\\n",
    ".mode(\"overwrite\") \\\n",
    ".option(\"path\",\"lendingclubproject/cleaned/loans_repayment_parquet\") \\\n",
    ".save()"
   ]
  }
 ],
 "metadata": {
  "kernelspec": {
   "display_name": "Pyspark 3",
   "language": "python",
   "name": "pyspark3"
  },
  "language_info": {
   "codemirror_mode": {
    "name": "ipython",
    "version": 3
   },
   "file_extension": ".py",
   "mimetype": "text/x-python",
   "name": "python",
   "nbconvert_exporter": "python",
   "pygments_lexer": "ipython3",
   "version": "3.6.12"
  }
 },
 "nbformat": 4,
 "nbformat_minor": 5
}
