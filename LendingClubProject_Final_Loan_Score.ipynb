{
 "cells": [
  {
   "cell_type": "code",
   "execution_count": 43,
   "id": "903fc6cc",
   "metadata": {},
   "outputs": [],
   "source": [
    "from pyspark.sql import SparkSession\n",
    "import getpass \n",
    "username=getpass.getuser()\n",
    "spark=SparkSession. \\\n",
    "    builder. \\\n",
    "    config('spark.ui.port','0'). \\\n",
    "    config(\"spark.sql.warehouse.dir\", f\"/user/{username}/warehouse\"). \\\n",
    "    config('spark.shuffle.useOldFetchProtocol', 'true'). \\\n",
    "    enableHiveSupport(). \\\n",
    "    master('yarn'). \\\n",
    "    getOrCreate()"
   ]
  },
  {
   "cell_type": "markdown",
   "id": "6433ecf4",
   "metadata": {},
   "source": [
    "# Associating points to the grades in order to calculate the Loan Score"
   ]
  },
  {
   "cell_type": "code",
   "execution_count": 44,
   "id": "81506a84",
   "metadata": {},
   "outputs": [],
   "source": [
    "spark.conf.set(\"spark.sql.unacceptable_rated_pts\", 0)\n",
    "spark.conf.set(\"spark.sql.very_bad_rated_pts\", 100)\n",
    "spark.conf.set(\"spark.sql.bad_rated_pts\", 250)\n",
    "spark.conf.set(\"spark.sql.good_rated_pts\", 500)\n",
    "spark.conf.set(\"spark.sql.very_good_rated_pts\", 650)\n",
    "spark.conf.set(\"spark.sql.excellent_rated_pts\", 800)"
   ]
  },
  {
   "cell_type": "code",
   "execution_count": 45,
   "id": "aa42eb08",
   "metadata": {},
   "outputs": [],
   "source": [
    "spark.conf.set(\"spark.sql.unacceptable_grade_pts\", 750)\n",
    "spark.conf.set(\"spark.sql.very_bad_grade_pts\", 1000)\n",
    "spark.conf.set(\"spark.sql.bad_grade_pts\", 1500)\n",
    "spark.conf.set(\"spark.sql.good_grade_pts\", 2000)\n",
    "spark.conf.set(\"spark.sql.very_good_grade_pts\", 2500)"
   ]
  },
  {
   "cell_type": "markdown",
   "id": "ca3c5025",
   "metadata": {},
   "source": [
    "# The tables required to calculate the Loan Score\n",
    "### customers_new\n",
    "\n",
    "### loans\n",
    "\n",
    "### loans_repayments\n",
    "\n",
    "### loans_defaulters_delinq_new\n",
    "\n",
    "### loans_defaulters_detail_rec_enq_new"
   ]
  },
  {
   "cell_type": "markdown",
   "id": "d05239c4",
   "metadata": {},
   "source": [
    "## Loan Score Calculation Criteria 1: Payment History(ph)"
   ]
  },
  {
   "cell_type": "code",
   "execution_count": 47,
   "id": "959a6aba",
   "metadata": {},
   "outputs": [],
   "source": [
    "bad_customer_data_final_df = spark.read \\\n",
    ".format(\"csv\") \\\n",
    ".option(\"header\", True) \\\n",
    ".option(\"inferSchema\", True) \\\n",
    ".load(\"/user/itv007473/lendingclubproject/bad/bad_customer_data_final\")"
   ]
  },
  {
   "cell_type": "code",
   "execution_count": 48,
   "id": "420f512a",
   "metadata": {},
   "outputs": [],
   "source": [
    "bad_customer_data_final_df.createOrReplaceTempView(\"bad_data_customer\")"
   ]
  },
  {
   "cell_type": "code",
   "execution_count": 49,
   "id": "858f1d43",
   "metadata": {},
   "outputs": [],
   "source": [
    "ph_df = spark.sql(\"\"\"select c.member_id,\n",
    "case \n",
    "   when p.last_payment_amount < (c.monthly_installment * 0.5) then ${spark.sql.very_bad_rated_pts} \n",
    "   when p.last_payment_amount >= (c.monthly_installment * 0.5) and p.last_payment_amount < c.monthly_installment then ${spark.sql.very_bad_rated_pts} \n",
    "   when (p.last_payment_amount = (c.monthly_installment)) then ${spark.sql.good_rated_pts} \n",
    "   when p.last_payment_amount > (c.monthly_installment) and p.last_payment_amount <= (c.monthly_installment * 1.50) then ${spark.sql.very_good_rated_pts} \n",
    "   when p.last_payment_amount > (c.monthly_installment * 1.50) then ${spark.sql.excellent_rated_pts} \n",
    "   else ${spark.sql.unacceptable_rated_pts} \n",
    "   end as last_payment_pts, \n",
    "case \n",
    "   when p.total_payment_received >= (c.funded_amount * 0.50) then ${spark.sql.very_good_rated_pts} \n",
    "   when p.total_payment_received < (c.funded_amount * 0.50) and p.total_payment_received > 0 then ${spark.sql.good_rated_pts} \n",
    "   when p.total_payment_received = 0 or (p.total_payment_received) is null then ${spark.sql.unacceptable_rated_pts} \n",
    "end as total_payment_pts \n",
    "   from itv007473_lending_club.loans_repayments p \n",
    "   inner join itv007473_lending_club.loans c on c.loan_id = p.loan_id where member_id NOT IN (select member_id from bad_data_customer)\"\"\")"
   ]
  },
  {
   "cell_type": "code",
   "execution_count": 51,
   "id": "b6b2b464",
   "metadata": {},
   "outputs": [
    {
     "data": {
      "text/html": [
       "<table border='1'>\n",
       "<tr><th>member_id</th><th>last_payment_pts</th><th>total_payment_pts</th></tr>\n",
       "<tr><td>dcec9334e70f1cc95...</td><td>800</td><td>650</td></tr>\n",
       "<tr><td>fc58ca61f51f9dcac...</td><td>500</td><td>650</td></tr>\n",
       "<tr><td>2fb62a6ca51063b11...</td><td>500</td><td>650</td></tr>\n",
       "<tr><td>488268a5531951622...</td><td>800</td><td>650</td></tr>\n",
       "<tr><td>ade6026208e48f5f9...</td><td>500</td><td>650</td></tr>\n",
       "<tr><td>7c8b0ca6acddfaeb1...</td><td>800</td><td>650</td></tr>\n",
       "<tr><td>a707b7fe7c38bad65...</td><td>800</td><td>650</td></tr>\n",
       "<tr><td>1df639cddea30c288...</td><td>800</td><td>650</td></tr>\n",
       "<tr><td>22d67005e12d8726d...</td><td>500</td><td>650</td></tr>\n",
       "<tr><td>009cf312bd46551b4...</td><td>500</td><td>650</td></tr>\n",
       "<tr><td>2d995d383622fa80e...</td><td>500</td><td>650</td></tr>\n",
       "<tr><td>88b97663d2562f239...</td><td>500</td><td>650</td></tr>\n",
       "<tr><td>097d871ba6f21ee37...</td><td>500</td><td>650</td></tr>\n",
       "<tr><td>82e698108e1b8b88a...</td><td>500</td><td>650</td></tr>\n",
       "<tr><td>9e89f004a01479234...</td><td>500</td><td>650</td></tr>\n",
       "<tr><td>28ea534e78570f8d1...</td><td>800</td><td>650</td></tr>\n",
       "<tr><td>27a6888d24e06f6e2...</td><td>500</td><td>650</td></tr>\n",
       "<tr><td>c0d144ae7ab17c793...</td><td>500</td><td>500</td></tr>\n",
       "<tr><td>56d1102515f7d6a32...</td><td>800</td><td>650</td></tr>\n",
       "<tr><td>ba484052baf1e604c...</td><td>800</td><td>650</td></tr>\n",
       "</table>\n",
       "only showing top 20 rows\n"
      ],
      "text/plain": [
       "DataFrame[member_id: string, last_payment_pts: int, total_payment_pts: int]"
      ]
     },
     "execution_count": 51,
     "metadata": {},
     "output_type": "execute_result"
    }
   ],
   "source": [
    "ph_df"
   ]
  },
  {
   "cell_type": "code",
   "execution_count": 53,
   "id": "7a480c92",
   "metadata": {},
   "outputs": [],
   "source": [
    "ph_df.createOrReplaceTempView(\"ph_pts\")"
   ]
  },
  {
   "cell_type": "code",
   "execution_count": 54,
   "id": "211af945",
   "metadata": {},
   "outputs": [
    {
     "data": {
      "text/html": [
       "<table border='1'>\n",
       "<tr><th>member_id</th><th>last_payment_pts</th><th>total_payment_pts</th></tr>\n",
       "<tr><td>dcec9334e70f1cc95...</td><td>800</td><td>650</td></tr>\n",
       "<tr><td>fc58ca61f51f9dcac...</td><td>500</td><td>650</td></tr>\n",
       "<tr><td>2fb62a6ca51063b11...</td><td>500</td><td>650</td></tr>\n",
       "<tr><td>488268a5531951622...</td><td>800</td><td>650</td></tr>\n",
       "<tr><td>ade6026208e48f5f9...</td><td>500</td><td>650</td></tr>\n",
       "<tr><td>7c8b0ca6acddfaeb1...</td><td>800</td><td>650</td></tr>\n",
       "<tr><td>a707b7fe7c38bad65...</td><td>800</td><td>650</td></tr>\n",
       "<tr><td>1df639cddea30c288...</td><td>800</td><td>650</td></tr>\n",
       "<tr><td>22d67005e12d8726d...</td><td>500</td><td>650</td></tr>\n",
       "<tr><td>009cf312bd46551b4...</td><td>500</td><td>650</td></tr>\n",
       "<tr><td>2d995d383622fa80e...</td><td>500</td><td>650</td></tr>\n",
       "<tr><td>88b97663d2562f239...</td><td>500</td><td>650</td></tr>\n",
       "<tr><td>097d871ba6f21ee37...</td><td>500</td><td>650</td></tr>\n",
       "<tr><td>82e698108e1b8b88a...</td><td>500</td><td>650</td></tr>\n",
       "<tr><td>9e89f004a01479234...</td><td>500</td><td>650</td></tr>\n",
       "<tr><td>28ea534e78570f8d1...</td><td>800</td><td>650</td></tr>\n",
       "<tr><td>27a6888d24e06f6e2...</td><td>500</td><td>650</td></tr>\n",
       "<tr><td>c0d144ae7ab17c793...</td><td>500</td><td>500</td></tr>\n",
       "<tr><td>56d1102515f7d6a32...</td><td>800</td><td>650</td></tr>\n",
       "<tr><td>ba484052baf1e604c...</td><td>800</td><td>650</td></tr>\n",
       "</table>\n",
       "only showing top 20 rows\n"
      ],
      "text/plain": [
       "+--------------------+----------------+-----------------+\n",
       "|           member_id|last_payment_pts|total_payment_pts|\n",
       "+--------------------+----------------+-----------------+\n",
       "|dcec9334e70f1cc95...|             800|              650|\n",
       "|fc58ca61f51f9dcac...|             500|              650|\n",
       "|2fb62a6ca51063b11...|             500|              650|\n",
       "|488268a5531951622...|             800|              650|\n",
       "|ade6026208e48f5f9...|             500|              650|\n",
       "|7c8b0ca6acddfaeb1...|             800|              650|\n",
       "|a707b7fe7c38bad65...|             800|              650|\n",
       "|1df639cddea30c288...|             800|              650|\n",
       "|22d67005e12d8726d...|             500|              650|\n",
       "|009cf312bd46551b4...|             500|              650|\n",
       "|2d995d383622fa80e...|             500|              650|\n",
       "|88b97663d2562f239...|             500|              650|\n",
       "|097d871ba6f21ee37...|             500|              650|\n",
       "|82e698108e1b8b88a...|             500|              650|\n",
       "|9e89f004a01479234...|             500|              650|\n",
       "|28ea534e78570f8d1...|             800|              650|\n",
       "|27a6888d24e06f6e2...|             500|              650|\n",
       "|c0d144ae7ab17c793...|             500|              500|\n",
       "|56d1102515f7d6a32...|             800|              650|\n",
       "|ba484052baf1e604c...|             800|              650|\n",
       "+--------------------+----------------+-----------------+\n",
       "only showing top 20 rows"
      ]
     },
     "execution_count": 54,
     "metadata": {},
     "output_type": "execute_result"
    }
   ],
   "source": [
    "spark.sql(\"select * from ph_pts\")"
   ]
  },
  {
   "cell_type": "markdown",
   "id": "d16f373a",
   "metadata": {},
   "source": [
    "## Loan Score Calculation Criteria 2: Loan Defaulters History(ldh)"
   ]
  },
  {
   "cell_type": "code",
   "execution_count": 10,
   "id": "e4f40b88",
   "metadata": {},
   "outputs": [],
   "source": [
    "ldh_ph_df = spark.sql(\n",
    "    \"select p.*, \\\n",
    "    CASE \\\n",
    "    WHEN d.delinq_2yrs = 0 THEN ${spark.sql.excellent_rated_pts} \\\n",
    "    WHEN d.delinq_2yrs BETWEEN 1 AND 2 THEN ${spark.sql.bad_rated_pts} \\\n",
    "    WHEN d.delinq_2yrs BETWEEN 3 AND 5 THEN ${spark.sql.very_bad_rated_pts} \\\n",
    "    WHEN d.delinq_2yrs > 5 OR d.delinq_2yrs IS NULL THEN ${spark.sql.unacceptable_grade_pts} \\\n",
    "    END AS delinq_pts, \\\n",
    "    CASE \\\n",
    "    WHEN l.pub_rec = 0 THEN ${spark.sql.excellent_rated_pts} \\\n",
    "    WHEN l.pub_rec BETWEEN 1 AND 2 THEN ${spark.sql.bad_rated_pts} \\\n",
    "    WHEN l.pub_rec BETWEEN 3 AND 5 THEN ${spark.sql.very_bad_rated_pts} \\\n",
    "    WHEN l.pub_rec > 5 OR l.pub_rec IS NULL THEN ${spark.sql.very_bad_rated_pts} \\\n",
    "    END AS public_records_pts, \\\n",
    "    CASE \\\n",
    "    WHEN l.pub_rec_bankruptcies = 0 THEN ${spark.sql.excellent_rated_pts} \\\n",
    "    WHEN l.pub_rec_bankruptcies BETWEEN 1 AND 2 THEN ${spark.sql.bad_rated_pts} \\\n",
    "    WHEN l.pub_rec_bankruptcies BETWEEN 3 AND 5 THEN ${spark.sql.very_bad_rated_pts} \\\n",
    "    WHEN l.pub_rec_bankruptcies > 5 OR l.pub_rec_bankruptcies IS NULL THEN ${spark.sql.very_bad_rated_pts} \\\n",
    "    END as public_bankruptcies_pts, \\\n",
    "    CASE \\\n",
    "    WHEN l.inq_last_6mths = 0 THEN ${spark.sql.excellent_rated_pts} \\\n",
    "    WHEN l.inq_last_6mths BETWEEN 1 AND 2 THEN ${spark.sql.bad_rated_pts} \\\n",
    "    WHEN l.inq_last_6mths BETWEEN 3 AND 5 THEN ${spark.sql.very_bad_rated_pts} \\\n",
    "    WHEN l.inq_last_6mths > 5 OR l.inq_last_6mths IS NULL THEN ${spark.sql.unacceptable_rated_pts} \\\n",
    "    END AS enq_pts \\\n",
    "    FROM itv007473_lending_club.loans_defaulters_detail_rec_enq_new l \\\n",
    "    INNER JOIN itv007473_lending_club.loans_defaulters_delinq_new d ON d.member_id = l.member_id  \\\n",
    "    INNER JOIN ph_pts p ON p.member_id = l.member_id where l.member_id NOT IN (select member_id from bad_data_customer)\")"
   ]
  },
  {
   "cell_type": "code",
   "execution_count": 11,
   "id": "1ddf4846",
   "metadata": {},
   "outputs": [],
   "source": [
    "ldh_ph_df.createOrReplaceTempView(\"ldh_ph_pts\")"
   ]
  },
  {
   "cell_type": "code",
   "execution_count": 12,
   "id": "c07abe60",
   "metadata": {},
   "outputs": [
    {
     "data": {
      "text/html": [
       "<table border='1'>\n",
       "<tr><th>member_id</th><th>last_payment_pts</th><th>total_payment_pts</th><th>delinq_pts</th><th>public_records_pts</th><th>public_bankruptcies_pts</th><th>enq_pts</th></tr>\n",
       "<tr><td>000c8875b71a6b47c...</td><td>800</td><td>650</td><td>250</td><td>800</td><td>800</td><td>800</td></tr>\n",
       "<tr><td>0012728d9f616bdf2...</td><td>500</td><td>500</td><td>800</td><td>800</td><td>800</td><td>800</td></tr>\n",
       "<tr><td>00151ece27c7ca280...</td><td>800</td><td>650</td><td>800</td><td>800</td><td>800</td><td>250</td></tr>\n",
       "<tr><td>003769d7f54c7859e...</td><td>500</td><td>500</td><td>250</td><td>800</td><td>800</td><td>800</td></tr>\n",
       "<tr><td>0037bb910c0a758f5...</td><td>500</td><td>500</td><td>800</td><td>800</td><td>800</td><td>800</td></tr>\n",
       "<tr><td>003e1e6cbd2920bbb...</td><td>500</td><td>650</td><td>250</td><td>250</td><td>250</td><td>800</td></tr>\n",
       "<tr><td>004017b21bd4d6271...</td><td>100</td><td>650</td><td>750</td><td>800</td><td>800</td><td>800</td></tr>\n",
       "<tr><td>005b4c3db3fce07dc...</td><td>500</td><td>650</td><td>250</td><td>250</td><td>800</td><td>250</td></tr>\n",
       "<tr><td>00710707c563c2119...</td><td>800</td><td>650</td><td>250</td><td>800</td><td>800</td><td>800</td></tr>\n",
       "<tr><td>007da79904f69970d...</td><td>800</td><td>650</td><td>250</td><td>800</td><td>800</td><td>800</td></tr>\n",
       "<tr><td>008515010997a80e1...</td><td>500</td><td>650</td><td>800</td><td>800</td><td>800</td><td>250</td></tr>\n",
       "<tr><td>009ccbe6fb66324d1...</td><td>500</td><td>650</td><td>800</td><td>800</td><td>800</td><td>800</td></tr>\n",
       "<tr><td>00d10706191726593...</td><td>800</td><td>650</td><td>800</td><td>800</td><td>800</td><td>250</td></tr>\n",
       "<tr><td>00da692a960ef39f1...</td><td>800</td><td>650</td><td>800</td><td>800</td><td>800</td><td>250</td></tr>\n",
       "<tr><td>00eb4bf9db783d8c2...</td><td>100</td><td>650</td><td>800</td><td>800</td><td>800</td><td>800</td></tr>\n",
       "<tr><td>00ec12e214988d8b3...</td><td>650</td><td>650</td><td>800</td><td>800</td><td>800</td><td>250</td></tr>\n",
       "<tr><td>00f435a80d0440ece...</td><td>500</td><td>500</td><td>100</td><td>800</td><td>800</td><td>800</td></tr>\n",
       "<tr><td>00fc2ae3ffb1213e4...</td><td>650</td><td>650</td><td>250</td><td>800</td><td>800</td><td>800</td></tr>\n",
       "<tr><td>00fc8144cb210ba8c...</td><td>500</td><td>650</td><td>250</td><td>250</td><td>250</td><td>800</td></tr>\n",
       "<tr><td>0110b7f5f4010cbaf...</td><td>800</td><td>650</td><td>800</td><td>800</td><td>800</td><td>250</td></tr>\n",
       "</table>\n",
       "only showing top 20 rows\n"
      ],
      "text/plain": [
       "+--------------------+----------------+-----------------+----------+------------------+-----------------------+-------+\n",
       "|           member_id|last_payment_pts|total_payment_pts|delinq_pts|public_records_pts|public_bankruptcies_pts|enq_pts|\n",
       "+--------------------+----------------+-----------------+----------+------------------+-----------------------+-------+\n",
       "|000c8875b71a6b47c...|             800|              650|       250|               800|                    800|    800|\n",
       "|0012728d9f616bdf2...|             500|              500|       800|               800|                    800|    800|\n",
       "|00151ece27c7ca280...|             800|              650|       800|               800|                    800|    250|\n",
       "|003769d7f54c7859e...|             500|              500|       250|               800|                    800|    800|\n",
       "|0037bb910c0a758f5...|             500|              500|       800|               800|                    800|    800|\n",
       "|003e1e6cbd2920bbb...|             500|              650|       250|               250|                    250|    800|\n",
       "|004017b21bd4d6271...|             100|              650|       750|               800|                    800|    800|\n",
       "|005b4c3db3fce07dc...|             500|              650|       250|               250|                    800|    250|\n",
       "|00710707c563c2119...|             800|              650|       250|               800|                    800|    800|\n",
       "|007da79904f69970d...|             800|              650|       250|               800|                    800|    800|\n",
       "|008515010997a80e1...|             500|              650|       800|               800|                    800|    250|\n",
       "|009ccbe6fb66324d1...|             500|              650|       800|               800|                    800|    800|\n",
       "|00d10706191726593...|             800|              650|       800|               800|                    800|    250|\n",
       "|00da692a960ef39f1...|             800|              650|       800|               800|                    800|    250|\n",
       "|00eb4bf9db783d8c2...|             100|              650|       800|               800|                    800|    800|\n",
       "|00ec12e214988d8b3...|             650|              650|       800|               800|                    800|    250|\n",
       "|00f435a80d0440ece...|             500|              500|       100|               800|                    800|    800|\n",
       "|00fc2ae3ffb1213e4...|             650|              650|       250|               800|                    800|    800|\n",
       "|00fc8144cb210ba8c...|             500|              650|       250|               250|                    250|    800|\n",
       "|0110b7f5f4010cbaf...|             800|              650|       800|               800|                    800|    250|\n",
       "+--------------------+----------------+-----------------+----------+------------------+-----------------------+-------+\n",
       "only showing top 20 rows"
      ]
     },
     "execution_count": 12,
     "metadata": {},
     "output_type": "execute_result"
    }
   ],
   "source": [
    "spark.sql(\"select * from ldh_ph_pts\")"
   ]
  },
  {
   "cell_type": "code",
   "execution_count": 13,
   "id": "7bb4ba68",
   "metadata": {},
   "outputs": [],
   "source": [
    "fh_ldh_ph_df = spark.sql(\"select ldef.*, \\\n",
    "   CASE \\\n",
    "   WHEN LOWER(l.loan_status) LIKE '%fully paid%' THEN ${spark.sql.excellent_rated_pts} \\\n",
    "   WHEN LOWER(l.loan_status) LIKE '%current%' THEN ${spark.sql.good_rated_pts} \\\n",
    "   WHEN LOWER(l.loan_status) LIKE '%in grace period%' THEN ${spark.sql.bad_rated_pts} \\\n",
    "   WHEN LOWER(l.loan_status) LIKE '%late (16-30 days)%' OR LOWER(l.loan_status) LIKE '%late (31-120 days)%' THEN ${spark.sql.very_bad_rated_pts} \\\n",
    "   WHEN LOWER(l.loan_status) LIKE '%charged off%' THEN ${spark.sql.unacceptable_rated_pts} \\\n",
    "   else ${spark.sql.unacceptable_rated_pts} \\\n",
    "   END AS loan_status_pts, \\\n",
    "   CASE \\\n",
    "   WHEN LOWER(a.home_ownership) LIKE '%own' THEN ${spark.sql.excellent_rated_pts} \\\n",
    "   WHEN LOWER(a.home_ownership) LIKE '%rent' THEN ${spark.sql.good_rated_pts} \\\n",
    "   WHEN LOWER(a.home_ownership) LIKE '%mortgage' THEN ${spark.sql.bad_rated_pts} \\\n",
    "   WHEN LOWER(a.home_ownership) LIKE '%any' OR LOWER(a.home_ownership) IS NULL THEN ${spark.sql.very_bad_rated_pts} \\\n",
    "   END AS home_pts, \\\n",
    "   CASE \\\n",
    "   WHEN l.funded_amount <= (a.total_high_credit_limit * 0.10) THEN ${spark.sql.excellent_rated_pts} \\\n",
    "   WHEN l.funded_amount > (a.total_high_credit_limit * 0.10) AND l.funded_amount <= (a.total_high_credit_limit * 0.20) THEN ${spark.sql.very_good_rated_pts} \\\n",
    "   WHEN l.funded_amount > (a.total_high_credit_limit * 0.20) AND l.funded_amount <= (a.total_high_credit_limit * 0.30) THEN ${spark.sql.good_rated_pts} \\\n",
    "   WHEN l.funded_amount > (a.total_high_credit_limit * 0.30) AND l.funded_amount <= (a.total_high_credit_limit * 0.50) THEN ${spark.sql.bad_rated_pts} \\\n",
    "   WHEN l.funded_amount > (a.total_high_credit_limit * 0.50) AND l.funded_amount <= (a.total_high_credit_limit * 0.70) THEN ${spark.sql.very_bad_rated_pts} \\\n",
    "   WHEN l.funded_amount > (a.total_high_credit_limit * 0.70) THEN ${spark.sql.unacceptable_rated_pts} \\\n",
    "   else ${spark.sql.unacceptable_rated_pts} \\\n",
    "   END AS credit_limit_pts, \\\n",
    "   CASE \\\n",
    "   WHEN (a.grade) = 'A' and (a.sub_grade)='A1' THEN ${spark.sql.excellent_rated_pts} \\\n",
    "   WHEN (a.grade) = 'A' and (a.sub_grade)='A2' THEN (${spark.sql.excellent_rated_pts} * 0.95) \\\n",
    "   WHEN (a.grade) = 'A' and (a.sub_grade)='A3' THEN (${spark.sql.excellent_rated_pts} * 0.90) \\\n",
    "   WHEN (a.grade) = 'A' and (a.sub_grade)='A4' THEN (${spark.sql.excellent_rated_pts} * 0.85) \\\n",
    "   WHEN (a.grade) = 'A' and (a.sub_grade)='A5' THEN (${spark.sql.excellent_rated_pts} * 0.80) \\\n",
    "   WHEN (a.grade) = 'B' and (a.sub_grade)='B1' THEN (${spark.sql.very_good_rated_pts}) \\\n",
    "   WHEN (a.grade) = 'B' and (a.sub_grade)='B2' THEN (${spark.sql.very_good_rated_pts} * 0.95) \\\n",
    "   WHEN (a.grade) = 'B' and (a.sub_grade)='B3' THEN (${spark.sql.very_good_rated_pts} * 0.90) \\\n",
    "   WHEN (a.grade) = 'B' and (a.sub_grade)='B4' THEN (${spark.sql.very_good_rated_pts} * 0.85) \\\n",
    "   WHEN (a.grade) = 'B' and (a.sub_grade)='B5' THEN (${spark.sql.very_good_rated_pts} * 0.80) \\\n",
    "   WHEN (a.grade) = 'C' and (a.sub_grade)='C1' THEN (${spark.sql.good_rated_pts}) \\\n",
    "   WHEN (a.grade) = 'C' and (a.sub_grade)='C2' THEN (${spark.sql.good_rated_pts} * 0.95) \\\n",
    "   WHEN (a.grade) = 'C' and (a.sub_grade)='C3' THEN (${spark.sql.good_rated_pts} * 0.90) \\\n",
    "   WHEN (a.grade) = 'C' and (a.sub_grade)='C4' THEN (${spark.sql.good_rated_pts} * 0.85) \\\n",
    "   WHEN (a.grade) = 'C' and (a.sub_grade)='C5' THEN (${spark.sql.good_rated_pts} * 0.80) \\\n",
    "   WHEN (a.grade) = 'D' and (a.sub_grade)='D1' THEN (${spark.sql.bad_rated_pts}) \\\n",
    "   WHEN (a.grade) = 'D' and (a.sub_grade)='D2' THEN (${spark.sql.bad_rated_pts} * 0.95) \\\n",
    "   WHEN (a.grade) = 'D' and (a.sub_grade)='D3' THEN (${spark.sql.bad_rated_pts} * 0.90) \\\n",
    "   WHEN (a.grade) = 'D' and (a.sub_grade)='D4' THEN (${spark.sql.bad_rated_pts} * 0.85) \\\n",
    "   WHEN (a.grade) = 'D' and (a.sub_grade)='D5' THEN (${spark.sql.bad_rated_pts} * 0.80) \\\n",
    "   WHEN (a.grade) = 'E' and (a.sub_grade)='E1' THEN (${spark.sql.very_bad_rated_pts}) \\\n",
    "   WHEN (a.grade) = 'E' and (a.sub_grade)='E2' THEN (${spark.sql.very_bad_rated_pts} * 0.95) \\\n",
    "   WHEN (a.grade) = 'E' and (a.sub_grade)='E3' THEN (${spark.sql.very_bad_rated_pts} * 0.90) \\\n",
    "   WHEN (a.grade) = 'E' and (a.sub_grade)='E4' THEN (${spark.sql.very_bad_rated_pts} * 0.85) \\\n",
    "   WHEN (a.grade) = 'E' and (a.sub_grade)='E5' THEN (${spark.sql.very_bad_rated_pts} * 0.80) \\\n",
    "   WHEN (a.grade) in ('F', 'G') THEN (${spark.sql.unacceptable_rated_pts}) \\\n",
    "   END AS grade_pts \\\n",
    "   FROM ldh_ph_pts ldef \\\n",
    "   INNER JOIN itv007473_lending_club.loans l ON ldef.member_id = l.member_id \\\n",
    "   INNER JOIN itv007473_lending_club.customers_new a ON a.member_id = ldef.member_id where ldef.member_id NOT IN (select member_id from bad_data_customer)\") "
   ]
  },
  {
   "cell_type": "code",
   "execution_count": 14,
   "id": "2e7e1861",
   "metadata": {},
   "outputs": [],
   "source": [
    "fh_ldh_ph_df.createOrReplaceTempView(\"fh_ldh_ph_pts\")"
   ]
  },
  {
   "cell_type": "markdown",
   "id": "08f7f60c",
   "metadata": {},
   "source": [
    "## Final loan score calculation by considering all the 3 criterias with the following %**\n",
    "### 1. Payment History = 20%\n",
    "### 2. Loan Defaults = 45%\n",
    "### 3. Financial Health = 35%"
   ]
  },
  {
   "cell_type": "code",
   "execution_count": 15,
   "id": "85c9d706",
   "metadata": {},
   "outputs": [],
   "source": [
    "loan_score = spark.sql(\"SELECT member_id, \\\n",
    "((last_payment_pts+total_payment_pts)*0.20) as payment_history_pts, \\\n",
    "((delinq_pts + public_records_pts + public_bankruptcies_pts + enq_pts) * 0.45) as defaulters_history_pts, \\\n",
    "((loan_status_pts + home_pts + credit_limit_pts + grade_pts)*0.35) as financial_health_pts \\\n",
    "FROM fh_ldh_ph_pts\")"
   ]
  },
  {
   "cell_type": "code",
   "execution_count": 16,
   "id": "ddacc6de",
   "metadata": {},
   "outputs": [
    {
     "data": {
      "text/html": [
       "<table border='1'>\n",
       "<tr><th>member_id</th><th>payment_history_pts</th><th>defaulters_history_pts</th><th>financial_health_pts</th></tr>\n",
       "<tr><td>000c8875b71a6b47c...</td><td>290.00</td><td>1192.50</td><td>885.5000</td></tr>\n",
       "<tr><td>0012728d9f616bdf2...</td><td>200.00</td><td>1440.00</td><td>766.5000</td></tr>\n",
       "<tr><td>00151ece27c7ca280...</td><td>290.00</td><td>1192.50</td><td>717.5000</td></tr>\n",
       "<tr><td>003769d7f54c7859e...</td><td>200.00</td><td>1192.50</td><td>402.5000</td></tr>\n",
       "<tr><td>0037bb910c0a758f5...</td><td>200.00</td><td>1440.00</td><td>787.5000</td></tr>\n",
       "<tr><td>003e1e6cbd2920bbb...</td><td>230.00</td><td>697.50</td><td>766.5000</td></tr>\n",
       "<tr><td>004017b21bd4d6271...</td><td>150.00</td><td>1417.50</td><td>822.5000</td></tr>\n",
       "<tr><td>005b4c3db3fce07dc...</td><td>230.00</td><td>697.50</td><td>619.5000</td></tr>\n",
       "<tr><td>00710707c563c2119...</td><td>290.00</td><td>1192.50</td><td>829.5000</td></tr>\n",
       "<tr><td>007da79904f69970d...</td><td>290.00</td><td>1192.50</td><td>822.5000</td></tr>\n",
       "<tr><td>008515010997a80e1...</td><td>230.00</td><td>1192.50</td><td>612.5000</td></tr>\n",
       "<tr><td>009ccbe6fb66324d1...</td><td>230.00</td><td>1440.00</td><td>455.0000</td></tr>\n",
       "<tr><td>00d10706191726593...</td><td>290.00</td><td>1192.50</td><td>691.2500</td></tr>\n",
       "<tr><td>00da692a960ef39f1...</td><td>290.00</td><td>1192.50</td><td>735.0000</td></tr>\n",
       "<tr><td>00eb4bf9db783d8c2...</td><td>150.00</td><td>1440.00</td><td>840.8750</td></tr>\n",
       "<tr><td>00ec12e214988d8b3...</td><td>260.00</td><td>1192.50</td><td>920.5000</td></tr>\n",
       "<tr><td>00f435a80d0440ece...</td><td>200.00</td><td>1125.00</td><td>708.7500</td></tr>\n",
       "<tr><td>00fc2ae3ffb1213e4...</td><td>260.00</td><td>1192.50</td><td>752.5000</td></tr>\n",
       "<tr><td>00fc8144cb210ba8c...</td><td>230.00</td><td>697.50</td><td>717.5000</td></tr>\n",
       "<tr><td>0110b7f5f4010cbaf...</td><td>290.00</td><td>1192.50</td><td>805.0000</td></tr>\n",
       "</table>\n",
       "only showing top 20 rows\n"
      ],
      "text/plain": [
       "+--------------------+-------------------+----------------------+--------------------+\n",
       "|           member_id|payment_history_pts|defaulters_history_pts|financial_health_pts|\n",
       "+--------------------+-------------------+----------------------+--------------------+\n",
       "|000c8875b71a6b47c...|             290.00|               1192.50|            885.5000|\n",
       "|0012728d9f616bdf2...|             200.00|               1440.00|            766.5000|\n",
       "|00151ece27c7ca280...|             290.00|               1192.50|            717.5000|\n",
       "|003769d7f54c7859e...|             200.00|               1192.50|            402.5000|\n",
       "|0037bb910c0a758f5...|             200.00|               1440.00|            787.5000|\n",
       "|003e1e6cbd2920bbb...|             230.00|                697.50|            766.5000|\n",
       "|004017b21bd4d6271...|             150.00|               1417.50|            822.5000|\n",
       "|005b4c3db3fce07dc...|             230.00|                697.50|            619.5000|\n",
       "|00710707c563c2119...|             290.00|               1192.50|            829.5000|\n",
       "|007da79904f69970d...|             290.00|               1192.50|            822.5000|\n",
       "|008515010997a80e1...|             230.00|               1192.50|            612.5000|\n",
       "|009ccbe6fb66324d1...|             230.00|               1440.00|            455.0000|\n",
       "|00d10706191726593...|             290.00|               1192.50|            691.2500|\n",
       "|00da692a960ef39f1...|             290.00|               1192.50|            735.0000|\n",
       "|00eb4bf9db783d8c2...|             150.00|               1440.00|            840.8750|\n",
       "|00ec12e214988d8b3...|             260.00|               1192.50|            920.5000|\n",
       "|00f435a80d0440ece...|             200.00|               1125.00|            708.7500|\n",
       "|00fc2ae3ffb1213e4...|             260.00|               1192.50|            752.5000|\n",
       "|00fc8144cb210ba8c...|             230.00|                697.50|            717.5000|\n",
       "|0110b7f5f4010cbaf...|             290.00|               1192.50|            805.0000|\n",
       "+--------------------+-------------------+----------------------+--------------------+\n",
       "only showing top 20 rows"
      ]
     },
     "execution_count": 16,
     "metadata": {},
     "output_type": "execute_result"
    }
   ],
   "source": [
    "loan_score"
   ]
  },
  {
   "cell_type": "code",
   "execution_count": 17,
   "id": "2f2244f6",
   "metadata": {},
   "outputs": [],
   "source": [
    "final_loan_score = loan_score.withColumn('loan_score', loan_score.payment_history_pts + loan_score.defaulters_history_pts + loan_score.financial_health_pts)"
   ]
  },
  {
   "cell_type": "code",
   "execution_count": 18,
   "id": "07b89cec",
   "metadata": {},
   "outputs": [],
   "source": [
    "final_loan_score.createOrReplaceTempView(\"loan_score_eval\")"
   ]
  },
  {
   "cell_type": "code",
   "execution_count": 19,
   "id": "f830009d",
   "metadata": {},
   "outputs": [],
   "source": [
    "loan_score_final = spark.sql(\"select ls.*, \\\n",
    "case \\\n",
    "WHEN loan_score > ${spark.sql.very_good_grade_pts} THEN 'A' \\\n",
    "WHEN loan_score <= ${spark.sql.very_good_grade_pts} AND loan_score > ${spark.sql.good_grade_pts} THEN 'B' \\\n",
    "WHEN loan_score <= ${spark.sql.good_grade_pts} AND loan_score > ${spark.sql.bad_grade_pts} THEN 'C' \\\n",
    "WHEN loan_score <= ${spark.sql.bad_grade_pts} AND loan_score  > ${spark.sql.very_bad_grade_pts} THEN 'D' \\\n",
    "WHEN loan_score <= ${spark.sql.very_bad_grade_pts} AND loan_score > ${spark.sql.unacceptable_grade_pts} THEN 'E'  \\\n",
    "WHEN loan_score <= ${spark.sql.unacceptable_grade_pts} THEN 'F' \\\n",
    "end as loan_final_grade \\\n",
    "from loan_score_eval ls\")"
   ]
  },
  {
   "cell_type": "code",
   "execution_count": 20,
   "id": "017fe2b9",
   "metadata": {},
   "outputs": [],
   "source": [
    "loan_score_final.createOrReplaceTempView(\"loan_final_table\")"
   ]
  },
  {
   "cell_type": "code",
   "execution_count": 21,
   "id": "3d2f2de5",
   "metadata": {},
   "outputs": [
    {
     "data": {
      "text/html": [
       "<table border='1'>\n",
       "<tr><th>member_id</th><th>payment_history_pts</th><th>defaulters_history_pts</th><th>financial_health_pts</th><th>loan_score</th><th>loan_final_grade</th></tr>\n",
       "<tr><td>003769d7f54c7859e...</td><td>200.00</td><td>1192.50</td><td>402.5000</td><td>1795.0000</td><td>C</td></tr>\n",
       "<tr><td>003e1e6cbd2920bbb...</td><td>230.00</td><td>697.50</td><td>766.5000</td><td>1694.0000</td><td>C</td></tr>\n",
       "<tr><td>005b4c3db3fce07dc...</td><td>230.00</td><td>697.50</td><td>619.5000</td><td>1547.0000</td><td>C</td></tr>\n",
       "<tr><td>00fc8144cb210ba8c...</td><td>230.00</td><td>697.50</td><td>717.5000</td><td>1645.0000</td><td>C</td></tr>\n",
       "<tr><td>0134d807fbc9e8ff8...</td><td>230.00</td><td>1192.50</td><td>553.0000</td><td>1975.5000</td><td>C</td></tr>\n",
       "<tr><td>013630bb77d0f3c6a...</td><td>290.00</td><td>1192.50</td><td>399.0000</td><td>1881.5000</td><td>C</td></tr>\n",
       "<tr><td>017ce564dc0d6f975...</td><td>200.00</td><td>945.00</td><td>591.5000</td><td>1736.5000</td><td>C</td></tr>\n",
       "<tr><td>01b48af926b98a718...</td><td>200.00</td><td>1192.50</td><td>573.1250</td><td>1965.6250</td><td>C</td></tr>\n",
       "<tr><td>01d0c48835e969a01...</td><td>200.00</td><td>1192.50</td><td>262.5000</td><td>1655.0000</td><td>C</td></tr>\n",
       "<tr><td>024f077b5b4e47ea0...</td><td>230.00</td><td>1192.50</td><td>437.5000</td><td>1860.0000</td><td>C</td></tr>\n",
       "<tr><td>025ae8414d0b7147c...</td><td>230.00</td><td>945.00</td><td>572.2500</td><td>1747.2500</td><td>C</td></tr>\n",
       "<tr><td>029423dc123d9d333...</td><td>150.00</td><td>877.50</td><td>819.0000</td><td>1846.5000</td><td>C</td></tr>\n",
       "<tr><td>02a0539a18ced4b50...</td><td>230.00</td><td>1192.50</td><td>395.5000</td><td>1818.0000</td><td>C</td></tr>\n",
       "<tr><td>02e3a8534a2a79acd...</td><td>290.00</td><td>697.50</td><td>756.8750</td><td>1744.3750</td><td>C</td></tr>\n",
       "<tr><td>02f69de1384fcf78c...</td><td>150.00</td><td>945.00</td><td>864.5000</td><td>1959.5000</td><td>C</td></tr>\n",
       "<tr><td>032503cc8f86dea72...</td><td>200.00</td><td>945.00</td><td>647.5000</td><td>1792.5000</td><td>C</td></tr>\n",
       "<tr><td>035a8c46279041682...</td><td>230.00</td><td>1192.50</td><td>507.5000</td><td>1930.0000</td><td>C</td></tr>\n",
       "<tr><td>03c814d2820c4f5ca...</td><td>200.00</td><td>1125.00</td><td>573.1250</td><td>1898.1250</td><td>C</td></tr>\n",
       "<tr><td>03d6087177fa468e7...</td><td>200.00</td><td>1192.50</td><td>520.6250</td><td>1913.1250</td><td>C</td></tr>\n",
       "<tr><td>0401f0eff7d188d40...</td><td>200.00</td><td>945.00</td><td>612.5000</td><td>1757.5000</td><td>C</td></tr>\n",
       "</table>\n",
       "only showing top 20 rows\n"
      ],
      "text/plain": [
       "+--------------------+-------------------+----------------------+--------------------+----------+----------------+\n",
       "|           member_id|payment_history_pts|defaulters_history_pts|financial_health_pts|loan_score|loan_final_grade|\n",
       "+--------------------+-------------------+----------------------+--------------------+----------+----------------+\n",
       "|003769d7f54c7859e...|             200.00|               1192.50|            402.5000| 1795.0000|               C|\n",
       "|003e1e6cbd2920bbb...|             230.00|                697.50|            766.5000| 1694.0000|               C|\n",
       "|005b4c3db3fce07dc...|             230.00|                697.50|            619.5000| 1547.0000|               C|\n",
       "|00fc8144cb210ba8c...|             230.00|                697.50|            717.5000| 1645.0000|               C|\n",
       "|0134d807fbc9e8ff8...|             230.00|               1192.50|            553.0000| 1975.5000|               C|\n",
       "|013630bb77d0f3c6a...|             290.00|               1192.50|            399.0000| 1881.5000|               C|\n",
       "|017ce564dc0d6f975...|             200.00|                945.00|            591.5000| 1736.5000|               C|\n",
       "|01b48af926b98a718...|             200.00|               1192.50|            573.1250| 1965.6250|               C|\n",
       "|01d0c48835e969a01...|             200.00|               1192.50|            262.5000| 1655.0000|               C|\n",
       "|024f077b5b4e47ea0...|             230.00|               1192.50|            437.5000| 1860.0000|               C|\n",
       "|025ae8414d0b7147c...|             230.00|                945.00|            572.2500| 1747.2500|               C|\n",
       "|029423dc123d9d333...|             150.00|                877.50|            819.0000| 1846.5000|               C|\n",
       "|02a0539a18ced4b50...|             230.00|               1192.50|            395.5000| 1818.0000|               C|\n",
       "|02e3a8534a2a79acd...|             290.00|                697.50|            756.8750| 1744.3750|               C|\n",
       "|02f69de1384fcf78c...|             150.00|                945.00|            864.5000| 1959.5000|               C|\n",
       "|032503cc8f86dea72...|             200.00|                945.00|            647.5000| 1792.5000|               C|\n",
       "|035a8c46279041682...|             230.00|               1192.50|            507.5000| 1930.0000|               C|\n",
       "|03c814d2820c4f5ca...|             200.00|               1125.00|            573.1250| 1898.1250|               C|\n",
       "|03d6087177fa468e7...|             200.00|               1192.50|            520.6250| 1913.1250|               C|\n",
       "|0401f0eff7d188d40...|             200.00|                945.00|            612.5000| 1757.5000|               C|\n",
       "+--------------------+-------------------+----------------------+--------------------+----------+----------------+\n",
       "only showing top 20 rows"
      ]
     },
     "execution_count": 21,
     "metadata": {},
     "output_type": "execute_result"
    }
   ],
   "source": [
    "spark.sql(\"select * from loan_final_table where loan_final_grade in ('C')\")"
   ]
  },
  {
   "cell_type": "code",
   "execution_count": 22,
   "id": "b61cf921",
   "metadata": {},
   "outputs": [
    {
     "data": {
      "text/html": [
       "<table border='1'>\n",
       "<tr><th>count(1)</th></tr>\n",
       "<tr><td>1102587</td></tr>\n",
       "</table>\n"
      ],
      "text/plain": [
       "+--------+\n",
       "|count(1)|\n",
       "+--------+\n",
       "| 1102587|\n",
       "+--------+"
      ]
     },
     "execution_count": 22,
     "metadata": {},
     "output_type": "execute_result"
    }
   ],
   "source": [
    "spark.sql(\"select count(*) from loan_final_table\")"
   ]
  },
  {
   "cell_type": "code",
   "execution_count": 23,
   "id": "0218973e",
   "metadata": {},
   "outputs": [],
   "source": [
    "loan_score_final.write \\\n",
    ".format(\"parquet\") \\\n",
    ".mode(\"overwrite\") \\\n",
    ".option(\"path\", \"/user/itv007473/lendingclubproject/processed/loan_score\") \\\n",
    ".save()"
   ]
  },
  {
   "cell_type": "code",
   "execution_count": null,
   "id": "a06fd00e",
   "metadata": {},
   "outputs": [],
   "source": []
  }
 ],
 "metadata": {
  "kernelspec": {
   "display_name": "Pyspark 3",
   "language": "python",
   "name": "pyspark3"
  },
  "language_info": {
   "codemirror_mode": {
    "name": "ipython",
    "version": 3
   },
   "file_extension": ".py",
   "mimetype": "text/x-python",
   "name": "python",
   "nbconvert_exporter": "python",
   "pygments_lexer": "ipython3",
   "version": "3.6.12"
  }
 },
 "nbformat": 4,
 "nbformat_minor": 5
}
