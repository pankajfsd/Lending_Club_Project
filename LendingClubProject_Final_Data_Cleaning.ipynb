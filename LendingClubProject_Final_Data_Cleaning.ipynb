{
 "cells": [
  {
   "cell_type": "code",
   "execution_count": 44,
   "id": "1711390a",
   "metadata": {},
   "outputs": [],
   "source": [
    "from pyspark.sql import SparkSession\n",
    "import getpass \n",
    "username=getpass.getuser()\n",
    "spark=SparkSession. \\\n",
    "    builder. \\\n",
    "    config('spark.ui.port','0'). \\\n",
    "    config(\"spark.sql.warehouse.dir\", f\"/user/{username}/warehouse\"). \\\n",
    "    config('spark.shuffle.useOldFetchProtocol', 'true'). \\\n",
    "    enableHiveSupport(). \\\n",
    "    master('yarn'). \\\n",
    "    getOrCreate()"
   ]
  },
  {
   "cell_type": "code",
   "execution_count": 45,
   "id": "26e82c1e",
   "metadata": {},
   "outputs": [
    {
     "data": {
      "text/html": [
       "<table border='1'>\n",
       "<tr><th>member_id</th><th>total</th></tr>\n",
       "<tr><td>e4c167053d5418230...</td><td>5</td></tr>\n",
       "<tr><td>76b577467eda5bdbc...</td><td>4</td></tr>\n",
       "<tr><td>ad8e5d384dae17e06...</td><td>4</td></tr>\n",
       "<tr><td>3f87585a20f702838...</td><td>4</td></tr>\n",
       "<tr><td>819453be77718d747...</td><td>3</td></tr>\n",
       "<tr><td>53789bea7edc660ed...</td><td>3</td></tr>\n",
       "<tr><td>035bf3d8288d803bd...</td><td>3</td></tr>\n",
       "<tr><td>059d401bb603d9a80...</td><td>3</td></tr>\n",
       "<tr><td>498bb6b1f0099cb47...</td><td>3</td></tr>\n",
       "<tr><td>5d52e7773cb0efff3...</td><td>3</td></tr>\n",
       "<tr><td>c563428cb58da48ff...</td><td>3</td></tr>\n",
       "<tr><td>3ae415acd6bbfaac1...</td><td>3</td></tr>\n",
       "<tr><td>c92062bb371842b3d...</td><td>3</td></tr>\n",
       "<tr><td>e7d8d16928817ec8f...</td><td>3</td></tr>\n",
       "<tr><td>291ca1b09ef11ca3e...</td><td>3</td></tr>\n",
       "<tr><td>a2356725aa9da92c6...</td><td>3</td></tr>\n",
       "<tr><td>4ab6205de571ccb7b...</td><td>3</td></tr>\n",
       "<tr><td>d3731bad3e6a82515...</td><td>3</td></tr>\n",
       "<tr><td>22593a1870543b2db...</td><td>3</td></tr>\n",
       "<tr><td>066ddaa64bee66dff...</td><td>3</td></tr>\n",
       "</table>\n",
       "only showing top 20 rows\n"
      ],
      "text/plain": [
       "+--------------------+-----+\n",
       "|           member_id|total|\n",
       "+--------------------+-----+\n",
       "|e4c167053d5418230...|    5|\n",
       "|76b577467eda5bdbc...|    4|\n",
       "|3f87585a20f702838...|    4|\n",
       "|ad8e5d384dae17e06...|    4|\n",
       "|a2356725aa9da92c6...|    3|\n",
       "|e7d8d16928817ec8f...|    3|\n",
       "|035bf3d8288d803bd...|    3|\n",
       "|22593a1870543b2db...|    3|\n",
       "|498bb6b1f0099cb47...|    3|\n",
       "|5d52e7773cb0efff3...|    3|\n",
       "|d9ce4046daf599732...|    3|\n",
       "|059d401bb603d9a80...|    3|\n",
       "|c92062bb371842b3d...|    3|\n",
       "|291ca1b09ef11ca3e...|    3|\n",
       "|819453be77718d747...|    3|\n",
       "|53789bea7edc660ed...|    3|\n",
       "|4ab6205de571ccb7b...|    3|\n",
       "|c563428cb58da48ff...|    3|\n",
       "|d3731bad3e6a82515...|    3|\n",
       "|3ae415acd6bbfaac1...|    3|\n",
       "+--------------------+-----+\n",
       "only showing top 20 rows"
      ]
     },
     "execution_count": 45,
     "metadata": {},
     "output_type": "execute_result"
    }
   ],
   "source": [
    "spark.sql(\"\"\"select member_id, count(*) as total \n",
    "from itv007473_lending_club.customers\n",
    "group by member_id order by total desc\n",
    "\"\"\")"
   ]
  },
  {
   "cell_type": "code",
   "execution_count": 46,
   "id": "86ac846d",
   "metadata": {},
   "outputs": [
    {
     "data": {
      "text/html": [
       "<table border='1'>\n",
       "<tr><th>member_id</th><th>emp_title</th><th>emp_length</th><th>home_ownership</th><th>annual_income</th><th>address_state</th><th>address_zipcode</th><th>address_country</th><th>grade</th><th>sub_grade</th><th>verification_status</th><th>total_high_credit_limit</th><th>application_type</th><th>join_annual_income</th><th>verification_status_joint</th><th>ingest_date</th></tr>\n",
       "<tr><td>e4c167053d5418230...</td><td>null</td><td>6</td><td>MORTGAGE</td><td>55000.0</td><td>IL</td><td>604xx</td><td>USA</td><td>B</td><td>B5</td><td>Verified</td><td>138780.0</td><td>Individual</td><td>null</td><td>null</td><td>2023-11-05 06:06:...</td></tr>\n",
       "<tr><td>e4c167053d5418230...</td><td>null</td><td>6</td><td>MORTGAGE</td><td>55000.0</td><td>IL</td><td>604xx</td><td>USA</td><td>B</td><td>B5</td><td>Verified</td><td>110907.0</td><td>Individual</td><td>null</td><td>null</td><td>2023-11-05 06:06:...</td></tr>\n",
       "<tr><td>e4c167053d5418230...</td><td>null</td><td>6</td><td>MORTGAGE</td><td>55000.0</td><td>IL</td><td>604xx</td><td>USA</td><td>B</td><td>B5</td><td>Verified</td><td>171165.0</td><td>Individual</td><td>null</td><td>null</td><td>2023-11-05 06:06:...</td></tr>\n",
       "<tr><td>e4c167053d5418230...</td><td>null</td><td>6</td><td>MORTGAGE</td><td>55000.0</td><td>IL</td><td>604xx</td><td>USA</td><td>B</td><td>B5</td><td>Verified</td><td>129833.0</td><td>Individual</td><td>null</td><td>null</td><td>2023-11-05 06:06:...</td></tr>\n",
       "<tr><td>e4c167053d5418230...</td><td>null</td><td>6</td><td>MORTGAGE</td><td>55000.0</td><td>IL</td><td>604xx</td><td>USA</td><td>B</td><td>B5</td><td>Verified</td><td>207300.0</td><td>Individual</td><td>null</td><td>null</td><td>2023-11-05 06:06:...</td></tr>\n",
       "</table>\n"
      ],
      "text/plain": [
       "+--------------------+---------+----------+--------------+-------------+-------------+---------------+---------------+-----+---------+-------------------+-----------------------+----------------+------------------+-------------------------+--------------------+\n",
       "|           member_id|emp_title|emp_length|home_ownership|annual_income|address_state|address_zipcode|address_country|grade|sub_grade|verification_status|total_high_credit_limit|application_type|join_annual_income|verification_status_joint|         ingest_date|\n",
       "+--------------------+---------+----------+--------------+-------------+-------------+---------------+---------------+-----+---------+-------------------+-----------------------+----------------+------------------+-------------------------+--------------------+\n",
       "|e4c167053d5418230...|     null|         6|      MORTGAGE|      55000.0|           IL|          604xx|            USA|    B|       B5|           Verified|               138780.0|      Individual|              null|                     null|2023-11-05 06:06:...|\n",
       "|e4c167053d5418230...|     null|         6|      MORTGAGE|      55000.0|           IL|          604xx|            USA|    B|       B5|           Verified|               110907.0|      Individual|              null|                     null|2023-11-05 06:06:...|\n",
       "|e4c167053d5418230...|     null|         6|      MORTGAGE|      55000.0|           IL|          604xx|            USA|    B|       B5|           Verified|               171165.0|      Individual|              null|                     null|2023-11-05 06:06:...|\n",
       "|e4c167053d5418230...|     null|         6|      MORTGAGE|      55000.0|           IL|          604xx|            USA|    B|       B5|           Verified|               129833.0|      Individual|              null|                     null|2023-11-05 06:06:...|\n",
       "|e4c167053d5418230...|     null|         6|      MORTGAGE|      55000.0|           IL|          604xx|            USA|    B|       B5|           Verified|               207300.0|      Individual|              null|                     null|2023-11-05 06:06:...|\n",
       "+--------------------+---------+----------+--------------+-------------+-------------+---------------+---------------+-----+---------+-------------------+-----------------------+----------------+------------------+-------------------------+--------------------+"
      ]
     },
     "execution_count": 46,
     "metadata": {},
     "output_type": "execute_result"
    }
   ],
   "source": [
    "spark.sql(\"\"\"select * from itv007473_lending_club.customers \n",
    "where member_id like 'e4c167053d5418230%'\"\"\")"
   ]
  },
  {
   "cell_type": "code",
   "execution_count": 4,
   "id": "0c067485",
   "metadata": {},
   "outputs": [
    {
     "data": {
      "text/html": [
       "<table border='1'>\n",
       "<tr><th>member_id</th><th>total</th></tr>\n",
       "<tr><td>1f392553105eebc55...</td><td>3</td></tr>\n",
       "<tr><td>bca141343d9405a9a...</td><td>3</td></tr>\n",
       "<tr><td>41d36a5e709d6218a...</td><td>3</td></tr>\n",
       "<tr><td>ee2d0dd6ad9e048b8...</td><td>3</td></tr>\n",
       "<tr><td>793b618a7de10f813...</td><td>3</td></tr>\n",
       "<tr><td>6f88761291d14b65e...</td><td>3</td></tr>\n",
       "<tr><td>9240fa4e744ff0846...</td><td>3</td></tr>\n",
       "<tr><td>b67f4aa39e82954f2...</td><td>3</td></tr>\n",
       "<tr><td>e4c167053d5418230...</td><td>3</td></tr>\n",
       "<tr><td>e1f91eb87353347fd...</td><td>2</td></tr>\n",
       "<tr><td>675151e58a628e87b...</td><td>2</td></tr>\n",
       "<tr><td>a53e2f488d2d76a30...</td><td>2</td></tr>\n",
       "<tr><td>d4782ddad8591f44d...</td><td>2</td></tr>\n",
       "<tr><td>f99c6e9cfe3a7a2d2...</td><td>2</td></tr>\n",
       "<tr><td>cd1fdca829c443fa7...</td><td>2</td></tr>\n",
       "<tr><td>e884f4108b3c6b1f4...</td><td>2</td></tr>\n",
       "<tr><td>8d2c605c7ad9209cc...</td><td>2</td></tr>\n",
       "<tr><td>22593a1870543b2db...</td><td>2</td></tr>\n",
       "<tr><td>0fa3654dfc604c1d4...</td><td>2</td></tr>\n",
       "<tr><td>3b94fbab00b7a0ec4...</td><td>2</td></tr>\n",
       "</table>\n",
       "only showing top 20 rows\n"
      ],
      "text/plain": [
       "+--------------------+-----+\n",
       "|           member_id|total|\n",
       "+--------------------+-----+\n",
       "|1f392553105eebc55...|    3|\n",
       "|bca141343d9405a9a...|    3|\n",
       "|41d36a5e709d6218a...|    3|\n",
       "|ee2d0dd6ad9e048b8...|    3|\n",
       "|793b618a7de10f813...|    3|\n",
       "|6f88761291d14b65e...|    3|\n",
       "|9240fa4e744ff0846...|    3|\n",
       "|b67f4aa39e82954f2...|    3|\n",
       "|e4c167053d5418230...|    3|\n",
       "|675151e58a628e87b...|    2|\n",
       "|cd1fdca829c443fa7...|    2|\n",
       "|bbe43331566910d55...|    2|\n",
       "|cbede54df344cdb94...|    2|\n",
       "|827a048c072fb44b0...|    2|\n",
       "|4273588c35c7b7f40...|    2|\n",
       "|e884f4108b3c6b1f4...|    2|\n",
       "|8d2c605c7ad9209cc...|    2|\n",
       "|22593a1870543b2db...|    2|\n",
       "|0fa3654dfc604c1d4...|    2|\n",
       "|3b94fbab00b7a0ec4...|    2|\n",
       "+--------------------+-----+\n",
       "only showing top 20 rows"
      ]
     },
     "execution_count": 4,
     "metadata": {},
     "output_type": "execute_result"
    }
   ],
   "source": [
    "spark.sql(\"\"\"select member_id, count(*) as total \n",
    "from itv007473_lending_club.loans_defaulters_delinq\n",
    "group by member_id order by total desc\n",
    "\"\"\")"
   ]
  },
  {
   "cell_type": "code",
   "execution_count": 5,
   "id": "51608702",
   "metadata": {},
   "outputs": [
    {
     "data": {
      "text/html": [
       "<table border='1'>\n",
       "<tr><th>member_id</th><th>delinq_2yrs</th><th>delinq_amnt</th><th>mths_since_last_delinq</th></tr>\n",
       "<tr><td>e4c167053d5418230...</td><td>3</td><td>0.0</td><td>13</td></tr>\n",
       "<tr><td>e4c167053d5418230...</td><td>1</td><td>0.0</td><td>16</td></tr>\n",
       "<tr><td>e4c167053d5418230...</td><td>1</td><td>0.0</td><td>37</td></tr>\n",
       "</table>\n"
      ],
      "text/plain": [
       "+--------------------+-----------+-----------+----------------------+\n",
       "|           member_id|delinq_2yrs|delinq_amnt|mths_since_last_delinq|\n",
       "+--------------------+-----------+-----------+----------------------+\n",
       "|e4c167053d5418230...|          3|        0.0|                    13|\n",
       "|e4c167053d5418230...|          1|        0.0|                    16|\n",
       "|e4c167053d5418230...|          1|        0.0|                    37|\n",
       "+--------------------+-----------+-----------+----------------------+"
      ]
     },
     "execution_count": 5,
     "metadata": {},
     "output_type": "execute_result"
    }
   ],
   "source": [
    "spark.sql(\"\"\"select * from itv007473_lending_club.loans_defaulters_delinq\n",
    "where member_id like 'e4c167053d5418230%'\"\"\")"
   ]
  },
  {
   "cell_type": "code",
   "execution_count": 6,
   "id": "ce65201b",
   "metadata": {},
   "outputs": [
    {
     "data": {
      "text/html": [
       "<table border='1'>\n",
       "<tr><th>member_id</th><th>total</th></tr>\n",
       "<tr><td>e3b0c44298fc1c149...</td><td>33</td></tr>\n",
       "<tr><td>e4c167053d5418230...</td><td>5</td></tr>\n",
       "<tr><td>76b577467eda5bdbc...</td><td>4</td></tr>\n",
       "<tr><td>ad8e5d384dae17e06...</td><td>4</td></tr>\n",
       "<tr><td>3f87585a20f702838...</td><td>4</td></tr>\n",
       "<tr><td>22593a1870543b2db...</td><td>3</td></tr>\n",
       "<tr><td>53789bea7edc660ed...</td><td>3</td></tr>\n",
       "<tr><td>f9fc581aae696e0bd...</td><td>3</td></tr>\n",
       "<tr><td>c92062bb371842b3d...</td><td>3</td></tr>\n",
       "<tr><td>498bb6b1f0099cb47...</td><td>3</td></tr>\n",
       "<tr><td>c563428cb58da48ff...</td><td>3</td></tr>\n",
       "<tr><td>d9ce4046daf599732...</td><td>3</td></tr>\n",
       "<tr><td>3ae415acd6bbfaac1...</td><td>3</td></tr>\n",
       "<tr><td>291ca1b09ef11ca3e...</td><td>3</td></tr>\n",
       "<tr><td>819453be77718d747...</td><td>3</td></tr>\n",
       "<tr><td>5d52e7773cb0efff3...</td><td>3</td></tr>\n",
       "<tr><td>4ab6205de571ccb7b...</td><td>3</td></tr>\n",
       "<tr><td>d3731bad3e6a82515...</td><td>3</td></tr>\n",
       "<tr><td>035bf3d8288d803bd...</td><td>3</td></tr>\n",
       "<tr><td>f54295a60946dedad...</td><td>3</td></tr>\n",
       "</table>\n",
       "only showing top 20 rows\n"
      ],
      "text/plain": [
       "+--------------------+-----+\n",
       "|           member_id|total|\n",
       "+--------------------+-----+\n",
       "|e3b0c44298fc1c149...|   33|\n",
       "|e4c167053d5418230...|    5|\n",
       "|ad8e5d384dae17e06...|    4|\n",
       "|3f87585a20f702838...|    4|\n",
       "|76b577467eda5bdbc...|    4|\n",
       "|c92062bb371842b3d...|    3|\n",
       "|22593a1870543b2db...|    3|\n",
       "|035bf3d8288d803bd...|    3|\n",
       "|066ddaa64bee66dff...|    3|\n",
       "|291ca1b09ef11ca3e...|    3|\n",
       "|5d52e7773cb0efff3...|    3|\n",
       "|d3731bad3e6a82515...|    3|\n",
       "|53789bea7edc660ed...|    3|\n",
       "|3ae415acd6bbfaac1...|    3|\n",
       "|e7d8d16928817ec8f...|    3|\n",
       "|a2356725aa9da92c6...|    3|\n",
       "|498bb6b1f0099cb47...|    3|\n",
       "|4ab6205de571ccb7b...|    3|\n",
       "|c563428cb58da48ff...|    3|\n",
       "|059d401bb603d9a80...|    3|\n",
       "+--------------------+-----+\n",
       "only showing top 20 rows"
      ]
     },
     "execution_count": 6,
     "metadata": {},
     "output_type": "execute_result"
    }
   ],
   "source": [
    "spark.sql(\"\"\"select member_id, count(*) as total \n",
    "from itv007473_lending_club.loans_defaulters_detail_rec_enq\n",
    "group by member_id order by total desc\n",
    "\"\"\")"
   ]
  },
  {
   "cell_type": "code",
   "execution_count": 7,
   "id": "493d7fae",
   "metadata": {},
   "outputs": [
    {
     "data": {
      "text/html": [
       "<table border='1'>\n",
       "<tr><th>member_id</th><th>pub_rec</th><th>pub_rec_bankruptcies</th><th>inq_last_6mths</th></tr>\n",
       "<tr><td>e4c167053d5418230...</td><td>0</td><td>0</td><td>0</td></tr>\n",
       "<tr><td>e4c167053d5418230...</td><td>0</td><td>0</td><td>3</td></tr>\n",
       "<tr><td>e4c167053d5418230...</td><td>0</td><td>0</td><td>2</td></tr>\n",
       "<tr><td>e4c167053d5418230...</td><td>0</td><td>0</td><td>1</td></tr>\n",
       "<tr><td>e4c167053d5418230...</td><td>0</td><td>0</td><td>0</td></tr>\n",
       "</table>\n"
      ],
      "text/plain": [
       "+--------------------+-------+--------------------+--------------+\n",
       "|           member_id|pub_rec|pub_rec_bankruptcies|inq_last_6mths|\n",
       "+--------------------+-------+--------------------+--------------+\n",
       "|e4c167053d5418230...|      0|                   0|             0|\n",
       "|e4c167053d5418230...|      0|                   0|             3|\n",
       "|e4c167053d5418230...|      0|                   0|             2|\n",
       "|e4c167053d5418230...|      0|                   0|             1|\n",
       "|e4c167053d5418230...|      0|                   0|             0|\n",
       "+--------------------+-------+--------------------+--------------+"
      ]
     },
     "execution_count": 7,
     "metadata": {},
     "output_type": "execute_result"
    }
   ],
   "source": [
    "spark.sql(\"\"\"select * from itv007473_lending_club.loans_defaulters_detail_rec_enq\n",
    "where member_id like 'e4c167053d5418230%'\"\"\")"
   ]
  },
  {
   "cell_type": "markdown",
   "id": "9c0d75ef",
   "metadata": {},
   "source": [
    "### Filtering out member_id more than 1"
   ]
  },
  {
   "cell_type": "code",
   "execution_count": 47,
   "id": "9b87fadc",
   "metadata": {},
   "outputs": [],
   "source": [
    "bad_data_customer_df=spark.sql(\"\"\"select member_id from (select member_id, count(*) as total\n",
    "from itv007473_lending_club.customers\n",
    "group by member_id having total>1)\"\"\")"
   ]
  },
  {
   "cell_type": "code",
   "execution_count": 13,
   "id": "93edcbf2",
   "metadata": {},
   "outputs": [
    {
     "data": {
      "text/plain": [
       "3157"
      ]
     },
     "execution_count": 13,
     "metadata": {},
     "output_type": "execute_result"
    }
   ],
   "source": [
    "bad_data_customer_df.count()"
   ]
  },
  {
   "cell_type": "code",
   "execution_count": 14,
   "id": "9deb4d1d",
   "metadata": {},
   "outputs": [
    {
     "data": {
      "text/html": [
       "<table border='1'>\n",
       "<tr><th>member_id</th></tr>\n",
       "<tr><td>f99c6e9cfe3a7a2d2...</td></tr>\n",
       "<tr><td>fc0e468bff11ac7c3...</td></tr>\n",
       "<tr><td>d4782ddad8591f44d...</td></tr>\n",
       "<tr><td>cd1fdca829c443fa7...</td></tr>\n",
       "<tr><td>a2af7506825a7dcff...</td></tr>\n",
       "<tr><td>5130d0087970e032e...</td></tr>\n",
       "<tr><td>a53e2f488d2d76a30...</td></tr>\n",
       "<tr><td>761b2f1e61999e14e...</td></tr>\n",
       "<tr><td>3b8ffe19f24749a73...</td></tr>\n",
       "<tr><td>cbede54df344cdb94...</td></tr>\n",
       "<tr><td>7115ace193e13d8f3...</td></tr>\n",
       "<tr><td>eebbd89aa7efc13e7...</td></tr>\n",
       "<tr><td>2bae2e4dd6d5f2b21...</td></tr>\n",
       "<tr><td>01b2223757c3b62e7...</td></tr>\n",
       "<tr><td>675151e58a628e87b...</td></tr>\n",
       "<tr><td>f284044b881f218c0...</td></tr>\n",
       "<tr><td>4231a55d0199c619a...</td></tr>\n",
       "<tr><td>61be6498c93cadf89...</td></tr>\n",
       "<tr><td>d34249ef84980fb46...</td></tr>\n",
       "<tr><td>e884f4108b3c6b1f4...</td></tr>\n",
       "</table>\n",
       "only showing top 20 rows\n"
      ],
      "text/plain": [
       "+--------------------+\n",
       "|           member_id|\n",
       "+--------------------+\n",
       "|fc0e468bff11ac7c3...|\n",
       "|cd1fdca829c443fa7...|\n",
       "|cbede54df344cdb94...|\n",
       "|61be6498c93cadf89...|\n",
       "|4231a55d0199c619a...|\n",
       "|2bae2e4dd6d5f2b21...|\n",
       "|01b2223757c3b62e7...|\n",
       "|3b8ffe19f24749a73...|\n",
       "|675151e58a628e87b...|\n",
       "|eebbd89aa7efc13e7...|\n",
       "|f284044b881f218c0...|\n",
       "|7115ace193e13d8f3...|\n",
       "|761b2f1e61999e14e...|\n",
       "|5130d0087970e032e...|\n",
       "|f99c6e9cfe3a7a2d2...|\n",
       "|a2af7506825a7dcff...|\n",
       "|a53e2f488d2d76a30...|\n",
       "|d4782ddad8591f44d...|\n",
       "|e61af5f79c2480a8b...|\n",
       "|d12c5766068d3b377...|\n",
       "+--------------------+\n",
       "only showing top 20 rows"
      ]
     },
     "execution_count": 14,
     "metadata": {},
     "output_type": "execute_result"
    }
   ],
   "source": [
    "bad_data_customer_df"
   ]
  },
  {
   "cell_type": "code",
   "execution_count": 48,
   "id": "050242fe",
   "metadata": {},
   "outputs": [],
   "source": [
    "bad_data_loans_defaulters_delinq_df = spark.sql(\"\"\"select member_id, count(*)\n",
    "as total from itv007473_lending_club.loans_defaulters_delinq\n",
    "group by member_id having total > 1\"\"\")"
   ]
  },
  {
   "cell_type": "code",
   "execution_count": 24,
   "id": "556dffe1",
   "metadata": {},
   "outputs": [
    {
     "data": {
      "text/plain": [
       "939"
      ]
     },
     "execution_count": 24,
     "metadata": {},
     "output_type": "execute_result"
    }
   ],
   "source": [
    "bad_data_loans_defaulters_delinq_df.count()"
   ]
  },
  {
   "cell_type": "code",
   "execution_count": 17,
   "id": "47ddd2f1",
   "metadata": {},
   "outputs": [
    {
     "data": {
      "text/html": [
       "<table border='1'>\n",
       "<tr><th>member_id</th></tr>\n",
       "<tr><td>cbede54df344cdb94...</td></tr>\n",
       "<tr><td>cd1fdca829c443fa7...</td></tr>\n",
       "<tr><td>675151e58a628e87b...</td></tr>\n",
       "<tr><td>f99c6e9cfe3a7a2d2...</td></tr>\n",
       "<tr><td>a53e2f488d2d76a30...</td></tr>\n",
       "<tr><td>d4782ddad8591f44d...</td></tr>\n",
       "<tr><td>7115ace193e13d8f3...</td></tr>\n",
       "<tr><td>759c2dc5f485e5465...</td></tr>\n",
       "<tr><td>22593a1870543b2db...</td></tr>\n",
       "<tr><td>0fa3654dfc604c1d4...</td></tr>\n",
       "<tr><td>8d2c605c7ad9209cc...</td></tr>\n",
       "<tr><td>3b94fbab00b7a0ec4...</td></tr>\n",
       "<tr><td>d34249ef84980fb46...</td></tr>\n",
       "<tr><td>48846377688c803fa...</td></tr>\n",
       "<tr><td>e884f4108b3c6b1f4...</td></tr>\n",
       "<tr><td>4273588c35c7b7f40...</td></tr>\n",
       "<tr><td>bbe43331566910d55...</td></tr>\n",
       "<tr><td>827a048c072fb44b0...</td></tr>\n",
       "<tr><td>e1f91eb87353347fd...</td></tr>\n",
       "<tr><td>2a9775bb297d8d183...</td></tr>\n",
       "</table>\n",
       "only showing top 20 rows\n"
      ],
      "text/plain": [
       "+--------------------+\n",
       "|           member_id|\n",
       "+--------------------+\n",
       "|675151e58a628e87b...|\n",
       "|a53e2f488d2d76a30...|\n",
       "|7115ace193e13d8f3...|\n",
       "|d4782ddad8591f44d...|\n",
       "|cbede54df344cdb94...|\n",
       "|cd1fdca829c443fa7...|\n",
       "|f99c6e9cfe3a7a2d2...|\n",
       "|759c2dc5f485e5465...|\n",
       "|22593a1870543b2db...|\n",
       "|0fa3654dfc604c1d4...|\n",
       "|8d2c605c7ad9209cc...|\n",
       "|3b94fbab00b7a0ec4...|\n",
       "|d34249ef84980fb46...|\n",
       "|48846377688c803fa...|\n",
       "|e884f4108b3c6b1f4...|\n",
       "|4273588c35c7b7f40...|\n",
       "|bbe43331566910d55...|\n",
       "|827a048c072fb44b0...|\n",
       "|e1f91eb87353347fd...|\n",
       "|2a9775bb297d8d183...|\n",
       "+--------------------+\n",
       "only showing top 20 rows"
      ]
     },
     "execution_count": 17,
     "metadata": {},
     "output_type": "execute_result"
    }
   ],
   "source": [
    "bad_data_loans_defaulters_delinq_df"
   ]
  },
  {
   "cell_type": "code",
   "execution_count": 28,
   "id": "87445d62",
   "metadata": {},
   "outputs": [
    {
     "data": {
      "text/html": [
       "<table border='1'>\n",
       "<tr><th>member_id</th><th>delinq_2yrs</th><th>delinq_amnt</th><th>mths_since_last_delinq</th></tr>\n",
       "<tr><td>ac9a3da3b89f9228e...</td><td>1</td><td>0.0</td><td>9</td></tr>\n",
       "<tr><td>ac9a3da3b89f9228e...</td><td>1</td><td>0.0</td><td>21</td></tr>\n",
       "</table>\n"
      ],
      "text/plain": [
       "+--------------------+-----------+-----------+----------------------+\n",
       "|           member_id|delinq_2yrs|delinq_amnt|mths_since_last_delinq|\n",
       "+--------------------+-----------+-----------+----------------------+\n",
       "|ac9a3da3b89f9228e...|          1|        0.0|                     9|\n",
       "|ac9a3da3b89f9228e...|          1|        0.0|                    21|\n",
       "+--------------------+-----------+-----------+----------------------+"
      ]
     },
     "execution_count": 28,
     "metadata": {},
     "output_type": "execute_result"
    }
   ],
   "source": [
    "spark.sql(\"\"\"select * from itv007473_lending_club.loans_defaulters_delinq \n",
    "where member_id like 'ac9a3da3b89f9228e%'\"\"\")"
   ]
  },
  {
   "cell_type": "code",
   "execution_count": 49,
   "id": "90dacbc4",
   "metadata": {},
   "outputs": [],
   "source": [
    "bad_data_loans_defaulters_detail_rec_enq_df = spark.sql(\"\"\"select member_id from(select member_id, count(*)\n",
    "as total from itv007473_lending_club.loans_defaulters_detail_rec_enq\n",
    "group by member_id having total > 1)\"\"\")"
   ]
  },
  {
   "cell_type": "code",
   "execution_count": 30,
   "id": "ff1fb325",
   "metadata": {},
   "outputs": [
    {
     "data": {
      "text/plain": [
       "3189"
      ]
     },
     "execution_count": 30,
     "metadata": {},
     "output_type": "execute_result"
    }
   ],
   "source": [
    "bad_data_loans_defaulters_detail_rec_enq_df.count()"
   ]
  },
  {
   "cell_type": "code",
   "execution_count": 31,
   "id": "04c197aa",
   "metadata": {},
   "outputs": [
    {
     "data": {
      "text/html": [
       "<table border='1'>\n",
       "<tr><th>member_id</th></tr>\n",
       "<tr><td>675151e58a628e87b...</td></tr>\n",
       "<tr><td>f284044b881f218c0...</td></tr>\n",
       "<tr><td>a53e2f488d2d76a30...</td></tr>\n",
       "<tr><td>fc0e468bff11ac7c3...</td></tr>\n",
       "<tr><td>61be6498c93cadf89...</td></tr>\n",
       "<tr><td>7115ace193e13d8f3...</td></tr>\n",
       "<tr><td>eebbd89aa7efc13e7...</td></tr>\n",
       "<tr><td>01b2223757c3b62e7...</td></tr>\n",
       "<tr><td>a2af7506825a7dcff...</td></tr>\n",
       "<tr><td>d4782ddad8591f44d...</td></tr>\n",
       "<tr><td>5130d0087970e032e...</td></tr>\n",
       "<tr><td>761b2f1e61999e14e...</td></tr>\n",
       "<tr><td>cbede54df344cdb94...</td></tr>\n",
       "<tr><td>cd1fdca829c443fa7...</td></tr>\n",
       "<tr><td>4231a55d0199c619a...</td></tr>\n",
       "<tr><td>f99c6e9cfe3a7a2d2...</td></tr>\n",
       "<tr><td>3b8ffe19f24749a73...</td></tr>\n",
       "<tr><td>2bae2e4dd6d5f2b21...</td></tr>\n",
       "<tr><td>759c2dc5f485e5465...</td></tr>\n",
       "<tr><td>53789bea7edc660ed...</td></tr>\n",
       "</table>\n",
       "only showing top 20 rows\n"
      ],
      "text/plain": [
       "+--------------------+\n",
       "|           member_id|\n",
       "+--------------------+\n",
       "|cbede54df344cdb94...|\n",
       "|cd1fdca829c443fa7...|\n",
       "|4231a55d0199c619a...|\n",
       "|675151e58a628e87b...|\n",
       "|01b2223757c3b62e7...|\n",
       "|f99c6e9cfe3a7a2d2...|\n",
       "|a53e2f488d2d76a30...|\n",
       "|a2af7506825a7dcff...|\n",
       "|d4782ddad8591f44d...|\n",
       "|5130d0087970e032e...|\n",
       "|3b8ffe19f24749a73...|\n",
       "|fc0e468bff11ac7c3...|\n",
       "|2bae2e4dd6d5f2b21...|\n",
       "|61be6498c93cadf89...|\n",
       "|761b2f1e61999e14e...|\n",
       "|f284044b881f218c0...|\n",
       "|7115ace193e13d8f3...|\n",
       "|eebbd89aa7efc13e7...|\n",
       "|759c2dc5f485e5465...|\n",
       "|53789bea7edc660ed...|\n",
       "+--------------------+\n",
       "only showing top 20 rows"
      ]
     },
     "execution_count": 31,
     "metadata": {},
     "output_type": "execute_result"
    }
   ],
   "source": [
    "bad_data_loans_defaulters_detail_rec_enq_df"
   ]
  },
  {
   "cell_type": "code",
   "execution_count": 50,
   "id": "f4be9aa4",
   "metadata": {},
   "outputs": [],
   "source": [
    "bad_data_customer_df.repartition(1).write \\\n",
    ".format(\"csv\") \\\n",
    ".option(\"header\", True) \\\n",
    ".mode(\"overwrite\") \\\n",
    ".option(\"path\", \"/user/itv007473/lendingclubproject/bad/bad_data_customers\") \\\n",
    ".save()"
   ]
  },
  {
   "cell_type": "code",
   "execution_count": 51,
   "id": "376070d8",
   "metadata": {},
   "outputs": [],
   "source": [
    "bad_data_loans_defaulters_delinq_df.repartition(1).write \\\n",
    ".format(\"csv\") \\\n",
    ".option(\"header\", True) \\\n",
    ".mode(\"overwrite\") \\\n",
    ".option(\"path\", \"/user/itv007473/lendingclubproject/bad/bad_data_loans_defaulters_delinq\") \\\n",
    ".save()"
   ]
  },
  {
   "cell_type": "code",
   "execution_count": 52,
   "id": "75b2c393",
   "metadata": {},
   "outputs": [],
   "source": [
    "bad_data_loans_defaulters_detail_rec_enq_df.repartition(1).write \\\n",
    ".format(\"csv\") \\\n",
    ".option(\"header\", True) \\\n",
    ".mode(\"overwrite\") \\\n",
    ".option(\"path\", \"/user/itv007473/lendingclubproject/bad/bad_data_loans_defaulters_detail_rec_enq\") \\\n",
    ".save()"
   ]
  },
  {
   "cell_type": "markdown",
   "id": "83a894dd",
   "metadata": {},
   "source": [
    "#### Union the above dfs"
   ]
  },
  {
   "cell_type": "code",
   "execution_count": 53,
   "id": "03051f63",
   "metadata": {},
   "outputs": [],
   "source": [
    "bad_customer_data_df = bad_data_customer_df.select(\"member_id\") \\\n",
    ".union(bad_data_loans_defaulters_delinq_df.select(\"member_id\")) \\\n",
    ".union(bad_data_loans_defaulters_detail_rec_enq_df.select(\"member_id\"))"
   ]
  },
  {
   "cell_type": "code",
   "execution_count": 54,
   "id": "459d85b9",
   "metadata": {},
   "outputs": [],
   "source": [
    "bad_customer_data_final_df = bad_customer_data_df.distinct()"
   ]
  },
  {
   "cell_type": "code",
   "execution_count": 37,
   "id": "54b1fb9f",
   "metadata": {},
   "outputs": [
    {
     "data": {
      "text/plain": [
       "3189"
      ]
     },
     "execution_count": 37,
     "metadata": {},
     "output_type": "execute_result"
    }
   ],
   "source": [
    "bad_customer_data_final_df.count()"
   ]
  },
  {
   "cell_type": "code",
   "execution_count": 55,
   "id": "7ae6a3c2",
   "metadata": {},
   "outputs": [],
   "source": [
    "bad_customer_data_final_df.repartition(1).write \\\n",
    ".format(\"csv\") \\\n",
    ".option(\"header\", True) \\\n",
    ".mode(\"overwrite\") \\\n",
    ".option(\"path\", \"/user/itv007473/lendingclubproject/bad/bad_customer_data_final\") \\\n",
    ".save()"
   ]
  },
  {
   "cell_type": "code",
   "execution_count": 56,
   "id": "1ca68f9c",
   "metadata": {},
   "outputs": [],
   "source": [
    "bad_customer_data_final_df.createOrReplaceTempView(\"bad_data_customer\")"
   ]
  },
  {
   "cell_type": "code",
   "execution_count": 57,
   "id": "0f6f5e82",
   "metadata": {},
   "outputs": [
    {
     "data": {
      "text/html": [
       "<table border='1'>\n",
       "<tr><th>member_id</th><th>emp_title</th><th>emp_length</th><th>home_ownership</th><th>annual_income</th><th>address_state</th><th>address_zipcode</th><th>address_country</th><th>grade</th><th>sub_grade</th><th>verification_status</th><th>total_high_credit_limit</th><th>application_type</th><th>join_annual_income</th><th>verification_status_joint</th><th>ingest_date</th></tr>\n",
       "<tr><td>2dd741a563df74164...</td><td>Operations Manager</td><td>10</td><td>OWN</td><td>105000.0</td><td>TX</td><td>750xx</td><td>USA</td><td>A</td><td>A1</td><td>Source Verified</td><td>329369.0</td><td>Individual</td><td>null</td><td>null</td><td>2023-11-05 06:06:...</td></tr>\n",
       "<tr><td>651c19b1b5d1cf9cf...</td><td>Accounting Admini...</td><td>2</td><td>MORTGAGE</td><td>53750.0</td><td>MI</td><td>483xx</td><td>USA</td><td>B</td><td>B2</td><td>Verified</td><td>207812.0</td><td>Joint App</td><td>134750.0</td><td>Source Verified</td><td>2023-11-05 06:06:...</td></tr>\n",
       "<tr><td>82121c7f7dcdc68ae...</td><td>Dog groomer</td><td>10</td><td>RENT</td><td>30000.0</td><td>FL</td><td>341xx</td><td>USA</td><td>A</td><td>A3</td><td>Source Verified</td><td>26441.0</td><td>Individual</td><td>null</td><td>null</td><td>2023-11-05 06:06:...</td></tr>\n",
       "<tr><td>e093a85fb630dba70...</td><td>Quality Auditor</td><td>6</td><td>MORTGAGE</td><td>55000.0</td><td>KS</td><td>666xx</td><td>USA</td><td>C</td><td>C5</td><td>Source Verified</td><td>221695.0</td><td>Joint App</td><td>92000.0</td><td>Source Verified</td><td>2023-11-05 06:06:...</td></tr>\n",
       "<tr><td>22c4f3df84e10a102...</td><td>School Counselor</td><td>4</td><td>RENT</td><td>55000.0</td><td>OH</td><td>447xx</td><td>USA</td><td>B</td><td>B2</td><td>Source Verified</td><td>134586.0</td><td>Individual</td><td>null</td><td>null</td><td>2023-11-05 06:06:...</td></tr>\n",
       "<tr><td>d517e522d1ac5181e...</td><td>Unit secretary</td><td>8</td><td>MORTGAGE</td><td>45000.0</td><td>RI</td><td>028xx</td><td>USA</td><td>A</td><td>A5</td><td>Not Verified</td><td>230556.0</td><td>Individual</td><td>null</td><td>null</td><td>2023-11-05 06:06:...</td></tr>\n",
       "<tr><td>0b4d7c0e2a5291151...</td><td>Waxer</td><td>1</td><td>RENT</td><td>32000.0</td><td>NY</td><td>111xx</td><td>USA</td><td>D</td><td>D5</td><td>Not Verified</td><td>29528.0</td><td>Individual</td><td>null</td><td>null</td><td>2023-11-05 06:06:...</td></tr>\n",
       "<tr><td>3657812c589a33cb8...</td><td>Accounts Payable</td><td>1</td><td>MORTGAGE</td><td>36000.0</td><td>TX</td><td>761xx</td><td>USA</td><td>B</td><td>B3</td><td>Verified</td><td>110641.0</td><td>Joint App</td><td>76000.0</td><td>Verified</td><td>2023-11-05 06:06:...</td></tr>\n",
       "<tr><td>a88d60d369c1ccf9a...</td><td>Receptionist</td><td>1</td><td>MORTGAGE</td><td>155000.0</td><td>NM</td><td>882xx</td><td>USA</td><td>B</td><td>B5</td><td>Not Verified</td><td>319723.0</td><td>Joint App</td><td>285000.0</td><td>Not Verified</td><td>2023-11-05 06:06:...</td></tr>\n",
       "<tr><td>930c84fe7045af3c8...</td><td>Pastor</td><td>1</td><td>RENT</td><td>75000.0</td><td>WV</td><td>261xx</td><td>USA</td><td>A</td><td>A2</td><td>Not Verified</td><td>92638.0</td><td>Individual</td><td>null</td><td>null</td><td>2023-11-05 06:06:...</td></tr>\n",
       "<tr><td>54871685b47ffd7f4...</td><td>Admin Assistant</td><td>10</td><td>RENT</td><td>35800.0</td><td>SC</td><td>294xx</td><td>USA</td><td>D</td><td>D3</td><td>Verified</td><td>41821.0</td><td>Individual</td><td>null</td><td>null</td><td>2023-11-05 06:06:...</td></tr>\n",
       "<tr><td>8c90c53b2186b5a34...</td><td>Program Manager</td><td>7</td><td>MORTGAGE</td><td>40000.0</td><td>NY</td><td>121xx</td><td>USA</td><td>A</td><td>A1</td><td>Not Verified</td><td>163240.0</td><td>Joint App</td><td>80000.0</td><td>null</td><td>2023-11-05 06:06:...</td></tr>\n",
       "<tr><td>329a548eb2c849b68...</td><td>null</td><td>6</td><td>RENT</td><td>16000.0</td><td>WA</td><td>990xx</td><td>USA</td><td>C</td><td>C3</td><td>Not Verified</td><td>2200.0</td><td>Individual</td><td>null</td><td>null</td><td>2023-11-05 06:06:...</td></tr>\n",
       "<tr><td>0d7b11d2e29825300...</td><td>Owner</td><td>2</td><td>OWN</td><td>129131.0</td><td>AL</td><td>352xx</td><td>USA</td><td>A</td><td>A1</td><td>Not Verified</td><td>163170.0</td><td>Individual</td><td>null</td><td>null</td><td>2023-11-05 06:06:...</td></tr>\n",
       "<tr><td>5fd261d9ea5f7e25c...</td><td>Shift runner</td><td>10</td><td>OWN</td><td>16800.0</td><td>OH</td><td>441xx</td><td>USA</td><td>A</td><td>A2</td><td>Not Verified</td><td>30200.0</td><td>Individual</td><td>null</td><td>null</td><td>2023-11-05 06:06:...</td></tr>\n",
       "<tr><td>9669f5133de18426b...</td><td>Field Technician</td><td>1</td><td>RENT</td><td>41600.0</td><td>PA</td><td>151xx</td><td>USA</td><td>D</td><td>D2</td><td>Source Verified</td><td>44797.0</td><td>Individual</td><td>null</td><td>null</td><td>2023-11-05 06:06:...</td></tr>\n",
       "<tr><td>6329c15714045b3f0...</td><td>Senior Audit Manager</td><td>10</td><td>MORTGAGE</td><td>120000.0</td><td>CA</td><td>930xx</td><td>USA</td><td>A</td><td>A1</td><td>Not Verified</td><td>596015.0</td><td>Individual</td><td>null</td><td>null</td><td>2023-11-05 06:06:...</td></tr>\n",
       "<tr><td>3a828dbf60c57b12d...</td><td>manager</td><td>8</td><td>MORTGAGE</td><td>72800.0</td><td>TN</td><td>378xx</td><td>USA</td><td>D</td><td>D1</td><td>Verified</td><td>287853.0</td><td>Individual</td><td>null</td><td>null</td><td>2023-11-05 06:06:...</td></tr>\n",
       "<tr><td>7599dfb2bfbaf3e64...</td><td>IT Manager</td><td>10</td><td>MORTGAGE</td><td>105000.0</td><td>MO</td><td>631xx</td><td>USA</td><td>B</td><td>B3</td><td>Verified</td><td>292244.0</td><td>Individual</td><td>null</td><td>null</td><td>2023-11-05 06:06:...</td></tr>\n",
       "<tr><td>6952ef1d3057a2a0d...</td><td>ED Director</td><td>7</td><td>RENT</td><td>160000.0</td><td>SC</td><td>290xx</td><td>USA</td><td>A</td><td>A5</td><td>Source Verified</td><td>471822.0</td><td>Individual</td><td>null</td><td>null</td><td>2023-11-05 06:06:...</td></tr>\n",
       "</table>\n",
       "only showing top 20 rows\n"
      ],
      "text/plain": [
       "+--------------------+--------------------+----------+--------------+-------------+-------------+---------------+---------------+-----+---------+-------------------+-----------------------+----------------+------------------+-------------------------+--------------------+\n",
       "|           member_id|           emp_title|emp_length|home_ownership|annual_income|address_state|address_zipcode|address_country|grade|sub_grade|verification_status|total_high_credit_limit|application_type|join_annual_income|verification_status_joint|         ingest_date|\n",
       "+--------------------+--------------------+----------+--------------+-------------+-------------+---------------+---------------+-----+---------+-------------------+-----------------------+----------------+------------------+-------------------------+--------------------+\n",
       "|2dd741a563df74164...|  Operations Manager|        10|           OWN|     105000.0|           TX|          750xx|            USA|    A|       A1|    Source Verified|               329369.0|      Individual|              null|                     null|2023-11-05 06:06:...|\n",
       "|651c19b1b5d1cf9cf...|Accounting Admini...|         2|      MORTGAGE|      53750.0|           MI|          483xx|            USA|    B|       B2|           Verified|               207812.0|       Joint App|          134750.0|          Source Verified|2023-11-05 06:06:...|\n",
       "|82121c7f7dcdc68ae...|         Dog groomer|        10|          RENT|      30000.0|           FL|          341xx|            USA|    A|       A3|    Source Verified|                26441.0|      Individual|              null|                     null|2023-11-05 06:06:...|\n",
       "|e093a85fb630dba70...|     Quality Auditor|         6|      MORTGAGE|      55000.0|           KS|          666xx|            USA|    C|       C5|    Source Verified|               221695.0|       Joint App|           92000.0|          Source Verified|2023-11-05 06:06:...|\n",
       "|22c4f3df84e10a102...|    School Counselor|         4|          RENT|      55000.0|           OH|          447xx|            USA|    B|       B2|    Source Verified|               134586.0|      Individual|              null|                     null|2023-11-05 06:06:...|\n",
       "|d517e522d1ac5181e...|      Unit secretary|         8|      MORTGAGE|      45000.0|           RI|          028xx|            USA|    A|       A5|       Not Verified|               230556.0|      Individual|              null|                     null|2023-11-05 06:06:...|\n",
       "|0b4d7c0e2a5291151...|               Waxer|         1|          RENT|      32000.0|           NY|          111xx|            USA|    D|       D5|       Not Verified|                29528.0|      Individual|              null|                     null|2023-11-05 06:06:...|\n",
       "|3657812c589a33cb8...|    Accounts Payable|         1|      MORTGAGE|      36000.0|           TX|          761xx|            USA|    B|       B3|           Verified|               110641.0|       Joint App|           76000.0|                 Verified|2023-11-05 06:06:...|\n",
       "|a88d60d369c1ccf9a...|        Receptionist|         1|      MORTGAGE|     155000.0|           NM|          882xx|            USA|    B|       B5|       Not Verified|               319723.0|       Joint App|          285000.0|             Not Verified|2023-11-05 06:06:...|\n",
       "|930c84fe7045af3c8...|              Pastor|         1|          RENT|      75000.0|           WV|          261xx|            USA|    A|       A2|       Not Verified|                92638.0|      Individual|              null|                     null|2023-11-05 06:06:...|\n",
       "|54871685b47ffd7f4...|     Admin Assistant|        10|          RENT|      35800.0|           SC|          294xx|            USA|    D|       D3|           Verified|                41821.0|      Individual|              null|                     null|2023-11-05 06:06:...|\n",
       "|8c90c53b2186b5a34...|     Program Manager|         7|      MORTGAGE|      40000.0|           NY|          121xx|            USA|    A|       A1|       Not Verified|               163240.0|       Joint App|           80000.0|                     null|2023-11-05 06:06:...|\n",
       "|329a548eb2c849b68...|                null|         6|          RENT|      16000.0|           WA|          990xx|            USA|    C|       C3|       Not Verified|                 2200.0|      Individual|              null|                     null|2023-11-05 06:06:...|\n",
       "|0d7b11d2e29825300...|               Owner|         2|           OWN|     129131.0|           AL|          352xx|            USA|    A|       A1|       Not Verified|               163170.0|      Individual|              null|                     null|2023-11-05 06:06:...|\n",
       "|5fd261d9ea5f7e25c...|        Shift runner|        10|           OWN|      16800.0|           OH|          441xx|            USA|    A|       A2|       Not Verified|                30200.0|      Individual|              null|                     null|2023-11-05 06:06:...|\n",
       "|9669f5133de18426b...|    Field Technician|         1|          RENT|      41600.0|           PA|          151xx|            USA|    D|       D2|    Source Verified|                44797.0|      Individual|              null|                     null|2023-11-05 06:06:...|\n",
       "|6329c15714045b3f0...|Senior Audit Manager|        10|      MORTGAGE|     120000.0|           CA|          930xx|            USA|    A|       A1|       Not Verified|               596015.0|      Individual|              null|                     null|2023-11-05 06:06:...|\n",
       "|3a828dbf60c57b12d...|             manager|         8|      MORTGAGE|      72800.0|           TN|          378xx|            USA|    D|       D1|           Verified|               287853.0|      Individual|              null|                     null|2023-11-05 06:06:...|\n",
       "|7599dfb2bfbaf3e64...|          IT Manager|        10|      MORTGAGE|     105000.0|           MO|          631xx|            USA|    B|       B3|           Verified|               292244.0|      Individual|              null|                     null|2023-11-05 06:06:...|\n",
       "|6952ef1d3057a2a0d...|         ED Director|         7|          RENT|     160000.0|           SC|          290xx|            USA|    A|       A5|    Source Verified|               471822.0|      Individual|              null|                     null|2023-11-05 06:06:...|\n",
       "+--------------------+--------------------+----------+--------------+-------------+-------------+---------------+---------------+-----+---------+-------------------+-----------------------+----------------+------------------+-------------------------+--------------------+\n",
       "only showing top 20 rows"
      ]
     },
     "execution_count": 57,
     "metadata": {},
     "output_type": "execute_result"
    }
   ],
   "source": [
    "spark.sql(\"\"\"select * from itv007473_lending_club.customers\n",
    "where member_id NOT IN (select member_id from bad_data_customer)\n",
    "\"\"\")"
   ]
  },
  {
   "cell_type": "code",
   "execution_count": 58,
   "id": "bc1bd4a0",
   "metadata": {},
   "outputs": [],
   "source": [
    "customers_df=spark.sql(\"\"\"select * from itv007473_lending_club.customers\n",
    "where member_id NOT IN (select member_id from bad_data_customer)\n",
    "\"\"\")"
   ]
  },
  {
   "cell_type": "code",
   "execution_count": 59,
   "id": "d4e16233",
   "metadata": {},
   "outputs": [],
   "source": [
    "customers_df.write \\\n",
    ".format(\"parquet\") \\\n",
    ".mode(\"overwrite\") \\\n",
    ".option(\"path\", \"/user/itv007473/lendingclubproject/raw/cleaned_new/customers_parquet\") \\\n",
    ".save()"
   ]
  },
  {
   "cell_type": "code",
   "execution_count": 60,
   "id": "f6a0baef",
   "metadata": {},
   "outputs": [],
   "source": [
    "loans_defaulters_delinq_df = spark.sql(\"\"\"select * from itv007473_lending_club.loans_defaulters_delinq\n",
    "where member_id NOT IN (select member_id from bad_data_customer)\n",
    "\"\"\")"
   ]
  },
  {
   "cell_type": "code",
   "execution_count": 61,
   "id": "4636cebc",
   "metadata": {},
   "outputs": [],
   "source": [
    "loans_defaulters_delinq_df.write \\\n",
    ".format(\"parquet\") \\\n",
    ".mode(\"overwrite\") \\\n",
    ".option(\"path\", \"/user/itv007473/lendingclubproject/raw/cleaned_new/loans_defaulters_delinq_parquet\") \\\n",
    ".save()"
   ]
  },
  {
   "cell_type": "code",
   "execution_count": 62,
   "id": "c5466b9f",
   "metadata": {},
   "outputs": [],
   "source": [
    "loans_defaulters_detail_rec_enq_df = spark.sql(\"\"\"select * from itv007473_lending_club.loans_defaulters_detail_rec_enq\n",
    "where member_id NOT IN (select member_id from bad_data_customer)\n",
    "\"\"\")"
   ]
  },
  {
   "cell_type": "code",
   "execution_count": 63,
   "id": "839c2dee",
   "metadata": {},
   "outputs": [],
   "source": [
    "loans_defaulters_detail_rec_enq_df.write \\\n",
    ".format(\"parquet\") \\\n",
    ".mode(\"overwrite\") \\\n",
    ".option(\"path\", \"/user/itv007473/lendingclubproject/raw/cleaned_new/loans_defaulters_detail_rec_enq_parquet\") \\\n",
    ".save()"
   ]
  },
  {
   "cell_type": "code",
   "execution_count": 64,
   "id": "3063ab04",
   "metadata": {},
   "outputs": [
    {
     "data": {
      "text/html": [
       "<table border='1'>\n",
       "<tr><th></th></tr>\n",
       "</table>\n"
      ],
      "text/plain": [
       "++\n",
       "||\n",
       "++\n",
       "++"
      ]
     },
     "execution_count": 64,
     "metadata": {},
     "output_type": "execute_result"
    }
   ],
   "source": [
    "spark.sql(\"\"\"\n",
    "create EXTERNAL TABLE itv007473_lending_club.customers_new(member_id string, emp_title string, emp_length int, home_ownership string, \n",
    "annual_income float, address_state string, address_zipcode string, address_country string, grade string, \n",
    "sub_grade string, verification_status string, total_high_credit_limit float, application_type string, \n",
    "join_annual_income float, verification_status_joint string, ingest_date timestamp)\n",
    "stored as parquet\n",
    "LOCATION '/user/itv007473/lendingclubproject/raw/cleaned_new/customers_parquet'\n",
    "\"\"\")"
   ]
  },
  {
   "cell_type": "code",
   "execution_count": 66,
   "id": "8bec7c6e",
   "metadata": {},
   "outputs": [
    {
     "data": {
      "text/html": [
       "<table border='1'>\n",
       "<tr><th></th></tr>\n",
       "</table>\n"
      ],
      "text/plain": [
       "++\n",
       "||\n",
       "++\n",
       "++"
      ]
     },
     "execution_count": 66,
     "metadata": {},
     "output_type": "execute_result"
    }
   ],
   "source": [
    "spark.sql(\"\"\"\n",
    "create EXTERNAL TABLE itv007473_lending_club.loans_defaulters_delinq_new(member_id string,delinq_2yrs integer, delinq_amnt float, mths_since_last_delinq integer)\n",
    "stored as parquet\n",
    "LOCATION '/user/itv007473/lendingclubproject/raw/cleaned_new/loans_defaulters_delinq_parquet'\n",
    "\"\"\")"
   ]
  },
  {
   "cell_type": "code",
   "execution_count": 67,
   "id": "75e35e4e",
   "metadata": {},
   "outputs": [
    {
     "data": {
      "text/html": [
       "<table border='1'>\n",
       "<tr><th></th></tr>\n",
       "</table>\n"
      ],
      "text/plain": [
       "++\n",
       "||\n",
       "++\n",
       "++"
      ]
     },
     "execution_count": 67,
     "metadata": {},
     "output_type": "execute_result"
    }
   ],
   "source": [
    "spark.sql(\"\"\"\n",
    "create EXTERNAL TABLE itv007473_lending_club.loans_defaulters_detail_rec_enq_new(member_id string, pub_rec integer, pub_rec_bankruptcies integer, inq_last_6mths integer)\n",
    "stored as parquet\n",
    "LOCATION '/user/itv007473/lendingclubproject/raw/cleaned_new/loans_defaulters_detail_rec_enq_parquet'\n",
    "\"\"\")"
   ]
  },
  {
   "cell_type": "code",
   "execution_count": 68,
   "id": "9fa275af",
   "metadata": {},
   "outputs": [
    {
     "data": {
      "text/html": [
       "<table border='1'>\n",
       "<tr><th>member_id</th><th>total</th></tr>\n",
       "<tr><td>b04ce146f1dc661a5...</td><td>1</td></tr>\n",
       "<tr><td>91a6074f5409cbe45...</td><td>1</td></tr>\n",
       "<tr><td>f6f7513b0880ca8e3...</td><td>1</td></tr>\n",
       "<tr><td>31395f3bf9889420d...</td><td>1</td></tr>\n",
       "<tr><td>f75f6c4e8a16cf3d9...</td><td>1</td></tr>\n",
       "<tr><td>c2ae882512e347fc3...</td><td>1</td></tr>\n",
       "<tr><td>1d81ee4bf5ec91433...</td><td>1</td></tr>\n",
       "<tr><td>c5f4acb810ca9cc8e...</td><td>1</td></tr>\n",
       "<tr><td>14f516f2320479c11...</td><td>1</td></tr>\n",
       "<tr><td>40faac6fd440dc95d...</td><td>1</td></tr>\n",
       "<tr><td>959633b5864eb20b8...</td><td>1</td></tr>\n",
       "<tr><td>60a8b770f24f1b2fd...</td><td>1</td></tr>\n",
       "<tr><td>3130e42e9a0e78ea8...</td><td>1</td></tr>\n",
       "<tr><td>4fdd778fa67212184...</td><td>1</td></tr>\n",
       "<tr><td>6f820eeeccd520d89...</td><td>1</td></tr>\n",
       "<tr><td>815d2c556a842636d...</td><td>1</td></tr>\n",
       "<tr><td>aa68060c4e58b989a...</td><td>1</td></tr>\n",
       "<tr><td>3a6cd958c4af869ec...</td><td>1</td></tr>\n",
       "<tr><td>062161cba5011bb04...</td><td>1</td></tr>\n",
       "<tr><td>0e7731c34201d9700...</td><td>1</td></tr>\n",
       "</table>\n",
       "only showing top 20 rows\n"
      ],
      "text/plain": [
       "+--------------------+-----+\n",
       "|           member_id|total|\n",
       "+--------------------+-----+\n",
       "|f798ba62b7180bbed...|    1|\n",
       "|20a257f8d8013dfc8...|    1|\n",
       "|089d34ded936cdc09...|    1|\n",
       "|7272f209865bc6d1a...|    1|\n",
       "|5de79262cc77c908c...|    1|\n",
       "|d5fa3fb3ad2b1ed1b...|    1|\n",
       "|37cdad9ba0a05f8f2...|    1|\n",
       "|acce4da7cedd80433...|    1|\n",
       "|03ffe37b6ca61d59a...|    1|\n",
       "|a7de6b0beaed94b5d...|    1|\n",
       "|8ddaefb200a1bdef7...|    1|\n",
       "|d2527c8e389ee133c...|    1|\n",
       "|c76b505680281fa75...|    1|\n",
       "|da3f7ab776193f75f...|    1|\n",
       "|37f983d677dedf52b...|    1|\n",
       "|321269f55d2cfa6de...|    1|\n",
       "|247b7ed0a14c1f36a...|    1|\n",
       "|289b771f0e85f9f37...|    1|\n",
       "|c1a3a4ec111ea8da9...|    1|\n",
       "|b6e73fd252d4c0653...|    1|\n",
       "+--------------------+-----+\n",
       "only showing top 20 rows"
      ]
     },
     "execution_count": 68,
     "metadata": {},
     "output_type": "execute_result"
    }
   ],
   "source": [
    "spark.sql(\"\"\"select member_id, count(*) as total \n",
    "from itv007473_lending_club.customers_new\n",
    "group by member_id order by total desc\"\"\")"
   ]
  },
  {
   "cell_type": "code",
   "execution_count": null,
   "id": "f7ff7bba",
   "metadata": {},
   "outputs": [],
   "source": []
  }
 ],
 "metadata": {
  "kernelspec": {
   "display_name": "Pyspark 3",
   "language": "python",
   "name": "pyspark3"
  },
  "language_info": {
   "codemirror_mode": {
    "name": "ipython",
    "version": 3
   },
   "file_extension": ".py",
   "mimetype": "text/x-python",
   "name": "python",
   "nbconvert_exporter": "python",
   "pygments_lexer": "ipython3",
   "version": "3.6.12"
  }
 },
 "nbformat": 4,
 "nbformat_minor": 5
}
